{
 "cells": [
  {
   "cell_type": "markdown",
   "metadata": {
    "id": "73DZ9P3boVkX"
   },
   "source": [
    "## Agenda: \n",
    "- Today, we will discuss the introduction to other SOTA such as Inception net and Resnet.\n",
    "- And also how to use pretrained model to create embeddings for finding similarity."
   ]
  },
  {
   "cell_type": "markdown",
   "metadata": {
    "id": "Ve8ZCupnOBHL"
   },
   "source": [
    "\n",
    "##Problem statement:\n",
    "\n",
    "Suppose you are a DataScientist in PINInterest company and your task is to return similar images on a given query image"
   ]
  },
  {
   "cell_type": "markdown",
   "metadata": {
    "id": "D-Rw7H2QwNxP"
   },
   "source": [
    "### What is image similarity?\n",
    "\n",
    "- Image similarity is the measure of how similar two images are. \n",
    "\n",
    "- In other words, it quantifies the degree of similarity between intensity patterns in two images.\n",
    "\n",
    "\n",
    "- Finding Image similarity also called reverse image search \n",
    "\n"
   ]
  },
  {
   "cell_type": "markdown",
   "metadata": {
    "id": "vaUUB-_0NY07"
   },
   "source": [
    "<img src = 'https://merlinone.com/wp-content/uploads/2019/08/Screen-Shot-2019-08-09-at-9.59.05-AM.jpg'>"
   ]
  },
  {
   "cell_type": "markdown",
   "metadata": {
    "id": "CW_MGS3NOeTB"
   },
   "source": [
    "### What can you do with image similarity?\n",
    "\n",
    "\n",
    "- Let us start with a few use cases to give you some inspiration before we dig deeper into the technical details.\n",
    "\n",
    "- The use cases are endless and you can use image similarity in many different areas.\n",
    " \n",
    "- Explore large unlabeled digital image archives by display similar images. Examples :\n",
    "\n",
    "**- Google Image Search:**\n",
    "\n",
    "<img src='https://encrypted-tbn0.gstatic.com/images?q=tbn:ANd9GcQEUIMr3FCbiob3tZAgcE5UTi0AymsXIzHgvA&usqp=CAU'>\n",
    "\n",
    "\n",
    "Demo : https://images.google.com/\n",
    "\n",
    "\n",
    "**- Pinterest**\n",
    "\n",
    "<img src='https://miro.medium.com/max/1080/1*Mbvjp-iYtZEyaQit6oUwBA.jpeg' height=300>\n",
    "\n",
    "\n",
    "\n",
    "\n",
    "**- Websites like \"Celebrity like me\"**\n",
    "\n",
    "<img src='https://media1.popsugar-assets.com/files/thumbor/wy5gUl9fJ8aktIgyOVESS0ILTfc/fit-in/1024x1024/filters:format_auto-!!-:strip_icc-!!-/2016/04/08/755/n/1922507/7dc85d436018e491_01/i/Celebs-Like-Me-Website.jpg' height=300>\n",
    "\n",
    "\n",
    "- **Clustering** items from an online retail shop. \n",
    "Categories like the shoes are visually unique, while some categories have a fair amount of visual overlap with their neighbors.\n",
    "\n",
    "<img src='https://images.prismic.io/peltarionv2/5f694b0b-4db7-4883-a56f-adccf09f119b_blog_fashion_clustering.png?auto=compress%2Cformat&rect=0%2C0%2C1625%2C1129&w=1980&h=1376' height=500 width=500>\n",
    "\n",
    "**- Remove Duplicates**:\n",
    "\n",
    "- High-quality training data is key for successful machine learning projects. \n",
    "- Having duplicates in the training data can lead to bad results. \n",
    "- Image Similarity can also be used to find duplicates in the datasets.\n",
    "\n"
   ]
  },
  {
   "cell_type": "markdown",
   "metadata": {
    "id": "vUBg-dDPK2a6"
   },
   "source": [
    "###How could we compute how similar one image is to another? \n",
    "\n",
    "- For similarity among data in a vectorized form, we can find the sum of the squared differences between two examples, or use similar methods like euclidean or cosine similarity. \n",
    "- However, performing such techniques on images — summing the squared difference between each pixel value — fails, since the information in images lie in the interaction between pixels. \n",
    "- We would have to first extract the meaningful features out of the images into a vectorized form if we were to proceed.\n",
    "\n",
    "####But how do we extract features out of unstructured data like images? \n",
    "\n",
    "\n",
    "- To do so, we use learnable embeddings — feature vectors containing the meaning of particular image. \n",
    "\n",
    "#### So What is an embedding ?\n",
    "\n",
    "- Our computers cannot directly understand images or text the way we humans do. However, computers are good at understanding numbers! \n",
    "- Thus, to help our computers understand the content of images or text, we need to convert them into a meaningful numeric representation. \n",
    "- For example, if we consider the image use case, we are essentially “encoding” or “embedding” the context and scene of our image into a series of numbers in the form of a vector.\n",
    "\n",
    "In simple terms, An “embedding” vector is a numeric representation of our image data so that our computers can understand the context and scene of our images.\n",
    "\n",
    "<img src='https://assets.zilliz.com/embedding_a031609fb3.svg'>\n",
    "\n",
    "#### How to get embeddings ?\n",
    "\n",
    "- One way of buiding image similarity model is to extract features using traditional methods such as Gabor filters, SIFT , Local Binary Patterns, HOG  and then use these feature to compute the similarity between the features.\n",
    "\n",
    "- The other most popular and common way is to use deep learning model to aid in identifying similar images for a query image.\n",
    "\n",
    "- A CNN can be trained to map images to vectors, and we can use those vectors for findiing similar images.\n",
    "\n",
    "\n"
   ]
  },
  {
   "cell_type": "markdown",
   "metadata": {
    "id": "kTod_f44ZLOp"
   },
   "source": [
    "<img src='https://www.researchgate.net/publication/328376369/figure/fig2/AS:683270429741059@1539915773531/Siamese-network-for-embedding-the-feature-maps-into-a-constant-vector.png'>"
   ]
  },
  {
   "cell_type": "markdown",
   "metadata": {
    "id": "acNc8Rd_YR9K"
   },
   "source": [
    "<img src ='https://peltarion.com/static/image_sim_search_pa1.png'>"
   ]
  },
  {
   "cell_type": "markdown",
   "metadata": {
    "id": "XC47GqFN1aPf"
   },
   "source": [
    "### How is image similarity different from image classification in CNN?\n",
    "\n",
    "\n",
    "- It’s true that image similarity is closely related to image classification, if only because it uses the same classifier networks as processing workhorse.\n",
    "\n",
    "- However, there are a couple of points that make image similarity its own thing:\n",
    "\n",
    "  - Image similarity considers many dimensions\n",
    "  - In an image classification problem, we are only concerned with figuring out whether or not an image belongs to one (or possibly several) discrete categories, which means that a lot of information is discarded from the final output. \n",
    "\n",
    "  - By using the representation of the data before the final classification layer, more aspects of the data can be used. \n",
    "\n"
   ]
  },
  {
   "cell_type": "markdown",
   "metadata": {
    "id": "mjQsiWrEvbAN"
   },
   "source": [
    "### Feature Extraction Using pretrained CNN model:\n",
    "\n",
    "\n",
    "We can take advantage of one of the many pre-trained deep learning models. They generalize well enough to fit most of the use cases. \n",
    "\n",
    "- Uses the representations learned by a pretrained network to extract meaningful features. \n",
    "\n",
    "- You do not need to (re)train the entire model. \n",
    "\n",
    "- The base convolutional network already contains features that are generically useful for classifying pictures. \n",
    "\n",
    "- We will extract features from pretrained model like   ResNet-50, InceptionV3 and benchmark them using the Caltech101 dataset."
   ]
  },
  {
   "cell_type": "markdown",
   "metadata": {
    "id": "-UrrqCTnnz6b"
   },
   "source": [
    "\n",
    "\n",
    "\n",
    "\n",
    "![8AD853D0-2630-416E-B9D2-F1E31B461EF1.jpeg](data:image/jpeg;base64,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)\n",
    "\n"
   ]
  },
  {
   "cell_type": "markdown",
   "metadata": {
    "id": "SSvsrMm42TUy"
   },
   "source": [
    "### Download the Caltech101 dataset.\n",
    "\n",
    "\n",
    "#### Description:\n",
    "\n",
    "- Caltech-101 consists of pictures of objects belonging to 101 classes, plus one background clutter class. \n",
    "- Each image is labelled with a single object. Each class contains roughly 40 to 800 images, totalling around 9k images. \n",
    "- Images are of variable sizes, with typical edge lengths of 200-300 pixels. \n",
    "- This version contains image-level labels only. The original dataset also contains bounding boxes.\n",
    "\n",
    "\n",
    "\n",
    "\n",
    "<img src='https://www.researchgate.net/profile/Divya-Srivastava-22/publication/328641918/figure/fig2/AS:941736666873879@1601538926485/3-Sample-images-of-each-10-categories-from-Caltech-101-Dataset.png' height=300 width=350>\n",
    "\n",
    "```\n",
    "$ gdown https://drive.google.com/uc?id=137RyRjvTBkBiIfeYBNZBtViDHQ6_Ewsp --output caltech101.tar.gz\n",
    "\n",
    "$ tar -xvzf caltech101.tar.gz\n",
    "\n",
    "$ mv 101_ObjectCategories datasets/caltech101\n",
    "```\n",
    "<!-- Note that there is a 102nd category called ‘BACKGROUND_Google’ consisting of random images not contained in the first 101 categories, which needs to be deleted before we start experimenting.  -->\n",
    "\n",
    "```\n",
    "$ rm -rf datasets/caltech101/BACKGROUND_Google\n",
    "```"
   ]
  },
  {
   "cell_type": "code",
   "execution_count": null,
   "metadata": {
    "colab": {
     "base_uri": "https://localhost:8080/"
    },
    "id": "CNOzYWVoVkiZ",
    "outputId": "50f0311a-1f88-491e-d924-266351b15f87"
   },
   "outputs": [],
   "source": [
    "from google.colab import drive\n",
    "drive.mount('/content/gdrive/',force_remount=True)"
   ]
  },
  {
   "cell_type": "code",
   "execution_count": null,
   "metadata": {
    "colab": {
     "base_uri": "https://localhost:8080/"
    },
    "id": "pJ5-7CUbVqod",
    "outputId": "9e21670d-0427-4f40-a27c-0a4e0ca080e4"
   },
   "outputs": [],
   "source": [
    "cd /content/gdrive/My Drive/Colab Notebooks/ \n"
   ]
  },
  {
   "cell_type": "code",
   "execution_count": null,
   "metadata": {
    "colab": {
     "base_uri": "https://localhost:8080/"
    },
    "id": "-_byh3zWnz6c",
    "outputId": "e994fb35-56b1-4959-9660-43240ff41acb"
   },
   "outputs": [],
   "source": [
    "!mkdir -p data\n",
    "!pip install gdown\n",
    "!gdown https://drive.google.com/uc?id=137RyRjvTBkBiIfeYBNZBtViDHQ6_Ewsp --output data/caltech101.tar.gz\n",
    "!tar -xvzf data/caltech101.tar.gz --directory data\n",
    "!mv data/101_ObjectCategories data/caltech101\n",
    "!rm -rf data/caltech101/BACKGROUND_Google"
   ]
  },
  {
   "cell_type": "markdown",
   "metadata": {
    "id": "FQnFfe_2pG4S"
   },
   "source": [
    "### Importing Required libraries:"
   ]
  },
  {
   "cell_type": "code",
   "execution_count": null,
   "metadata": {
    "id": "yN9yirdLnz6d"
   },
   "outputs": [],
   "source": [
    "import numpy as np\n",
    "from numpy.linalg import norm\n",
    "import pickle\n",
    "from tqdm import tqdm, tqdm_notebook\n",
    "import os\n",
    "import random\n",
    "import time\n",
    "import math\n",
    "import tensorflow as tf\n",
    "import numpy as np\n",
    "from sklearn.manifold import TSNE\n",
    "from sklearn.decomposition import PCA\n",
    "import PIL\n",
    "from PIL import Image\n",
    "from sklearn.neighbors import NearestNeighbors\n",
    "from tensorflow.keras.preprocessing.image import ImageDataGenerator \n",
    "from tensorflow.keras.preprocessing import image\n",
    "from tensorflow.keras.applications.resnet50 import ResNet50, preprocess_input\n",
    "import glob\n",
    "import matplotlib\n",
    "import matplotlib.pyplot as plt\n",
    "import matplotlib.image as mpimg\n",
    "%matplotlib inline\n"
   ]
  },
  {
   "cell_type": "markdown",
   "metadata": {
    "id": "X4esMXGgtTqW"
   },
   "source": [
    "### Which Cnn pretrained architecture to use ?\n",
    "\n",
    "- Recall from previous class, drawbacks of vgg & alexnet?\n",
    " - It is painfully slow to train.\n",
    " - The network architecture weights themselves are quite large (in terms of disk/bandwidth) becuz of FC layers in the end.\n",
    "\n",
    "####Can we have better than alexnet or vgg in terms of less parameters & better accuracy ?\n",
    "      \n",
    "\n",
    "\n",
    "\n",
    "### Introduction to Resnet & Inception Net:\n",
    "\n",
    "- Before solving the problem , lets try to understand much deeper state of the art CNN architectures compared to Alexnet and Vgg with less number of parameters and performed well on imagenet dataset.\n",
    "\n",
    "\n",
    "\n"
   ]
  },
  {
   "cell_type": "markdown",
   "metadata": {
    "id": "WIRte51u8zW9"
   },
   "source": [
    "## Inception (GoogLeNet)\n",
    "\n",
    "- The Inception architecture was named after Christopher Nolan’s 2010 movie Incep‐ tion, starring Leonardo DiCaprio. \n",
    "- One line from the movie dialog—“We need to go deeper”—became an internet meme.\n",
    "- Building deeper and deeper neural networks was one of the main motivations of researchers at that time.\n",
    "\n",
    "<center><img src='https://i.kym-cdn.com/photos/images/original/000/384/176/d2f.jpg' height=250 width=300></center>\n",
    "\n",
    "- Inception (GoogLeNet) won imagenet in 2014; As the name suggets, it was developed by google\n",
    "  - The GoogLeNet architecture, introduced by Szegedy et al. in their 2014 paper, Going Deeper With Convolutions. \n",
    "  - Original Paper:\n",
    "     https://arxiv.org/pdf/1409.4842.pdf\n",
    "\n",
    "#### Why this network is important?\n",
    "\n",
    "- **This Network is important for two reasons:**\n",
    "\n",
    "- First, the model architecture is tiny compared to AlexNet and VGGNet.\n",
    "  - The authors are able to obtain such a dramatic drop in network architecture size (while still increasing the depth of the overall network) by removing fully-connected layers and instead using global average pooling. \n",
    "  - Most of the weights in a CNN can be found in the dense FC layers – \n",
    "    - if these layers can be removed, the memory savings are massive. <br>\n",
    "\n",
    "| Model Name | Number of params | Top 1 Acc | Top 5 Acc\n",
    "| --- | --- | --- | --- |\n",
    "| Alexnet | 60M  | 63.3 | 84.6\n",
    "| VGG16 | 138M   | 74.4| 91.9\n",
    "| VGG19 | 144M   | 74.5| 92.0\n",
    "| GoogleNet | 11.2M | 74.8 | 92.2\n",
    "\n",
    "<br>\n",
    "\n",
    "- Secondly, the Szegedy et al. paper makes usage of a **network in network or micro-architecture** when constructing the overall macro-architecture. \n",
    "  - Up to this point, we have seen only sequential neural networks where the output of one network feeds directly into the next. \n",
    "  - We are now going to see micro-architectures, small building blocks that are used inside the rest of the architecture, \n",
    "    - where the output from one layer can split into a number of various paths and be rejoined later.\n",
    "  - Specifically, Szegedy et al. contributed the Inception module to the deep learning community, a building block that fits into a Convolutional Neural Network enabling it to learn CONV layers with multiple filter sizes, \n",
    "    - turning the module into a **multi-level feature extractor.**\n",
    "\n",
    "\n",
    "\n",
    "\n",
    " \n",
    "\n"
   ]
  },
  {
   "cell_type": "markdown",
   "metadata": {
    "id": "_ZdcVSa6pyFz"
   },
   "source": [
    "### **But Why we need multi-level feature extractor ?**\n",
    "\n",
    " The general idea behind the multi-level feature extractor :\n",
    "\n",
    "\n",
    "- It can be hard to decide the size of the filter you need to learn at a given CONV layers. \n",
    "\n",
    "- Should they be 5 × 5 filters? \n",
    "- What about 3 × 3 filters? \n",
    "- Should we learn local features using 1 × 1 filters? \n",
    "- Instead, why not learn them all and let the model decide? \n",
    "\n",
    "  - Inside the Inception module, we learn all three 5 × 5, 3 × 3, and 1 × 1 filters (computing them in parallel) concatenating the resulting feature maps along the channel dimension. \n",
    "  - The next layer in the GoogLeNet architecture (which could be another Inception module) receives these concatenated, mixed filters and performs the same process.    \n",
    "  - Taken as a whole, this process enables GoogLeNet to learn both local features via smaller convolutions and abstracted features with larger convolutions – we don’t have to sacrifice our level of abstraction at the expense of smaller features\n",
    "\n"
   ]
  },
  {
   "cell_type": "markdown",
   "metadata": {
    "id": "HRrR942Vp3jv"
   },
   "source": [
    "For example,\n",
    "\n",
    "In the below image. \n",
    "\n",
    "<img src='https://qph.cf2.quoracdn.net/main-qimg-824c88b26a99dd8f053e2298b296dc36-pjlq' height=300 width=400 >\n",
    "\n",
    "There are 3 main entities-\n",
    "\n",
    "- Wheat\n",
    "- Humans\n",
    "- Sky\n",
    "\n",
    "For Doing image similarity on above image:\n",
    "\n",
    "  - Logically, it will be more comfortable for a neural network to use a high dimensional kernel for recognizing an entity that is present in a vast area and \n",
    "  - a low dimensional kernel for an entity is present in a small area.\n",
    "\n",
    "Inception can use a variety of kernels to recognize different entities in the image depending upon their importance and area in the frame.\n",
    "\n",
    "Now that we’ve discussed the motivation behind the Inception module, lets look at the -\n",
    "\n",
    "### Architecture:\n",
    "\n",
    "\n",
    "\n",
    "Each inception module consists of four operations in parallel\n",
    "\n",
    "- 1x1 CONV layer\n",
    "- 3x3 CONV layer\n",
    "- 5x5 CONV layer\n",
    "- max pooling\n",
    "\n",
    "\n",
    "<img src='https://qph.cf2.quoracdn.net/main-qimg-b4ffbeda08b20e4b1554e9f5e417281e'>\n",
    "\n",
    "`An activation function (ReLU) is implicitly applied after every CONV layer. To save space, this activation function was not included in the network diagram above. When we implement GoogLeNet, you will see how this activation is used in the Inception module.`\n",
    "\n",
    "\n",
    "Here, \n",
    "- 5X5 CONV is used for capturing global features and\n",
    "- 3X3 CONV is used for capturing small and distributed features. \n",
    "- The 1x1 CONV is used for depth reduction. \n",
    "- Max pooling layer is mainly used for finding the spatial invariance and also to capture very small entities"
   ]
  },
  {
   "cell_type": "code",
   "execution_count": null,
   "metadata": {
    "id": "AyZdVNBABqWe"
   },
   "outputs": [],
   "source": [
    "def inception_module(layer_in, f1, f2_in, f2_out, f3_in, f3_out, f4_out):\n",
    "\t# 1x1 conv\n",
    "\tconv1 = Conv2D(f1, (1,1), padding='same', activation='relu')(layer_in)\n",
    "\t# 3x3 conv\n",
    "\tconv3 = Conv2D(f2_in, (1,1), padding='same', activation='relu')(layer_in)\n",
    "\tconv3 = Conv2D(f2_out, (3,3), padding='same', activation='relu')(conv3)\n",
    "\t# 5x5 conv\n",
    "\tconv5 = Conv2D(f3_in, (1,1), padding='same', activation='relu')(layer_in)\n",
    "\tconv5 = Conv2D(f3_out, (5,5), padding='same', activation='relu')(conv5)\n",
    "\t# 3x3 max pooling\n",
    "\tpool = MaxPooling2D((3,3), strides=(1,1), padding='same')(layer_in)\n",
    "\tpool = Conv2D(f4_out, (1,1), padding='same', activation='relu')(pool)\n",
    "\t# concatenate filters, assumes filters/channels last\n",
    "\tlayer_out = concatenate([conv1, conv3, conv5, pool], axis=-1)\n",
    "\treturn layer_out"
   ]
  },
  {
   "cell_type": "markdown",
   "metadata": {
    "id": "IJXUXcMQCHqp"
   },
   "source": [
    "<img src='https://miro.medium.com/max/1276/1*qVQbA9GYe5VKIQtAQWPM9w.jpeg'>\n",
    "\n",
    "\n",
    "- The network is 22 layers deep when counting only layers with parameters (or 27 layers if we also count pooling).  \n",
    "- Please refer the link to see code of full model architecture: \n",
    "https://www.analyticsvidhya.com/blog/2018/10/understanding-inception-network-from-scratch/"
   ]
  },
  {
   "cell_type": "markdown",
   "metadata": {
    "id": "WoI0k4epaZdS"
   },
   "source": [
    "## Description of Architecture:\n",
    "\n",
    "Specifically take note of how the Inception module branches into four distinct paths from the input layer. \n",
    "\n",
    "- The first branch in the Inception module simply learns a series of 1 × 1 local features from the input.\n",
    "- The second batch first applies 1 × 1 convolution, not only as a form of learning local features, but instead as dimensionality reduction. \n",
    "   - Larger convolutions (i.e., 3 × 3 and 5 × 5) by definition take more computation to perform. \n",
    "   - Therefore, if we can reduce the dimensionality of the inputs to these larger filters by applying 1 × 1 convolutions, we can reduce the amount of computation required by our network while introducing non-linearity.. \n",
    "   - Therefore, the number of filters learned in the 1 × 1 CONV in the second branch will always be smaller than the number of 3 × 3 filters learned directly afterward.\n",
    "- The third branch applies the same logic as the second branch, only this time with the goal of learning 5 × 5 filters. \n",
    "  - We once again reduce dimensionality via 1 × 1 convolutions, then feed the output into the 5 × 5 filters.\n",
    "\n",
    "- The fourth and final branch of the Inception module performs 3 × 3 max pooling with a stride of 1 × 1 – this branch is commonly referred to as the pool projection branch. \n",
    "  - Historically, models that perform pooling have demonstrated an ability to obtain higher accuracy, although Later through the work of Springenberg et al. in their 2014 paper, Striving for Simplicity: \n",
    "     - The All Convolutional Net  mention that this isn’t necessarily true, and that POOL layers can be replaced with CONV layers for reducing volume size.\n",
    "  - In the case of Szegedy et al., this POOL layer was added simply due to the fact that it was thought that they were needed for CNNs to perform reasonably. \n",
    "  - The output of the POOL is then fed into another series of 1 × 1 convolutions to learn local features.\n",
    "\n",
    "- Finally, all four branches of the Inception module converge where they are concatenated together along the channel dimension. \n",
    "- Special care is taken during the implementation (via zero padding) to ensure the output of each branch has the same volume size, thereby allowing the outputs to be concatenated. \n",
    "-The output of the Inception module is then fed into the next layer in the network. \n",
    "- In practice, we often stack multiple Inception modules on top of each other before performing a pooling operation to reduce volume size.\n",
    "\n",
    "\n"
   ]
  },
  {
   "cell_type": "markdown",
   "metadata": {
    "id": "ECIMH4rXiWfM"
   },
   "source": [
    "###  **What are 1x1 convolutions & how are they worked to reduce dimensions ?**\n"
   ]
  },
  {
   "cell_type": "markdown",
   "metadata": {
    "id": "1H5MubsitJsk"
   },
   "source": [
    "- Sliding a single-pixel filter across an image sounds silly.\n",
    "- It’s like multiplying the image by a constant.\n",
    "- So why would they use it in the network?\n",
    "- The intitution is on multichannel inputs, it **gives different weights for each channels**\n",
    "- For example, multiplying the three channels of an RGB image by three learnable weights \n",
    "- and then **adding them up produces a linear combination of the channels**\n",
    "- And why would we need this?\n",
    "- It is useful for **adjusting the number of channels of the data.** and they are also **less computationally expensive**\n",
    "\n",
    "<img src='https://miro.medium.com/max/1400/1*dNaikOfrGzUaJ2EzRIl4tw.png' height=300 width=400>"
   ]
  },
  {
   "cell_type": "markdown",
   "metadata": {
    "id": "LUwWcNJztlAN"
   },
   "source": [
    "- Till now we have looked into 2/3 models\n",
    "- As the **number of layer is increasing, Accuracy is also increasing**\n",
    "- So why not have a 500 layer model, wont it attain 99 % acc?"
   ]
  },
  {
   "cell_type": "markdown",
   "metadata": {
    "id": "UoJgmUX6bM0d"
   },
   "source": [
    "### Why we need to increase the depth of network ?\n",
    "\n",
    "- In recent years, neural networks have become deeper, with state-of-the-art networks going from just a few layers (e.g., AlexNet) to over a hundred layers.\n",
    "\n",
    "- The main benefit of a very deep network is that it can represent very complex functions. \n",
    "\n",
    "- It can also learn features at many different levels of abstraction, from edges (at the lower layers) to very complex features (at the deeper layers). "
   ]
  },
  {
   "cell_type": "markdown",
   "metadata": {
    "id": "IAB8OmI1qsKF"
   },
   "source": [
    "### **Does this mean just by adding more layers we can get better performance?**\n"
   ]
  },
  {
   "cell_type": "markdown",
   "metadata": {
    "id": "R4B30IpAixOs"
   },
   "source": [
    "- No!\n",
    "- very deep NNs are difficult to train because of **vanishing and exploding gradients problems**\n",
    "- What is vanishing and exploding gradients ? \n",
    "- While backpropagation, we calculate partial derivatives\n",
    "- layers go through **continuous matrix multiplications** in order to compute these derivatives. \n",
    "- Because of many layers, we have long chain of multiplications\n",
    "- which can easily **numerically overflow** if we have **high values** in b/w \n",
    "- similarly  **underflow** if we have **small values** in b/w\n",
    "\n",
    "\n"
   ]
  },
  {
   "cell_type": "markdown",
   "metadata": {
    "id": "0uRYFV9kINpp"
   },
   "source": [
    "### **Problem of very deep neural networks:**\n",
    "\n",
    "However, using a deeper network doesn't always help. \n",
    "\n",
    "- A huge barrier to training them is vanishing gradients: \n",
    "   -  very deep networks often have a gradient signal that goes to zero quickly, thus making gradient descent unbearably slow. \n",
    "   - More specifically, during gradient descent, as you backprop from the final layer back to the first layer, you are multiplying by the weight matrix on each step, and \n",
    "   - thus the gradient can decrease exponentially quickly to zero (or, in rare cases, grow exponentially quickly and \"explode\" to take very large values).\n",
    "\n",
    "During training, you might therefore see the magnitude (or norm) of the gradient for the earlier layers descrease to zero very rapidly as training proceeds:\n",
    "\n",
    "\n",
    "<img src='https://datascience-enthusiast.com/figures/vanishing_grad_kiank.png' height=300 width=500>\n",
    "\n",
    "\n",
    "\n",
    "**Figure 1** : **Vanishing gradient**\n",
    "The speed of learning decreases very rapidly for the early layers as the network trains\n"
   ]
  },
  {
   "cell_type": "markdown",
   "metadata": {
    "id": "jDqRO2zCJUOY"
   },
   "source": [
    "### How we are going to solve this issue ?\n",
    "\n",
    "You are now going to solve this problem by building a Residual Network!"
   ]
  },
  {
   "cell_type": "markdown",
   "metadata": {
    "id": "5ZaeSwqio6-B"
   },
   "source": [
    "## ResNet"
   ]
  },
  {
   "cell_type": "markdown",
   "metadata": {
    "id": "Pk_9Wyfuj9cs"
   },
   "source": [
    "- ResNet won the imagenet in 2015 by researchers at Microsoft Research.\n",
    "- this architecture introduced the concept called Skip Connection.\n",
    "- with skip connections, resnets can have upto 250+ layers!\n",
    "-  without having any vanishing/exploding gradient problem.\n",
    "- Original paper: https://arxiv.org/pdf/1512.03385.pdf\n"
   ]
  },
  {
   "cell_type": "markdown",
   "metadata": {
    "id": "udso64cGIM61"
   },
   "source": [
    "<img src='https://datascience-enthusiast.com/figures/skip_connection_kiank.png' height=200 width=500>"
   ]
  },
  {
   "cell_type": "markdown",
   "metadata": {
    "id": "mBQ1pYJYnKaC"
   },
   "source": [
    "#### **What are skip connections ?**"
   ]
  },
  {
   "cell_type": "markdown",
   "metadata": {
    "id": "1rYUen9WpVf4"
   },
   "source": [
    "![image.png](data:image/png;base64,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)"
   ]
  },
  {
   "cell_type": "markdown",
   "metadata": {
    "id": "6dQiVY_fqJ6e"
   },
   "source": [
    "- If we consider a ResNet block as f(x)\n",
    "- the output of the block **f(x) is the sum of convolutional path C(x) and the skip connection (x)**\n",
    "- Then we can say that, The convolutional path is trained to compute C(x) = f(x) – x,\n",
    "- the difference between the desired output and the input.\n",
    "- The authors of the ResNet paper argue that this “residue” is easier for the network to learn."
   ]
  },
  {
   "cell_type": "markdown",
   "metadata": {
    "id": "SfjLrBI8uNaC"
   },
   "source": [
    "#### **How skip connections solve  vanishing and exploding gradients problems?**"
   ]
  },
  {
   "cell_type": "markdown",
   "metadata": {
    "id": "iSozTwhzPaTC"
   },
   "source": [
    "- residual connections actually **makes the network shallower.**\n",
    "- this allows gradients to flow easily from layer to layer\n",
    "- even the final layers are able to receive activations  from intial layers "
   ]
  },
  {
   "cell_type": "markdown",
   "metadata": {
    "id": "72ICSBMJPAzq"
   },
   "source": [
    "- the topological landscape of the loss function with & without skip connection "
   ]
  },
  {
   "cell_type": "markdown",
   "metadata": {
    "id": "RrdXzPE7P57c"
   },
   "source": [
    "![image.png](data:image/png;base64,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)"
   ]
  },
  {
   "cell_type": "markdown",
   "metadata": {
    "id": "cFLkvsrqu5F7"
   },
   "source": [
    "#### Different versions of ResNet"
   ]
  },
  {
   "cell_type": "markdown",
   "metadata": {
    "id": "iNp6Rj_pSMF3"
   },
   "source": [
    "- Resnet is made up of many skip connections blocks,  we call them residual blocks\n",
    "- There are different versions of ResNet, depending on the number of conv layers\n",
    "- Smallest is 18, then 34, 50, 101, 152 .... \n",
    "\n",
    "\n"
   ]
  },
  {
   "cell_type": "markdown",
   "metadata": {
    "id": "-yP5JamRoc-A"
   },
   "source": [
    "<img src='https://www.researchgate.net/profile/Bhavan-Vasu/publication/330713580/figure/fig5/AS:720432508452871@1548775903978/Network-architecture-variants-of-ResNet.ppm'>"
   ]
  },
  {
   "cell_type": "markdown",
   "metadata": {
    "id": "lCFzxiKt_WMZ"
   },
   "source": [
    "\n",
    "\n",
    "- Now let’s code for Resnet50 in Tensorflow with the help of Keras. \n",
    "\n"
   ]
  },
  {
   "cell_type": "markdown",
   "metadata": {
    "id": "B44y0pSsDPpk"
   },
   "source": [
    "### Identity Block:\n",
    "\n",
    "<img src='https://machinelearningknowledge.ai/ezoimgfmt/953894.smushcdn.com/2611031/wp-content/uploads/2020/12/ResNet-Residual-Network-Keras-Implementation-Identity-Block.png?lossy=0&strip=1&webp=1&ezimgfmt=ng:webp/ngcb1'>"
   ]
  },
  {
   "cell_type": "markdown",
   "metadata": {
    "id": "UePk0ecO_gDD"
   },
   "source": [
    "Code for identity block:\n",
    "\n",
    "Moving on to the code, the code for the identity block is as shown below:"
   ]
  },
  {
   "cell_type": "code",
   "execution_count": null,
   "metadata": {
    "id": "QzLN7_cV_M4Z"
   },
   "outputs": [],
   "source": [
    "def identity_block(x, filter):\n",
    "    # copy tensor to variable called x_skip\n",
    "    x_skip = x\n",
    "    # Layer 1\n",
    "    x = tf.keras.layers.Conv2D(filter, (3,3), padding = 'same')(x)\n",
    "    x = tf.keras.layers.BatchNormalization(axis=3)(x)\n",
    "    x = tf.keras.layers.Activation('relu')(x)\n",
    "    # Layer 2\n",
    "    x = tf.keras.layers.Conv2D(filter, (3,3), padding = 'same')(x)\n",
    "    x = tf.keras.layers.BatchNormalization(axis=3)(x)\n",
    "    # Add Residue\n",
    "    x = tf.keras.layers.Add()([x, x_skip])     \n",
    "    x = tf.keras.layers.Activation('relu')(x)\n",
    "    return x"
   ]
  },
  {
   "cell_type": "markdown",
   "metadata": {
    "id": "8l_yflJs_8Nf"
   },
   "source": [
    "### Convolution Block:\n",
    "\n",
    "\n",
    "<img src='https://machinelearningknowledge.ai/ezoimgfmt/953894.smushcdn.com/2611031/wp-content/uploads/2020/12/ResNet-Keras-Implementation-Convolutional-Block.png?lossy=0&strip=1&webp=1&ezimgfmt=ng:webp/ngcb1'>\n",
    "\n",
    "\n",
    "\n",
    "Code for Convolutional Block:"
   ]
  },
  {
   "cell_type": "code",
   "execution_count": null,
   "metadata": {
    "id": "FOQvXnMq_r6R"
   },
   "outputs": [],
   "source": [
    "def convolutional_block(x, filter):\n",
    "    # copy tensor to variable called x_skip\n",
    "    x_skip = x\n",
    "    # Layer 1\n",
    "    x = tf.keras.layers.Conv2D(filter, (3,3), padding = 'same', strides = (2,2))(x)\n",
    "    x = tf.keras.layers.BatchNormalization(axis=3)(x)\n",
    "    x = tf.keras.layers.Activation('relu')(x)\n",
    "    # Layer 2\n",
    "    x = tf.keras.layers.Conv2D(filter, (3,3), padding = 'same')(x)\n",
    "    x = tf.keras.layers.BatchNormalization(axis=3)(x)\n",
    "    x = tf.keras.layers.Activation('relu')(x)\n",
    "    # Layer 3\n",
    "    x = tf.keras.layers.Conv2D(filter, (3,3), padding = 'same')(x)\n",
    "    x = tf.keras.layers.BatchNormalization(axis=3)(x)\n",
    "    # Processing Residue with conv(1,1)\n",
    "    x_skip = tf.keras.layers.Conv2D(filter, (1,1), strides = (2,2))(x_skip)\n",
    "    x_skip = tf.keras.layers.BatchNormalization(axis=3)(x_skip)\n",
    "    # Add Residue\n",
    "    x = tf.keras.layers.Add()([x, x_skip])     \n",
    "    x = tf.keras.layers.Activation('relu')(x)\n",
    "    return x"
   ]
  },
  {
   "cell_type": "markdown",
   "metadata": {
    "id": "4kr_DwVXDp2i"
   },
   "source": [
    "### Resnet50 architecture:\n",
    "\n",
    "<img src='https://machinelearningknowledge.ai/ezoimgfmt/953894.smushcdn.com/2611031/wp-content/uploads/2020/12/ResNet-Keras-Implementation-Architecture.png?lossy=0&strip=1&webp=1&ezimgfmt=ng:webp/ngcb1'>"
   ]
  },
  {
   "cell_type": "code",
   "execution_count": null,
   "metadata": {
    "id": "5mt2cYN1ARWM"
   },
   "outputs": [],
   "source": [
    "def ResNet_50(input_shape=(224, 224, 3)):\n",
    "\n",
    "    X_input = Input(input_shape)\n",
    "\n",
    "    X = tf.keras.layers.ZeroPadding2D((3, 3))(X_input)\n",
    "\n",
    "    X = tf.keras.layers.Conv2D(64, (7, 7), strides=(2, 2), name='conv1', kernel_initializer=glorot_uniform(seed=0))(X)\n",
    "    X = tf.keras.layers.BatchNormalization(axis=3, name='bn_conv1')(X)\n",
    "    X = tf.keras.layers.Activation('relu')(X)\n",
    "    X = tf.keras.layers.MaxPooling2D((3, 3), strides=(2, 2))(X)\n",
    "\n",
    "    X = convolutional_block(X, f=3, filters=[64, 64, 256], stage=2, block='a', s=1)\n",
    "    X = identity_block(X, 3, [64, 64, 256], stage=2, block='b')\n",
    "    X = identity_block(X, 3, [64, 64, 256], stage=2, block='c')\n",
    "\n",
    "\n",
    "    X = convolutional_block(X, f=3, filters=[128, 128, 512], stage=3, block='a', s=2)\n",
    "    X = identity_block(X, 3, [128, 128, 512], stage=3, block='b')\n",
    "    X = identity_block(X, 3, [128, 128, 512], stage=3, block='c')\n",
    "    X = identity_block(X, 3, [128, 128, 512], stage=3, block='d')\n",
    "\n",
    "    X = convolutional_block(X, f=3, filters=[256, 256, 1024], stage=4, block='a', s=2)\n",
    "    X = identity_block(X, 3, [256, 256, 1024], stage=4, block='b')\n",
    "    X = identity_block(X, 3, [256, 256, 1024], stage=4, block='c')\n",
    "    X = identity_block(X, 3, [256, 256, 1024], stage=4, block='d')\n",
    "    X = identity_block(X, 3, [256, 256, 1024], stage=4, block='e')\n",
    "    X = identity_block(X, 3, [256, 256, 1024], stage=4, block='f')\n",
    "\n",
    "    X = convolutional_block(X, f=3, filters=[512, 512, 2048], stage=5, block='a', s=2)\n",
    "    X = identity_block(X, 3, [512, 512, 2048], stage=5, block='b')\n",
    "    X = identity_block(X, 3, [512, 512, 2048], stage=5, block='c')\n",
    "\n",
    "    X = tf.keras.layers.AveragePooling2D(pool_size=(2, 2), padding='same')(X)\n",
    "    \n",
    "    model = Model(inputs=X_input, outputs=X, name='ResNet50')\n",
    "\n",
    "    return model"
   ]
  },
  {
   "cell_type": "markdown",
   "metadata": {
    "id": "tW0L9KeTEQvF"
   },
   "source": [
    "Lets back to our problem of deciding the pretrained cnn model-\n",
    "\n",
    "-  Since resnet50 performs better than googlenet in terms of accuarcy and parameters.\n",
    "\n",
    "- Hence we are going to use pretrained resnet50 model as our feature extractor for image similarity.\n",
    "\n",
    "###**Quick Recall about Transfer Learning:**\n",
    "\n",
    "- Deep Convolutional Neural network from scratch takes days to train and its training requires lots of computational resources.\n",
    "\n",
    "- So to overcome this we are using transfer learning in this Keras implementation of ResNet 50 .\n",
    "\n",
    "- Here, we will reuse the model weights from pre-trained models that were developed for standard computer vision benchmark datasets like ImageNet."
   ]
  },
  {
   "cell_type": "markdown",
   "metadata": {
    "id": "LxZ73Ltmnz6e"
   },
   "source": [
    "### Loading the Resnet50 model:"
   ]
  },
  {
   "cell_type": "code",
   "execution_count": null,
   "metadata": {
    "colab": {
     "base_uri": "https://localhost:8080/"
    },
    "id": "szd72V3drLCX",
    "outputId": "f33c2f32-3354-4bbf-c6be-9ce6bd83c488"
   },
   "outputs": [],
   "source": [
    "model = ResNet50(weights='imagenet',\n",
    "                         include_top=False,\n",
    "                         input_shape=(224, 224, 3),\n",
    "                        pooling='max')"
   ]
  },
  {
   "cell_type": "code",
   "execution_count": null,
   "metadata": {
    "colab": {
     "base_uri": "https://localhost:8080/"
    },
    "id": "VW9fyJKjyEcH",
    "outputId": "2c86b581-f3b5-4f45-d195-f530f9a683b8"
   },
   "outputs": [],
   "source": [
    "model.summary()"
   ]
  },
  {
   "cell_type": "markdown",
   "metadata": {
    "id": "za5aAGhgnz6g"
   },
   "source": [
    "\n",
    "\n",
    "## Feature Extraction :\n",
    "\n",
    "Let's define a function to extract image features given an image and a model. "
   ]
  },
  {
   "cell_type": "code",
   "execution_count": null,
   "metadata": {
    "id": "2Fc9vtRenz6g"
   },
   "outputs": [],
   "source": [
    "def extract_features(img_path, model):\n",
    "    input_shape = (224, 224, 3)\n",
    "    img = image.load_img(img_path,\n",
    "                         target_size=(input_shape[0], input_shape[1]))\n",
    "    img_array = image.img_to_array(img)\n",
    "    expanded_img_array = np.expand_dims(img_array, axis=0)\n",
    "    preprocessed_img = preprocess_input(expanded_img_array)\n",
    "    features = model.predict(preprocessed_img)\n",
    "    flattened_features = features.flatten()\n",
    "    normalized_features = flattened_features / norm(flattened_features)\n",
    "    return normalized_features"
   ]
  },
  {
   "cell_type": "markdown",
   "metadata": {
    "id": "57uKAEMxnz6h"
   },
   "source": [
    "Let's see the feature length the model generates by running on an example image. If you don't have the usual cat image available locally, let's download it!"
   ]
  },
  {
   "cell_type": "code",
   "execution_count": null,
   "metadata": {
    "id": "qC_isBQ7okco"
   },
   "outputs": [],
   "source": [
    "try:\n",
    "  import google.colab\n",
    "  IS_COLAB_ENV = True\n",
    "except:\n",
    "  IS_COLAB_ENV = False"
   ]
  },
  {
   "cell_type": "code",
   "execution_count": null,
   "metadata": {
    "colab": {
     "base_uri": "https://localhost:8080/"
    },
    "id": "jU3c7aAbqR-P",
    "outputId": "1f00953d-5126-4e12-f84a-8b4dcdf0a307"
   },
   "outputs": [],
   "source": [
    "IMG_PATH = 'cat.jpg'\n",
    "if IS_COLAB_ENV:\n",
    "  !curl https://drive.google.com/file/d/1rOaOGw-SFH_lp8Sx8wRAksU79M8Wz8k4/view?usp=sharing --output cat.jpg\n",
    "  IMG_PATH = 'cat.jpg'"
   ]
  },
  {
   "cell_type": "code",
   "execution_count": null,
   "metadata": {
    "colab": {
     "base_uri": "https://localhost:8080/"
    },
    "id": "_USxAyninz6h",
    "outputId": "4668ee3e-e43c-4088-b79d-7fcb5715ae16"
   },
   "outputs": [],
   "source": [
    "features = extract_features(IMG_PATH, model)\n",
    "print(\"Total length of features for one image: \", len(features))"
   ]
  },
  {
   "cell_type": "markdown",
   "metadata": {
    "id": "qgih38bvnz6i"
   },
   "source": [
    "- Now, we will see how much time it takes to extract features of one image. \n",
    "- For the cat image, it should ideally be around 81 ms. \n",
    "- Depending on your image size, the final time may be different and it depends on the time to read, resize, preprocess, and extract features."
   ]
  },
  {
   "cell_type": "code",
   "execution_count": null,
   "metadata": {
    "colab": {
     "base_uri": "https://localhost:8080/"
    },
    "id": "Rs8nZZCLnz6i",
    "outputId": "0137b3a8-2cde-43b9-f2d5-8117c55bef32"
   },
   "outputs": [],
   "source": [
    "%timeit features = extract_features('cat.jpg', model)"
   ]
  },
  {
   "cell_type": "markdown",
   "metadata": {
    "id": "esrDlqWa9sGo"
   },
   "source": [
    "## Benchmarking time taken to extract features over the entire dataset"
   ]
  },
  {
   "cell_type": "markdown",
   "metadata": {
    "id": "8jELqglInz6i"
   },
   "source": [
    "The time taken to extract features is dependent on a few factors such as image size, computing power etc.\n",
    "\n",
    "A better benchmark would be running the network over an entire dataset. \n",
    "\n",
    "A simple change to the existing code will allow this.\n",
    "\n",
    "Let's make a handy function to recursively get all the image files under a root directory."
   ]
  },
  {
   "cell_type": "code",
   "execution_count": null,
   "metadata": {
    "id": "biSAC49dnz6j"
   },
   "outputs": [],
   "source": [
    "extensions = ['.jpg', '.JPG', '.jpeg', '.JPEG', '.png', '.PNG']\n",
    "\n",
    "def get_file_list(root_dir):\n",
    "    file_list = []\n",
    "    for root, directories, filenames in os.walk(root_dir):\n",
    "        for filename in filenames:\n",
    "            if any(ext in filename for ext in extensions):\n",
    "                filepath = os.path.join(root, filename)\n",
    "                if os.path.exists(filepath):\n",
    "                  file_list.append(filepath)\n",
    "                else:\n",
    "                  print(filepath)\n",
    "    return file_list"
   ]
  },
  {
   "cell_type": "markdown",
   "metadata": {
    "id": "1HtebW5cnz6j"
   },
   "source": [
    "Now, let's run the extraction over the entire dataset and time it."
   ]
  },
  {
   "cell_type": "code",
   "execution_count": null,
   "metadata": {
    "colab": {
     "base_uri": "https://localhost:8080/"
    },
    "id": "XC75Z2Dau77Z",
    "outputId": "e2a53cff-e243-4bb1-f603-89fc50663c6e"
   },
   "outputs": [],
   "source": [
    "# path to the your datasets\n",
    "root_dir = 'data/caltech101'\n",
    "filenames = sorted(get_file_list(root_dir))\n",
    "print(len(filenames))"
   ]
  },
  {
   "cell_type": "markdown",
   "metadata": {
    "id": "3m9zvr5ryqU2"
   },
   "source": [
    "Now, let's run the extraction over the entire dataset and time it."
   ]
  },
  {
   "cell_type": "code",
   "execution_count": null,
   "metadata": {
    "colab": {
     "base_uri": "https://localhost:8080/"
    },
    "id": "qLFm-fUDFk2Z",
    "outputId": "88aba172-1056-4a12-981a-799b71577d72"
   },
   "outputs": [],
   "source": [
    "BATCH_SIZE = 128\n",
    "generator = tf.keras.utils.image_dataset_from_directory(root_dir,\n",
    "                                            shuffle=False,\n",
    "                                           batch_size=BATCH_SIZE,\n",
    "                                            image_size=(224,224))\n",
    "\n",
    "num_images = len(generator.file_paths)\n",
    "num_epochs = int(math.ceil(num_images / BATCH_SIZE))\n",
    "\n",
    "start_time = time.time()\n",
    "feature_list = []\n",
    "feature_list = model.predict(generator, num_epochs)\n",
    "end_time = time.time()"
   ]
  },
  {
   "cell_type": "code",
   "execution_count": null,
   "metadata": {
    "colab": {
     "base_uri": "https://localhost:8080/"
    },
    "id": "EhpUGDH8Jd8M",
    "outputId": "7cff62b7-1918-482d-d599-075b91de6f76"
   },
   "outputs": [],
   "source": [
    "for i, features in enumerate(feature_list):\n",
    "    feature_list[i] = features / norm(features)\n",
    "\n",
    "feature_list = feature_list.reshape(len(feature_list), -1)\n",
    "\n",
    "print(\"Num images   = \", len(generator.file_paths))\n",
    "print(\"Shape of feature_list = \", feature_list.shape)\n",
    "print(\"Time taken in min = \", (end_time - start_time)/60)"
   ]
  },
  {
   "cell_type": "code",
   "execution_count": null,
   "metadata": {
    "colab": {
     "base_uri": "https://localhost:8080/",
     "height": 647
    },
    "id": "Y45YRrCvGuKY",
    "outputId": "d4498a12-155c-4305-f47e-b11b8383f280"
   },
   "outputs": [],
   "source": [
    "# import matplotlib.pyplot as plt\n",
    "# class_names = generator.class_names\n",
    "# plt.figure(figsize=(10, 10))\n",
    "# for images, labels in generator.take(2):\n",
    "#   for i in range(9):\n",
    "#     ax = plt.subplot(3, 3, i + 1)\n",
    "#     plt.imshow(images[i].numpy().astype(\"uint8\"))\n",
    "#     plt.title(class_names[labels[i]])\n",
    "#     plt.axis(\"off\")"
   ]
  },
  {
   "cell_type": "markdown",
   "metadata": {
    "id": "kJ9xPhBc7uGG"
   },
   "source": [
    "By now, we have generated features from the entire dataset of images. "
   ]
  },
  {
   "cell_type": "markdown",
   "metadata": {
    "id": "0h25HAoXnz6l"
   },
   "source": [
    "With the benchmarking experiments squared away, let's save the features as intermediate files to use later."
   ]
  },
  {
   "cell_type": "code",
   "execution_count": null,
   "metadata": {
    "id": "6azYdG-Anz6m"
   },
   "outputs": [],
   "source": [
    "pickle.dump(generator.class_names, open('./data/class_ids-caltech101.pickle',\n",
    "                                    'wb'))\n",
    "pickle.dump(generator.file_paths, open('./data/filenames-caltech101.pickle', 'wb'))\n",
    "pickle.dump(\n",
    "    feature_list,\n",
    "    open('./data/features-caltech101-' + 'resnet50' + '.pickle', 'wb'))"
   ]
  },
  {
   "cell_type": "markdown",
   "metadata": {
    "id": "V8B8_2fYIVlV"
   },
   "source": [
    "That’s all folks! We’re done with the feature extraction part"
   ]
  },
  {
   "cell_type": "markdown",
   "metadata": {
    "id": "eGW5JDLqzLZG"
   },
   "source": [
    "## Similarity Search:\n",
    "- Given a QUERY image, our aim is to find another photo in our dataset similar to the current one. \n",
    "\n",
    "- We begin by loading the precomputed features:\n",
    " "
   ]
  },
  {
   "cell_type": "code",
   "execution_count": null,
   "metadata": {
    "id": "bblvF4TjeiF8"
   },
   "outputs": [],
   "source": [
    "filenames = pickle.load(open('./data/filenames-caltech101.pickle', 'rb'))\n",
    "feature_list = pickle.load(open('./data/features-caltech101-resnet50.pickle',\n",
    "                                'rb'))\n",
    "class_ids = pickle.load(open('./data/class_ids-caltech101(1).pickle', 'rb'))"
   ]
  },
  {
   "cell_type": "code",
   "execution_count": null,
   "metadata": {
    "colab": {
     "base_uri": "https://localhost:8080/"
    },
    "id": "ZUnMMFb2fDHn",
    "outputId": "4d60875d-3900-4584-d98d-1372b264482e"
   },
   "outputs": [],
   "source": [
    "num_images = len(filenames)\n",
    "num_features_per_image = len(feature_list[0])\n",
    "print(\"Number of images = \", num_images)\n",
    "print(\"Number of features per image = \", num_features_per_image)"
   ]
  },
  {
   "cell_type": "code",
   "execution_count": null,
   "metadata": {
    "colab": {
     "base_uri": "https://localhost:8080/"
    },
    "id": "768Jq4mKFVKy",
    "outputId": "767521c3-5359-48e4-ce5e-1e20147417c0"
   },
   "outputs": [],
   "source": [
    "feature_list.shape"
   ]
  },
  {
   "cell_type": "code",
   "execution_count": null,
   "metadata": {
    "colab": {
     "base_uri": "https://localhost:8080/"
    },
    "id": "BwaNXcYxdkzS",
    "outputId": "b4ab814d-b8cc-44c4-bca7-7e171bec8451"
   },
   "outputs": [],
   "source": [
    "len(class_ids)"
   ]
  },
  {
   "cell_type": "markdown",
   "metadata": {
    "id": "ixcvKAUDzles"
   },
   "source": [
    "## How we find similar images after feature extraction ?\n",
    "\n",
    "Using Knearest Neighbors :  \n",
    "- We’ll use Python’s machine learning library scikit-learn for\n",
    "finding nearest neighbors of the query features; that is, features that represent a query image. \n",
    "\n",
    "- We train a nearest-neighbor model using the brute-force algorithm to find the nearest five neighbors based on Euclidean distance"
   ]
  },
  {
   "cell_type": "code",
   "execution_count": null,
   "metadata": {
    "id": "vgDbY_nmQRJx"
   },
   "outputs": [],
   "source": [
    "random_index = random.randint(0, num_images)"
   ]
  },
  {
   "cell_type": "code",
   "execution_count": null,
   "metadata": {
    "id": "G-C-cXhVuhSJ"
   },
   "outputs": [],
   "source": [
    "from sklearn.neighbors import NearestNeighbors\n",
    "\n",
    "neighbors = NearestNeighbors(n_neighbors=5, algorithm='brute', metric='euclidean').fit(feature_list)\n",
    "distances, indices = neighbors.kneighbors([feature_list[random_index]])"
   ]
  },
  {
   "cell_type": "markdown",
   "metadata": {
    "id": "29sXcZA_0Kc4"
   },
   "source": [
    "- Now you have both the indices and distances of the nearest five neighbors of the image at random_index. \n",
    "- Notice the quick execution of the first step — the training step. Unlike training most machine learning models, which can take from several minutes to hours on large datasets, \n",
    "  - instantiating the nearest-neighbor model is instantaneous because at training time there isn’t much processing. \n",
    "\n",
    "- This is also called lazy learning because all the processing is deferred to classification or inference time.\n"
   ]
  },
  {
   "cell_type": "markdown",
   "metadata": {
    "id": "uQ3HLyWeChJw"
   },
   "source": [
    "Now, let's look at the time it takes to search for the nearest neighbors for the selected random image using the trained model with the Brute force algorithm."
   ]
  },
  {
   "cell_type": "code",
   "execution_count": null,
   "metadata": {
    "colab": {
     "base_uri": "https://localhost:8080/"
    },
    "id": "QEBEQeHLHKlT",
    "outputId": "9d0a1a8d-3f23-4b92-c11a-0eaacb04d20d"
   },
   "outputs": [],
   "source": [
    "%timeit distances, indices = neighbors.kneighbors([feature_list[random_index]])"
   ]
  },
  {
   "cell_type": "code",
   "execution_count": null,
   "metadata": {
    "colab": {
     "base_uri": "https://localhost:8080/",
     "height": 249
    },
    "id": "AyXeSspKCkl7",
    "outputId": "80a27876-1957-4254-ccf6-9c7bed98db88"
   },
   "outputs": [],
   "source": [
    "plt.imshow(mpimg.imread(filenames[random_index]))"
   ]
  },
  {
   "cell_type": "code",
   "execution_count": null,
   "metadata": {
    "colab": {
     "base_uri": "https://localhost:8080/",
     "height": 249
    },
    "id": "FGl_NYoKfYim",
    "outputId": "35444606-06f9-42de-ea0a-ef7294844f5e"
   },
   "outputs": [],
   "source": [
    "plt.imshow(mpimg.imread(filenames[indices[0][0]]))"
   ]
  },
  {
   "cell_type": "code",
   "execution_count": null,
   "metadata": {
    "colab": {
     "base_uri": "https://localhost:8080/",
     "height": 287
    },
    "id": "subQ8f_LfboU",
    "outputId": "1d88c253-de6f-44a4-9890-cd746a608ed8"
   },
   "outputs": [],
   "source": [
    "plt.imshow(mpimg.imread(filenames[indices[0][1]]))"
   ]
  },
  {
   "cell_type": "code",
   "execution_count": null,
   "metadata": {
    "colab": {
     "base_uri": "https://localhost:8080/",
     "height": 287
    },
    "id": "iyf9tnwP9glj",
    "outputId": "efb1531f-fb52-45c0-f40e-1f25141dfdea"
   },
   "outputs": [],
   "source": [
    "plt.imshow(mpimg.imread(filenames[indices[0][2]]))"
   ]
  },
  {
   "cell_type": "code",
   "execution_count": null,
   "metadata": {
    "colab": {
     "base_uri": "https://localhost:8080/"
    },
    "id": "x1yR7VrmfeZQ",
    "outputId": "bbf11096-f447-47ad-e77c-9b4f0dc33019"
   },
   "outputs": [],
   "source": [
    "for i in range(5):\n",
    "    print(distances[0][i])"
   ]
  },
  {
   "cell_type": "code",
   "execution_count": null,
   "metadata": {
    "id": "PVgQOLBSfjPA"
   },
   "outputs": [],
   "source": [
    "# Helper function to get the classname\n",
    "def classname(str):\n",
    "    return str.split('/')[-2]\n",
    "\n",
    "\n",
    "# Helper function to get the classname and filename\n",
    "def classname_filename(str):\n",
    "    return str.split('/')[-2] + '/' + str.split('/')[-1]\n",
    "\n",
    "\n",
    "# Helper functions to plot the nearest images given a query image\n",
    "def plot_images(filenames, distances):\n",
    "    images = []\n",
    "    for filename in filenames:\n",
    "        images.append(mpimg.imread(filename))\n",
    "    plt.figure(figsize=(20, 10))\n",
    "    columns = 4\n",
    "    for i, image in enumerate(images):\n",
    "        ax = plt.subplot(len(images) / columns + 1, columns, i + 1)\n",
    "        if i == 0:\n",
    "            ax.set_title(\"Query Image\\n\" + classname_filename(filenames[i]))\n",
    "        else:\n",
    "            ax.set_title(\"Similar Image\\n\" + classname_filename(filenames[i]) +\n",
    "                         \"\\nDistance: \" +\n",
    "                         str(float(\"{0:.2f}\".format(distances[i]))))\n",
    "        plt.imshow(image)\n",
    "      \n"
   ]
  },
  {
   "cell_type": "code",
   "execution_count": null,
   "metadata": {
    "colab": {
     "base_uri": "https://localhost:8080/",
     "height": 1000
    },
    "id": "SgiJW48lfmRZ",
    "outputId": "4890a253-db31-4916-92ff-f043784d59f3"
   },
   "outputs": [],
   "source": [
    "for i in range(10):\n",
    "    random_image_index = random.randint(0, 8000)\n",
    "    distances, indices = neighbors.kneighbors(\n",
    "        [feature_list[random_image_index]])\n",
    "    # Don't take the first closest image as it will be the same image\n",
    "    similar_image_paths = [filenames[random_image_index]] + \\\n",
    "        [filenames[indices[0][i]] for i in range(1, 4)]\n",
    "    plot_images(similar_image_paths, distances[0])"
   ]
  },
  {
   "cell_type": "code",
   "execution_count": null,
   "metadata": {
    "colab": {
     "base_uri": "https://localhost:8080/"
    },
    "id": "mzS7UI3vfwfe",
    "outputId": "8acf83f7-39a1-4817-bc8a-e6f1816ed963"
   },
   "outputs": [],
   "source": [
    "# Calculating some stats\n",
    "print(\"Median distance between all photos: \", np.median(distances))\n",
    "print(\"Max distance between all photos: \", np.max(distances))\n",
    "print(\"Median distance among most similar photos: \",\n",
    "      np.median(distances[:, 2]))"
   ]
  },
  {
   "cell_type": "markdown",
   "metadata": {
    "id": "1qt_5nUPLUjZ"
   },
   "source": [
    "### Calculating Accuracy of the Brute Force Model :"
   ]
  },
  {
   "cell_type": "code",
   "execution_count": null,
   "metadata": {
    "id": "GaFmLPbDLcGE"
   },
   "outputs": [],
   "source": [
    "# Helper function that calculates accuracy using the nearest neighbors brute force algorithm\n",
    "def calculate_accuracy(feature_list):\n",
    "    num_nearest_neighbors = 5\n",
    "    correct_prediction = 0\n",
    "    incorrect_prediction = 0\n",
    "    neighbors = NearestNeighbors(n_neighbors=num_nearest_neighbors,\n",
    "                                 algorithm='brute',\n",
    "                                 metric='euclidean').fit(feature_list)\n",
    "    start = time.time()\n",
    "    for i in range(len(feature_list)):\n",
    "        distances, indices = neighbors.kneighbors([feature_list[i]])\n",
    "        for j in range(1, num_nearest_neighbors):\n",
    "            if (classname(filenames[i]) == classname(\n",
    "                    filenames[indices[0][j]])):\n",
    "                correct_prediction += 1\n",
    "            else:\n",
    "                incorrect_prediction += 1\n",
    "    end = time.time()\n",
    "    accuracy = round(\n",
    "        100.0 * correct_prediction /\n",
    "        (1.0 * correct_prediction + incorrect_prediction), 2), end - start\n",
    "    return accuracy"
   ]
  },
  {
   "cell_type": "code",
   "execution_count": null,
   "metadata": {
    "colab": {
     "base_uri": "https://localhost:8080/"
    },
    "id": "lcevDdp4JyXL",
    "outputId": "26ae5cd7-8341-419d-e387-84996b5528e3"
   },
   "outputs": [],
   "source": [
    "print(\"Accuracy on original feature set : \",\n",
    "      calculate_accuracy(feature_list[:]))"
   ]
  },
  {
   "cell_type": "markdown",
   "metadata": {
    "id": "-4oaDlGgwgHi"
   },
   "source": [
    "## Visualizing Image Clusters with t-SNE:\n",
    "\n",
    "Let’s step up the game by visualizing the entire dataset!\n",
    "\n",
    "- To do this, we need to reduce the dimensions of the feature vectors because it’s not possible to plot a 2,048-dimension vector (the feature-length) in two dimensions (the paper).\n",
    "- The t-distributed stochastic neighbor embedding (t-SNE) algorithm reduces the high-dimensional feature vector to 2D, providing a bird’s-eye view of the dataset, which is helpful in recognizing clusters and nearby images. \n",
    "- t-SNE is difficult to scale to large datasets, so it is a good idea to reduce the dimensionality using Principal Component Analysis (PCA) and then call t-SNE:"
   ]
  },
  {
   "cell_type": "code",
   "execution_count": null,
   "metadata": {
    "id": "cvoFZoaFSQdz"
   },
   "outputs": [],
   "source": [
    "# Perform PCA over the features\n",
    "num_feature_dimensions=150 # Set the number of features \n",
    "pca = PCA(n_components = num_feature_dimensions)\n",
    "pca.fit(feature_list)\n",
    "feature_list_compressed = pca.transform(feature_list)"
   ]
  },
  {
   "cell_type": "markdown",
   "metadata": {
    "id": "4obv71dhQ5eL"
   },
   "source": [
    "Time taken to search similar images for one image using PCA:"
   ]
  },
  {
   "cell_type": "code",
   "execution_count": null,
   "metadata": {
    "colab": {
     "base_uri": "https://localhost:8080/"
    },
    "id": "-sbINIm7PsJ0",
    "outputId": "dc678622-11f3-4be6-c71a-3d07145da0a7"
   },
   "outputs": [],
   "source": [
    "neighbors = NearestNeighbors(n_neighbors=5, algorithm='brute', metric='euclidean').fit(feature_list_compressed)\n",
    "distances, indices = neighbors.kneighbors([feature_list_compressed[random_index]])\n",
    "%timeit distances, indices = neighbors.kneighbors([feature_list_compressed[random_index]])"
   ]
  },
  {
   "cell_type": "code",
   "execution_count": null,
   "metadata": {
    "colab": {
     "base_uri": "https://localhost:8080/",
     "height": 538
    },
    "id": "lP0R6vt2wwhn",
    "outputId": "61ed53e0-0c25-4e93-9204-966a60cfb9c7"
   },
   "outputs": [],
   "source": [
    "# For speed and clarity, we'll analyze about first half of the dataset.\n",
    "selected_features = feature_list_compressed[:4000]\n",
    "selected_class_ids = class_ids[:4000]\n",
    "selected_filenames = filenames[:4000]\n",
    "tsne_results = TSNE(n_components=2,verbose=1,metric='euclidean').fit_transform(selected_features)\n",
    "# Plot a scatter plot from the generated t-SNE results\n",
    "colormap = plt.cm.get_cmap('coolwarm')\n",
    "scatter_plot = plt.scatter(tsne_results[:,0],tsne_results[:,1],c=selected_class_ids, cmap=colormap)\n",
    "plt.colorbar(scatter_plot)\n",
    "plt.show()"
   ]
  },
  {
   "cell_type": "code",
   "execution_count": null,
   "metadata": {
    "id": "6z6x4nwjD10w"
   },
   "outputs": [],
   "source": [
    "from matplotlib.offsetbox import OffsetImage, AnnotationBbox\n",
    "from matplotlib.cbook import get_sample_data\n",
    "\n",
    "\n",
    "def plot_images_in_2d(x, y, image_paths, axis=None, zoom=1):\n",
    "    if axis is None:\n",
    "        axis = plt.gca()\n",
    "    x, y = np.atleast_1d(x, y)\n",
    "    for x0, y0, image_path in zip(x, y, image_paths):\n",
    "        image = Image.open(image_path)\n",
    "        image.thumbnail((100, 100), Image.ANTIALIAS)\n",
    "        img = OffsetImage(image, zoom=zoom)\n",
    "        anno_box = AnnotationBbox(img, (x0, y0),\n",
    "                                  xycoords='data',\n",
    "                                  frameon=False)\n",
    "        axis.add_artist(anno_box)\n",
    "    axis.update_datalim(np.column_stack([x, y]))\n",
    "    axis.autoscale()"
   ]
  },
  {
   "cell_type": "code",
   "execution_count": null,
   "metadata": {
    "id": "eW_kRROvD52n"
   },
   "outputs": [],
   "source": [
    "def show_tsne(x, y, selected_filenames):\n",
    "    fig, axis = plt.subplots()\n",
    "    fig.set_size_inches(22, 22, forward=True)\n",
    "    plot_images_in_2d(x, y, selected_filenames, zoom=0.3, axis=axis)\n",
    "    plt.show()"
   ]
  },
  {
   "cell_type": "code",
   "execution_count": null,
   "metadata": {
    "colab": {
     "base_uri": "https://localhost:8080/",
     "height": 1000
    },
    "id": "sJ9BaeIQD8R4",
    "outputId": "07c14df1-db2b-4661-e4d0-ff43e50125e1"
   },
   "outputs": [],
   "source": [
    "show_tsne(tsne_results[:, 0], tsne_results[:, 1], selected_filenames)"
   ]
  },
  {
   "cell_type": "markdown",
   "metadata": {
    "id": "YRFRNDra1WHN"
   },
   "source": [
    "\n",
    "Neat! There is a clearly demarcated cluster of human faces, flowers, vintage cars, ships, bikes, and a somewhat spread-out cluster of land and marine animals. "
   ]
  },
  {
   "cell_type": "markdown",
   "metadata": {
    "id": "iALhs64XTtAl"
   },
   "source": [
    "### Improving the Speed of Similarity Search:\n",
    "\n",
    "- There are several opportunities to improve the speed of the similarity search step. \n",
    "- For similarity search, we can make use of two strategies: either reduce the feature-length, or use a better algorithm to search among the features. \n",
    "- Let’s examine each of these strategies individually."
   ]
  },
  {
   "cell_type": "markdown",
   "metadata": {
    "id": "fiKZZ73XU6hN"
   },
   "source": [
    "#### Length of Feature Vectors:\n",
    "\n",
    "- Ideally, we would expect that the smaller the amount of data in which to search, the faster the search should be.\n",
    "- Recall that the ResNet-50 model gives 2,048 features.\n",
    "- With each feature being a 32-bit floating-point, each image is represented by an 8 KB feature vector. For a million images, that equates to nearly 8 GB. \n",
    "- Imagine how slow it would be to search among 8 GB worth of features. \n",
    "- To give us a better picture of our scenario, Below table gives the feature- lengths that we get from different models:\n",
    "\n",
    "\n"
   ]
  },
  {
   "cell_type": "markdown",
   "metadata": {
    "id": "Dv576TGYXfiK"
   },
   "source": [
    "<img src= 'https://drive.google.com/uc?id=1dC744cDp5n_-jwWEX_WKDpFN9eczfi6x' width=500 height=200>"
   ]
  },
  {
   "cell_type": "markdown",
   "metadata": {
    "id": "SOL-sFrIYkYp"
   },
   "source": [
    "- As we can see, almost all the models generate a large number of features.\n",
    "\n",
    "- Imagine how much faster the search would be if we could reduce to a mere 100 features (a whopping reduction of 10 to 20 times!) without compromising the quality of the results.\n",
    "\n",
    "- Apart from just the size, this is an even bigger improvement for big data scenarios, for which the data can be loaded into RAM all at once instead of periodically loading parts of it, thus giving an even bigger speedup.\n",
    "\n",
    "- PCA will help us make this happen.\n",
    "\n",
    "- as you have seen above we have chosen 100 dimensions for PCA from the original 2048"
   ]
  },
  {
   "cell_type": "markdown",
   "metadata": {
    "id": "L37DXbncZMXV"
   },
   "source": [
    "### Why did we pick 150 dimensions from the original 2,048?\n",
    "\n",
    " Why not 200? PCA is representing our original feature vector but in reduced dimensions.\n",
    " \n",
    "- Each new dimension has diminishing returns in representing the original vector (i.e., the new dimension might not explain the data much) and takes up valuable space.\n",
    "\n",
    "- The number of dimensions in PCA is an important parameter that we can tune to the problem at hand. \n",
    "\n",
    "- One way to directly justify a good threshold is to find a good balance between the number of features and its effect on accuracy versus speed:"
   ]
  },
  {
   "cell_type": "markdown",
   "metadata": {
    "id": "Q2CKRDflQmfp"
   },
   "source": [
    "## Accuracy of Brute Force over the PCA compressed Caltech101 features\n"
   ]
  },
  {
   "cell_type": "code",
   "execution_count": null,
   "metadata": {
    "colab": {
     "base_uri": "https://localhost:8080/"
    },
    "id": "7FWCLixLSgCS",
    "outputId": "2298dde4-7245-40bc-83e5-995c54969bc3"
   },
   "outputs": [],
   "source": [
    "pca_dimensions = [1, 2, 3, 4, 5, 10, 20, 50, 75, 100, 150, 200]\n",
    "pca_accuracy = []\n",
    "pca_time = []\n",
    "\n",
    "for dimensions in pca_dimensions:\n",
    "    pca = PCA(n_components=dimensions)\n",
    "    pca.fit(feature_list)\n",
    "    feature_list_compressed = pca.transform(feature_list[:])\n",
    "    # Calculate accuracy over the compressed features\n",
    "    accuracy, t = calculate_accuracy(feature_list_compressed[:])\n",
    "    pca_time.append(t)\n",
    "    pca_accuracy.append(accuracy)\n",
    "    print(\"For PCA Dimensions = \", dimensions, \",\\tAccuracy = \", accuracy, \"%\",\n",
    "          \",\\tTime = \", pca_time[-1])"
   ]
  },
  {
   "cell_type": "markdown",
   "metadata": {
    "id": "nZmIOpZjaCRd"
   },
   "source": [
    "- As is visible stats, there is little improvement in accuracy after increasing beyond a feature-length of 150 dimensions. \n",
    "\n",
    "- With almost 20 times fewer dimensions (150) than the original (2,048), this offers drastically higher speed and less time on almost any search algorithm, while achieving similar (and sometimes slightly better) accuracy. \n",
    "\n",
    "- Hence, 150 would be an ideal feature-length for this dataset. \n",
    "- This also means that the first 150 dimensions contain the most information about the dataset."
   ]
  },
  {
   "cell_type": "markdown",
   "metadata": {
    "id": "tKYYDHMlH6ex"
   },
   "source": [
    "### **How to scale it to millions of images ?**\n",
    "\n",
    "- Right now to find the similar images we are following the brute force approach\n",
    "  - Although convenient to implement in two lines, it goes over each element and hence scales linearly with data size (number of items as well as the number of dimensions). \n",
    "  - Having PCA take our feature vector from a length of 2,048 to 150 will not only yield a 20-times reduction in data size, but also result in an increase in speed of 20 times when using brute force. PCA does pay off!\n",
    " - Let’s assume similarity searching a small collection of 10,000 images, now represented with 100 feature-length vectors, takes approximately 1 ms.\n",
    " -  Even though this looks fast for 10,000 items, in a real production system with larger data, perhaps 10 million items, this will take more than a second to search. \n",
    " - Our system might not be able to fulfill more than one query per second per CPU core. \n",
    " - If you receive 100 requests per second from users, even running on multiple CPU cores of the machine (and loading the search index per thread), you would need multiple machines to be able to serve the traffic. \n",
    " - In other words, an inefficient algorithm means money, lots of money, spent on hardware.\n",
    " - Brute force is our baseline for every comparison. \n",
    "\n",
    "- But Iterating over millions of images to find the most similar ones doesn't scale very well if we need to process all of the images every time we want to find a similar one. \n",
    "\n",
    "- To optimize this process, we need to build some kind of index and find a way to iterate over it more efficiently.\n",
    "\n",
    "- As in most algorithmic approaches, brute force is the slowest approach. Now that we have our baseline set, we will explore approximate nearest-neighbor algorithms. \n",
    "\n",
    "### Scaling Similarity Search with Approximate Nearest Neighbors\n",
    "\n",
    "  - Instead of guaranteeing the correct result as with the brute-force approach, approximation algorithms generally get the correct result because they are well, approximations.     \n",
    "  - Most of the algorithms offer some form of tuning to balance between correctness and speed. \n",
    "  - It is possible to evaluate the quality of the results by comparing against the results of the brute-force baseline.\n",
    "\n",
    "- Luckily Spotify, Google, and Facebook open-sourced their solution for exactly that problem. \n",
    "\n",
    "\n",
    "- But there are also managed services if you don’t want to take care of the required infrastructure and scaling on your own.\n",
    "\n",
    "  - Open Source Frameworks like [Facebook’s Faiss](https://https://github.com/facebookresearch/faiss) and [Spotify Annoy](https://https://github.com/spotify/annoy), [Googles ScaNN](https://https://github.com/google-research/google-research/tree/master/scann)\n",
    "  - Services like [Google Vertex AI Matching Engine](https://https://cloud.google.com/vertex-ai/docs/matching-engine/overview), [IO Similarity Search](https://ioannotator.com/image-similarity-search), [Pinecone](https://https://www.pinecone.io/), [Milvus](https://https://milvus.io/docs/overview.md)"
   ]
  },
  {
   "cell_type": "markdown",
   "metadata": {
    "id": "ygLAA7vTir2O"
   },
   "source": [
    "### PCA + Annoy:\n",
    "\n",
    "- Annoy (Approximate Nearest Neighbors Oh Yeah) is a C++ library with Python bindings for searching nearest neighbors. \n",
    "- Synonymous with speed, it was released by Spotify and is used in production to serve their music recommendations.\n",
    "\n",
    "- To use annoy, install it using pip: pip3 install annoy"
   ]
  },
  {
   "cell_type": "code",
   "execution_count": null,
   "metadata": {
    "colab": {
     "base_uri": "https://localhost:8080/"
    },
    "id": "KQZbmWsXAr2L",
    "outputId": "0b86fe0c-5935-4e33-a2da-9c543d3f4526"
   },
   "outputs": [],
   "source": [
    "!pip3 install Annoy"
   ]
  },
  {
   "cell_type": "code",
   "execution_count": null,
   "metadata": {
    "id": "vDuCtHDKhp-N"
   },
   "outputs": [],
   "source": [
    "from annoy import AnnoyIndex"
   ]
  },
  {
   "cell_type": "markdown",
   "metadata": {
    "id": "iiBBCNdeESQB"
   },
   "source": [
    "First, we build a search index with two hyperparameters - the number of dimensions of the dataset, and the number of trees."
   ]
  },
  {
   "cell_type": "code",
   "execution_count": null,
   "metadata": {
    "colab": {
     "base_uri": "https://localhost:8080/"
    },
    "id": "WWWbPSngC_uF",
    "outputId": "a13d1f06-94d3-4608-eeeb-9b94b075a822"
   },
   "outputs": [],
   "source": [
    "# Time the indexing for Annoy\n",
    "t = AnnoyIndex(150)  # Length of item vector that will be indexed\n",
    "starttime = time.time()\n",
    "for i in range(num_images):\n",
    "    feature = feature_list_compressed[i]\n",
    "    t.add_item(i, feature)\n",
    "endtime = time.time()\n",
    "print(endtime - starttime)\n",
    "t.build(40)  # 40 trees\n",
    "t.save('data/caltech101index.ann')"
   ]
  },
  {
   "cell_type": "markdown",
   "metadata": {
    "id": "eG_IYp4YDVAv"
   },
   "source": [
    "Annoy on one image:\n",
    "Now let’s find out the time it takes to search the 5 nearest neighbors of one image."
   ]
  },
  {
   "cell_type": "code",
   "execution_count": null,
   "metadata": {
    "id": "opxMx8gVHvl5"
   },
   "outputs": [],
   "source": [
    "random_image_index = 1001"
   ]
  },
  {
   "cell_type": "code",
   "execution_count": null,
   "metadata": {
    "colab": {
     "base_uri": "https://localhost:8080/"
    },
    "id": "XAK2m3M1DGo4",
    "outputId": "1bac427a-9208-4d57-e347-da6d953abfbd"
   },
   "outputs": [],
   "source": [
    "u = AnnoyIndex(150)\n",
    "%timeit u.get_nns_by_vector(feature_list_compressed[random_image_index], 5, include_distances=True)\n",
    "indexes = u.get_nns_by_vector(feature_list_compressed[random_image_index],\n",
    "                              5,\n",
    "                              include_distances=True)"
   ]
  },
  {
   "cell_type": "markdown",
   "metadata": {
    "id": "acII4dPpEvXQ"
   },
   "source": [
    "- Now **THAT is blazing fast!** To put this in perspective, for such a modestly sized dataset, this can serve almost 15000 requests on a single CPU core. \n",
    "\n",
    "- Considering most CPUs have multiple cores, it should be able to handle 100K+ requests on a single system. The best part is that it lets you share the same index in memory between multiple processes. Hence, the biggest index can be equivalent to the size of your overall RAM, making it possible to serve multiple requests on a single system.\n",
    "\n"
   ]
  },
  {
   "cell_type": "markdown",
   "metadata": {
    "id": "9aeFWFoWDTnw"
   },
   "source": [
    "Helper function to time the search for multiple images for Annoy. \n",
    "\n",
    "Perform the search for the same image multiple times to get an average value."
   ]
  },
  {
   "cell_type": "code",
   "execution_count": null,
   "metadata": {
    "id": "jamcd0oHDLBx"
   },
   "outputs": [],
   "source": [
    "def calculate_annoy_time():\n",
    "    for i in range(0, 100):\n",
    "        indexes = u.get_nns_by_vector(feature_list_compressed[random_image_index],\n",
    "                                      5,\n",
    "                                      include_distances=True)"
   ]
  },
  {
   "cell_type": "markdown",
   "metadata": {
    "id": "lkx4vOdxDRLc"
   },
   "source": [
    "Annoy on a set of images:\n",
    "\n",
    "Time the search for multiple images for Annoy."
   ]
  },
  {
   "cell_type": "code",
   "execution_count": null,
   "metadata": {
    "colab": {
     "base_uri": "https://localhost:8080/"
    },
    "id": "tXhEmOQhDORH",
    "outputId": "63726088-64eb-45bc-e185-3cae5005aa3d"
   },
   "outputs": [],
   "source": [
    "%time calculate_annoy_time()"
   ]
  },
  {
   "cell_type": "markdown",
   "metadata": {
    "id": "RZ7lngw5I5xl"
   },
   "source": [
    "## Conclusion:\n",
    "\n",
    "Feature extraction using RESNET50 on Caltech101 dataset:\n",
    "- Bruteforce + 2048 length feature:59.8ms\n",
    "- Bruteforce + PCA(150):5.3ms\n",
    "- Annoy + PCA(150):19us "
   ]
  },
  {
   "cell_type": "markdown",
   "metadata": {
    "id": "Y4VP7tLVOS23"
   },
   "source": [
    "## Exercise:\n",
    "\n",
    "Try to extract features from other pretrained models such as Inception net, Vgg19 etc and compare the time and accuracy of your models.\n"
   ]
  }
 ],
 "metadata": {
  "accelerator": "GPU",
  "colab": {
   "collapsed_sections": [],
   "provenance": []
  },
  "gpuClass": "standard",
  "kernelspec": {
   "display_name": "Python 3 (ipykernel)",
   "language": "python",
   "name": "python3"
  },
  "language_info": {
   "codemirror_mode": {
    "name": "ipython",
    "version": 3
   },
   "file_extension": ".py",
   "mimetype": "text/x-python",
   "name": "python",
   "nbconvert_exporter": "python",
   "pygments_lexer": "ipython3",
   "version": "3.11.9"
  },
  "toc": {
   "base_numbering": 1,
   "nav_menu": {},
   "number_sections": true,
   "sideBar": true,
   "skip_h1_title": false,
   "title_cell": "Table of Contents",
   "title_sidebar": "Contents",
   "toc_cell": false,
   "toc_position": {},
   "toc_section_display": true,
   "toc_window_display": false
  }
 },
 "nbformat": 4,
 "nbformat_minor": 4
}
