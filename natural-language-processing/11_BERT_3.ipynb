{
  "nbformat": 4,
  "nbformat_minor": 0,
  "metadata": {
    "colab": {
      "provenance": []
    },
    "kernelspec": {
      "name": "python3",
      "display_name": "Python 3"
    },
    "language_info": {
      "name": "python"
    },
    "gpuClass": "standard",
    "accelerator": "GPU",
    "widgets": {
      "application/vnd.jupyter.widget-state+json": {
        "a48861e44ca74e2797999ac9ef6e3a3b": {
          "model_module": "@jupyter-widgets/controls",
          "model_name": "HBoxModel",
          "model_module_version": "1.5.0",
          "state": {
            "_dom_classes": [],
            "_model_module": "@jupyter-widgets/controls",
            "_model_module_version": "1.5.0",
            "_model_name": "HBoxModel",
            "_view_count": null,
            "_view_module": "@jupyter-widgets/controls",
            "_view_module_version": "1.5.0",
            "_view_name": "HBoxView",
            "box_style": "",
            "children": [
              "IPY_MODEL_40188b7a4a994da8924692f026dd7cd5",
              "IPY_MODEL_8844c8d79070475db21eebbe2c3581c7",
              "IPY_MODEL_75bca0dbbc794e6ea4874bd4f56ee808"
            ],
            "layout": "IPY_MODEL_65165bf5460048a596e22e80b329b93b"
          }
        },
        "40188b7a4a994da8924692f026dd7cd5": {
          "model_module": "@jupyter-widgets/controls",
          "model_name": "HTMLModel",
          "model_module_version": "1.5.0",
          "state": {
            "_dom_classes": [],
            "_model_module": "@jupyter-widgets/controls",
            "_model_module_version": "1.5.0",
            "_model_name": "HTMLModel",
            "_view_count": null,
            "_view_module": "@jupyter-widgets/controls",
            "_view_module_version": "1.5.0",
            "_view_name": "HTMLView",
            "description": "",
            "description_tooltip": null,
            "layout": "IPY_MODEL_2417cc9e8c86487dbc779ec9f7129edc",
            "placeholder": "​",
            "style": "IPY_MODEL_bbb6f3b659b74faf99e817bf68cf6614",
            "value": "Downloading: 100%"
          }
        },
        "8844c8d79070475db21eebbe2c3581c7": {
          "model_module": "@jupyter-widgets/controls",
          "model_name": "FloatProgressModel",
          "model_module_version": "1.5.0",
          "state": {
            "_dom_classes": [],
            "_model_module": "@jupyter-widgets/controls",
            "_model_module_version": "1.5.0",
            "_model_name": "FloatProgressModel",
            "_view_count": null,
            "_view_module": "@jupyter-widgets/controls",
            "_view_module_version": "1.5.0",
            "_view_name": "ProgressView",
            "bar_style": "success",
            "description": "",
            "description_tooltip": null,
            "layout": "IPY_MODEL_cb768cf334b8497cb75a40959e37604f",
            "max": 28,
            "min": 0,
            "orientation": "horizontal",
            "style": "IPY_MODEL_2a70efd4005f4d64bdf0a89f3bd45237",
            "value": 28
          }
        },
        "75bca0dbbc794e6ea4874bd4f56ee808": {
          "model_module": "@jupyter-widgets/controls",
          "model_name": "HTMLModel",
          "model_module_version": "1.5.0",
          "state": {
            "_dom_classes": [],
            "_model_module": "@jupyter-widgets/controls",
            "_model_module_version": "1.5.0",
            "_model_name": "HTMLModel",
            "_view_count": null,
            "_view_module": "@jupyter-widgets/controls",
            "_view_module_version": "1.5.0",
            "_view_name": "HTMLView",
            "description": "",
            "description_tooltip": null,
            "layout": "IPY_MODEL_cc19ae24c8e548b297c775d05cf43663",
            "placeholder": "​",
            "style": "IPY_MODEL_a19de98d9ceb4ed7a7612358c860daac",
            "value": " 28.0/28.0 [00:00&lt;00:00, 956B/s]"
          }
        },
        "65165bf5460048a596e22e80b329b93b": {
          "model_module": "@jupyter-widgets/base",
          "model_name": "LayoutModel",
          "model_module_version": "1.2.0",
          "state": {
            "_model_module": "@jupyter-widgets/base",
            "_model_module_version": "1.2.0",
            "_model_name": "LayoutModel",
            "_view_count": null,
            "_view_module": "@jupyter-widgets/base",
            "_view_module_version": "1.2.0",
            "_view_name": "LayoutView",
            "align_content": null,
            "align_items": null,
            "align_self": null,
            "border": null,
            "bottom": null,
            "display": null,
            "flex": null,
            "flex_flow": null,
            "grid_area": null,
            "grid_auto_columns": null,
            "grid_auto_flow": null,
            "grid_auto_rows": null,
            "grid_column": null,
            "grid_gap": null,
            "grid_row": null,
            "grid_template_areas": null,
            "grid_template_columns": null,
            "grid_template_rows": null,
            "height": null,
            "justify_content": null,
            "justify_items": null,
            "left": null,
            "margin": null,
            "max_height": null,
            "max_width": null,
            "min_height": null,
            "min_width": null,
            "object_fit": null,
            "object_position": null,
            "order": null,
            "overflow": null,
            "overflow_x": null,
            "overflow_y": null,
            "padding": null,
            "right": null,
            "top": null,
            "visibility": null,
            "width": null
          }
        },
        "2417cc9e8c86487dbc779ec9f7129edc": {
          "model_module": "@jupyter-widgets/base",
          "model_name": "LayoutModel",
          "model_module_version": "1.2.0",
          "state": {
            "_model_module": "@jupyter-widgets/base",
            "_model_module_version": "1.2.0",
            "_model_name": "LayoutModel",
            "_view_count": null,
            "_view_module": "@jupyter-widgets/base",
            "_view_module_version": "1.2.0",
            "_view_name": "LayoutView",
            "align_content": null,
            "align_items": null,
            "align_self": null,
            "border": null,
            "bottom": null,
            "display": null,
            "flex": null,
            "flex_flow": null,
            "grid_area": null,
            "grid_auto_columns": null,
            "grid_auto_flow": null,
            "grid_auto_rows": null,
            "grid_column": null,
            "grid_gap": null,
            "grid_row": null,
            "grid_template_areas": null,
            "grid_template_columns": null,
            "grid_template_rows": null,
            "height": null,
            "justify_content": null,
            "justify_items": null,
            "left": null,
            "margin": null,
            "max_height": null,
            "max_width": null,
            "min_height": null,
            "min_width": null,
            "object_fit": null,
            "object_position": null,
            "order": null,
            "overflow": null,
            "overflow_x": null,
            "overflow_y": null,
            "padding": null,
            "right": null,
            "top": null,
            "visibility": null,
            "width": null
          }
        },
        "bbb6f3b659b74faf99e817bf68cf6614": {
          "model_module": "@jupyter-widgets/controls",
          "model_name": "DescriptionStyleModel",
          "model_module_version": "1.5.0",
          "state": {
            "_model_module": "@jupyter-widgets/controls",
            "_model_module_version": "1.5.0",
            "_model_name": "DescriptionStyleModel",
            "_view_count": null,
            "_view_module": "@jupyter-widgets/base",
            "_view_module_version": "1.2.0",
            "_view_name": "StyleView",
            "description_width": ""
          }
        },
        "cb768cf334b8497cb75a40959e37604f": {
          "model_module": "@jupyter-widgets/base",
          "model_name": "LayoutModel",
          "model_module_version": "1.2.0",
          "state": {
            "_model_module": "@jupyter-widgets/base",
            "_model_module_version": "1.2.0",
            "_model_name": "LayoutModel",
            "_view_count": null,
            "_view_module": "@jupyter-widgets/base",
            "_view_module_version": "1.2.0",
            "_view_name": "LayoutView",
            "align_content": null,
            "align_items": null,
            "align_self": null,
            "border": null,
            "bottom": null,
            "display": null,
            "flex": null,
            "flex_flow": null,
            "grid_area": null,
            "grid_auto_columns": null,
            "grid_auto_flow": null,
            "grid_auto_rows": null,
            "grid_column": null,
            "grid_gap": null,
            "grid_row": null,
            "grid_template_areas": null,
            "grid_template_columns": null,
            "grid_template_rows": null,
            "height": null,
            "justify_content": null,
            "justify_items": null,
            "left": null,
            "margin": null,
            "max_height": null,
            "max_width": null,
            "min_height": null,
            "min_width": null,
            "object_fit": null,
            "object_position": null,
            "order": null,
            "overflow": null,
            "overflow_x": null,
            "overflow_y": null,
            "padding": null,
            "right": null,
            "top": null,
            "visibility": null,
            "width": null
          }
        },
        "2a70efd4005f4d64bdf0a89f3bd45237": {
          "model_module": "@jupyter-widgets/controls",
          "model_name": "ProgressStyleModel",
          "model_module_version": "1.5.0",
          "state": {
            "_model_module": "@jupyter-widgets/controls",
            "_model_module_version": "1.5.0",
            "_model_name": "ProgressStyleModel",
            "_view_count": null,
            "_view_module": "@jupyter-widgets/base",
            "_view_module_version": "1.2.0",
            "_view_name": "StyleView",
            "bar_color": null,
            "description_width": ""
          }
        },
        "cc19ae24c8e548b297c775d05cf43663": {
          "model_module": "@jupyter-widgets/base",
          "model_name": "LayoutModel",
          "model_module_version": "1.2.0",
          "state": {
            "_model_module": "@jupyter-widgets/base",
            "_model_module_version": "1.2.0",
            "_model_name": "LayoutModel",
            "_view_count": null,
            "_view_module": "@jupyter-widgets/base",
            "_view_module_version": "1.2.0",
            "_view_name": "LayoutView",
            "align_content": null,
            "align_items": null,
            "align_self": null,
            "border": null,
            "bottom": null,
            "display": null,
            "flex": null,
            "flex_flow": null,
            "grid_area": null,
            "grid_auto_columns": null,
            "grid_auto_flow": null,
            "grid_auto_rows": null,
            "grid_column": null,
            "grid_gap": null,
            "grid_row": null,
            "grid_template_areas": null,
            "grid_template_columns": null,
            "grid_template_rows": null,
            "height": null,
            "justify_content": null,
            "justify_items": null,
            "left": null,
            "margin": null,
            "max_height": null,
            "max_width": null,
            "min_height": null,
            "min_width": null,
            "object_fit": null,
            "object_position": null,
            "order": null,
            "overflow": null,
            "overflow_x": null,
            "overflow_y": null,
            "padding": null,
            "right": null,
            "top": null,
            "visibility": null,
            "width": null
          }
        },
        "a19de98d9ceb4ed7a7612358c860daac": {
          "model_module": "@jupyter-widgets/controls",
          "model_name": "DescriptionStyleModel",
          "model_module_version": "1.5.0",
          "state": {
            "_model_module": "@jupyter-widgets/controls",
            "_model_module_version": "1.5.0",
            "_model_name": "DescriptionStyleModel",
            "_view_count": null,
            "_view_module": "@jupyter-widgets/base",
            "_view_module_version": "1.2.0",
            "_view_name": "StyleView",
            "description_width": ""
          }
        },
        "a4d447bada574af48dd67b5205abb982": {
          "model_module": "@jupyter-widgets/controls",
          "model_name": "HBoxModel",
          "model_module_version": "1.5.0",
          "state": {
            "_dom_classes": [],
            "_model_module": "@jupyter-widgets/controls",
            "_model_module_version": "1.5.0",
            "_model_name": "HBoxModel",
            "_view_count": null,
            "_view_module": "@jupyter-widgets/controls",
            "_view_module_version": "1.5.0",
            "_view_name": "HBoxView",
            "box_style": "",
            "children": [
              "IPY_MODEL_1ee31808432944d695ee0e3f690ece20",
              "IPY_MODEL_1cc2ce38bdbd487cb20993fcce404f31",
              "IPY_MODEL_9b52eb1ef5794176b44d56f8fde432b7"
            ],
            "layout": "IPY_MODEL_919abf143f2b4bbf9e410c0af2089016"
          }
        },
        "1ee31808432944d695ee0e3f690ece20": {
          "model_module": "@jupyter-widgets/controls",
          "model_name": "HTMLModel",
          "model_module_version": "1.5.0",
          "state": {
            "_dom_classes": [],
            "_model_module": "@jupyter-widgets/controls",
            "_model_module_version": "1.5.0",
            "_model_name": "HTMLModel",
            "_view_count": null,
            "_view_module": "@jupyter-widgets/controls",
            "_view_module_version": "1.5.0",
            "_view_name": "HTMLView",
            "description": "",
            "description_tooltip": null,
            "layout": "IPY_MODEL_526cc82330f846f6b8c0a6c97a7b53e7",
            "placeholder": "​",
            "style": "IPY_MODEL_7f4e4262e64b421cba570974a0af4959",
            "value": "Downloading: 100%"
          }
        },
        "1cc2ce38bdbd487cb20993fcce404f31": {
          "model_module": "@jupyter-widgets/controls",
          "model_name": "FloatProgressModel",
          "model_module_version": "1.5.0",
          "state": {
            "_dom_classes": [],
            "_model_module": "@jupyter-widgets/controls",
            "_model_module_version": "1.5.0",
            "_model_name": "FloatProgressModel",
            "_view_count": null,
            "_view_module": "@jupyter-widgets/controls",
            "_view_module_version": "1.5.0",
            "_view_name": "ProgressView",
            "bar_style": "success",
            "description": "",
            "description_tooltip": null,
            "layout": "IPY_MODEL_f601dbfe6f4942b3b0dc1fbdd81494b4",
            "max": 570,
            "min": 0,
            "orientation": "horizontal",
            "style": "IPY_MODEL_829fa22c2740483e937646d2d13cdb94",
            "value": 570
          }
        },
        "9b52eb1ef5794176b44d56f8fde432b7": {
          "model_module": "@jupyter-widgets/controls",
          "model_name": "HTMLModel",
          "model_module_version": "1.5.0",
          "state": {
            "_dom_classes": [],
            "_model_module": "@jupyter-widgets/controls",
            "_model_module_version": "1.5.0",
            "_model_name": "HTMLModel",
            "_view_count": null,
            "_view_module": "@jupyter-widgets/controls",
            "_view_module_version": "1.5.0",
            "_view_name": "HTMLView",
            "description": "",
            "description_tooltip": null,
            "layout": "IPY_MODEL_29208a241daf47be86bbdbfb0af44e16",
            "placeholder": "​",
            "style": "IPY_MODEL_1ba810f7499f4c78958d1ecdb087a663",
            "value": " 570/570 [00:00&lt;00:00, 18.4kB/s]"
          }
        },
        "919abf143f2b4bbf9e410c0af2089016": {
          "model_module": "@jupyter-widgets/base",
          "model_name": "LayoutModel",
          "model_module_version": "1.2.0",
          "state": {
            "_model_module": "@jupyter-widgets/base",
            "_model_module_version": "1.2.0",
            "_model_name": "LayoutModel",
            "_view_count": null,
            "_view_module": "@jupyter-widgets/base",
            "_view_module_version": "1.2.0",
            "_view_name": "LayoutView",
            "align_content": null,
            "align_items": null,
            "align_self": null,
            "border": null,
            "bottom": null,
            "display": null,
            "flex": null,
            "flex_flow": null,
            "grid_area": null,
            "grid_auto_columns": null,
            "grid_auto_flow": null,
            "grid_auto_rows": null,
            "grid_column": null,
            "grid_gap": null,
            "grid_row": null,
            "grid_template_areas": null,
            "grid_template_columns": null,
            "grid_template_rows": null,
            "height": null,
            "justify_content": null,
            "justify_items": null,
            "left": null,
            "margin": null,
            "max_height": null,
            "max_width": null,
            "min_height": null,
            "min_width": null,
            "object_fit": null,
            "object_position": null,
            "order": null,
            "overflow": null,
            "overflow_x": null,
            "overflow_y": null,
            "padding": null,
            "right": null,
            "top": null,
            "visibility": null,
            "width": null
          }
        },
        "526cc82330f846f6b8c0a6c97a7b53e7": {
          "model_module": "@jupyter-widgets/base",
          "model_name": "LayoutModel",
          "model_module_version": "1.2.0",
          "state": {
            "_model_module": "@jupyter-widgets/base",
            "_model_module_version": "1.2.0",
            "_model_name": "LayoutModel",
            "_view_count": null,
            "_view_module": "@jupyter-widgets/base",
            "_view_module_version": "1.2.0",
            "_view_name": "LayoutView",
            "align_content": null,
            "align_items": null,
            "align_self": null,
            "border": null,
            "bottom": null,
            "display": null,
            "flex": null,
            "flex_flow": null,
            "grid_area": null,
            "grid_auto_columns": null,
            "grid_auto_flow": null,
            "grid_auto_rows": null,
            "grid_column": null,
            "grid_gap": null,
            "grid_row": null,
            "grid_template_areas": null,
            "grid_template_columns": null,
            "grid_template_rows": null,
            "height": null,
            "justify_content": null,
            "justify_items": null,
            "left": null,
            "margin": null,
            "max_height": null,
            "max_width": null,
            "min_height": null,
            "min_width": null,
            "object_fit": null,
            "object_position": null,
            "order": null,
            "overflow": null,
            "overflow_x": null,
            "overflow_y": null,
            "padding": null,
            "right": null,
            "top": null,
            "visibility": null,
            "width": null
          }
        },
        "7f4e4262e64b421cba570974a0af4959": {
          "model_module": "@jupyter-widgets/controls",
          "model_name": "DescriptionStyleModel",
          "model_module_version": "1.5.0",
          "state": {
            "_model_module": "@jupyter-widgets/controls",
            "_model_module_version": "1.5.0",
            "_model_name": "DescriptionStyleModel",
            "_view_count": null,
            "_view_module": "@jupyter-widgets/base",
            "_view_module_version": "1.2.0",
            "_view_name": "StyleView",
            "description_width": ""
          }
        },
        "f601dbfe6f4942b3b0dc1fbdd81494b4": {
          "model_module": "@jupyter-widgets/base",
          "model_name": "LayoutModel",
          "model_module_version": "1.2.0",
          "state": {
            "_model_module": "@jupyter-widgets/base",
            "_model_module_version": "1.2.0",
            "_model_name": "LayoutModel",
            "_view_count": null,
            "_view_module": "@jupyter-widgets/base",
            "_view_module_version": "1.2.0",
            "_view_name": "LayoutView",
            "align_content": null,
            "align_items": null,
            "align_self": null,
            "border": null,
            "bottom": null,
            "display": null,
            "flex": null,
            "flex_flow": null,
            "grid_area": null,
            "grid_auto_columns": null,
            "grid_auto_flow": null,
            "grid_auto_rows": null,
            "grid_column": null,
            "grid_gap": null,
            "grid_row": null,
            "grid_template_areas": null,
            "grid_template_columns": null,
            "grid_template_rows": null,
            "height": null,
            "justify_content": null,
            "justify_items": null,
            "left": null,
            "margin": null,
            "max_height": null,
            "max_width": null,
            "min_height": null,
            "min_width": null,
            "object_fit": null,
            "object_position": null,
            "order": null,
            "overflow": null,
            "overflow_x": null,
            "overflow_y": null,
            "padding": null,
            "right": null,
            "top": null,
            "visibility": null,
            "width": null
          }
        },
        "829fa22c2740483e937646d2d13cdb94": {
          "model_module": "@jupyter-widgets/controls",
          "model_name": "ProgressStyleModel",
          "model_module_version": "1.5.0",
          "state": {
            "_model_module": "@jupyter-widgets/controls",
            "_model_module_version": "1.5.0",
            "_model_name": "ProgressStyleModel",
            "_view_count": null,
            "_view_module": "@jupyter-widgets/base",
            "_view_module_version": "1.2.0",
            "_view_name": "StyleView",
            "bar_color": null,
            "description_width": ""
          }
        },
        "29208a241daf47be86bbdbfb0af44e16": {
          "model_module": "@jupyter-widgets/base",
          "model_name": "LayoutModel",
          "model_module_version": "1.2.0",
          "state": {
            "_model_module": "@jupyter-widgets/base",
            "_model_module_version": "1.2.0",
            "_model_name": "LayoutModel",
            "_view_count": null,
            "_view_module": "@jupyter-widgets/base",
            "_view_module_version": "1.2.0",
            "_view_name": "LayoutView",
            "align_content": null,
            "align_items": null,
            "align_self": null,
            "border": null,
            "bottom": null,
            "display": null,
            "flex": null,
            "flex_flow": null,
            "grid_area": null,
            "grid_auto_columns": null,
            "grid_auto_flow": null,
            "grid_auto_rows": null,
            "grid_column": null,
            "grid_gap": null,
            "grid_row": null,
            "grid_template_areas": null,
            "grid_template_columns": null,
            "grid_template_rows": null,
            "height": null,
            "justify_content": null,
            "justify_items": null,
            "left": null,
            "margin": null,
            "max_height": null,
            "max_width": null,
            "min_height": null,
            "min_width": null,
            "object_fit": null,
            "object_position": null,
            "order": null,
            "overflow": null,
            "overflow_x": null,
            "overflow_y": null,
            "padding": null,
            "right": null,
            "top": null,
            "visibility": null,
            "width": null
          }
        },
        "1ba810f7499f4c78958d1ecdb087a663": {
          "model_module": "@jupyter-widgets/controls",
          "model_name": "DescriptionStyleModel",
          "model_module_version": "1.5.0",
          "state": {
            "_model_module": "@jupyter-widgets/controls",
            "_model_module_version": "1.5.0",
            "_model_name": "DescriptionStyleModel",
            "_view_count": null,
            "_view_module": "@jupyter-widgets/base",
            "_view_module_version": "1.2.0",
            "_view_name": "StyleView",
            "description_width": ""
          }
        },
        "e7685b3a12994a689958549292e2fbad": {
          "model_module": "@jupyter-widgets/controls",
          "model_name": "HBoxModel",
          "model_module_version": "1.5.0",
          "state": {
            "_dom_classes": [],
            "_model_module": "@jupyter-widgets/controls",
            "_model_module_version": "1.5.0",
            "_model_name": "HBoxModel",
            "_view_count": null,
            "_view_module": "@jupyter-widgets/controls",
            "_view_module_version": "1.5.0",
            "_view_name": "HBoxView",
            "box_style": "",
            "children": [
              "IPY_MODEL_40286f138e1b467eabd1f39be41cfcc2",
              "IPY_MODEL_4c6c829f459545a2a913b9232ed446f6",
              "IPY_MODEL_53c31e0475d642c6bc115a1ef4fe3b1e"
            ],
            "layout": "IPY_MODEL_9b12f9a1faa8475b9387480f372501f4"
          }
        },
        "40286f138e1b467eabd1f39be41cfcc2": {
          "model_module": "@jupyter-widgets/controls",
          "model_name": "HTMLModel",
          "model_module_version": "1.5.0",
          "state": {
            "_dom_classes": [],
            "_model_module": "@jupyter-widgets/controls",
            "_model_module_version": "1.5.0",
            "_model_name": "HTMLModel",
            "_view_count": null,
            "_view_module": "@jupyter-widgets/controls",
            "_view_module_version": "1.5.0",
            "_view_name": "HTMLView",
            "description": "",
            "description_tooltip": null,
            "layout": "IPY_MODEL_d9e63ba3c54f4332a7e7d4f8bfebeb25",
            "placeholder": "​",
            "style": "IPY_MODEL_cc852f2ac21e43e0bd22ea2785e2241f",
            "value": "Downloading: 100%"
          }
        },
        "4c6c829f459545a2a913b9232ed446f6": {
          "model_module": "@jupyter-widgets/controls",
          "model_name": "FloatProgressModel",
          "model_module_version": "1.5.0",
          "state": {
            "_dom_classes": [],
            "_model_module": "@jupyter-widgets/controls",
            "_model_module_version": "1.5.0",
            "_model_name": "FloatProgressModel",
            "_view_count": null,
            "_view_module": "@jupyter-widgets/controls",
            "_view_module_version": "1.5.0",
            "_view_name": "ProgressView",
            "bar_style": "success",
            "description": "",
            "description_tooltip": null,
            "layout": "IPY_MODEL_2ff5b0631be74fb9b06f72f1ee1d4b8e",
            "max": 231508,
            "min": 0,
            "orientation": "horizontal",
            "style": "IPY_MODEL_443a12a9e85243c997f1223a57f00634",
            "value": 231508
          }
        },
        "53c31e0475d642c6bc115a1ef4fe3b1e": {
          "model_module": "@jupyter-widgets/controls",
          "model_name": "HTMLModel",
          "model_module_version": "1.5.0",
          "state": {
            "_dom_classes": [],
            "_model_module": "@jupyter-widgets/controls",
            "_model_module_version": "1.5.0",
            "_model_name": "HTMLModel",
            "_view_count": null,
            "_view_module": "@jupyter-widgets/controls",
            "_view_module_version": "1.5.0",
            "_view_name": "HTMLView",
            "description": "",
            "description_tooltip": null,
            "layout": "IPY_MODEL_313261169d654e58919b7aef462e463d",
            "placeholder": "​",
            "style": "IPY_MODEL_295da648a4d843fdb314916b25aff556",
            "value": " 232k/232k [00:00&lt;00:00, 6.52MB/s]"
          }
        },
        "9b12f9a1faa8475b9387480f372501f4": {
          "model_module": "@jupyter-widgets/base",
          "model_name": "LayoutModel",
          "model_module_version": "1.2.0",
          "state": {
            "_model_module": "@jupyter-widgets/base",
            "_model_module_version": "1.2.0",
            "_model_name": "LayoutModel",
            "_view_count": null,
            "_view_module": "@jupyter-widgets/base",
            "_view_module_version": "1.2.0",
            "_view_name": "LayoutView",
            "align_content": null,
            "align_items": null,
            "align_self": null,
            "border": null,
            "bottom": null,
            "display": null,
            "flex": null,
            "flex_flow": null,
            "grid_area": null,
            "grid_auto_columns": null,
            "grid_auto_flow": null,
            "grid_auto_rows": null,
            "grid_column": null,
            "grid_gap": null,
            "grid_row": null,
            "grid_template_areas": null,
            "grid_template_columns": null,
            "grid_template_rows": null,
            "height": null,
            "justify_content": null,
            "justify_items": null,
            "left": null,
            "margin": null,
            "max_height": null,
            "max_width": null,
            "min_height": null,
            "min_width": null,
            "object_fit": null,
            "object_position": null,
            "order": null,
            "overflow": null,
            "overflow_x": null,
            "overflow_y": null,
            "padding": null,
            "right": null,
            "top": null,
            "visibility": null,
            "width": null
          }
        },
        "d9e63ba3c54f4332a7e7d4f8bfebeb25": {
          "model_module": "@jupyter-widgets/base",
          "model_name": "LayoutModel",
          "model_module_version": "1.2.0",
          "state": {
            "_model_module": "@jupyter-widgets/base",
            "_model_module_version": "1.2.0",
            "_model_name": "LayoutModel",
            "_view_count": null,
            "_view_module": "@jupyter-widgets/base",
            "_view_module_version": "1.2.0",
            "_view_name": "LayoutView",
            "align_content": null,
            "align_items": null,
            "align_self": null,
            "border": null,
            "bottom": null,
            "display": null,
            "flex": null,
            "flex_flow": null,
            "grid_area": null,
            "grid_auto_columns": null,
            "grid_auto_flow": null,
            "grid_auto_rows": null,
            "grid_column": null,
            "grid_gap": null,
            "grid_row": null,
            "grid_template_areas": null,
            "grid_template_columns": null,
            "grid_template_rows": null,
            "height": null,
            "justify_content": null,
            "justify_items": null,
            "left": null,
            "margin": null,
            "max_height": null,
            "max_width": null,
            "min_height": null,
            "min_width": null,
            "object_fit": null,
            "object_position": null,
            "order": null,
            "overflow": null,
            "overflow_x": null,
            "overflow_y": null,
            "padding": null,
            "right": null,
            "top": null,
            "visibility": null,
            "width": null
          }
        },
        "cc852f2ac21e43e0bd22ea2785e2241f": {
          "model_module": "@jupyter-widgets/controls",
          "model_name": "DescriptionStyleModel",
          "model_module_version": "1.5.0",
          "state": {
            "_model_module": "@jupyter-widgets/controls",
            "_model_module_version": "1.5.0",
            "_model_name": "DescriptionStyleModel",
            "_view_count": null,
            "_view_module": "@jupyter-widgets/base",
            "_view_module_version": "1.2.0",
            "_view_name": "StyleView",
            "description_width": ""
          }
        },
        "2ff5b0631be74fb9b06f72f1ee1d4b8e": {
          "model_module": "@jupyter-widgets/base",
          "model_name": "LayoutModel",
          "model_module_version": "1.2.0",
          "state": {
            "_model_module": "@jupyter-widgets/base",
            "_model_module_version": "1.2.0",
            "_model_name": "LayoutModel",
            "_view_count": null,
            "_view_module": "@jupyter-widgets/base",
            "_view_module_version": "1.2.0",
            "_view_name": "LayoutView",
            "align_content": null,
            "align_items": null,
            "align_self": null,
            "border": null,
            "bottom": null,
            "display": null,
            "flex": null,
            "flex_flow": null,
            "grid_area": null,
            "grid_auto_columns": null,
            "grid_auto_flow": null,
            "grid_auto_rows": null,
            "grid_column": null,
            "grid_gap": null,
            "grid_row": null,
            "grid_template_areas": null,
            "grid_template_columns": null,
            "grid_template_rows": null,
            "height": null,
            "justify_content": null,
            "justify_items": null,
            "left": null,
            "margin": null,
            "max_height": null,
            "max_width": null,
            "min_height": null,
            "min_width": null,
            "object_fit": null,
            "object_position": null,
            "order": null,
            "overflow": null,
            "overflow_x": null,
            "overflow_y": null,
            "padding": null,
            "right": null,
            "top": null,
            "visibility": null,
            "width": null
          }
        },
        "443a12a9e85243c997f1223a57f00634": {
          "model_module": "@jupyter-widgets/controls",
          "model_name": "ProgressStyleModel",
          "model_module_version": "1.5.0",
          "state": {
            "_model_module": "@jupyter-widgets/controls",
            "_model_module_version": "1.5.0",
            "_model_name": "ProgressStyleModel",
            "_view_count": null,
            "_view_module": "@jupyter-widgets/base",
            "_view_module_version": "1.2.0",
            "_view_name": "StyleView",
            "bar_color": null,
            "description_width": ""
          }
        },
        "313261169d654e58919b7aef462e463d": {
          "model_module": "@jupyter-widgets/base",
          "model_name": "LayoutModel",
          "model_module_version": "1.2.0",
          "state": {
            "_model_module": "@jupyter-widgets/base",
            "_model_module_version": "1.2.0",
            "_model_name": "LayoutModel",
            "_view_count": null,
            "_view_module": "@jupyter-widgets/base",
            "_view_module_version": "1.2.0",
            "_view_name": "LayoutView",
            "align_content": null,
            "align_items": null,
            "align_self": null,
            "border": null,
            "bottom": null,
            "display": null,
            "flex": null,
            "flex_flow": null,
            "grid_area": null,
            "grid_auto_columns": null,
            "grid_auto_flow": null,
            "grid_auto_rows": null,
            "grid_column": null,
            "grid_gap": null,
            "grid_row": null,
            "grid_template_areas": null,
            "grid_template_columns": null,
            "grid_template_rows": null,
            "height": null,
            "justify_content": null,
            "justify_items": null,
            "left": null,
            "margin": null,
            "max_height": null,
            "max_width": null,
            "min_height": null,
            "min_width": null,
            "object_fit": null,
            "object_position": null,
            "order": null,
            "overflow": null,
            "overflow_x": null,
            "overflow_y": null,
            "padding": null,
            "right": null,
            "top": null,
            "visibility": null,
            "width": null
          }
        },
        "295da648a4d843fdb314916b25aff556": {
          "model_module": "@jupyter-widgets/controls",
          "model_name": "DescriptionStyleModel",
          "model_module_version": "1.5.0",
          "state": {
            "_model_module": "@jupyter-widgets/controls",
            "_model_module_version": "1.5.0",
            "_model_name": "DescriptionStyleModel",
            "_view_count": null,
            "_view_module": "@jupyter-widgets/base",
            "_view_module_version": "1.2.0",
            "_view_name": "StyleView",
            "description_width": ""
          }
        },
        "336e1ab49b1444cba3253b0add5508f3": {
          "model_module": "@jupyter-widgets/controls",
          "model_name": "HBoxModel",
          "model_module_version": "1.5.0",
          "state": {
            "_dom_classes": [],
            "_model_module": "@jupyter-widgets/controls",
            "_model_module_version": "1.5.0",
            "_model_name": "HBoxModel",
            "_view_count": null,
            "_view_module": "@jupyter-widgets/controls",
            "_view_module_version": "1.5.0",
            "_view_name": "HBoxView",
            "box_style": "",
            "children": [
              "IPY_MODEL_6c1bcf53d91948a68395ef78e8c2a1ee",
              "IPY_MODEL_ed559b687e244a1384a5cb68db7747db",
              "IPY_MODEL_cc1d0be9c0284d8087f5c38fd4a91439"
            ],
            "layout": "IPY_MODEL_72997e3d7ed448ce8006ee46d8659d3d"
          }
        },
        "6c1bcf53d91948a68395ef78e8c2a1ee": {
          "model_module": "@jupyter-widgets/controls",
          "model_name": "HTMLModel",
          "model_module_version": "1.5.0",
          "state": {
            "_dom_classes": [],
            "_model_module": "@jupyter-widgets/controls",
            "_model_module_version": "1.5.0",
            "_model_name": "HTMLModel",
            "_view_count": null,
            "_view_module": "@jupyter-widgets/controls",
            "_view_module_version": "1.5.0",
            "_view_name": "HTMLView",
            "description": "",
            "description_tooltip": null,
            "layout": "IPY_MODEL_305bf2f6320e4a2cb556df7d9808f4a1",
            "placeholder": "​",
            "style": "IPY_MODEL_ca430281412b439c8bdb105ac9dc6fca",
            "value": "Downloading: 100%"
          }
        },
        "ed559b687e244a1384a5cb68db7747db": {
          "model_module": "@jupyter-widgets/controls",
          "model_name": "FloatProgressModel",
          "model_module_version": "1.5.0",
          "state": {
            "_dom_classes": [],
            "_model_module": "@jupyter-widgets/controls",
            "_model_module_version": "1.5.0",
            "_model_name": "FloatProgressModel",
            "_view_count": null,
            "_view_module": "@jupyter-widgets/controls",
            "_view_module_version": "1.5.0",
            "_view_name": "ProgressView",
            "bar_style": "success",
            "description": "",
            "description_tooltip": null,
            "layout": "IPY_MODEL_3bf3dc1a1ada45e99e2a427d85f0a4bf",
            "max": 466062,
            "min": 0,
            "orientation": "horizontal",
            "style": "IPY_MODEL_e7013ae85bf9485787705aefd0185b7f",
            "value": 466062
          }
        },
        "cc1d0be9c0284d8087f5c38fd4a91439": {
          "model_module": "@jupyter-widgets/controls",
          "model_name": "HTMLModel",
          "model_module_version": "1.5.0",
          "state": {
            "_dom_classes": [],
            "_model_module": "@jupyter-widgets/controls",
            "_model_module_version": "1.5.0",
            "_model_name": "HTMLModel",
            "_view_count": null,
            "_view_module": "@jupyter-widgets/controls",
            "_view_module_version": "1.5.0",
            "_view_name": "HTMLView",
            "description": "",
            "description_tooltip": null,
            "layout": "IPY_MODEL_6c98a5a953e54c2f810c26bd66480db2",
            "placeholder": "​",
            "style": "IPY_MODEL_ff9abb88daec4cdfb8bf0ef7e262b620",
            "value": " 466k/466k [00:00&lt;00:00, 8.00MB/s]"
          }
        },
        "72997e3d7ed448ce8006ee46d8659d3d": {
          "model_module": "@jupyter-widgets/base",
          "model_name": "LayoutModel",
          "model_module_version": "1.2.0",
          "state": {
            "_model_module": "@jupyter-widgets/base",
            "_model_module_version": "1.2.0",
            "_model_name": "LayoutModel",
            "_view_count": null,
            "_view_module": "@jupyter-widgets/base",
            "_view_module_version": "1.2.0",
            "_view_name": "LayoutView",
            "align_content": null,
            "align_items": null,
            "align_self": null,
            "border": null,
            "bottom": null,
            "display": null,
            "flex": null,
            "flex_flow": null,
            "grid_area": null,
            "grid_auto_columns": null,
            "grid_auto_flow": null,
            "grid_auto_rows": null,
            "grid_column": null,
            "grid_gap": null,
            "grid_row": null,
            "grid_template_areas": null,
            "grid_template_columns": null,
            "grid_template_rows": null,
            "height": null,
            "justify_content": null,
            "justify_items": null,
            "left": null,
            "margin": null,
            "max_height": null,
            "max_width": null,
            "min_height": null,
            "min_width": null,
            "object_fit": null,
            "object_position": null,
            "order": null,
            "overflow": null,
            "overflow_x": null,
            "overflow_y": null,
            "padding": null,
            "right": null,
            "top": null,
            "visibility": null,
            "width": null
          }
        },
        "305bf2f6320e4a2cb556df7d9808f4a1": {
          "model_module": "@jupyter-widgets/base",
          "model_name": "LayoutModel",
          "model_module_version": "1.2.0",
          "state": {
            "_model_module": "@jupyter-widgets/base",
            "_model_module_version": "1.2.0",
            "_model_name": "LayoutModel",
            "_view_count": null,
            "_view_module": "@jupyter-widgets/base",
            "_view_module_version": "1.2.0",
            "_view_name": "LayoutView",
            "align_content": null,
            "align_items": null,
            "align_self": null,
            "border": null,
            "bottom": null,
            "display": null,
            "flex": null,
            "flex_flow": null,
            "grid_area": null,
            "grid_auto_columns": null,
            "grid_auto_flow": null,
            "grid_auto_rows": null,
            "grid_column": null,
            "grid_gap": null,
            "grid_row": null,
            "grid_template_areas": null,
            "grid_template_columns": null,
            "grid_template_rows": null,
            "height": null,
            "justify_content": null,
            "justify_items": null,
            "left": null,
            "margin": null,
            "max_height": null,
            "max_width": null,
            "min_height": null,
            "min_width": null,
            "object_fit": null,
            "object_position": null,
            "order": null,
            "overflow": null,
            "overflow_x": null,
            "overflow_y": null,
            "padding": null,
            "right": null,
            "top": null,
            "visibility": null,
            "width": null
          }
        },
        "ca430281412b439c8bdb105ac9dc6fca": {
          "model_module": "@jupyter-widgets/controls",
          "model_name": "DescriptionStyleModel",
          "model_module_version": "1.5.0",
          "state": {
            "_model_module": "@jupyter-widgets/controls",
            "_model_module_version": "1.5.0",
            "_model_name": "DescriptionStyleModel",
            "_view_count": null,
            "_view_module": "@jupyter-widgets/base",
            "_view_module_version": "1.2.0",
            "_view_name": "StyleView",
            "description_width": ""
          }
        },
        "3bf3dc1a1ada45e99e2a427d85f0a4bf": {
          "model_module": "@jupyter-widgets/base",
          "model_name": "LayoutModel",
          "model_module_version": "1.2.0",
          "state": {
            "_model_module": "@jupyter-widgets/base",
            "_model_module_version": "1.2.0",
            "_model_name": "LayoutModel",
            "_view_count": null,
            "_view_module": "@jupyter-widgets/base",
            "_view_module_version": "1.2.0",
            "_view_name": "LayoutView",
            "align_content": null,
            "align_items": null,
            "align_self": null,
            "border": null,
            "bottom": null,
            "display": null,
            "flex": null,
            "flex_flow": null,
            "grid_area": null,
            "grid_auto_columns": null,
            "grid_auto_flow": null,
            "grid_auto_rows": null,
            "grid_column": null,
            "grid_gap": null,
            "grid_row": null,
            "grid_template_areas": null,
            "grid_template_columns": null,
            "grid_template_rows": null,
            "height": null,
            "justify_content": null,
            "justify_items": null,
            "left": null,
            "margin": null,
            "max_height": null,
            "max_width": null,
            "min_height": null,
            "min_width": null,
            "object_fit": null,
            "object_position": null,
            "order": null,
            "overflow": null,
            "overflow_x": null,
            "overflow_y": null,
            "padding": null,
            "right": null,
            "top": null,
            "visibility": null,
            "width": null
          }
        },
        "e7013ae85bf9485787705aefd0185b7f": {
          "model_module": "@jupyter-widgets/controls",
          "model_name": "ProgressStyleModel",
          "model_module_version": "1.5.0",
          "state": {
            "_model_module": "@jupyter-widgets/controls",
            "_model_module_version": "1.5.0",
            "_model_name": "ProgressStyleModel",
            "_view_count": null,
            "_view_module": "@jupyter-widgets/base",
            "_view_module_version": "1.2.0",
            "_view_name": "StyleView",
            "bar_color": null,
            "description_width": ""
          }
        },
        "6c98a5a953e54c2f810c26bd66480db2": {
          "model_module": "@jupyter-widgets/base",
          "model_name": "LayoutModel",
          "model_module_version": "1.2.0",
          "state": {
            "_model_module": "@jupyter-widgets/base",
            "_model_module_version": "1.2.0",
            "_model_name": "LayoutModel",
            "_view_count": null,
            "_view_module": "@jupyter-widgets/base",
            "_view_module_version": "1.2.0",
            "_view_name": "LayoutView",
            "align_content": null,
            "align_items": null,
            "align_self": null,
            "border": null,
            "bottom": null,
            "display": null,
            "flex": null,
            "flex_flow": null,
            "grid_area": null,
            "grid_auto_columns": null,
            "grid_auto_flow": null,
            "grid_auto_rows": null,
            "grid_column": null,
            "grid_gap": null,
            "grid_row": null,
            "grid_template_areas": null,
            "grid_template_columns": null,
            "grid_template_rows": null,
            "height": null,
            "justify_content": null,
            "justify_items": null,
            "left": null,
            "margin": null,
            "max_height": null,
            "max_width": null,
            "min_height": null,
            "min_width": null,
            "object_fit": null,
            "object_position": null,
            "order": null,
            "overflow": null,
            "overflow_x": null,
            "overflow_y": null,
            "padding": null,
            "right": null,
            "top": null,
            "visibility": null,
            "width": null
          }
        },
        "ff9abb88daec4cdfb8bf0ef7e262b620": {
          "model_module": "@jupyter-widgets/controls",
          "model_name": "DescriptionStyleModel",
          "model_module_version": "1.5.0",
          "state": {
            "_model_module": "@jupyter-widgets/controls",
            "_model_module_version": "1.5.0",
            "_model_name": "DescriptionStyleModel",
            "_view_count": null,
            "_view_module": "@jupyter-widgets/base",
            "_view_module_version": "1.2.0",
            "_view_name": "StyleView",
            "description_width": ""
          }
        },
        "79db348474844036b78664ba86773249": {
          "model_module": "@jupyter-widgets/controls",
          "model_name": "HBoxModel",
          "model_module_version": "1.5.0",
          "state": {
            "_dom_classes": [],
            "_model_module": "@jupyter-widgets/controls",
            "_model_module_version": "1.5.0",
            "_model_name": "HBoxModel",
            "_view_count": null,
            "_view_module": "@jupyter-widgets/controls",
            "_view_module_version": "1.5.0",
            "_view_name": "HBoxView",
            "box_style": "",
            "children": [
              "IPY_MODEL_3448e78739e24512942dddae8fb50a92",
              "IPY_MODEL_d39e3733e6364903b652dd5c38248580",
              "IPY_MODEL_ab5f4f6da1194e2596668a5a6338aa24"
            ],
            "layout": "IPY_MODEL_7594bb47df32405a8a72523b660f60f4"
          }
        },
        "3448e78739e24512942dddae8fb50a92": {
          "model_module": "@jupyter-widgets/controls",
          "model_name": "HTMLModel",
          "model_module_version": "1.5.0",
          "state": {
            "_dom_classes": [],
            "_model_module": "@jupyter-widgets/controls",
            "_model_module_version": "1.5.0",
            "_model_name": "HTMLModel",
            "_view_count": null,
            "_view_module": "@jupyter-widgets/controls",
            "_view_module_version": "1.5.0",
            "_view_name": "HTMLView",
            "description": "",
            "description_tooltip": null,
            "layout": "IPY_MODEL_59299b5c1f5e4215b6a26d9502168921",
            "placeholder": "​",
            "style": "IPY_MODEL_3fc00e3743fc453984d4b1677127fe07",
            "value": "Downloading: 100%"
          }
        },
        "d39e3733e6364903b652dd5c38248580": {
          "model_module": "@jupyter-widgets/controls",
          "model_name": "FloatProgressModel",
          "model_module_version": "1.5.0",
          "state": {
            "_dom_classes": [],
            "_model_module": "@jupyter-widgets/controls",
            "_model_module_version": "1.5.0",
            "_model_name": "FloatProgressModel",
            "_view_count": null,
            "_view_module": "@jupyter-widgets/controls",
            "_view_module_version": "1.5.0",
            "_view_name": "ProgressView",
            "bar_style": "success",
            "description": "",
            "description_tooltip": null,
            "layout": "IPY_MODEL_687b642741ae411c9defcadf3ffff0c4",
            "max": 536063208,
            "min": 0,
            "orientation": "horizontal",
            "style": "IPY_MODEL_6dd5f236ff594122858c4223fb51a028",
            "value": 536063208
          }
        },
        "ab5f4f6da1194e2596668a5a6338aa24": {
          "model_module": "@jupyter-widgets/controls",
          "model_name": "HTMLModel",
          "model_module_version": "1.5.0",
          "state": {
            "_dom_classes": [],
            "_model_module": "@jupyter-widgets/controls",
            "_model_module_version": "1.5.0",
            "_model_name": "HTMLModel",
            "_view_count": null,
            "_view_module": "@jupyter-widgets/controls",
            "_view_module_version": "1.5.0",
            "_view_name": "HTMLView",
            "description": "",
            "description_tooltip": null,
            "layout": "IPY_MODEL_3774503a38ef4f0faba837cdb5d4bf22",
            "placeholder": "​",
            "style": "IPY_MODEL_b78dc86aacae4773a28323ccbcf64619",
            "value": " 536M/536M [00:11&lt;00:00, 44.3MB/s]"
          }
        },
        "7594bb47df32405a8a72523b660f60f4": {
          "model_module": "@jupyter-widgets/base",
          "model_name": "LayoutModel",
          "model_module_version": "1.2.0",
          "state": {
            "_model_module": "@jupyter-widgets/base",
            "_model_module_version": "1.2.0",
            "_model_name": "LayoutModel",
            "_view_count": null,
            "_view_module": "@jupyter-widgets/base",
            "_view_module_version": "1.2.0",
            "_view_name": "LayoutView",
            "align_content": null,
            "align_items": null,
            "align_self": null,
            "border": null,
            "bottom": null,
            "display": null,
            "flex": null,
            "flex_flow": null,
            "grid_area": null,
            "grid_auto_columns": null,
            "grid_auto_flow": null,
            "grid_auto_rows": null,
            "grid_column": null,
            "grid_gap": null,
            "grid_row": null,
            "grid_template_areas": null,
            "grid_template_columns": null,
            "grid_template_rows": null,
            "height": null,
            "justify_content": null,
            "justify_items": null,
            "left": null,
            "margin": null,
            "max_height": null,
            "max_width": null,
            "min_height": null,
            "min_width": null,
            "object_fit": null,
            "object_position": null,
            "order": null,
            "overflow": null,
            "overflow_x": null,
            "overflow_y": null,
            "padding": null,
            "right": null,
            "top": null,
            "visibility": null,
            "width": null
          }
        },
        "59299b5c1f5e4215b6a26d9502168921": {
          "model_module": "@jupyter-widgets/base",
          "model_name": "LayoutModel",
          "model_module_version": "1.2.0",
          "state": {
            "_model_module": "@jupyter-widgets/base",
            "_model_module_version": "1.2.0",
            "_model_name": "LayoutModel",
            "_view_count": null,
            "_view_module": "@jupyter-widgets/base",
            "_view_module_version": "1.2.0",
            "_view_name": "LayoutView",
            "align_content": null,
            "align_items": null,
            "align_self": null,
            "border": null,
            "bottom": null,
            "display": null,
            "flex": null,
            "flex_flow": null,
            "grid_area": null,
            "grid_auto_columns": null,
            "grid_auto_flow": null,
            "grid_auto_rows": null,
            "grid_column": null,
            "grid_gap": null,
            "grid_row": null,
            "grid_template_areas": null,
            "grid_template_columns": null,
            "grid_template_rows": null,
            "height": null,
            "justify_content": null,
            "justify_items": null,
            "left": null,
            "margin": null,
            "max_height": null,
            "max_width": null,
            "min_height": null,
            "min_width": null,
            "object_fit": null,
            "object_position": null,
            "order": null,
            "overflow": null,
            "overflow_x": null,
            "overflow_y": null,
            "padding": null,
            "right": null,
            "top": null,
            "visibility": null,
            "width": null
          }
        },
        "3fc00e3743fc453984d4b1677127fe07": {
          "model_module": "@jupyter-widgets/controls",
          "model_name": "DescriptionStyleModel",
          "model_module_version": "1.5.0",
          "state": {
            "_model_module": "@jupyter-widgets/controls",
            "_model_module_version": "1.5.0",
            "_model_name": "DescriptionStyleModel",
            "_view_count": null,
            "_view_module": "@jupyter-widgets/base",
            "_view_module_version": "1.2.0",
            "_view_name": "StyleView",
            "description_width": ""
          }
        },
        "687b642741ae411c9defcadf3ffff0c4": {
          "model_module": "@jupyter-widgets/base",
          "model_name": "LayoutModel",
          "model_module_version": "1.2.0",
          "state": {
            "_model_module": "@jupyter-widgets/base",
            "_model_module_version": "1.2.0",
            "_model_name": "LayoutModel",
            "_view_count": null,
            "_view_module": "@jupyter-widgets/base",
            "_view_module_version": "1.2.0",
            "_view_name": "LayoutView",
            "align_content": null,
            "align_items": null,
            "align_self": null,
            "border": null,
            "bottom": null,
            "display": null,
            "flex": null,
            "flex_flow": null,
            "grid_area": null,
            "grid_auto_columns": null,
            "grid_auto_flow": null,
            "grid_auto_rows": null,
            "grid_column": null,
            "grid_gap": null,
            "grid_row": null,
            "grid_template_areas": null,
            "grid_template_columns": null,
            "grid_template_rows": null,
            "height": null,
            "justify_content": null,
            "justify_items": null,
            "left": null,
            "margin": null,
            "max_height": null,
            "max_width": null,
            "min_height": null,
            "min_width": null,
            "object_fit": null,
            "object_position": null,
            "order": null,
            "overflow": null,
            "overflow_x": null,
            "overflow_y": null,
            "padding": null,
            "right": null,
            "top": null,
            "visibility": null,
            "width": null
          }
        },
        "6dd5f236ff594122858c4223fb51a028": {
          "model_module": "@jupyter-widgets/controls",
          "model_name": "ProgressStyleModel",
          "model_module_version": "1.5.0",
          "state": {
            "_model_module": "@jupyter-widgets/controls",
            "_model_module_version": "1.5.0",
            "_model_name": "ProgressStyleModel",
            "_view_count": null,
            "_view_module": "@jupyter-widgets/base",
            "_view_module_version": "1.2.0",
            "_view_name": "StyleView",
            "bar_color": null,
            "description_width": ""
          }
        },
        "3774503a38ef4f0faba837cdb5d4bf22": {
          "model_module": "@jupyter-widgets/base",
          "model_name": "LayoutModel",
          "model_module_version": "1.2.0",
          "state": {
            "_model_module": "@jupyter-widgets/base",
            "_model_module_version": "1.2.0",
            "_model_name": "LayoutModel",
            "_view_count": null,
            "_view_module": "@jupyter-widgets/base",
            "_view_module_version": "1.2.0",
            "_view_name": "LayoutView",
            "align_content": null,
            "align_items": null,
            "align_self": null,
            "border": null,
            "bottom": null,
            "display": null,
            "flex": null,
            "flex_flow": null,
            "grid_area": null,
            "grid_auto_columns": null,
            "grid_auto_flow": null,
            "grid_auto_rows": null,
            "grid_column": null,
            "grid_gap": null,
            "grid_row": null,
            "grid_template_areas": null,
            "grid_template_columns": null,
            "grid_template_rows": null,
            "height": null,
            "justify_content": null,
            "justify_items": null,
            "left": null,
            "margin": null,
            "max_height": null,
            "max_width": null,
            "min_height": null,
            "min_width": null,
            "object_fit": null,
            "object_position": null,
            "order": null,
            "overflow": null,
            "overflow_x": null,
            "overflow_y": null,
            "padding": null,
            "right": null,
            "top": null,
            "visibility": null,
            "width": null
          }
        },
        "b78dc86aacae4773a28323ccbcf64619": {
          "model_module": "@jupyter-widgets/controls",
          "model_name": "DescriptionStyleModel",
          "model_module_version": "1.5.0",
          "state": {
            "_model_module": "@jupyter-widgets/controls",
            "_model_module_version": "1.5.0",
            "_model_name": "DescriptionStyleModel",
            "_view_count": null,
            "_view_module": "@jupyter-widgets/base",
            "_view_module_version": "1.2.0",
            "_view_name": "StyleView",
            "description_width": ""
          }
        }
      }
    }
  },
  "cells": [
    {
      "cell_type": "markdown",
      "source": [
        "# Problem statement\n",
        "\n",
        "*Context*: Twitter is a microblogging and social networking service on which users post and interact with messages known as \"tweets\". Every second, on average, around 6,000 tweets are tweeted on Twitter, corresponding to over 350,000 tweets sent per minute, 500 million tweets per day.\n",
        "Twitter wants to automatically tag and analyze tweets for better understanding of the trends and topics without being dependent on the hashtags that the users use. Many users do not use hashtags or sometimes use wrong or mis-spelled tags, so they want to completely remove this problem and create a system of recognizing important content of the tweets.\n",
        "\n",
        "*Objective*: You need to train a model that will be able to identify the various named entities.\n"
      ],
      "metadata": {
        "id": "at3FQVEi0F-w"
      }
    },
    {
      "cell_type": "markdown",
      "source": [
        "## Downloading data"
      ],
      "metadata": {
        "id": "MSl9ZJz2z_tW"
      }
    },
    {
      "cell_type": "code",
      "execution_count": null,
      "metadata": {
        "id": "DabeGjENi-ER",
        "outputId": "748ef022-7350-409f-8a4c-09ccd0beb907",
        "colab": {
          "base_uri": "https://localhost:8080/"
        }
      },
      "outputs": [
        {
          "output_type": "stream",
          "name": "stdout",
          "text": [
            "Downloading...\n",
            "From: https://drive.google.com/uc?id=14_VHffl1qBUEnZ1IWFHnh6B9M5_A-Wf8\n",
            "To: /content/wnut 16.txt.conll\n",
            "100% 403k/403k [00:00<00:00, 118MB/s]\n",
            "Downloading...\n",
            "From: https://drive.google.com/uc?id=1cnrGjppPOU_NtHNpGu0RJGg1CUNNsse_\n",
            "To: /content/wnut 16test.txt.conll\n",
            "100% 635k/635k [00:00<00:00, 132MB/s]\n"
          ]
        }
      ],
      "source": [
        "!gdown 14_VHffl1qBUEnZ1IWFHnh6B9M5_A-Wf8\n",
        "!gdown 1cnrGjppPOU_NtHNpGu0RJGg1CUNNsse_"
      ]
    },
    {
      "cell_type": "markdown",
      "source": [
        "## Installing libraries"
      ],
      "metadata": {
        "id": "CTg2TR-b0DFT"
      }
    },
    {
      "cell_type": "code",
      "source": [
        "%pip install datasets transformers\n",
        "%pip install tensorflow-addons"
      ],
      "metadata": {
        "colab": {
          "base_uri": "https://localhost:8080/"
        },
        "id": "AUAWW6bSiGpI",
        "outputId": "3935becc-b7f9-4547-c1a4-26304d5a02bb"
      },
      "execution_count": null,
      "outputs": [
        {
          "output_type": "stream",
          "name": "stdout",
          "text": [
            "Looking in indexes: https://pypi.org/simple, https://us-python.pkg.dev/colab-wheels/public/simple/\n",
            "Requirement already satisfied: datasets in /usr/local/lib/python3.7/dist-packages (2.7.0)\n",
            "Requirement already satisfied: transformers in /usr/local/lib/python3.7/dist-packages (4.24.0)\n",
            "Requirement already satisfied: requests>=2.19.0 in /usr/local/lib/python3.7/dist-packages (from datasets) (2.23.0)\n",
            "Requirement already satisfied: huggingface-hub<1.0.0,>=0.2.0 in /usr/local/lib/python3.7/dist-packages (from datasets) (0.11.0)\n",
            "Requirement already satisfied: multiprocess in /usr/local/lib/python3.7/dist-packages (from datasets) (0.70.14)\n",
            "Requirement already satisfied: xxhash in /usr/local/lib/python3.7/dist-packages (from datasets) (3.1.0)\n",
            "Requirement already satisfied: packaging in /usr/local/lib/python3.7/dist-packages (from datasets) (21.3)\n",
            "Requirement already satisfied: importlib-metadata in /usr/local/lib/python3.7/dist-packages (from datasets) (4.13.0)\n",
            "Requirement already satisfied: fsspec[http]>=2021.11.1 in /usr/local/lib/python3.7/dist-packages (from datasets) (2022.10.0)\n",
            "Requirement already satisfied: pyarrow>=6.0.0 in /usr/local/lib/python3.7/dist-packages (from datasets) (6.0.1)\n",
            "Requirement already satisfied: tqdm>=4.62.1 in /usr/local/lib/python3.7/dist-packages (from datasets) (4.64.1)\n",
            "Requirement already satisfied: numpy>=1.17 in /usr/local/lib/python3.7/dist-packages (from datasets) (1.21.6)\n",
            "Requirement already satisfied: aiohttp in /usr/local/lib/python3.7/dist-packages (from datasets) (3.8.3)\n",
            "Requirement already satisfied: responses<0.19 in /usr/local/lib/python3.7/dist-packages (from datasets) (0.18.0)\n",
            "Requirement already satisfied: dill<0.3.7 in /usr/local/lib/python3.7/dist-packages (from datasets) (0.3.6)\n",
            "Requirement already satisfied: pandas in /usr/local/lib/python3.7/dist-packages (from datasets) (1.3.5)\n",
            "Requirement already satisfied: pyyaml>=5.1 in /usr/local/lib/python3.7/dist-packages (from datasets) (6.0)\n",
            "Requirement already satisfied: yarl<2.0,>=1.0 in /usr/local/lib/python3.7/dist-packages (from aiohttp->datasets) (1.8.1)\n",
            "Requirement already satisfied: frozenlist>=1.1.1 in /usr/local/lib/python3.7/dist-packages (from aiohttp->datasets) (1.3.3)\n",
            "Requirement already satisfied: async-timeout<5.0,>=4.0.0a3 in /usr/local/lib/python3.7/dist-packages (from aiohttp->datasets) (4.0.2)\n",
            "Requirement already satisfied: typing-extensions>=3.7.4 in /usr/local/lib/python3.7/dist-packages (from aiohttp->datasets) (4.1.1)\n",
            "Requirement already satisfied: attrs>=17.3.0 in /usr/local/lib/python3.7/dist-packages (from aiohttp->datasets) (22.1.0)\n",
            "Requirement already satisfied: asynctest==0.13.0 in /usr/local/lib/python3.7/dist-packages (from aiohttp->datasets) (0.13.0)\n",
            "Requirement already satisfied: aiosignal>=1.1.2 in /usr/local/lib/python3.7/dist-packages (from aiohttp->datasets) (1.3.1)\n",
            "Requirement already satisfied: charset-normalizer<3.0,>=2.0 in /usr/local/lib/python3.7/dist-packages (from aiohttp->datasets) (2.1.1)\n",
            "Requirement already satisfied: multidict<7.0,>=4.5 in /usr/local/lib/python3.7/dist-packages (from aiohttp->datasets) (6.0.2)\n",
            "Requirement already satisfied: filelock in /usr/local/lib/python3.7/dist-packages (from huggingface-hub<1.0.0,>=0.2.0->datasets) (3.8.0)\n",
            "Requirement already satisfied: pyparsing!=3.0.5,>=2.0.2 in /usr/local/lib/python3.7/dist-packages (from packaging->datasets) (3.0.9)\n",
            "Requirement already satisfied: chardet<4,>=3.0.2 in /usr/local/lib/python3.7/dist-packages (from requests>=2.19.0->datasets) (3.0.4)\n",
            "Requirement already satisfied: idna<3,>=2.5 in /usr/local/lib/python3.7/dist-packages (from requests>=2.19.0->datasets) (2.10)\n",
            "Requirement already satisfied: urllib3!=1.25.0,!=1.25.1,<1.26,>=1.21.1 in /usr/local/lib/python3.7/dist-packages (from requests>=2.19.0->datasets) (1.25.11)\n",
            "Requirement already satisfied: certifi>=2017.4.17 in /usr/local/lib/python3.7/dist-packages (from requests>=2.19.0->datasets) (2022.9.24)\n",
            "Requirement already satisfied: regex!=2019.12.17 in /usr/local/lib/python3.7/dist-packages (from transformers) (2022.6.2)\n",
            "Requirement already satisfied: tokenizers!=0.11.3,<0.14,>=0.11.1 in /usr/local/lib/python3.7/dist-packages (from transformers) (0.13.2)\n",
            "Requirement already satisfied: zipp>=0.5 in /usr/local/lib/python3.7/dist-packages (from importlib-metadata->datasets) (3.10.0)\n",
            "Requirement already satisfied: pytz>=2017.3 in /usr/local/lib/python3.7/dist-packages (from pandas->datasets) (2022.6)\n",
            "Requirement already satisfied: python-dateutil>=2.7.3 in /usr/local/lib/python3.7/dist-packages (from pandas->datasets) (2.8.2)\n",
            "Requirement already satisfied: six>=1.5 in /usr/local/lib/python3.7/dist-packages (from python-dateutil>=2.7.3->pandas->datasets) (1.15.0)\n",
            "Looking in indexes: https://pypi.org/simple, https://us-python.pkg.dev/colab-wheels/public/simple/\n",
            "Requirement already satisfied: tensorflow-addons in /usr/local/lib/python3.7/dist-packages (0.18.0)\n",
            "Requirement already satisfied: typeguard>=2.7 in /usr/local/lib/python3.7/dist-packages (from tensorflow-addons) (2.7.1)\n",
            "Requirement already satisfied: packaging in /usr/local/lib/python3.7/dist-packages (from tensorflow-addons) (21.3)\n",
            "Requirement already satisfied: pyparsing!=3.0.5,>=2.0.2 in /usr/local/lib/python3.7/dist-packages (from packaging->tensorflow-addons) (3.0.9)\n"
          ]
        }
      ]
    },
    {
      "cell_type": "code",
      "source": [
        "import pandas as pd\n",
        "import tensorflow as tf"
      ],
      "metadata": {
        "id": "wg5Yfb9P0L46"
      },
      "execution_count": null,
      "outputs": []
    },
    {
      "cell_type": "markdown",
      "source": [
        "## Loading data from the files "
      ],
      "metadata": {
        "id": "hobF9tNHjZSc"
      }
    },
    {
      "cell_type": "code",
      "source": [
        "def load_data(filename: str):\n",
        "  # Conll file is stored as (token, tag) pairs, one per line\n",
        "  # Extracting data from conll files\n",
        "  with open(filename, 'r') as file:\n",
        "    lines = [line[:-1].split() for line in file] # Skipping last line as it will be a blank space\n",
        "  samples, start = [], 0\n",
        "  for end, parts in enumerate(lines):\n",
        "      if not parts:\n",
        "          sample = [(token, tag) \n",
        "                      for token, tag in lines[start:end]]\n",
        "          samples.append(sample)\n",
        "          start = end + 1\n",
        "  if start < end:\n",
        "    samples.append(lines[start:end])\n",
        "  return samples\n",
        "\n",
        "train_samples = load_data('wnut 16.txt.conll')\n",
        "test_samples = load_data('wnut 16test.txt.conll')\n",
        "samples = train_samples + test_samples\n",
        "schema = ['_'] + sorted({tag for sentence in samples \n",
        "                             for _, tag in sentence}) # '_' is used to indicate a null (blank) token."
      ],
      "metadata": {
        "id": "-MzsPIKwkB-t"
      },
      "execution_count": null,
      "outputs": []
    },
    {
      "cell_type": "markdown",
      "source": [
        "## Structure of data"
      ],
      "metadata": {
        "id": "I0rw_3r5jhuI"
      }
    },
    {
      "cell_type": "code",
      "source": [
        "train_samples[1]"
      ],
      "metadata": {
        "colab": {
          "base_uri": "https://localhost:8080/"
        },
        "id": "LYuLVDagmRL5",
        "outputId": "2a5a2752-08e3-4f2a-fa93-66c027c19b1b"
      },
      "execution_count": null,
      "outputs": [
        {
          "output_type": "execute_result",
          "data": {
            "text/plain": [
              "[('Made', 'O'),\n",
              " ('it', 'O'),\n",
              " ('back', 'O'),\n",
              " ('home', 'O'),\n",
              " ('to', 'O'),\n",
              " ('GA', 'B-geo-loc'),\n",
              " ('.', 'O'),\n",
              " ('It', 'O'),\n",
              " ('sucks', 'O'),\n",
              " ('not', 'O'),\n",
              " ('to', 'O'),\n",
              " ('be', 'O'),\n",
              " ('at', 'O'),\n",
              " ('Disney', 'B-facility'),\n",
              " ('world', 'I-facility'),\n",
              " (',', 'O'),\n",
              " ('but', 'O'),\n",
              " ('its', 'O'),\n",
              " ('good', 'O'),\n",
              " ('to', 'O'),\n",
              " ('be', 'O'),\n",
              " ('home', 'O'),\n",
              " ('.', 'O'),\n",
              " ('Time', 'O'),\n",
              " ('to', 'O'),\n",
              " ('start', 'O'),\n",
              " ('planning', 'O'),\n",
              " ('the', 'O'),\n",
              " ('next', 'O'),\n",
              " ('Disney', 'B-facility'),\n",
              " ('World', 'I-facility'),\n",
              " ('trip', 'O'),\n",
              " ('.', 'O')]"
            ]
          },
          "metadata": {},
          "execution_count": 5
        }
      ]
    },
    {
      "cell_type": "markdown",
      "source": [
        "## EDA: Let's have a look at the distribution of tags on data"
      ],
      "metadata": {
        "id": "JaS4WFxetHgp"
      }
    },
    {
      "cell_type": "code",
      "source": [
        "import seaborn as sns\n",
        "colors = ['violet', 'indigo', 'blue', 'green', 'yellow', 'orange', 'red']\n",
        "counts = {}\n",
        "\n",
        "# Calculateing the number of data points having a given label\n",
        "for tag in schema:\n",
        "  counts[tag] = 0\n",
        "  for sample in train_samples:\n",
        "    for label in sample:\n",
        "      if label[1] == tag:\n",
        "        counts[tag]+=1\n",
        "\n",
        "counts_df = pd.DataFrame({'keys': list(counts.keys()), 'values': list(counts.values())})\n",
        "counts_df.plot.bar(x='keys', y='values', legend=False, color=colors)"
      ],
      "metadata": {
        "id": "x4eGILw5tMUb",
        "outputId": "caf76d18-c535-4a33-b77e-dba62ad1be23",
        "colab": {
          "base_uri": "https://localhost:8080/",
          "height": 358
        }
      },
      "execution_count": null,
      "outputs": [
        {
          "output_type": "execute_result",
          "data": {
            "text/plain": [
              "<matplotlib.axes._subplots.AxesSubplot at 0x7f18c55d1750>"
            ]
          },
          "metadata": {},
          "execution_count": 6
        },
        {
          "output_type": "display_data",
          "data": {
            "text/plain": [
              "<Figure size 432x288 with 1 Axes>"
            ],
            "image/png": "[encoded data removed]"
          },
          "metadata": {
            "needs_background": "light"
          }
        }
      ]
    },
    {
      "cell_type": "markdown",
      "source": [
        "- We have too many \"other\" fields, which is natural as only few annotations exist per sentence\n",
        "- let's remove `O` tag and see tag distribution"
      ],
      "metadata": {
        "id": "4_lmaJBowNqr"
      }
    },
    {
      "cell_type": "code",
      "source": [
        "counts.pop('O')\n",
        "counts_df = pd.DataFrame({'keys': list(counts.keys()), 'values': list(counts.values())})\n",
        "counts_df.plot.bar(x='keys', y='values', legend=False, color=colors)"
      ],
      "metadata": {
        "colab": {
          "base_uri": "https://localhost:8080/",
          "height": 358
        },
        "id": "ipVTM0eLwkWJ",
        "outputId": "8e619446-027e-4d2a-cdea-55f70e760248"
      },
      "execution_count": null,
      "outputs": [
        {
          "output_type": "execute_result",
          "data": {
            "text/plain": [
              "<matplotlib.axes._subplots.AxesSubplot at 0x7f18c5622690>"
            ]
          },
          "metadata": {},
          "execution_count": 7
        },
        {
          "output_type": "display_data",
          "data": {
            "text/plain": [
              "<Figure size 432x288 with 1 Axes>"
            ],
            "image/png": "[encoded data removed]"
          },
          "metadata": {
            "needs_background": "light"
          }
        }
      ]
    },
    {
      "cell_type": "markdown",
      "source": [
        "## Tag information\n",
        "- B-* Start token for a tag\n",
        "- I-* Continuation tokens for a tag\n",
        "\n",
        "## Available Entities\n",
        "- Company\n",
        "- Facility\n",
        "- Geo-loc: geolocation\n",
        "- Musicartist\n",
        "- Person\n",
        "- Product\n",
        "- Sportsteam\n",
        "- TV Show\n",
        "- Other"
      ],
      "metadata": {
        "id": "h3rbf0bqTUTz"
      }
    },
    {
      "cell_type": "markdown",
      "source": [
        "### More preprocessing"
      ],
      "metadata": {
        "id": "TQIslo-BCly3"
      }
    },
    {
      "cell_type": "markdown",
      "source": [
        "- let's get vocab & sequence lengths"
      ],
      "metadata": {
        "id": "G1Yyb4bmBIxl"
      }
    },
    {
      "cell_type": "code",
      "source": [
        "from collections import defaultdict\n",
        "all_samples = train_samples\n",
        "all_samples.extend(test_samples)\n",
        "\n",
        "word_counts = defaultdict(int) # Calculate vocab size\n",
        "max_len = 0 # Calculate max length of a sentence\n",
        "\n",
        "for sample in all_samples:\n",
        "  for word in sample:\n",
        "    word_counts[word[0]]+=1\n",
        "  \n",
        "  max_len = max(max_len, len(sample))\n",
        "\n",
        "n_words = len(word_counts.items())\n",
        "\n",
        "\n",
        "print(\"*\"*30)\n",
        "print(\"Max Length: \", max_len)\n",
        "print(\"Vocab Size: \", n_words)"
      ],
      "metadata": {
        "colab": {
          "base_uri": "https://localhost:8080/"
        },
        "id": "NMMqyl5V-qey",
        "outputId": "e2031da7-06c5-45dd-b360-8bd17e240254"
      },
      "execution_count": null,
      "outputs": [
        {
          "output_type": "stream",
          "name": "stdout",
          "text": [
            "******************************\n",
            "Max Length:  39\n",
            "Vocab Size:  25382\n"
          ]
        }
      ]
    },
    {
      "cell_type": "markdown",
      "source": [
        "## Our approach\n",
        "- Train a simple LSTM + CRF model to get a baseline\n",
        "- Look at the results of transformer based architectures"
      ],
      "metadata": {
        "id": "ZmyDZ8CnUCeW"
      }
    },
    {
      "cell_type": "markdown",
      "source": [
        "## Training LSTM + CRF model:\n",
        "- Let's using glove to initialize embeddings"
      ],
      "metadata": {
        "id": "-w0sdEfKB0Gq"
      }
    },
    {
      "cell_type": "code",
      "source": [
        "import gensim.downloader as api\n",
        "word2vec = api.load(\"glove-twitter-200\") # Loading word2vec gensim model\n",
        "embedding_dim = 200"
      ],
      "metadata": {
        "id": "UB6iUDzQDXbn"
      },
      "execution_count": null,
      "outputs": []
    },
    {
      "cell_type": "markdown",
      "source": [
        "### Training a tokenizer for LSTM input embeddings"
      ],
      "metadata": {
        "id": "BrAx_B4NL-Y5"
      }
    },
    {
      "cell_type": "code",
      "source": [
        "all_sentences = [] # Concating test, train sentences. To train a tokenizer\n",
        "for sample in all_samples:\n",
        "  sentence = [tag[0] for tag in sample]\n",
        "  all_sentences.append(sentence)\n",
        "\n",
        "crf_tokenizer = tf.keras.preprocessing.text.Tokenizer(num_words=n_words, lower=True)\n",
        "crf_tokenizer.fit_on_texts(all_sentences)"
      ],
      "metadata": {
        "id": "5FD0YgSyLZPi"
      },
      "execution_count": null,
      "outputs": []
    },
    {
      "cell_type": "markdown",
      "source": [
        "### Prepare embedding matrix"
      ],
      "metadata": {
        "id": "vVSuLDqCMJ4I"
      }
    },
    {
      "cell_type": "code",
      "source": [
        "import numpy as np\n",
        "num_tokens = len(crf_tokenizer.word_index) + 1\n",
        "hits = 0\n",
        "misses = 0\n",
        "missed_words = []\n",
        "\n",
        "\n",
        "# Prepare embedding matrix\n",
        "embedding_matrix = np.zeros((num_tokens, embedding_dim))\n",
        "for word, i in crf_tokenizer.word_index.items():\n",
        "  embedding_vector = None\n",
        "  try:\n",
        "    embedding_vector = word2vec[word]\n",
        "  except Exception :\n",
        "    pass\n",
        "\n",
        "  if embedding_vector is not None:\n",
        "    # Words not found in embedding index will be all-zeros.\n",
        "    # This includes the representation for \"padding\" and \"OOV\"\n",
        "    embedding_matrix[i] = embedding_vector\n",
        "    hits += 1\n",
        "  else:\n",
        "    missed_words.append(word)\n",
        "    misses += 1\n",
        "print(\"Converted %d words (%d misses)\" % (hits, misses))"
      ],
      "metadata": {
        "colab": {
          "base_uri": "https://localhost:8080/"
        },
        "id": "7zDyMXYBMEPA",
        "outputId": "a21ad3fd-966e-4da3-d303-1c0b54c54b40"
      },
      "execution_count": null,
      "outputs": [
        {
          "output_type": "stream",
          "name": "stdout",
          "text": [
            "Converted 11495 words (10438 misses)\n"
          ]
        }
      ]
    },
    {
      "cell_type": "markdown",
      "source": [
        "# LSTM + CRF Model training"
      ],
      "metadata": {
        "id": "Zn0GdTcF-bCN"
      }
    },
    {
      "cell_type": "markdown",
      "source": [
        "## Creating a training dataset"
      ],
      "metadata": {
        "id": "NveHPtLoS_GZ"
      }
    },
    {
      "cell_type": "code",
      "source": [
        "tag2id = {} # Label to indicies mapping\n",
        "id2tag = {} # Index to label mapping\n",
        "for i, tag in enumerate(schema):\n",
        "  tag2id[tag] = i\n",
        "  id2tag[i] = tag"
      ],
      "metadata": {
        "id": "QKzqnTLkmu6f"
      },
      "execution_count": null,
      "outputs": []
    },
    {
      "cell_type": "markdown",
      "source": [
        "- We will encode our labels as OHE vectors. This is to keep it compatible with SigmoidFocalCrossEntropy loss"
      ],
      "metadata": {
        "id": "hCJDhwqjUmdC"
      }
    },
    {
      "cell_type": "code",
      "source": [
        "def get_dataset(samples, max_len, tag2id, tokenizer):\n",
        "  '''Prepares the input dataset\n",
        "\n",
        "  Args:\n",
        "    `samples`: List[List[Tuple[word, tag]]], input data\n",
        "    `max_len`: Maximum input length\n",
        "    `tag2id`: Mapping[tag: integer]\n",
        "    `tokenizer`: Tensorflow tokenizer, for tokenizing input sequence\n",
        "  \n",
        "  Returns:\n",
        "    Tuple[np.ndarray, np.ndarray]: sentences and it's labels\n",
        "  '''\n",
        "  dataset = {'samples':[], 'labels': []}\n",
        "\n",
        "  for sample in samples:\n",
        "    # Extracting inputs and labels\n",
        "    inputs = [x[0] for x in sample]\n",
        "    outputs = [x[1] for x in sample]\n",
        "\n",
        "    # Tokenizing inputs\n",
        "    inputs = tokenizer.texts_to_sequences([inputs])[0]\n",
        "\n",
        "    # padding labels\n",
        "    padded_inputs = [inputs[i] if i < len(inputs) else 0 for i in range(max_len)]\n",
        "\n",
        "    # Initializing labels as One Hot Encoded Vectors\n",
        "    padded_labels = [[0 for i in range(len(tag2id))] for j in range(max_len)]\n",
        "    for i in range(len(outputs)):\n",
        "      padded_labels[i][tag2id[outputs[i]]] = 1\n",
        "    \n",
        "    # Adding padded inputs & labels to dataset\n",
        "    dataset['samples'].append(padded_inputs)\n",
        "    dataset['labels'].append(padded_labels)\n",
        "\n",
        "  return np.array(dataset['samples']), np.array(dataset['labels'])\n",
        "    \n",
        "train_sentences, train_labels = get_dataset(train_samples, max_len, tag2id, crf_tokenizer)\n",
        "test_sentences, test_labels = get_dataset(test_samples, max_len, tag2id, crf_tokenizer)"
      ],
      "metadata": {
        "id": "RBDhfMe3STdR"
      },
      "execution_count": null,
      "outputs": []
    },
    {
      "cell_type": "markdown",
      "source": [
        "## Training Model"
      ],
      "metadata": {
        "id": "5DoaomPwzL83"
      }
    },
    {
      "cell_type": "markdown",
      "source": [
        "- using [sigmoid focal cross entropy loss](https://www.tensorflow.org/addons/api_docs/python/tfa/losses/SigmoidFocalCrossEntropy). It performs better than sparse categorical cross entropy for highly imbalanced data."
      ],
      "metadata": {
        "id": "NceuLRZTSxmn"
      }
    },
    {
      "cell_type": "code",
      "source": [
        "from keras.models import Model\n",
        "from tensorflow.keras.layers import Input\n",
        "from tensorflow_addons.utils.types import FloatTensorLike, TensorLike\n",
        "\n",
        "# LSTM components\n",
        "from keras.layers import LSTM, Embedding, Dense, TimeDistributed, Dropout, Bidirectional\n",
        "\n",
        "# CRF layer\n",
        "from tensorflow_addons.layers import CRF\n",
        "\n",
        "# Sigmoid focal cross entropy loss. works well with highly unbalanced input data\n",
        "from tensorflow_addons.losses import SigmoidFocalCrossEntropy\n",
        "from tensorflow_addons.optimizers import AdamW\n",
        "\n",
        "\n",
        "def build_model():\n",
        "  # Model definition\n",
        "  input = Input(shape=(max_len,))\n",
        "\n",
        "  # Get embeddings\n",
        "  embeddings = Embedding(input_dim=embedding_matrix.shape[0],\n",
        "                      output_dim=embedding_dim,\n",
        "                      input_length=max_len, mask_zero=True, \n",
        "                      embeddings_initializer=tf.keras.initializers.Constant(embedding_matrix)\n",
        "                    )(input)\n",
        "  \n",
        "  # variational biLSTM\n",
        "  output_sequences = Bidirectional(LSTM(units=50, return_sequences=True))(embeddings)  \n",
        "\n",
        "  # Stacking\n",
        "  output_sequences = Bidirectional(LSTM(units=50, return_sequences=True))(output_sequences) \n",
        "\n",
        "  # Adding more non-linearity\n",
        "  dense_out = TimeDistributed(Dense(25, activation=\"relu\"))(output_sequences) \n",
        "\n",
        "  # CRF layer\n",
        "  crf = CRF(len(schema), name='crf')  \n",
        "  predicted_sequence, potentials, sequence_length, crf_kernel = crf(dense_out)\n",
        "\n",
        "  model = Model(input, potentials)\n",
        "  model.compile(\n",
        "      optimizer=AdamW(weight_decay=0.001), \n",
        "      loss= SigmoidFocalCrossEntropy()) # Sigmoid focal cross entropy loss\n",
        "\n",
        "  return model\n",
        "\n",
        "model = build_model()\n",
        "\n",
        "# Checkpointing\n",
        "save_model = tf.keras.callbacks.ModelCheckpoint(filepath='twitter_ner_crf.h5',\n",
        "  monitor='val_loss',\n",
        "  save_weights_only=True,\n",
        "  save_best_only=True,\n",
        "  verbose=1\n",
        ")\n",
        "\n",
        "# Early stopping\n",
        "es = tf.keras.callbacks.EarlyStopping(monitor='val_loss', verbose=1, patience=10)\n",
        "\n",
        "callbacks = [save_model, es]\n",
        "\n",
        "model.summary()"
      ],
      "metadata": {
        "colab": {
          "base_uri": "https://localhost:8080/"
        },
        "id": "07KSPavQ-ecU",
        "outputId": "54288e49-b451-490a-ff00-35a0812c8be6"
      },
      "execution_count": null,
      "outputs": [
        {
          "output_type": "stream",
          "name": "stdout",
          "text": [
            "Model: \"model\"\n",
            "_________________________________________________________________\n",
            " Layer (type)                Output Shape              Param #   \n",
            "=================================================================\n",
            " input_1 (InputLayer)        [(None, 39)]              0         \n",
            "                                                                 \n",
            " embedding (Embedding)       (None, 39, 200)           4386800   \n",
            "                                                                 \n",
            " bidirectional (Bidirectiona  (None, 39, 100)          100400    \n",
            " l)                                                              \n",
            "                                                                 \n",
            " bidirectional_1 (Bidirectio  (None, 39, 100)          60400     \n",
            " nal)                                                            \n",
            "                                                                 \n",
            " time_distributed (TimeDistr  (None, 39, 25)           2525      \n",
            " ibuted)                                                         \n",
            "                                                                 \n",
            " crf (CRF)                   [(None, 39),              1100      \n",
            "                              (None, 39, 22),                    \n",
            "                              (None,),                           \n",
            "                              (22, 22)]                          \n",
            "                                                                 \n",
            "=================================================================\n",
            "Total params: 4,551,225\n",
            "Trainable params: 4,551,225\n",
            "Non-trainable params: 0\n",
            "_________________________________________________________________\n"
          ]
        }
      ]
    },
    {
      "cell_type": "markdown",
      "source": [
        "# Training our model"
      ],
      "metadata": {
        "id": "pZhPGAyhrJRz"
      }
    },
    {
      "cell_type": "code",
      "source": [
        "model.fit(train_sentences, train_labels,\n",
        "          validation_data = (test_sentences, test_labels),\n",
        "          epochs = 300,\n",
        "          callbacks  = callbacks,\n",
        "          shuffle=True)"
      ],
      "metadata": {
        "colab": {
          "base_uri": "https://localhost:8080/"
        },
        "id": "tl579tbVqY_O",
        "outputId": "1f04cad7-f9ac-4daf-8835-d0eacb583c27"
      },
      "execution_count": null,
      "outputs": [
        {
          "output_type": "stream",
          "name": "stdout",
          "text": [
            "Epoch 1/300\n"
          ]
        },
        {
          "output_type": "stream",
          "name": "stderr",
          "text": [
            "WARNING:tensorflow:Gradients do not exist for variables ['chain_kernel:0'] when minimizing the loss. If you're using `model.compile()`, did you forget to provide a `loss`argument?\n",
            "WARNING:tensorflow:Gradients do not exist for variables ['chain_kernel:0'] when minimizing the loss. If you're using `model.compile()`, did you forget to provide a `loss`argument?\n"
          ]
        },
        {
          "output_type": "stream",
          "name": "stdout",
          "text": [
            "195/196 [============================>.] - ETA: 0s - loss: 0.0846\n",
            "Epoch 1: val_loss improved from inf to 0.04645, saving model to twitter_ner_crf.h5\n",
            "196/196 [==============================] - 29s 65ms/step - loss: 0.0846 - val_loss: 0.0464\n",
            "Epoch 2/300\n",
            "194/196 [============================>.] - ETA: 0s - loss: 0.0380\n",
            "Epoch 2: val_loss improved from 0.04645 to 0.03888, saving model to twitter_ner_crf.h5\n",
            "196/196 [==============================] - 6s 32ms/step - loss: 0.0381 - val_loss: 0.0389\n",
            "Epoch 3/300\n",
            "195/196 [============================>.] - ETA: 0s - loss: 0.0342\n",
            "Epoch 3: val_loss improved from 0.03888 to 0.03484, saving model to twitter_ner_crf.h5\n",
            "196/196 [==============================] - 6s 33ms/step - loss: 0.0342 - val_loss: 0.0348\n",
            "Epoch 4/300\n",
            "195/196 [============================>.] - ETA: 0s - loss: 0.0300\n",
            "Epoch 4: val_loss improved from 0.03484 to 0.02962, saving model to twitter_ner_crf.h5\n",
            "196/196 [==============================] - 6s 33ms/step - loss: 0.0300 - val_loss: 0.0296\n",
            "Epoch 5/300\n",
            "195/196 [============================>.] - ETA: 0s - loss: 0.0249\n",
            "Epoch 5: val_loss improved from 0.02962 to 0.02404, saving model to twitter_ner_crf.h5\n",
            "196/196 [==============================] - 6s 32ms/step - loss: 0.0249 - val_loss: 0.0240\n",
            "Epoch 6/300\n",
            "196/196 [==============================] - ETA: 0s - loss: 0.0207\n",
            "Epoch 6: val_loss improved from 0.02404 to 0.02076, saving model to twitter_ner_crf.h5\n",
            "196/196 [==============================] - 6s 33ms/step - loss: 0.0207 - val_loss: 0.0208\n",
            "Epoch 7/300\n",
            "195/196 [============================>.] - ETA: 0s - loss: 0.0178\n",
            "Epoch 7: val_loss improved from 0.02076 to 0.01858, saving model to twitter_ner_crf.h5\n",
            "196/196 [==============================] - 6s 32ms/step - loss: 0.0178 - val_loss: 0.0186\n",
            "Epoch 8/300\n",
            "195/196 [============================>.] - ETA: 0s - loss: 0.0161\n",
            "Epoch 8: val_loss improved from 0.01858 to 0.01733, saving model to twitter_ner_crf.h5\n",
            "196/196 [==============================] - 6s 33ms/step - loss: 0.0161 - val_loss: 0.0173\n",
            "Epoch 9/300\n",
            "195/196 [============================>.] - ETA: 0s - loss: 0.0151\n",
            "Epoch 9: val_loss improved from 0.01733 to 0.01596, saving model to twitter_ner_crf.h5\n",
            "196/196 [==============================] - 7s 34ms/step - loss: 0.0151 - val_loss: 0.0160\n",
            "Epoch 10/300\n",
            "196/196 [==============================] - ETA: 0s - loss: 0.0142\n",
            "Epoch 10: val_loss improved from 0.01596 to 0.01520, saving model to twitter_ner_crf.h5\n",
            "196/196 [==============================] - 8s 38ms/step - loss: 0.0142 - val_loss: 0.0152\n",
            "Epoch 11/300\n",
            "195/196 [============================>.] - ETA: 0s - loss: 0.0134\n",
            "Epoch 11: val_loss improved from 0.01520 to 0.01443, saving model to twitter_ner_crf.h5\n",
            "196/196 [==============================] - 6s 33ms/step - loss: 0.0134 - val_loss: 0.0144\n",
            "Epoch 12/300\n",
            "195/196 [============================>.] - ETA: 0s - loss: 0.0127\n",
            "Epoch 12: val_loss improved from 0.01443 to 0.01376, saving model to twitter_ner_crf.h5\n",
            "196/196 [==============================] - 6s 32ms/step - loss: 0.0127 - val_loss: 0.0138\n",
            "Epoch 13/300\n",
            "195/196 [============================>.] - ETA: 0s - loss: 0.0121\n",
            "Epoch 13: val_loss improved from 0.01376 to 0.01312, saving model to twitter_ner_crf.h5\n",
            "196/196 [==============================] - 6s 32ms/step - loss: 0.0121 - val_loss: 0.0131\n",
            "Epoch 14/300\n",
            "194/196 [============================>.] - ETA: 0s - loss: 0.0115\n",
            "Epoch 14: val_loss improved from 0.01312 to 0.01228, saving model to twitter_ner_crf.h5\n",
            "196/196 [==============================] - 6s 33ms/step - loss: 0.0115 - val_loss: 0.0123\n",
            "Epoch 15/300\n",
            "196/196 [==============================] - ETA: 0s - loss: 0.0107\n",
            "Epoch 15: val_loss improved from 0.01228 to 0.01150, saving model to twitter_ner_crf.h5\n",
            "196/196 [==============================] - 6s 32ms/step - loss: 0.0107 - val_loss: 0.0115\n",
            "Epoch 16/300\n",
            "194/196 [============================>.] - ETA: 0s - loss: 0.0098\n",
            "Epoch 16: val_loss improved from 0.01150 to 0.01044, saving model to twitter_ner_crf.h5\n",
            "196/196 [==============================] - 6s 32ms/step - loss: 0.0098 - val_loss: 0.0104\n",
            "Epoch 17/300\n",
            "196/196 [==============================] - ETA: 0s - loss: 0.0090\n",
            "Epoch 17: val_loss improved from 0.01044 to 0.00956, saving model to twitter_ner_crf.h5\n",
            "196/196 [==============================] - 6s 33ms/step - loss: 0.0090 - val_loss: 0.0096\n",
            "Epoch 18/300\n",
            "196/196 [==============================] - ETA: 0s - loss: 0.0083\n",
            "Epoch 18: val_loss did not improve from 0.00956\n",
            "196/196 [==============================] - 6s 32ms/step - loss: 0.0083 - val_loss: 0.0099\n",
            "Epoch 19/300\n",
            "195/196 [============================>.] - ETA: 0s - loss: 0.0078\n",
            "Epoch 19: val_loss improved from 0.00956 to 0.00857, saving model to twitter_ner_crf.h5\n",
            "196/196 [==============================] - 8s 40ms/step - loss: 0.0078 - val_loss: 0.0086\n",
            "Epoch 20/300\n",
            "195/196 [============================>.] - ETA: 0s - loss: 0.0073\n",
            "Epoch 20: val_loss improved from 0.00857 to 0.00815, saving model to twitter_ner_crf.h5\n",
            "196/196 [==============================] - 6s 33ms/step - loss: 0.0073 - val_loss: 0.0081\n",
            "Epoch 21/300\n",
            "196/196 [==============================] - ETA: 0s - loss: 0.0131\n",
            "Epoch 21: val_loss did not improve from 0.00815\n",
            "196/196 [==============================] - 6s 33ms/step - loss: 0.0131 - val_loss: 0.0148\n",
            "Epoch 22/300\n",
            "196/196 [==============================] - ETA: 0s - loss: 0.0104\n",
            "Epoch 22: val_loss did not improve from 0.00815\n",
            "196/196 [==============================] - 6s 32ms/step - loss: 0.0104 - val_loss: 0.0098\n",
            "Epoch 23/300\n",
            "195/196 [============================>.] - ETA: 0s - loss: 0.0084\n",
            "Epoch 23: val_loss did not improve from 0.00815\n",
            "196/196 [==============================] - 6s 32ms/step - loss: 0.0084 - val_loss: 0.0092\n",
            "Epoch 24/300\n",
            "195/196 [============================>.] - ETA: 0s - loss: 0.0080\n",
            "Epoch 24: val_loss did not improve from 0.00815\n",
            "196/196 [==============================] - 6s 32ms/step - loss: 0.0080 - val_loss: 0.0090\n",
            "Epoch 25/300\n",
            "194/196 [============================>.] - ETA: 0s - loss: 0.0079\n",
            "Epoch 25: val_loss did not improve from 0.00815\n",
            "196/196 [==============================] - 6s 32ms/step - loss: 0.0080 - val_loss: 0.0088\n",
            "Epoch 26/300\n",
            "195/196 [============================>.] - ETA: 0s - loss: 0.0075\n",
            "Epoch 26: val_loss did not improve from 0.00815\n",
            "196/196 [==============================] - 6s 32ms/step - loss: 0.0075 - val_loss: 0.0088\n",
            "Epoch 27/300\n",
            "195/196 [============================>.] - ETA: 0s - loss: 0.0070\n",
            "Epoch 27: val_loss did not improve from 0.00815\n",
            "196/196 [==============================] - 6s 33ms/step - loss: 0.0070 - val_loss: 0.0090\n",
            "Epoch 28/300\n",
            "196/196 [==============================] - ETA: 0s - loss: 0.0066\n",
            "Epoch 28: val_loss improved from 0.00815 to 0.00736, saving model to twitter_ner_crf.h5\n",
            "196/196 [==============================] - 7s 37ms/step - loss: 0.0066 - val_loss: 0.0074\n",
            "Epoch 29/300\n",
            "195/196 [============================>.] - ETA: 0s - loss: 0.0063\n",
            "Epoch 29: val_loss improved from 0.00736 to 0.00693, saving model to twitter_ner_crf.h5\n",
            "196/196 [==============================] - 7s 35ms/step - loss: 0.0063 - val_loss: 0.0069\n",
            "Epoch 30/300\n",
            "195/196 [============================>.] - ETA: 0s - loss: 0.0058\n",
            "Epoch 30: val_loss improved from 0.00693 to 0.00690, saving model to twitter_ner_crf.h5\n",
            "196/196 [==============================] - 6s 32ms/step - loss: 0.0058 - val_loss: 0.0069\n",
            "Epoch 31/300\n",
            "196/196 [==============================] - ETA: 0s - loss: 0.0055\n",
            "Epoch 31: val_loss improved from 0.00690 to 0.00599, saving model to twitter_ner_crf.h5\n",
            "196/196 [==============================] - 6s 33ms/step - loss: 0.0055 - val_loss: 0.0060\n",
            "Epoch 32/300\n",
            "194/196 [============================>.] - ETA: 0s - loss: 0.0053\n",
            "Epoch 32: val_loss improved from 0.00599 to 0.00509, saving model to twitter_ner_crf.h5\n",
            "196/196 [==============================] - 6s 33ms/step - loss: 0.0053 - val_loss: 0.0051\n",
            "Epoch 33/300\n",
            "194/196 [============================>.] - ETA: 0s - loss: 0.0051\n",
            "Epoch 33: val_loss did not improve from 0.00509\n",
            "196/196 [==============================] - 6s 33ms/step - loss: 0.0051 - val_loss: 0.0052\n",
            "Epoch 34/300\n",
            "194/196 [============================>.] - ETA: 0s - loss: 0.0070\n",
            "Epoch 34: val_loss did not improve from 0.00509\n",
            "196/196 [==============================] - 6s 33ms/step - loss: 0.0070 - val_loss: 0.0073\n",
            "Epoch 35/300\n",
            "194/196 [============================>.] - ETA: 0s - loss: 0.0057\n",
            "Epoch 35: val_loss improved from 0.00509 to 0.00496, saving model to twitter_ner_crf.h5\n",
            "196/196 [==============================] - 6s 32ms/step - loss: 0.0057 - val_loss: 0.0050\n",
            "Epoch 36/300\n",
            "195/196 [============================>.] - ETA: 0s - loss: 0.0043\n",
            "Epoch 36: val_loss improved from 0.00496 to 0.00438, saving model to twitter_ner_crf.h5\n",
            "196/196 [==============================] - 6s 32ms/step - loss: 0.0043 - val_loss: 0.0044\n",
            "Epoch 37/300\n",
            "196/196 [==============================] - ETA: 0s - loss: 0.0039\n",
            "Epoch 37: val_loss did not improve from 0.00438\n",
            "196/196 [==============================] - 6s 32ms/step - loss: 0.0039 - val_loss: 0.0044\n",
            "Epoch 38/300\n",
            "195/196 [============================>.] - ETA: 0s - loss: 0.0039\n",
            "Epoch 38: val_loss improved from 0.00438 to 0.00380, saving model to twitter_ner_crf.h5\n",
            "196/196 [==============================] - 8s 40ms/step - loss: 0.0039 - val_loss: 0.0038\n",
            "Epoch 39/300\n",
            "194/196 [============================>.] - ETA: 0s - loss: 0.0034\n",
            "Epoch 39: val_loss improved from 0.00380 to 0.00363, saving model to twitter_ner_crf.h5\n",
            "196/196 [==============================] - 6s 33ms/step - loss: 0.0034 - val_loss: 0.0036\n",
            "Epoch 40/300\n",
            "194/196 [============================>.] - ETA: 0s - loss: 0.0033\n",
            "Epoch 40: val_loss did not improve from 0.00363\n",
            "196/196 [==============================] - 6s 32ms/step - loss: 0.0034 - val_loss: 0.0265\n",
            "Epoch 41/300\n",
            "196/196 [==============================] - ETA: 0s - loss: 0.0046\n",
            "Epoch 41: val_loss did not improve from 0.00363\n",
            "196/196 [==============================] - 6s 32ms/step - loss: 0.0046 - val_loss: 0.0041\n",
            "Epoch 42/300\n",
            "195/196 [============================>.] - ETA: 0s - loss: 0.0030\n",
            "Epoch 42: val_loss improved from 0.00363 to 0.00283, saving model to twitter_ner_crf.h5\n",
            "196/196 [==============================] - 6s 33ms/step - loss: 0.0030 - val_loss: 0.0028\n",
            "Epoch 43/300\n",
            "194/196 [============================>.] - ETA: 0s - loss: 0.0036\n",
            "Epoch 43: val_loss did not improve from 0.00283\n",
            "196/196 [==============================] - 6s 32ms/step - loss: 0.0036 - val_loss: 0.0041\n",
            "Epoch 44/300\n",
            "195/196 [============================>.] - ETA: 0s - loss: 0.0031\n",
            "Epoch 44: val_loss did not improve from 0.00283\n",
            "196/196 [==============================] - 6s 32ms/step - loss: 0.0031 - val_loss: 0.0028\n",
            "Epoch 45/300\n",
            "195/196 [============================>.] - ETA: 0s - loss: 0.0028\n",
            "Epoch 45: val_loss improved from 0.00283 to 0.00278, saving model to twitter_ner_crf.h5\n",
            "196/196 [==============================] - 6s 32ms/step - loss: 0.0028 - val_loss: 0.0028\n",
            "Epoch 46/300\n",
            "196/196 [==============================] - ETA: 0s - loss: 0.0034\n",
            "Epoch 46: val_loss improved from 0.00278 to 0.00278, saving model to twitter_ner_crf.h5\n",
            "196/196 [==============================] - 7s 33ms/step - loss: 0.0034 - val_loss: 0.0028\n",
            "Epoch 47/300\n",
            "196/196 [==============================] - ETA: 0s - loss: 0.0026\n",
            "Epoch 47: val_loss improved from 0.00278 to 0.00231, saving model to twitter_ner_crf.h5\n",
            "196/196 [==============================] - 8s 39ms/step - loss: 0.0026 - val_loss: 0.0023\n",
            "Epoch 48/300\n",
            "194/196 [============================>.] - ETA: 0s - loss: 0.0022\n",
            "Epoch 48: val_loss improved from 0.00231 to 0.00220, saving model to twitter_ner_crf.h5\n",
            "196/196 [==============================] - 6s 33ms/step - loss: 0.0022 - val_loss: 0.0022\n",
            "Epoch 49/300\n",
            "196/196 [==============================] - ETA: 0s - loss: 0.0023\n",
            "Epoch 49: val_loss did not improve from 0.00220\n",
            "196/196 [==============================] - 6s 32ms/step - loss: 0.0023 - val_loss: 0.0023\n",
            "Epoch 50/300\n",
            "195/196 [============================>.] - ETA: 0s - loss: 0.0020\n",
            "Epoch 50: val_loss improved from 0.00220 to 0.00206, saving model to twitter_ner_crf.h5\n",
            "196/196 [==============================] - 6s 32ms/step - loss: 0.0020 - val_loss: 0.0021\n",
            "Epoch 51/300\n",
            "196/196 [==============================] - ETA: 0s - loss: 0.0069\n",
            "Epoch 51: val_loss did not improve from 0.00206\n",
            "196/196 [==============================] - 6s 32ms/step - loss: 0.0069 - val_loss: 0.0041\n",
            "Epoch 52/300\n",
            "195/196 [============================>.] - ETA: 0s - loss: 0.0032\n",
            "Epoch 52: val_loss did not improve from 0.00206\n",
            "196/196 [==============================] - 6s 32ms/step - loss: 0.0032 - val_loss: 0.0028\n",
            "Epoch 53/300\n",
            "195/196 [============================>.] - ETA: 0s - loss: 0.0024\n",
            "Epoch 53: val_loss did not improve from 0.00206\n",
            "196/196 [==============================] - 6s 32ms/step - loss: 0.0024 - val_loss: 0.0024\n",
            "Epoch 54/300\n",
            "194/196 [============================>.] - ETA: 0s - loss: 0.0021\n",
            "Epoch 54: val_loss did not improve from 0.00206\n",
            "196/196 [==============================] - 6s 32ms/step - loss: 0.0021 - val_loss: 0.0021\n",
            "Epoch 55/300\n",
            "196/196 [==============================] - ETA: 0s - loss: 0.0020\n",
            "Epoch 55: val_loss improved from 0.00206 to 0.00195, saving model to twitter_ner_crf.h5\n",
            "196/196 [==============================] - 6s 32ms/step - loss: 0.0020 - val_loss: 0.0020\n",
            "Epoch 56/300\n",
            "195/196 [============================>.] - ETA: 0s - loss: 0.0019\n",
            "Epoch 56: val_loss did not improve from 0.00195\n",
            "196/196 [==============================] - 6s 32ms/step - loss: 0.0019 - val_loss: 0.0021\n",
            "Epoch 57/300\n",
            "195/196 [============================>.] - ETA: 0s - loss: 0.0021\n",
            "Epoch 57: val_loss did not improve from 0.00195\n",
            "196/196 [==============================] - 8s 40ms/step - loss: 0.0021 - val_loss: 0.0021\n",
            "Epoch 58/300\n",
            "194/196 [============================>.] - ETA: 0s - loss: 0.0031\n",
            "Epoch 58: val_loss did not improve from 0.00195\n",
            "196/196 [==============================] - 6s 33ms/step - loss: 0.0031 - val_loss: 0.0022\n",
            "Epoch 59/300\n",
            "194/196 [============================>.] - ETA: 0s - loss: 0.0019\n",
            "Epoch 59: val_loss did not improve from 0.00195\n",
            "196/196 [==============================] - 6s 32ms/step - loss: 0.0019 - val_loss: 0.0022\n",
            "Epoch 60/300\n",
            "195/196 [============================>.] - ETA: 0s - loss: 0.0019\n",
            "Epoch 60: val_loss did not improve from 0.00195\n",
            "196/196 [==============================] - 6s 33ms/step - loss: 0.0019 - val_loss: 0.0034\n",
            "Epoch 61/300\n",
            "195/196 [============================>.] - ETA: 0s - loss: 0.0032\n",
            "Epoch 61: val_loss did not improve from 0.00195\n",
            "196/196 [==============================] - 6s 32ms/step - loss: 0.0032 - val_loss: 0.0022\n",
            "Epoch 62/300\n",
            "194/196 [============================>.] - ETA: 0s - loss: 0.0029\n",
            "Epoch 62: val_loss did not improve from 0.00195\n",
            "196/196 [==============================] - 6s 32ms/step - loss: 0.0028 - val_loss: 0.0032\n",
            "Epoch 63/300\n",
            "195/196 [============================>.] - ETA: 0s - loss: 0.0022\n",
            "Epoch 63: val_loss improved from 0.00195 to 0.00190, saving model to twitter_ner_crf.h5\n",
            "196/196 [==============================] - 6s 32ms/step - loss: 0.0022 - val_loss: 0.0019\n",
            "Epoch 64/300\n",
            "196/196 [==============================] - ETA: 0s - loss: 0.0016\n",
            "Epoch 64: val_loss improved from 0.00190 to 0.00143, saving model to twitter_ner_crf.h5\n",
            "196/196 [==============================] - 6s 32ms/step - loss: 0.0016 - val_loss: 0.0014\n",
            "Epoch 65/300\n",
            "195/196 [============================>.] - ETA: 0s - loss: 0.0015\n",
            "Epoch 65: val_loss improved from 0.00143 to 0.00132, saving model to twitter_ner_crf.h5\n",
            "196/196 [==============================] - 6s 32ms/step - loss: 0.0015 - val_loss: 0.0013\n",
            "Epoch 66/300\n",
            "196/196 [==============================] - ETA: 0s - loss: 0.0014\n",
            "Epoch 66: val_loss did not improve from 0.00132\n",
            "196/196 [==============================] - 6s 32ms/step - loss: 0.0014 - val_loss: 0.0018\n",
            "Epoch 67/300\n",
            "195/196 [============================>.] - ETA: 0s - loss: 0.0032\n",
            "Epoch 67: val_loss did not improve from 0.00132\n",
            "196/196 [==============================] - 8s 39ms/step - loss: 0.0032 - val_loss: 0.0047\n",
            "Epoch 68/300\n",
            "195/196 [============================>.] - ETA: 0s - loss: 0.0024\n",
            "Epoch 68: val_loss did not improve from 0.00132\n",
            "196/196 [==============================] - 6s 33ms/step - loss: 0.0024 - val_loss: 0.0017\n",
            "Epoch 69/300\n",
            "196/196 [==============================] - ETA: 0s - loss: 0.0015\n",
            "Epoch 69: val_loss did not improve from 0.00132\n",
            "196/196 [==============================] - 6s 32ms/step - loss: 0.0015 - val_loss: 0.0014\n",
            "Epoch 70/300\n",
            "196/196 [==============================] - ETA: 0s - loss: 0.0013\n",
            "Epoch 70: val_loss improved from 0.00132 to 0.00123, saving model to twitter_ner_crf.h5\n",
            "196/196 [==============================] - 6s 33ms/step - loss: 0.0013 - val_loss: 0.0012\n",
            "Epoch 71/300\n",
            "194/196 [============================>.] - ETA: 0s - loss: 0.0014\n",
            "Epoch 71: val_loss improved from 0.00123 to 0.00116, saving model to twitter_ner_crf.h5\n",
            "196/196 [==============================] - 6s 32ms/step - loss: 0.0014 - val_loss: 0.0012\n",
            "Epoch 72/300\n",
            "196/196 [==============================] - ETA: 0s - loss: 0.0014\n",
            "Epoch 72: val_loss did not improve from 0.00116\n",
            "196/196 [==============================] - 6s 33ms/step - loss: 0.0014 - val_loss: 0.0014\n",
            "Epoch 73/300\n",
            "196/196 [==============================] - ETA: 0s - loss: 0.0015\n",
            "Epoch 73: val_loss did not improve from 0.00116\n",
            "196/196 [==============================] - 6s 32ms/step - loss: 0.0015 - val_loss: 0.0016\n",
            "Epoch 74/300\n",
            "196/196 [==============================] - ETA: 0s - loss: 0.0017\n",
            "Epoch 74: val_loss did not improve from 0.00116\n",
            "196/196 [==============================] - 6s 32ms/step - loss: 0.0017 - val_loss: 0.0018\n",
            "Epoch 75/300\n",
            "196/196 [==============================] - ETA: 0s - loss: 0.0041\n",
            "Epoch 75: val_loss did not improve from 0.00116\n",
            "196/196 [==============================] - 6s 32ms/step - loss: 0.0041 - val_loss: 0.0101\n",
            "Epoch 76/300\n",
            "196/196 [==============================] - ETA: 0s - loss: 0.0048\n",
            "Epoch 76: val_loss did not improve from 0.00116\n",
            "196/196 [==============================] - 8s 39ms/step - loss: 0.0048 - val_loss: 0.0032\n",
            "Epoch 77/300\n",
            "196/196 [==============================] - ETA: 0s - loss: 0.0028\n",
            "Epoch 77: val_loss did not improve from 0.00116\n",
            "196/196 [==============================] - 6s 33ms/step - loss: 0.0028 - val_loss: 0.0022\n",
            "Epoch 78/300\n",
            "196/196 [==============================] - ETA: 0s - loss: 0.0020\n",
            "Epoch 78: val_loss did not improve from 0.00116\n",
            "196/196 [==============================] - 6s 32ms/step - loss: 0.0020 - val_loss: 0.0022\n",
            "Epoch 79/300\n",
            "196/196 [==============================] - ETA: 0s - loss: 0.0019\n",
            "Epoch 79: val_loss did not improve from 0.00116\n",
            "196/196 [==============================] - 6s 33ms/step - loss: 0.0019 - val_loss: 0.0015\n",
            "Epoch 80/300\n",
            "196/196 [==============================] - ETA: 0s - loss: 0.0015\n",
            "Epoch 80: val_loss did not improve from 0.00116\n",
            "196/196 [==============================] - 6s 33ms/step - loss: 0.0015 - val_loss: 0.0015\n",
            "Epoch 81/300\n",
            "194/196 [============================>.] - ETA: 0s - loss: 0.0018\n",
            "Epoch 81: val_loss did not improve from 0.00116\n",
            "196/196 [==============================] - 6s 32ms/step - loss: 0.0018 - val_loss: 0.0033\n",
            "Epoch 81: early stopping\n"
          ]
        },
        {
          "output_type": "execute_result",
          "data": {
            "text/plain": [
              "<keras.callbacks.History at 0x7f18a705bad0>"
            ]
          },
          "metadata": {},
          "execution_count": 15
        }
      ]
    },
    {
      "cell_type": "markdown",
      "source": [
        "# Let's load the best model"
      ],
      "metadata": {
        "id": "vJj4X8FmzeFe"
      }
    },
    {
      "cell_type": "code",
      "source": [
        "model.load_weights('twitter_ner_crf.h5')"
      ],
      "metadata": {
        "id": "kEWzHmAhzijN"
      },
      "execution_count": null,
      "outputs": []
    },
    {
      "cell_type": "code",
      "source": [
        "crf_model = tf.keras.Model(inputs=model.input, outputs=[model.output, model.get_layer('crf').output, model.input])"
      ],
      "metadata": {
        "id": "6pA1Ekybfr96"
      },
      "execution_count": null,
      "outputs": []
    },
    {
      "cell_type": "markdown",
      "source": [
        "### Let's calculate average accuracy of the model on test set"
      ],
      "metadata": {
        "id": "per1der_V5yf"
      }
    },
    {
      "cell_type": "code",
      "source": [
        "def calculate_accuracy(y_true, y_pred):\n",
        "  '''Convert categorical one hot encodings to indices and compute accuracy\n",
        "  \n",
        "  Args:\n",
        "    `y_true`: true values\n",
        "    `y_pred`: model predictions\n",
        "\n",
        "  Returns:\n",
        "    Integer, accuracy of prediction\n",
        "  '''\n",
        "  acc_metric = tf.keras.metrics.Accuracy()\n",
        "  y_true = tf.argmax(y_true, axis=-1)\n",
        "  return acc_metric(y_true, y_pred).numpy().item()\n",
        "\n",
        "def calculate_model_accuracy(crf_model, test_sentences, test_labels):\n",
        "  '''Calculates average validation accuracy of model'''\n",
        "\n",
        "  # Batch the dataset\n",
        "  batched_validation_set = tf.data.Dataset.from_tensor_slices((test_sentences, test_labels)).batch(32)\n",
        "\n",
        "  average_acc = 0\n",
        "  # Iterate through batches\n",
        "  for batch_test_sentences, batch_test_labels in batched_validation_set:\n",
        "    predicted_labels, _, _, _ = crf_model(batch_test_sentences)[1]\n",
        "    average_acc += calculate_accuracy(batch_test_labels, predicted_labels)\n",
        "  \n",
        "  average_acc/=len(batched_validation_set)\n",
        "  return average_acc\n",
        "\n",
        "average_acc = calculate_model_accuracy(crf_model, test_sentences, test_labels)\n",
        "\n",
        "print(\"*\"*32)\n",
        "print(f\"Average accuracy of model on test set: {average_acc:.3f}\")"
      ],
      "metadata": {
        "id": "AYxHmRJWvri_",
        "colab": {
          "base_uri": "https://localhost:8080/"
        },
        "outputId": "3947ccfd-9f6c-4356-f295-f9bdd2a81e37"
      },
      "execution_count": null,
      "outputs": [
        {
          "output_type": "stream",
          "name": "stdout",
          "text": [
            "********************************\n",
            "Average accuracy of model on test set: 0.986\n"
          ]
        }
      ]
    },
    {
      "cell_type": "markdown",
      "source": [
        "# BERT Model"
      ],
      "metadata": {
        "id": "0SOhIRwLWAB8"
      }
    },
    {
      "cell_type": "markdown",
      "source": [
        "## Getting the  bert model"
      ],
      "metadata": {
        "id": "aSHidMIQk8EK"
      }
    },
    {
      "cell_type": "code",
      "source": [
        "from transformers import AutoConfig, TFAutoModelForTokenClassification\n",
        "\n",
        "MODEL_NAME = 'bert-base-uncased'"
      ],
      "metadata": {
        "id": "FtG_qfNmlayh"
      },
      "execution_count": null,
      "outputs": []
    },
    {
      "cell_type": "markdown",
      "source": [
        "# Loading the tokenizer"
      ],
      "metadata": {
        "id": "v-cb1G9uoDAa"
      }
    },
    {
      "cell_type": "code",
      "source": [
        "from transformers import AutoTokenizer\n",
        "tokenizer = AutoTokenizer.from_pretrained(MODEL_NAME) # Load bert-base-uncased tokenizer"
      ],
      "metadata": {
        "id": "dAxau3xskB9S",
        "colab": {
          "base_uri": "https://localhost:8080/",
          "height": 145,
          "referenced_widgets": [
            "a48861e44ca74e2797999ac9ef6e3a3b",
            "40188b7a4a994da8924692f026dd7cd5",
            "8844c8d79070475db21eebbe2c3581c7",
            "75bca0dbbc794e6ea4874bd4f56ee808",
            "65165bf5460048a596e22e80b329b93b",
            "2417cc9e8c86487dbc779ec9f7129edc",
            "bbb6f3b659b74faf99e817bf68cf6614",
            "cb768cf334b8497cb75a40959e37604f",
            "2a70efd4005f4d64bdf0a89f3bd45237",
            "cc19ae24c8e548b297c775d05cf43663",
            "a19de98d9ceb4ed7a7612358c860daac",
            "a4d447bada574af48dd67b5205abb982",
            "1ee31808432944d695ee0e3f690ece20",
            "1cc2ce38bdbd487cb20993fcce404f31",
            "9b52eb1ef5794176b44d56f8fde432b7",
            "919abf143f2b4bbf9e410c0af2089016",
            "526cc82330f846f6b8c0a6c97a7b53e7",
            "7f4e4262e64b421cba570974a0af4959",
            "f601dbfe6f4942b3b0dc1fbdd81494b4",
            "829fa22c2740483e937646d2d13cdb94",
            "29208a241daf47be86bbdbfb0af44e16",
            "1ba810f7499f4c78958d1ecdb087a663",
            "e7685b3a12994a689958549292e2fbad",
            "40286f138e1b467eabd1f39be41cfcc2",
            "4c6c829f459545a2a913b9232ed446f6",
            "53c31e0475d642c6bc115a1ef4fe3b1e",
            "9b12f9a1faa8475b9387480f372501f4",
            "d9e63ba3c54f4332a7e7d4f8bfebeb25",
            "cc852f2ac21e43e0bd22ea2785e2241f",
            "2ff5b0631be74fb9b06f72f1ee1d4b8e",
            "443a12a9e85243c997f1223a57f00634",
            "313261169d654e58919b7aef462e463d",
            "295da648a4d843fdb314916b25aff556",
            "336e1ab49b1444cba3253b0add5508f3",
            "6c1bcf53d91948a68395ef78e8c2a1ee",
            "ed559b687e244a1384a5cb68db7747db",
            "cc1d0be9c0284d8087f5c38fd4a91439",
            "72997e3d7ed448ce8006ee46d8659d3d",
            "305bf2f6320e4a2cb556df7d9808f4a1",
            "ca430281412b439c8bdb105ac9dc6fca",
            "3bf3dc1a1ada45e99e2a427d85f0a4bf",
            "e7013ae85bf9485787705aefd0185b7f",
            "6c98a5a953e54c2f810c26bd66480db2",
            "ff9abb88daec4cdfb8bf0ef7e262b620"
          ]
        },
        "outputId": "77dc5053-68d6-4ae9-f499-8be8996aac4e"
      },
      "execution_count": null,
      "outputs": [
        {
          "output_type": "display_data",
          "data": {
            "text/plain": [
              "Downloading:   0%|          | 0.00/28.0 [00:00<?, ?B/s]"
            ],
            "application/vnd.jupyter.widget-view+json": {
              "version_major": 2,
              "version_minor": 0,
              "model_id": "a48861e44ca74e2797999ac9ef6e3a3b"
            }
          },
          "metadata": {}
        },
        {
          "output_type": "display_data",
          "data": {
            "text/plain": [
              "Downloading:   0%|          | 0.00/570 [00:00<?, ?B/s]"
            ],
            "application/vnd.jupyter.widget-view+json": {
              "version_major": 2,
              "version_minor": 0,
              "model_id": "a4d447bada574af48dd67b5205abb982"
            }
          },
          "metadata": {}
        },
        {
          "output_type": "display_data",
          "data": {
            "text/plain": [
              "Downloading:   0%|          | 0.00/232k [00:00<?, ?B/s]"
            ],
            "application/vnd.jupyter.widget-view+json": {
              "version_major": 2,
              "version_minor": 0,
              "model_id": "e7685b3a12994a689958549292e2fbad"
            }
          },
          "metadata": {}
        },
        {
          "output_type": "display_data",
          "data": {
            "text/plain": [
              "Downloading:   0%|          | 0.00/466k [00:00<?, ?B/s]"
            ],
            "application/vnd.jupyter.widget-view+json": {
              "version_major": 2,
              "version_minor": 0,
              "model_id": "336e1ab49b1444cba3253b0add5508f3"
            }
          },
          "metadata": {}
        }
      ]
    },
    {
      "cell_type": "markdown",
      "source": [
        "- tokenizer adds 101 and 102 token id at the start and end of the tokens\n",
        "- using[1:-1] to eliminate the extra 101, 102 that tokenizer adds\n",
        "- Let us have a peak at tokenization of a training sample"
      ],
      "metadata": {
        "id": "zJg1l3oYlORW"
      }
    },
    {
      "cell_type": "code",
      "source": [
        "sample=train_samples[10] # Random tokenized sample\n",
        "for token, tag in sample:\n",
        "  for subtoken in tokenizer(token)['input_ids'][1:-1]:\n",
        "    print(token,subtoken)"
      ],
      "metadata": {
        "id": "aLSyAPd4kB0R",
        "colab": {
          "base_uri": "https://localhost:8080/"
        },
        "outputId": "20e3ba33-edef-4415-dcbb-222ae1930834"
      },
      "execution_count": null,
      "outputs": [
        {
          "output_type": "stream",
          "name": "stdout",
          "text": [
            "RT 19387\n",
            "@Hatshepsutely 1030\n",
            "@Hatshepsutely 16717\n",
            "@Hatshepsutely 5369\n",
            "@Hatshepsutely 4523\n",
            "@Hatshepsutely 10421\n",
            "@Hatshepsutely 2135\n",
            ": 1024\n",
            "@adamlambert 1030\n",
            "@adamlambert 4205\n",
            "@adamlambert 10278\n",
            "@adamlambert 8296\n",
            "please 3531\n",
            ", 1010\n",
            "oh 2821\n",
            "please 3531\n",
            "wear 4929\n",
            "the 1996\n",
            "infamous 14429\n",
            "beach 3509\n",
            "hat 6045\n",
            "tonight 3892\n",
            "during 2076\n",
            "your 2115\n",
            "encore 19493\n",
            "( 1006\n",
            "in 1999\n",
            "lieu 22470\n",
            "of 1997\n",
            "a 1037\n",
            "rasta 20710\n",
            "rasta 2696\n",
            "wig) 24405\n",
            "wig) 1007\n",
            ". 1012\n",
            "&lt; 1004\n",
            "&lt; 8318\n",
            "&lt; 1025\n",
            "3333 21211\n",
            "3333 2509\n"
          ]
        }
      ]
    },
    {
      "cell_type": "markdown",
      "source": [
        "### Get Datasets"
      ],
      "metadata": {
        "id": "b_5S0esQNRQQ"
      }
    },
    {
      "cell_type": "code",
      "source": [
        "import numpy as np\n",
        "import tqdm\n",
        "\n",
        "def tokenize_sample(sample):\n",
        "  # Expand label to all subtokens and add 'O' label to start and end tokens\n",
        "  seq = [\n",
        "    (subtoken, tag)\n",
        "    for token, tag in sample\n",
        "    for subtoken in tokenizer(token.lower())['input_ids'][1:-1]\n",
        "  ]\n",
        "  return [(3, 'O')] + seq + [(4, 'O')]\n",
        "\n",
        "def preprocess(samples, tag2id):\n",
        "  tokenized_samples = list((map(tokenize_sample, samples)))\n",
        "  max_len = max(map(len, tokenized_samples))\n",
        "\n",
        "  # Subtokens\n",
        "  X_input_ids = np.zeros((len(samples), max_len), dtype=np.int32) \n",
        "\n",
        "  # Masks\n",
        "  X_input_masks = np.zeros((len(samples), max_len), dtype=np.int32) \n",
        "\n",
        "  # labels\n",
        "  y = np.zeros((len(samples), max_len), dtype=np.int32)\n",
        "\n",
        "  for i, sentence in enumerate(tokenized_samples):\n",
        "    for j in range(len(sentence)):\n",
        "      X_input_masks[i, j] = 1\n",
        "    for j, (subtoken_id, tag) in enumerate(sentence):\n",
        "      X_input_ids[i, j] = subtoken_id\n",
        "      y[i, j] = tag2id[tag]\n",
        "  return (X_input_ids, X_input_masks), y\n",
        "\n",
        "X_train, y_train = preprocess(train_samples, tag2id)\n",
        "X_test, y_test = preprocess(test_samples, tag2id)"
      ],
      "metadata": {
        "id": "NBwtuVKZ9UaR"
      },
      "execution_count": null,
      "outputs": []
    },
    {
      "cell_type": "markdown",
      "source": [
        "## Loading model"
      ],
      "metadata": {
        "id": "u1dTKQSJ7476"
      }
    },
    {
      "cell_type": "code",
      "source": [
        "config = AutoConfig.from_pretrained(MODEL_NAME, num_labels=len(schema), \n",
        "                                    id2tag=id2tag, tag2id=tag2id) # Bert config\n",
        "\n",
        "model = TFAutoModelForTokenClassification.from_pretrained(MODEL_NAME, \n",
        "                                                          config=config) # Loading Bert model\n",
        "model.summary()"
      ],
      "metadata": {
        "colab": {
          "base_uri": "https://localhost:8080/",
          "height": 493,
          "referenced_widgets": [
            "79db348474844036b78664ba86773249",
            "3448e78739e24512942dddae8fb50a92",
            "d39e3733e6364903b652dd5c38248580",
            "ab5f4f6da1194e2596668a5a6338aa24",
            "7594bb47df32405a8a72523b660f60f4",
            "59299b5c1f5e4215b6a26d9502168921",
            "3fc00e3743fc453984d4b1677127fe07",
            "687b642741ae411c9defcadf3ffff0c4",
            "6dd5f236ff594122858c4223fb51a028",
            "3774503a38ef4f0faba837cdb5d4bf22",
            "b78dc86aacae4773a28323ccbcf64619"
          ]
        },
        "id": "BKY4i7ie3B-f",
        "outputId": "5dcabda1-dce8-412b-c9cc-e24e243be180"
      },
      "execution_count": null,
      "outputs": [
        {
          "output_type": "display_data",
          "data": {
            "text/plain": [
              "Downloading:   0%|          | 0.00/536M [00:00<?, ?B/s]"
            ],
            "application/vnd.jupyter.widget-view+json": {
              "version_major": 2,
              "version_minor": 0,
              "model_id": "79db348474844036b78664ba86773249"
            }
          },
          "metadata": {}
        },
        {
          "output_type": "stream",
          "name": "stderr",
          "text": [
            "All model checkpoint layers were used when initializing TFBertForTokenClassification.\n",
            "\n",
            "Some layers of TFBertForTokenClassification were not initialized from the model checkpoint at bert-base-uncased and are newly initialized: ['classifier']\n",
            "You should probably TRAIN this model on a down-stream task to be able to use it for predictions and inference.\n"
          ]
        },
        {
          "output_type": "stream",
          "name": "stdout",
          "text": [
            "Model: \"tf_bert_for_token_classification\"\n",
            "_________________________________________________________________\n",
            " Layer (type)                Output Shape              Param #   \n",
            "=================================================================\n",
            " bert (TFBertMainLayer)      multiple                  108891648 \n",
            "                                                                 \n",
            " dropout_37 (Dropout)        multiple                  0         \n",
            "                                                                 \n",
            " classifier (Dense)          multiple                  16918     \n",
            "                                                                 \n",
            "=================================================================\n",
            "Total params: 108,908,566\n",
            "Trainable params: 108,908,566\n",
            "Non-trainable params: 0\n",
            "_________________________________________________________________\n"
          ]
        }
      ]
    },
    {
      "cell_type": "markdown",
      "source": [
        "### Fit model on training data"
      ],
      "metadata": {
        "id": "IKuaEduTC2Aw"
      }
    },
    {
      "cell_type": "code",
      "source": [
        "BATCH_SIZE=32\n",
        "\n",
        "optimizer = tf.keras.optimizers.Adam(learning_rate=0.0001) # Creating optimizer\n",
        "\n",
        "loss = tf.keras.losses.SparseCategoricalCrossentropy(from_logits=True)\n",
        "metric = tf.keras.metrics.SparseCategoricalAccuracy('accuracy')\n",
        "\n",
        "model.compile(optimizer=optimizer, loss=loss, metrics=metric)\n",
        "\n",
        "history = model.fit(X_train, y_train,\n",
        "                  validation_split=0.2, epochs=10,\n",
        "                  batch_size=BATCH_SIZE)"
      ],
      "metadata": {
        "id": "keBv0b8xkBxL",
        "colab": {
          "base_uri": "https://localhost:8080/"
        },
        "outputId": "bf9e8c95-9240-47eb-beac-d31b3884166a"
      },
      "execution_count": null,
      "outputs": [
        {
          "output_type": "stream",
          "name": "stdout",
          "text": [
            "Epoch 1/10\n",
            "157/157 [==============================] - 188s 1s/step - loss: 0.1666 - accuracy: 0.9630 - val_loss: 0.0701 - val_accuracy: 0.9845\n",
            "Epoch 2/10\n",
            "157/157 [==============================] - 171s 1s/step - loss: 0.0495 - accuracy: 0.9888 - val_loss: 0.0497 - val_accuracy: 0.9879\n",
            "Epoch 3/10\n",
            "157/157 [==============================] - 172s 1s/step - loss: 0.0311 - accuracy: 0.9919 - val_loss: 0.0432 - val_accuracy: 0.9891\n",
            "Epoch 4/10\n",
            "157/157 [==============================] - 172s 1s/step - loss: 0.0211 - accuracy: 0.9942 - val_loss: 0.0434 - val_accuracy: 0.9900\n",
            "Epoch 5/10\n",
            "157/157 [==============================] - 172s 1s/step - loss: 0.0142 - accuracy: 0.9963 - val_loss: 0.0416 - val_accuracy: 0.9911\n",
            "Epoch 6/10\n",
            "157/157 [==============================] - 172s 1s/step - loss: 0.0096 - accuracy: 0.9975 - val_loss: 0.0408 - val_accuracy: 0.9914\n",
            "Epoch 7/10\n",
            "157/157 [==============================] - 172s 1s/step - loss: 0.0068 - accuracy: 0.9984 - val_loss: 0.0448 - val_accuracy: 0.9913\n",
            "Epoch 8/10\n",
            "157/157 [==============================] - 172s 1s/step - loss: 0.0054 - accuracy: 0.9987 - val_loss: 0.0437 - val_accuracy: 0.9907\n",
            "Epoch 9/10\n",
            "157/157 [==============================] - 172s 1s/step - loss: 0.0042 - accuracy: 0.9990 - val_loss: 0.0465 - val_accuracy: 0.9913\n",
            "Epoch 10/10\n",
            "157/157 [==============================] - 172s 1s/step - loss: 0.0042 - accuracy: 0.9989 - val_loss: 0.0489 - val_accuracy: 0.9911\n"
          ]
        }
      ]
    },
    {
      "cell_type": "markdown",
      "source": [
        "- Lets have a side by side view of true labels and model predictions\n",
        "- Arranged as an array of Tuple(token, true label, model prediction)"
      ],
      "metadata": {
        "id": "V-klF3SGnIJ7"
      }
    },
    {
      "cell_type": "code",
      "source": [
        "def aggregate(sample, predictions):\n",
        "  results = []\n",
        "  i = 1\n",
        "  for token, y_true in sample:\n",
        "      nr_subtoken = len(tokenizer(token.lower())['input_ids']) - 2 # Extracting word tokens\n",
        "      pred = predictions[i:i+nr_subtoken] # Extracting predictions\n",
        "      i += nr_subtoken\n",
        "      y_pred = schema[np.argmax(np.sum(pred, axis=0))] # Get label of prediction\n",
        "      results.append((token, y_true, y_pred))\n",
        "  return results\n",
        "\n",
        "y_probs = model.predict(X_test)[0]\n",
        "predictions = [aggregate(sample, predictions)\n",
        "               for sample, predictions in zip(test_samples, y_probs)]"
      ],
      "metadata": {
        "id": "up3p91b8kBu-",
        "colab": {
          "base_uri": "https://localhost:8080/"
        },
        "outputId": "cbf5e925-b513-477d-87b1-c40af24d135d"
      },
      "execution_count": null,
      "outputs": [
        {
          "output_type": "stream",
          "name": "stdout",
          "text": [
            "121/121 [==============================] - 44s 335ms/step\n"
          ]
        }
      ]
    },
    {
      "cell_type": "code",
      "source": [
        "for i in range(10,15):\n",
        "  print(predictions[i])"
      ],
      "metadata": {
        "id": "F3s_LcZLkBrX",
        "colab": {
          "base_uri": "https://localhost:8080/"
        },
        "outputId": "28e5e75e-d9cf-41f7-b34c-715776c45be1"
      },
      "execution_count": null,
      "outputs": [
        {
          "output_type": "stream",
          "name": "stdout",
          "text": [
            "[('I', 'O', 'O'), ('drive', 'O', 'O'), ('by', 'O', 'O'), ('that', 'O', 'O'), ('motel', 'O', 'O'), ('almost', 'O', 'O'), ('every', 'O', 'O'), ('night', 'O', 'O'), ('.', 'O', 'O'), ('#MesaShooting', 'O', 'O')]\n",
            "[('Apple', 'B-product', 'B-product'), ('MacBook', 'I-product', 'I-product'), ('Pro', 'I-product', 'I-product'), ('A1278', 'I-product', 'I-product'), ('13.3', 'I-product', 'I-product'), ('\"', 'I-product', 'I-product'), ('Laptop', 'I-product', 'I-product'), ('-', 'I-product', 'I-product'), ('MD101LL/A', 'I-product', 'I-product'), ('(', 'O', 'O'), ('June', 'O', 'O'), (',', 'O', 'O'), ('2012', 'O', 'O'), (')', 'O', 'O'), ('-', 'O', 'O'), ('Full', 'O', 'O'), ('read', 'O', 'O'), ('by', 'O', 'O'), ('eBay', 'B-company', 'B-company'), ('http://t.co/2zgQ99nmuf', 'O', 'O'), ('http://t.co/eQmogqqABK', 'O', 'O')]\n",
            "[('Tuff', 'B-musicartist', 'B-musicartist'), ('Culture', 'I-musicartist', 'I-musicartist'), ('-', 'O', 'O'), ('Destiny', 'B-product', 'B-product'), ('EP', 'O', 'O'), ('(', 'O', 'O'), ('PAR', 'O', 'O'), ('042', 'O', 'O'), ('FORTHCOMING', 'O', 'O'), ('27th', 'O', 'O'), ('JULY', 'O', 'O'), ('VIA', 'O', 'O'), ('JUNO', 'B-product', 'B-product'), (')', 'O', 'O'), ('Tracklist', 'O', 'O'), (':', 'O', 'O'), ('Destiny', 'B-product', 'B-product'), ('Questions', 'B-product', 'B-product'), ('Theres', 'B-product', 'B-product'), ('No', 'I-product', 'I-product'), ('...', 'O', 'O'), ('http://t.co/X7nL8DiREK', 'O', 'O')]\n",
            "[('December', 'O', 'O'), ('23', 'O', 'O'), (',', 'O', 'O'), ('2015', 'O', 'O'), ('at', 'O', 'O'), ('03:44', 'O', 'O'), ('PM', 'O', 'O'), ('#if24', 'O', 'O'), ('#s8', 'O', 'O')]\n",
            "[('RT', 'O', 'O'), ('@YahooDrSaturday', 'O', 'O'), (':', 'O', 'O'), ('This', 'O', 'O'), ('is', 'O', 'O'), ('how', 'O', 'O'), ('Arkansas', 'B-sportsteam', 'B-sportsteam'), ('crazily', 'O', 'O'), ('converted', 'O', 'O'), ('4th', 'O', 'O'), ('and', 'O', 'O'), ('25', 'O', 'O'), ('in', 'O', 'O'), ('OT', 'O', 'O'), ('.', 'O', 'O'), ('What', 'O', 'O'), ('a', 'O', 'O'), ('lateral', 'O', 'O'), ('!', 'O', 'O'), ('https://t.co/ylALEACWe8', 'O', 'O')]\n"
          ]
        }
      ]
    },
    {
      "cell_type": "code",
      "source": [
        "model.save_pretrained(\"output/NER_pretrained\")"
      ],
      "metadata": {
        "id": "zVs4QN9lxvWX"
      },
      "execution_count": null,
      "outputs": []
    },
    {
      "cell_type": "markdown",
      "source": [
        "# Comparision"
      ],
      "metadata": {
        "id": "uH1AqoFRnmav"
      }
    },
    {
      "cell_type": "code",
      "source": [
        "def tokenize_bert(sentence):\n",
        "  sentence_tokens = tokenizer(sentence.split(' '))['input_ids'] # Splitting sentence into word tokens\n",
        "  ner_tokens = [3] # Start token\n",
        "  for word_token in sentence_tokens:\n",
        "    ner_tokens.extend(word_token[1:-1]) # Adding tokenized word token indicies\n",
        "  ner_tokens += [4] # End token\n",
        "  return ner_tokens"
      ],
      "metadata": {
        "id": "iFq-TAnGKR2d"
      },
      "execution_count": null,
      "outputs": []
    },
    {
      "cell_type": "code",
      "source": [
        "sentence =\"apple macbook pro is the best laptop in the world\"\n",
        "\n",
        "# Bert tokenization\n",
        "bert_tokens = tokenize_bert(sentence)\n",
        "\n",
        "# CRF tokenization\n",
        "crf_tokens = crf_tokenizer.texts_to_sequences([sentence])"
      ],
      "metadata": {
        "id": "THODX33pFcuG"
      },
      "execution_count": null,
      "outputs": []
    },
    {
      "cell_type": "markdown",
      "source": [
        "#### Bert Output"
      ],
      "metadata": {
        "id": "muDThgUqoniN"
      }
    },
    {
      "cell_type": "code",
      "source": [
        "def align_labels_to_input(sentence, predictions):\n",
        "  sentence_tokens = sentence.lower().split(\" \")\n",
        "  results = []\n",
        "\n",
        "  i = 1\n",
        "  # Extracting labels corresponding to tokens\n",
        "  for token in sentence_tokens:\n",
        "      nr_subtoken = len(tokenizer(token)['input_ids']) - 2\n",
        "      pred = predictions[i:i+nr_subtoken]\n",
        "      i += nr_subtoken\n",
        "      y_pred = id2tag[np.argmax(np.sum(pred, axis=0))]\n",
        "      results.append((token, y_pred))\n",
        "  return results\n",
        "\n",
        "\n",
        "bert_logits = model.predict([bert_tokens], verbose=0).logits\n",
        "\n",
        "align_labels_to_input(sentence, bert_logits[0])"
      ],
      "metadata": {
        "colab": {
          "base_uri": "https://localhost:8080/"
        },
        "id": "wNzFXO3STMJl",
        "outputId": "87ec5d26-b569-45fd-cdf4-67ab45e205ce"
      },
      "execution_count": null,
      "outputs": [
        {
          "output_type": "execute_result",
          "data": {
            "text/plain": [
              "[('apple', 'B-product'),\n",
              " ('macbook', 'I-product'),\n",
              " ('pro', 'I-product'),\n",
              " ('is', 'O'),\n",
              " ('the', 'O'),\n",
              " ('best', 'O'),\n",
              " ('laptop', 'O'),\n",
              " ('in', 'O'),\n",
              " ('the', 'O'),\n",
              " ('world', 'O')]"
            ]
          },
          "metadata": {},
          "execution_count": 30
        }
      ]
    },
    {
      "cell_type": "markdown",
      "source": [
        "#### CRF Output"
      ],
      "metadata": {
        "id": "raN5HiHIpNgd"
      }
    },
    {
      "cell_type": "code",
      "source": [
        "from pprint import pprint # Pretty print package\n",
        "\n",
        "crf_padded_tokens = [[crf_tokens[0][x] if x < len(crf_tokens[0]) else 0 for x in range(39)]]\n",
        "crf_preds, _, _, _ = crf_model.predict(crf_padded_tokens, verbose=0)[1]\n",
        "\n",
        "crf_preds = [id2tag[x] for x in crf_preds[0]] # Convert indicies into predictions\n",
        "\n",
        "\n",
        "# Get aligned inputs with labels\n",
        "input_word_tokens = [crf_tokenizer.sequences_to_texts([[x]])[0] for x in crf_padded_tokens[0]] \n",
        "\n",
        "# Only printing non-padded tokens with their labels\n",
        "pprint(list(zip(input_word_tokens[:len(crf_tokens[0])], crf_preds[:len(crf_tokens[0])])))"
      ],
      "metadata": {
        "colab": {
          "base_uri": "https://localhost:8080/"
        },
        "id": "uitdDLK9UUoj",
        "outputId": "e7039f37-5807-414f-d04e-1f91b3dd481d"
      },
      "execution_count": null,
      "outputs": [
        {
          "output_type": "stream",
          "name": "stdout",
          "text": [
            "[('apple', 'B-product'),\n",
            " ('macbook', 'I-product'),\n",
            " ('pro', 'I-product'),\n",
            " ('is', 'O'),\n",
            " ('the', 'O'),\n",
            " ('best', 'O'),\n",
            " ('laptop', 'O'),\n",
            " ('in', 'O'),\n",
            " ('the', 'O'),\n",
            " ('world', 'O')]\n"
          ]
        }
      ]
    }
  ]
}