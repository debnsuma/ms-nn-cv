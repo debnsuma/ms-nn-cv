{
  "nbformat": 4,
  "nbformat_minor": 0,
  "metadata": {
    "colab": {
      "provenance": []
    },
    "kernelspec": {
      "name": "python3",
      "display_name": "Python 3"
    },
    "language_info": {
      "name": "python"
    }
  },
  "cells": [
    {
      "cell_type": "markdown",
      "source": [
        "# Content"
      ],
      "metadata": {
        "id": "wNH132-yZ2am"
      }
    },
    {
      "cell_type": "markdown",
      "source": [
        "- **Introduction to Business case: Data Scientist at pharmaceutical company**\n",
        "- **Types of NER: An introduction**\n",
        "  - Classical approaches\n",
        "  - DL approaches\n",
        "  - Hybrid approaches\n",
        "- **Classical approaches**\n",
        "  - Dictionary based\n",
        "  - Rule based\n",
        "- **Machine Learning approaches**\n",
        "  - Multi-class classification\n",
        "- **Ner Ambiguities**\n",
        "- **Sequence labelling approaches**\n",
        "- **CRFs**\n",
        "  - Introduction\n",
        "  - Function explanation\n",
        "- **DL approaches**\n",
        "  - Bi-Directional LSTM with CNN\n",
        "  - Bi-Directional LSTM with CRFs\n",
        "- **Training an NER model**\n",
        "  - Reading data\n",
        "  - Preprocessing & EDA\n",
        "  - Model building - Bi-LSTM + CRF\n",
        "  - Why we cannot use this\n",
        "- **Using a pre-trained domain-specific NER models**\n",
        "  - Bio-Medical NER :- Stanza\n",
        "    - i2b2\n",
        "    - bc5cdr\n",
        "- **Scopes for improvement**\n",
        "- **Conclusion**"
      ],
      "metadata": {
        "id": "M0p-bJRJhVef"
      }
    },
    {
      "cell_type": "markdown",
      "metadata": {
        "id": "4GsMxW2QLroM"
      },
      "source": [
        "## Problem Statement\n",
        "\n",
        "You are a **Data Scientist** working at a pharmaceutical company (J&J, Pfizer, Glaxo, etc).\n",
        "\n",
        "Studying adverse drug reactions in patients is central to drug development in healthcare.\n",
        "\n",
        "The company wants to find relationship between drug and adverse events/ symptoms leveraging the review data.\n",
        "Your task is to build a mechanism\n",
        "- to identify the problems (adverse events/side-effects/symptoms etc)\n",
        "- tag them to the drug name which is causing them\n",
        "\n",
        "![Screenshot%202022-03-16%20153746.png](https://drive.google.com/uc?id=1f2_TgNaUuqPID3N2B39XD_XPQLkwVbuE)\n"
      ]
    },
    {
      "cell_type": "markdown",
      "metadata": {
        "id": "vXL6fjqbLroR"
      },
      "source": [
        "## Why Information Extraction?\n",
        "\n",
        "1. To find and understand limited relevant parts of text\n",
        "2. Gather information\n",
        "3. Produce a structure representation  of relevant information\n",
        "  \n",
        "## How to solve this problem?\n",
        "\n",
        "- A model that will be trained on various annotated data and help us tag or identify different entities of our interest.\n",
        "\n",
        "- <b>Information Extraction </b> is the art of extracting useful information from large piece of text and using it directly or indirectly to gain insights.\n",
        "\n",
        "- It is basically extracting important information based on the semantic(logical) meaning of the sentence.\n",
        "\n",
        "\n",
        "### Goals:\n",
        "1. organize information\n",
        "2. put info in a semantically precise form, to be inferred by other algo\n",
        "\n",
        "\n",
        "IE system extracts clear and factual information\n",
        "\n",
        "### Some Examples:\n",
        "\n",
        "But with this limited information a lot of problems can be solved.\n",
        "Let's take a simple example of\n",
        "1. how <b> email service provider, suggest a meeting </b> by detecting a time frame in the mail body.\n",
        "![PjBvj.png](https://drive.google.com/uc?id=13e_IUK1wBqbSZ7Lx_lTy4_BRlNFfGyZ3)\n",
        "\n",
        "\n",
        "2. handling the <b> customer support department </b> of an electronic store with multiple branches worldwide,\n",
        "![Screenshot%202022-03-23%20182101.png](https://drive.google.com/uc?id=1Hlu_Y1UXmywE6Cqv3KAFBoxKv2RfhUK-)\n",
        "\n",
        "    -- Now, if you pass it through the Named Entity Recognition API, it pulls out the entities Bandra (location) and Fitbit (Product).\n",
        "\n",
        "    -- This can be then used to categorize the complaint and assign it to the relevant department within the organization that should be handling this.\n",
        "    \n",
        "\n",
        "3. A map service provider can <b>detect a address and search it in the app </b> directly.\n",
        "\n",
        "---\n",
        "### What is NER?\n",
        "---\n",
        "\n",
        "- Named-entity recognition (NER), in general, (also known as entity identification or entity extraction) is a <b>subtask of information extraction </b> (text analytics) that aims at finding and categorizing specific entities.\n",
        "\n",
        "- NER involves the identification of proper names in texts, and the classification of these names into a set of predefined categories of interest like <b>person, location, organization, drug, time, etc.</b>\n",
        "\n",
        "- It refers to extracting <b>‘named-entities’ </b> from text. Named-entities denotes to words in a sentence representing real-world objects with proper names like:\n",
        "  - Person’s name (Ramu, Raja, Seeta, etc.),\n",
        "  - Countries (India, Sri Lanka, etc),\n",
        "  - Organization (Google, Facebook, etc.)\n",
        "  - or anything that has been given a specific name.\n",
        "\n",
        "![Screenshot%202022-03-16%20155958.png](https://drive.google.com/uc?id=1GHCB_eXwDtL2UNWc2L4UYlGLIWUIjh5w)"
      ]
    },
    {
      "cell_type": "markdown",
      "metadata": {
        "id": "XqSAIb7ULroS"
      },
      "source": [
        "## Types of NER\n",
        "\n",
        "\n",
        "<b>    \n",
        "- Classical Approaches (rule-based or Dictionary)\n",
        "- ML Approaches\n",
        "    - Multi-class classification\n",
        "    - Conditional Random Field (CRF)\n",
        "- DL Approaches\n",
        "    - Bidirectional LSTM-CRF\n",
        "    - Bidirectional LSTM-CNNs\n",
        "    - Bidirectional LSTM-CNNS-CRF\n",
        "    - Pre-trained language models (Elmo and BERT)\n",
        "- Hybrid Approaches (DL + ML)\n",
        "    \n",
        "</b>"
      ]
    },
    {
      "cell_type": "markdown",
      "metadata": {
        "id": "xCYNqSdhLroT"
      },
      "source": [
        "---\n",
        "## What are some Classical Approaches?\n",
        "---\n",
        "### Dictionary based\n",
        "- This is the simplest NER approach. Here we will be having a <b> dictionary that contains a collection of vocabulary </b>.  \n",
        "\n",
        "- Basic string-matching algorithms are used to check whether the entity is occurring in the given text to the items in vocabulary.\n",
        "\n",
        "**Cons:** The method has limitations as it is required to update and maintain the dictionary used for the system.\n",
        "\n",
        "### Rule Based\n",
        "- Here, the model uses a pre-defined set of rules for information extraction.\n",
        "\n",
        "Two main kinds of rules used are:\n",
        "\n",
        "- <b> Pattern-based rules,</b> which depend upon the morphological pattern of the words used, and\n",
        "\n",
        "- <b>context-based rules,</b> which depend upon the context of the word used in the given text document. A simple example for a context-based rule is\n",
        "  - Let's suppose you have been asked to mask <b> PII (Personally identifiable information) from free text </b>\n",
        "  - We can have a rule based NER that if a person’s title is followed by a proper noun, then that proper noun is the name of a person.\n",
        "![Screenshot%202022-03-24%20200726.png](https://drive.google.com/uc?id=1MPFcz50tN_0K1TjjCBGeNczvCBSSrm68)\n",
        "\n",
        "Consider **\"The medicine was prescribed by Dr. Sharma and the patient responded in a positive manner.\"**\n",
        "\n",
        "- In this case <b>Dr. Sharma</b> will be labelled as name.\n",
        "\n",
        "**Cons:** But we will miss on a lot of names, if it doesn't start with a title like Mr, Mrs, Ms, Dr, etc.\n",
        "\n",
        "---\n",
        "## Now, on to Machine Learning Approaches:\n",
        "---\n",
        "### Multi-class Classification\n",
        "- Named entities are the labels so we can apply different classification algorithms.\n",
        "  \n",
        "- There are mainly two phases while we use an ML-based solution for NER.\n",
        "  1. Training the ML model on the annotated documents.\n",
        "  2. The trained model can be used to annotate the raw documents.\n",
        " ![Screenshot%202022-03-16%20154647.png](https://drive.google.com/uc?id=1K_RSU3vI_ps80Ho79sgGepjkQmqgGYgK)\n",
        "\n",
        "**Cons:** The problem of identifying and labelling named entities requires thorough understanding of the context of a sentence and sequence of the word labels in it, this context is ignored here\n",
        "\n"
      ]
    },
    {
      "cell_type": "markdown",
      "metadata": {
        "id": "6fsTYgDsLroU"
      },
      "source": [
        "---\n",
        "### Why is NER hard?\n",
        "---\n",
        "Some of the various ambiguities in NER include:\n",
        "- <b>Segmentation(Detection) ‘ambiguity’. </b>\n",
        "\n",
        "Consider ‘New York’. This can be detected as ‘New’ & ‘York’ as separate entities.\n",
        "\n",
        "Hence, deciding over the boundary is crucial whether to consider ‘New York’ as a single entity or ‘New’ and ‘York’ 2 different entities.\n",
        "\n",
        "- <b>Tag assignment(Recognition) ‘ambiguity’. </b>\n",
        "\n",
        "We have ‘Nirma’ as a girl’s name (PERSON )& as a detergent brand(Organization in India).\n",
        "\n",
        "\n",
        "- In order to overcome these ambiguities, we introduce a new concept called **Sequence Labelling**\n",
        "---\n",
        "### What is Sequence labelling?\n",
        "---\n",
        "- It refers to assigning labels/tags to each element of a sequence being passed as an input using an algorithm or machine learning model.\n",
        "\n",
        "- This sequence can be <b> words of a sentence passed in the same order as in the sentence </b>.\n",
        "\n",
        "A LSTM can be taken as a Sequence labeller.\n",
        "\n",
        "NER can be done using a number of Sequence Labelling methods listed below alongside Rule-Based methods:\n",
        "1. Linear Chain Conditional Random Fields (Linear Chain CRF)\n",
        "2. Maximum Entropy Markov Models\n",
        "3. Bi-LSTM\n",
        "\n",
        "\n",
        "### Why Conditional Random Fields?\n",
        "\n",
        "- well suited for handling NER problems, because it takes **context into account**\n",
        "- when a CRF model makes a prediction, it factors in the impact of neighbouring samples by modelling the prediction as a graphical model.\n",
        "\n",
        "- A **linear chain CRF** confers to a labeller in which tag assignment(for present word, denoted as yᵢ) **depends only on the tag of just one previous word**(denoted by yᵢ₋₁). </b>\n",
        "\n",
        "### Deciding Feature Functions:\n",
        "We need to extract multiple features per word of the sentence that will be assisting in recognizing a Named Entity.\n",
        "For this, we need functions called as feature functions that will assist in generating unique features.\n",
        "- These features function can consider any logic(depends on programmer) but the output has to be either True:1 or False:0.\n",
        "\n",
        "### Optional: Math of Linear CRF\n",
        "Diagram:\n",
        "\n",
        " ![image.png](data:image/png;base64,iVBORw0KGgoAAAANSUhEUgAAAWEAAACPCAIAAACkpP3GAAAMPmlDQ1BJQ0MgUHJvZmlsZQAASImVVwdYU8kWnltSIbTQpYTeBBEpAaSE0AJIL4KNkAQIJcRAELGXRQXXLhawoasiih0QC4rYWRQb9sWCgrIuFuzKmxTQdV/53nzf3PnvP2f+c+bcuXfuAKB+kisW56AaAOSKCiSxIQGMsckpDNJTQAXqgAa8gTeXly9mRUdHAFgG27+XdzcBImuvOcq0/tn/X4smX5DPAwCJhjiNn8/LhfgQAHglTywpAIAo4y2mFIhlGFagLYEBQrxQhjMUuFKG0xR4n9wmPpYNcQsAZFUuV5IBgNoVyDMKeRlQQ60PYmcRXygCQJ0BsW9ubh4f4lSIbaGNGGKZPjPtB52Mv2mmDWlyuRlDWDEXeSEHCvPFOdyp/2c6/nfJzZEO+rCGVTVTEhormzPM263svHAZVoW4V5QWGQWxFsQfhHy5PcQoNVMamqCwR414+WyYM6ALsTOfGxgOsRHEwaKcyAgln5YuDOZADFcIWiQs4MRDrA/xQkF+UJzSZrMkL1bpC61Ll7BZSv48VyL3K/P1QJqdwFLqv84UcJT6mFpxZnwSxFSILQuFiZEQq0HslJ8dF660GV2cyY4ctJFIY2XxW0IcKxCFBCj0scJ0SXCs0r40N39wvtjmTCEnUokPFGTGhyryg7XwuPL44VywKwIRK2FQR5A/NmJwLnxBYJBi7li3QJQQp9T5IC4IiFWMxaninGilPW4uyAmR8eYQu+YXxinH4okFcEEq9PF0cUF0vCJOvDiLGxatiAdfBiIAGwQCBpDCmgbyQBYQtvXW98I7RU8w4AIJyAAC4KhkBkckyXtE8BoHisGfEAlA/tC4AHmvABRC/usQq7g6gnR5b6F8RDZ4CnEuCAc58F4qHyUa8pYInkBG+A/vXFh5MN4cWGX9/54fZL8zLMhEKBnpoEeG+qAlMYgYSAwlBhPtcEPcF/fGI+DVH1YXnIl7Ds7juz3hKaGd8Ihwg9BJuD1JOFfyU5RjQCfUD1bmIu3HXODWUNMND8B9oDpUxnVxQ+CIu0I/LNwPenaDLFsZtywrjJ+0/zaDH56G0o7iTEEpehR/iu3PI9Xs1dyGVGS5/jE/iljThvLNHur52T/7h+zzYRv+syW2EDuIncNOYRewY1g9YGBNWAPWih2X4aHV9US+uga9xcrjyYY6wn/4G3yyskzmO9c49zh/UfQVCIpk32jAzhNPlQgzMgsYLLgjCBgcEc9pOMPF2cUFANn+ovh8vYmR7xuIbut3bt4fAPg0DQwMHP3OhTUBsN8Dvv5HvnO2TLh1qABw/ghPKilUcLjsQpDvXNrAAJgAC2AL5+MC3OE+5g+CQBiIAvEgGUyE0WfCdS4BU8B0MAeUgDKwDKwG68EmsBXsBHvAAVAPjoFT4Cy4BK6AG+AuXD1d4AXoA+/AZwRBSAgNoSMGiClihTggLggT8UWCkAgkFklGUpEMRIRIkenIPKQMWYGsR7Yg1ch+5AhyCrmAtCO3kYdID/Ia+YRiqCqqjRqj1ugIlImy0HA0Hp2AZqCT0WJ0ProEXYtWobvROvQUegm9gXaiL9B+DGAqmC5mhjliTIyNRWEpWDomwWZipVg5VoXVYo3wOV/DOrFe7CNOxOk4A3eEKzgUT8B5+GR8Jr4YX4/vxOvwFvwa/hDvw78RaAQjggPBi8AhjCVkEKYQSgjlhO2Ew4Qz8F3qIrwjEom6RBuiB3wXk4lZxGnExcQNxL3Ek8R24mNiP4lEMiA5kHxIUSQuqYBUQlpH2k1qIl0ldZE+kFXIpmQXcjA5hSwizyWXk3eRT5Cvkp+RP1M0KFYUL0oUhU+ZSllK2UZppFymdFE+UzWpNlQfajw1izqHupZaSz1DvUd9o6KiYq7iqRKjIlSZrbJWZZ/KeZWHKh9VtVTtVdmq41WlqktUd6ieVL2t+oZGo1nT/GkptALaElo17TTtAe2DGl3NSY2jxlebpVahVqd2Ve2lOkXdSp2lPlG9WL1c/aD6ZfVeDYqGtQZbg6sxU6NC44hGh0a/Jl1zpGaUZq7mYs1dmhc0u7VIWtZaQVp8rflaW7VOaz2mY3QLOpvOo8+jb6OfoXdpE7VttDnaWdpl2nu027T7dLR0XHUSdYp0KnSO63TqYrrWuhzdHN2lugd0b+p+0jPWY+kJ9Bbp1epd1XuvP0zfX1+gX6q/V/+G/icDhkGQQbbBcoN6g/uGuKG9YYzhFMONhmcMe4dpD/MexhtWOuzAsDtGqJG9UazRNKOtRq1G/cYmxiHGYuN1xqeNe010TfxNskxWmZww6TGlm/qaCk1XmTaZPmfoMFiMHMZaRgujz8zILNRMarbFrM3ss7mNeYL5XPO95vctqBZMi3SLVRbNFn2WppZjLKdb1ljesaJYMa0yrdZYnbN6b21jnWS9wLreuttG34ZjU2xTY3PPlmbrZzvZtsr2uh3RjmmXbbfB7oo9au9mn2lfYX/ZAXVwdxA6bHBoH04Y7jlcNLxqeIejqiPLsdCxxvGhk65ThNNcp3qnlyMsR6SMWD7i3Ihvzm7OOc7bnO+O1BoZNnLuyMaRr13sXXguFS7XR9FGBY+aNaph1CtXB1eB60bXW250tzFuC9ya3b66e7hL3GvdezwsPVI9Kj06mNrMaOZi5nlPgmeA5yzPY54fvdy9CrwOeP3l7eid7b3Lu3u0zWjB6G2jH/uY+3B9tvh0+jJ8U303+3b6mflx/ar8Hvlb+PP9t/s/Y9mxsli7WS8DnAMkAYcD3rO92DPYJwOxwJDA0sC2IK2ghKD1QQ+CzYMzgmuC+0LcQqaFnAwlhIaHLg/t4BhzeJxqTl+YR9iMsJZw1fC48PXhjyLsIyQRjWPQMWFjVo65F2kVKYqsjwJRnKiVUfejbaInRx+NIcZEx1TEPI0dGTs99lwcPW5S3K64d/EB8Uvj7ybYJkgTmhPVE8cnVie+TwpMWpHUOXbE2BljLyUbJguTG1JIKYkp21P6xwWNWz2ua7zb+JLxNyfYTCiacGGi4cSciccnqU/iTjqYSkhNSt2V+oUbxa3i9qdx0irT+nhs3hreC74/fxW/R+AjWCF4lu6TviK9O8MnY2VGT6ZfZnlmr5AtXC98lRWatSnrfXZU9o7sgZyknL255NzU3CMiLVG2qCXPJK8or13sIC4Rd072mrx6cp8kXLI9H8mfkN9QoA1/5FulttJfpA8LfQsrCj9MSZxysEizSFTUOtV+6qKpz4qDi3+bhk/jTWuebjZ9zvSHM1gztsxEZqbNbJ5lMWv+rK7ZIbN3zqHOyZ7z+1znuSvmvp2XNK9xvvH82fMf/xLyS02JWomkpGOB94JNC/GFwoVti0YtWrfoWym/9GKZc1l52ZfFvMUXfx3569pfB5akL2lb6r504zLiMtGym8v9lu9cobmieMXjlWNW1q1irCpd9Xb1pNUXyl3LN62hrpGu6VwbsbZhneW6Zeu+rM9cf6MioGJvpVHlosr3G/gbrm7031i7yXhT2aZPm4Wbb20J2VJXZV1VvpW4tXDr022J2879xvytervh9rLtX3eIdnTujN3ZUu1RXb3LaNfSGrRGWtOze/zuK3sC9zTUOtZu2au7t2wf2Cfd93x/6v6bB8IPNB9kHqw9ZHWo8jD9cGkdUje1rq8+s76zIbmh/UjYkeZG78bDR52O7jhmdqziuM7xpSeoJ+afGGgqbuo/KT7Zeyrj1OPmSc13T489fb0lpqXtTPiZ82eDz54+xzrXdN7n/LELXheOXGRerL/kfqmu1a318O9uvx9uc2+ru+xxueGK55XG9tHtJ676XT11LfDa2euc65duRN5ov5lw81bH+I7OW/xb3bdzbr+6U3jn893Z9wj3Su9r3C9/YPSg6g+7P/Z2uncefxj4sPVR3KO7j3mPXzzJf/Kla/5T2tPyZ6bPqrtduo/1BPdceT7uedcL8YvPvSV/av5Z+dL25aG//P9q7Rvb1/VK8mrg9eI3Bm92vHV929wf3f/gXe67z+9LPxh82PmR+fHcp6RPzz5P+UL6svar3dfGb+Hf7g3kDgyIuRKu/FcAgxVNTwfg9Q4AaMkA0OH5jDpOcf6TF0RxZpUj8J+w4owoL+4A1ML/95he+HfTAcC+bfD4BfXVxwMQTQMg3hOgo0YN1cGzmvxcKStEeA7YHPQ1LTcN/JuiOHP+EPfPLZCpuoKf238B3MR8mSnlhd0AAAA4ZVhJZk1NACoAAAAIAAGHaQAEAAAAAQAAABoAAAAAAAKgAgAEAAAAAQAAAWGgAwAEAAAAAQAAAI8AAAAASItQ2AAAOBRJREFUeAHt3XncbtX4P/BfytAgUxJRGhCZigZDKZWSMpQoSUVKIoVeFCpUJI1myZgpIkVpQORV5iIazCmRIWMjffu9uVjf/d37vve9x+ecp7P2H89Z99pruK7PNa61195nsVtvvfX/5SsjkBHICExBYAn1N99881VXXeXvlDa5OiOQEVh0EfiXj+AgDjzwwAsuuGDRhSFznhHICExB4D95BAex5557rrXWWlOa5eqMQEZgEUXgXz4iLg5ik002+e+v/G9GICOQEfgXArfLMGQEMgIZgRoEso+oASffyghkBHIekXUgI5ARqEUg5xG18OSbGYFFHoHsIxZ5FcgAZARqEcg+ohaefDMjsMgjkH3EIq8CGYCMQC0C2UfUwpNvZgQWeQSyj1jkVSADkBGoRSD7iFp48s2MwCKPQPYRi7wKZAAyArUI/O/7GrXN8s2FC4E//vGPv/rVr373u98tscQSSy+99Kqrrrr88ssvWBKR9JOf/OS6665Dxt3vfveVVlrpHve4x4Il6YYbbrjsssuuvfbaf/7zn3e5y11ABKgFS9J8nH1cH+GbFLfcckvgsvjii9/hDndYIBgtJGR05h39f/vb337/+9+ff/753/72t3/4wx/+6U9/Mtrtb397f//xj3/4e7e73e1BD3rQwx/+8Cc96Un3vOc9x7bPIImfOu+8837wgx9cfvnlVZLue9/7rrLKKhtssMHaa689ByQBgVMA1Le+9S1AXXzxxT56AJxAKYBaZpllVl999Yc85CFPfOIT+Yu73vWuC0on0dPnmkuVXsx3qPjapzzlKe9973uHeu/z5z//+S9+8Yuf/exnv/71r//617/CYskllxRb7nOf+zz4wQ+eswgjzKLEdfXVVwsmFAglyy67LN192MMeNl+iCvo///nPn3766TSeWq+44ooor7qAv//975wIwC+55BL+Ytddd91qq61GSi4A++EPf/hzn/ucSR/wgAcgiQtgfkWlDyeiJU1AOcy32Wabpz/96SORZDre6sQTT+RDw12aiMqVXIBmIALUT3/6U8Rvu+22O+ywwxprrFGkfGEuR/546aWXllSaCFZbbTUeeYxEaUgfwQi///3vf/3rX//0pz8tttz73vdmkHe84x05cu6cSH7zm99o85znPIeucOfjyYbX+973vnfKKaewLkkmi6LBQcZNN90k4l1xxRWPf/zjd9ppp3XWWQcZXNhCqBkUGhcHH3wwVEVjBCc7TNlZIluaFmU4X3jhhaeeeurjHve4Aw44YP31109t+hfCFN/znveI1ehZd91160lCJ8KQRCu+9KUvPeMZz9htt92kFSXT7UkYcX/mM5858sgjJQhPfvKTV1hhhRiwBiWrD5YGJSq63377bbrppiM5r56spe545Neo9Mc+9jHqyrgS8lRaJGZcsshnPvOZ5PKIRzxiQJUexkew/M9+9rNf/vKXRQyg82r+ssw73elOFszBJ6ngRDzHjIuWUF8SHfbDNswDjkyLVxK7UjBJgCLjxhtv5I+FOCGF0kc+vPnmm1eDc5LQ3BeQd8wxx4iNnOmaa64pJFY1fhpVzPK3v/2thIIrhPD2228/SHhB0jve8Y4zzzwTSY985CObkxT+i+gvuuiiIImnGMQmKd7xxx8vyRIA5Ib3v//96VtDoMJ58RTWbkzuBS94AR2YBukCrP/GN77xyU9+UlZOV9Hpgjz7KlpWqDT7isyd5ltM8ciDeIoBfATVEa++8pWvWAlLeDCQAC1JK3TFXYGFldI2Wd+xxx4rK05dOhcg+MEPfvCggw7iRDfccMPlllsugTiNDP7iD3/4g502Mthjjz3233//QRS3MwupI3Be+cpXUt+nPvWp0ni4lVhILacVAmoGKf22HLA06MmaOLbPPvtcc801O+64Y4i4A0m6iCLkbsl5+OGH9yQJ78cddxz9efazn93KOxRBC08htFikGGqo5XZxij5lifDLXvYyQUIojXQ4RiuBnyzLXb6YQznrrLM23njjww47rD/Ii0tl2YkEZuutt24bbZglZPHAzCwfOHJ+C/X2OOIqofPf6lt5/Vg0Wom8853v5GX0tT9fat/8J6P6wAc+YCjuU65FidNcCqVx0q3FFluMP1555ZVlv1/72tfOPvtsOQUfXGo/xz9tQPhuIPO2KEuMtKUheATyQx/6ULt3X/jCF+iZENR2nGhPQBJyDkJKgqQQcduhQhBIkmZyExZQkhE/244T7Un8kEMOOeGEE5773OfS2+C3w1A6ynYJnTK8733vs4tJFTuMM3gXmB966KFveMMb7BU+4QlPADtHEGwGksUZU70CO4KwvT8qfe6558rWO4McU/TKI3iWV7ziFVtsscVjHvMYEBeJbljGNrdn94sqE3m3bB+aL3nJS/gpIc7uQ8Opi80imFhjS4YpyrBr+OJEM8tUn8/ltbfcckvro1K4mNm92iBYsx1gfXfyySd3iCrgffnLXy4eWLQ3z+SrlKSaIMkCgUcWurvtTcgg7LLbdBzQp1uinnHGGZ/4xCcWoAIEStTgta99rUXQ0572tHDKCb3mBf7Cd2plo3xNn/yo+xkqyee73vUu6YPttG4OArdsAATbbbed1IiPAE1zCKKlLm9605usvQ1iqLbdoz0yZEByEFuYEiusdRunf6+PfvSjMoihHAR6gjXmLbzYTWDqrYjUHry2G21PDuIggiTuD0mEbnnYliQjoEd84iDkgK3YqW9M+qg66qijuMX6lqPepdJsATih0p3jBHkJ3jIj69Y+Kt3RR1i/WZ2SkGVSZx4C6FBiGaO8iIW0Qt+WFTR1lJbbze5PSWygYk3C34qSQRpbfIqNfO4gGUSRJOpij0Ye0dYmbWeAd/fdd5eg9YS3SI+hOHS7LfaPGEPx1swydefH7ZtSvwFJMq/RuEIJF6o6hKuZlDdswApgziJi5d6wV7UZdgRv8caGFJVms9U2TWq6+AiWSZVtPkVsaTLNzDbkbQde/tnK4WksM+Ru+zuIoJBxwvTPf/6zSDWT5mEbiF228aTfrmFVH50GBJH1vxSd4BpSDt7XvOY1j3rUo4YN1zE7kqz842BOq7jtyavTAXSvIRetmnGm0skPfehDC+q/m4E5K2ALQ2EeKRuhs1mW2wqNaNzFR0iGPZOT6Q0Y7miMrWk0ffzjH2+YfGpmu95CaygHYXZkYEqGZv+yleIGmn3+ylwc3Nhss80s1/uMU9OXXeHOuqymTfGWQwdLLbWUp+5gKdYPWHY4xVEajr7hmITCej3IGFD3ilPj1AaH415zHySQQaXpvwJbGApz43B8rJXNstwisw3LXXyE5NBOMiiHYiNoxYlHYjZyf/SjHzWhnlGxZLFxWDKMhgynjG1hNiFjkDaUw+kSR4BGUn1E4svg9oZpf5N4oo2NccsBvQbhsToIkjxX4oOae2RCscAe0ISqVPHRHuF7fNgqpa2O06GG5tN/6scWOnSf1gXOrJXNtl3WxYCtfYR1mlxo2INPQQpOpNke0TkENTOV0OCtb32rhzrdHmRMQzPqSchy107HnKUS3jJgkPxdPWH974rb4rAl98yhPJvUZoyFT3FqUHuI4Ly2wz/F+mllDg5JnffIpw1brKeHnh1SMOcai/Vjl81I8+n/SJizWZbbYZ+ltY/wZNvapuYhpScuQlA8sA1YU81MlIUsO3YiKjnVN5ZEOLX16Ec/elpmniZVSGQEVammZgohXQ48Z6kEu4Wqc18TGQ+yA9UOvCQ2DR6PfhzdS5XTCnhHj7MD0xoU60mhJIhqTbF9KiPJUlGUa+IjBPbvfOc797vf/UpzxWhJuEm+1Zo0b32B58J7w4Srfqjmd0FB82PHemIv7HS2LAOyWTrGficOXlPZ2kdY1Yje01QHG+ecc46nZR/5yEecDCVLNbTNASdxEoc1pLgFJomWZbm4Wt+Sj9eYv5/YzKR2cT3EskX3y1/+MtoooAoZCJvYK1UamYrIzbiJVDlqQQCB6rTwiGCPPKB62mmnBYbO3sIZO55+Y7YVbY5ImG6mLMR2RzynkVSc0VCOfjvnohDE+OunqyFt0Ab1TJKcX7BbOe08hUMlNlA8koBMzAs3NS63igQ3KePdCqjbAr7J+NU2dJ7m03/qV70LHIHEcZL3v//9wQ4eKTPLouozoTMgm6Vj7Lc6eH1NOx8h96Y6dlynqY56T5j5Qtymie985zvbp/XsrcnpcakEThwNTN0nFuQR0mbqMhFQZMisHLi0wANfxDQjyzuQ0WR5YgSZf/PtvYlENqyUZH73u9+tOQSJYKg6Y+7oujGxQ97CAlTlO9NkMW12jtV09V4YaBbk5DUxYpdGlr56Ocp/Pc9hxS3GyVDFBtrcxE0wyCuvvPL6668vjVz66UyR/YtpQjcI4dpkjRgQlPM+Kt0qDTXzp4koT5PsZuZQDRvQeZo/bfeHLGyle8bEmXqJC3fkji8bRk4JN7Es7Vku+227gm7nI0QGB3JRVqM68jT7505bUxEvREBZ0JNPNlRlNm9TaqZf9MYH8U9LZ0glyFhvvfVEA2RrTwuZh/omMsOgd9j/8pe/NGncs41Hrd5Ao5Q1qFIdus5HUBEQyYnwDoEOU1NE1kg6VhzTLm/o0SRCbDI+zaOp0hNcgBcXzNiimo9uKHe8czTMu346gede97pXjdBN55GHJUkkj3SPEFXWDzvxrsCmI22feHeMSjpP8yfGvJgOtuKWgBGLccrJNUxLpasUkgvLxRFzqN6tqWlkMKk/NjjpeqeFSYteG1EeMmtv80/6RMVrmE/jK+CEN7FfWP88TN5FL6E2bVj1JtXmbW97m0Mp6LGOhe+09kUaoowLq99nPetZ05Jb8f95z3ueF9Kc+ZO9O8i49957y19Yl3UBBSU/J2oFfDgcffTRDnore/HBKkYedMQRRzAM+MQ5WUpZQ5tbVFYkMRcRGBmqDd1uiTWWT70gXLOSQrDpvE1T6jvxJ9oon6TmpJNOwgXvIKGAdnOhmwhTzmvVv7MjBk6TRRCGEo88hCgoeaOJg+C/alCdyE5UmghV8T5lrOHJjpum/GTHt2pGjnFqO9VwYZJofVONNuldeL3UT5vUKsDg9H8awYGzL4NYX4h86KEDNSZQncj4cCbc6q2amnY+omag4i3MMBXLJKtoKWhJVySfM5X7m9/8Zs0CFatN+EQGRXdKx5s/HLByEf3Igespscz+1Kc+VWStVLYEUCNqacanOBvnp5zFOTkewaTeJVUjbvupDY3xOoYaVkonZLOC7WMf+9iI2DX6oYuL9nvzQgrg4ONM5ahhkK/kvLinGLb618qfC6vWT6tBOX1lkxYdDMnmfCt3HMNCpkasrF0zCEyjIerBghLbjd42pIQliRfFXdLD4s9iL7mb94AMTlIOqtI9bwZ5tx2pL3rRi8JHMP6o8YI5obNeq9TopY1FYtAGHMGjhn7vVdbcjVukZsmMQW8qlyxrZt9uDdr5CABJC2sEmYggKhJi5wJLqlTQVzQQBllUURKpTVSK/N5+T5WlAo10GtcDvIkjFBtrYLlhbaxLqqcN4gNLJn5BD1PpViroKCXzQQFZd6qsFmJY5+H33Xdfd2MojsC30qJx1FAaWZUrtQEOJY42tgZk6UiKn9P+IolO0FRuoqgcIOXL1AjmqW9U+kmlSiiZS4RUb0Mnta8WDGjdW62fWBO0bbTRRk61kYt8JzULtCeCnNqYSOx985vfrJn2qb5YoFGSNWGwWFktowTaTh+Tb/EuWbNbLsZShafgo8k3gWNSjh7LEUiIVZKIKo2h6mSnobxJGcps8Le//e3W0Y5RxBQ8RdRwZNHGPlH00ibpnoRRmlOkKpWRxC977pBqagrIluGiNrUJkFFLi2qgphXst6ZBGrBYaOcjGLZsyvq5pHbFEVPZArVKDTZIS72hUstSIZad1b7FZmQJUzzXN9OFhKBZXFrDkZ8iRbGdBrg7kR3HqCz4Z45vimoCXO1VU4NC5Fl3TCSjyLUGRUcQt3SUkogtqGVIKjWDM3Csd+hTcQTl2E6uwV8bum7bgjcp9a35aVJnq70WVUKDVUt8vBxcw502wsYLX/jCKkrFGT1lEIrrzUB7vBfFrQbCdqM84CB0d/3kAjwac6IsPtKrjRUixOhVzMhx87y0nceRtUVl/BUDXDNrSr205yNcxY7FstRA5KtBKTVm56kcBZhY3xFZeAHPkksN/DQyy8VRveirHdvtWdpToYgCxTRnX5wgVj6EUaykxBxtSYTFBkamxMJ7sbJaRoaUz+DkXb1brAGNkALEYiWwuCo1JYVObZBBhyTPqWa8Ahqs3mdGSARgFuXiW2JcDSVm0nwHHsVGF0WBM6ubSDOfYrpSfldqyVZ1N06pfubPqmTtIHJhzLtGZxhkk5fWkRQo1QsdDrxbiXjje3LEBRiBZCkPNfagREKBKXCVCDCCxtMwnIlDhwZ0nubXoJTGRBsFKCZKHB8MsYzg9HQptY+CkbHMcFhx6Vb9z3Y+gjbL1myNlkyuNAcR0gnbKoj2Qj5/XC/U1F2zSPmsZlPlxAJHzvjZw8S7qRIBIg9iPElOz1MBKtUHsRjLJVc9NzJoEjUSZ9JQoxa8Yj9zCx1VlPuLX/wiPK2e8B6oUhcX8qzsrNFcsqQaaimKt+DqI7bukmT+SEZdM1TpFiRDfYv1nBEv5ipWlsp491HvmSQ5tc0VFm2jNE78ZCRkZ3dQ/pIaICzGJ3GBlJ24eIFpQQJKcp9q1pYGHLxA56W09D/EOm180vdcg/RLlgVnrLmm2aZ6OLPfaSxPm7HdWsMotvFtq5LTtBRdG7rCn+2yyy4xK7qTHYYaEVjcKv2lkWIOA575GMya0HJaHKjPOLgD3/BxmagIDaD5bHf5gon+yOkA7e1Ilygc6aeVvNfyxLSJxMSkoKPTPuoTPxOq6HRJLpiQi7+IWwJLlVqCc/mqYPVWqQa8PFGpsuanMEW/rahD0S28Y4OQZapxJR0oDsIe0KNXKXsvtkll4rAfKQGEQ6qsFrSJrWKwxF1TR4JjLvTwEVAyTqJKg2Le4aeTHXbE6l1bdeo+NXSe5tP/BN3E0SQCPmzrcjfpQGrJEdDq9DMVAmc/O3wXsl0eYQ6y9JRr5uEi+kHdCcPf0JUglyQ4PLKpBihsUDIbcvifGVIIz0NEsaIo2oRIKhTJSGPCUa/wU0mNUpco8D70rH5Xr9Slz08LSPt80vL6GIKFKqrAtMzGDuVQDsCDQYlSEWeDSzFsvMczgnqC0WOtbkejnqQ0CKgpt6e/z3/+85OW68s4WaMMaFoWLdoju4mPICxPFrnvIlOJgFRIKCWJuyVoeafWOgsZXECAlrqo1JjJGRnNsQ5lsanBHBQQQPPpf30qUVTpomXZjIj1I6FPhJrNstwmOJeYbe0j9HfowEO7lOuWRiz+JIziT2VA2NkSB4rspTY0yRMjzwJTTU2BurANSj9TiUtkBA1mQYlyaQqjWZuo7OBxS0M1/0n77WZxTPXaHwOW2PFTSkwzQJpu4UtNVCYy3JWHY7zKdWqTCrywfVBHA5qQFL0QkK6oMSPjdFRhoisHtcBu59gnG2T+aeqagoTL7qMg31boCCNuzlHB+BAAWoJLJazSXVPY25uzCJH4JRr6zwpSzbRCojwaBP3CQ8g9eEx9YcVa2SzLTZXNC118hOe9zoTGf8HSfKbUEnslDt0Ky5T5y6WbaLAu7Moj4jhUP1Nj0uxRCBomkkFrGYYV+8TN4dI4A/60UBRypfcTg8DMiaq8BI/Fjk6dWJHyrcXKmrITYtylcy5t4S2OSV/DHZcUVxsUGlxk23nnnacldMWhlDXmJuwxEVPp1syfVUCKXdJdLHuHmttqqIfFQXqWzUj/WQEa2mKO/pg9FeKncWDFWtlsOqnRis4uPgIne+21F1/bU3sSodjg5xyzcySpVYJH+Txsc7KlSVKTpqspiJmcjgaSiIZaWzNaq1v21X0O2zmr5ul98/EhbLPDWQ9hqnl4JAv/sQ2D6QlvMr8iwUiSA/pfCzwjbJUACwy2JIfSvSJJyhy0HUHmVHM8p9Rl2J8wZwVsoSfmRapgxVrZbDev18VHmB4njohIitLDgiJNrcrJzzmc5/s/rfri+VWvepVty69+9auDYCoVtxZ1BrGV1raiuaYxvbQJ4twHxw+WmpZtb/F9UnrjSw1a9XWKzMaE/3htWJJC6KyRwdccGZhIKh/nfD1JNX9eNnGciZWGVU8K3cxp4phtK1kBW4g8vacacHk2QZ3WY62tom+R5u7/v4b1m00yZ+Psx9qjut3tbtchSQYB2xZMZEHe47Z2LRLXpGybl98V/F2enznw342M//mf/5HnO0PtpGA8B2ky+7BtrDVsKPouhu+7WBuDtwMvJZIgjDWH4lmURyelUwClxtWfhOtkJyVjPKXdjWrjhjVI4rN8lM0RWJ/wnLgPXz+UnQXH232W/YEPfKCNxv4omQ5VXoflDZ3cl5zWEzDqXbuPHjzZnKLS4l9nlWaS9PnHP/6x/3fGAq0zzd19hCnZpN1HR4ztSHmE0YoZIiFaDyY4CK7hjW98YwcHEWybV3IocYUIl0FpYvCGoITKsiIB3P9E0OS5YMOROzRjk878vvvd7xa3Pd91tqePAQRrfJ88y2e7ukUS8NobduzCQwG09fRcSMKaDQXPnr28YGuwA0q6MB5vSTj20jkwFOdFlaRYsPWwzKcf/SzenfsyNYA57qg0zHmNVjEY/UKvbTUq7f86jJdKOnPRy0cghdqJuuzT50/iyTyVquFHF3dFNgska28d/fc5BNNzgxCI/gtc6isOGNOePJTrDQwlzM8q3Suk8jp7+P5/TTvwnaEcqiMonN4Rt9k2z8vldRsZg7a+fCzfBj5F6ZMc8byOkwHKrqfTin1CtyPP0GbY3hlrvjNSRYCaWaTYB+W8yBqF9eKujhA1UJKSeOLoBJovuPhPGDrkNdMG71NPpSXINNkukv0XD2s92sTjTONy8s3bHHIQx0nEvP45US8fERBQGpvAWKKOdIhasz2c4IcIwymEX3AwQQyhJbTf+zn2BWVBUlny7oNm9KUosgmjSdRloc4LqEGJCyUuNLiixtYx76ClxJJr878PuGq+8tKfvFYj0HhhxFYTlyfShgEE8TPHCcDpvfdN5POios+oWibM7FjfgOfiZTxjRxJZdyPJ7tVb3vIW620vJvQ/505teHbqxAMinuIxb+wTcT0v7gZKYpXuOIIVkihkHLWa2X1uGmBQDKYJsol4n42nQPNElWZccgcB0mJZALan5j3anqE32Oz1f/mVkHIESHbkYn6x5ePRQJzrwACjZY0KejnnKwi4xtgZkhLLsiyhHbYxF71BBtkroAEBQQagmZ8lMTIWyA5lCb3qT+pLM7yJhHjC9pJFWKaWpedbaih91NtzdcmcMev/Cpn5olR13poaJPm/DokYpIRoecgyo/00kmw9OM5Aa+OlRq8/c1vCY80srW5Z53obytdGJE1cIddjcLZkkCpJKgMo5uSCkjPXHI2t3G4LsVakdm5MpSVx2KyqtDEdqKXSCqBwRMK7+a4+OVqJziF9RBraLgN/5lE85XBw2466jWLys2FGyy2zB1SRNGm1QKFRggYF2mD169SDw3bcM+9gQbtwuoYSI1iIMCL5kijJ0pFdPYxM4ykQ2DlHkcdjVJlq2x3K0tTTfsLTekG8gqrNZkjyF7QzzC96sU+uCvH23qTKVoL+P+HxSGIk1t72tuwpgMhzgXBh8sciF9JYEAHKykK9da7cYUBzKs41RpmzACaV5tp4BKt1qySrNnsW46n0KD6iiI5vb9hbske1YA1SjuMYv5WFk8JF8uZLmVnyEZ5jMTm7fTKLCJWSBWWqr6AGj5ygPao5QDucl+eXPAUCIGkN4m+RJDWitEzNCbGRHFZRgszm/PPPl+ZY80baAhMnOB0qR5WW6ASXjIy3cpZsYc4dinxNK/vAr4UklzFq0P0/XnYaKZ3ryUw88Tdyoc7j9O+IBoNMTD77Dz4HIzAw22kOOEgsKXqkSIcddhhDtdPGIwjm7MHKbozl20QGTeraYYcdEkl2K5goR4ykcApzTBLe+SPGjySydhrN1i+47E9JZu1u8p5Iku+MalQT4RqjMhzf2Fo9ro8YA5dFeUw24OIvGCd1twjn++I/j11QsJRIQptvSVpWzEHWMI1leyXhAtAQmYLXxi6//HLnwW4brmEa4yPVdzxnORI1edgOCBR3ATp0z10yAvUIZB9Rj888uDt2qjkPIMgkjolA9hFjopvHzgjMfwSyj5j/MswcZATGRCD7iDHRzWNnBOY/AtlHzH8ZZg4yAmMikH3EmOjmsTMC8x+B7CPmvwwzBxmBMRHIPmJMdPPYGYH5j0D2EfNfhpmDjMCYCGQfMSa6eeyMwPxHIPuI+S/DzEFGYEwEso8YE908dkZg/iOQfcT8l2HmICMwJgLZR4yJbh47IzD/Ecg+Yv7LMHOQERgTgewjxkQ3j50RmP8IZB8x/2WYOcgIjIlA9hFjopvHzgjMfwSyj5j/MswcZATGRCD7iDHRzWNnBOY/AtlHzH8ZZg4yAmMikH3EmOjmsTMC8x+B7CPmvwwzBxmBMRHIPmJMdPPYGYH5j0D2EfNfhpmDjMCYCGQfMSa6eeyMwPxHIPuI+S/DzEFGYEwEso8YE908dkZg/iOQfcT8l2HmICMwJgLZR4yJbh47IzD/Ecg+Yv7LMHOQERgTgewjxkQ3j50RmP8IZB8x/2WYOcgIjIlA9hFjopvHzgjMfwSyj5j/MswcZATGRCD7iDHRnZOxF1988TmZJ0+yiCJw2/cRN998M9nedNNN/t56663+Rs38FTj64wp2brnlFj8XLDtBz4KlYeLsRWQANbHNfKws8vX3v/99VBaWGHx01BPGb37zm9/97nc///nPf/rTn/75z3/++Mc//qAHPehe97rXiiuuePe73/3Od77zkksuOfjUacAbbrjhb3/724UXXnjxxRf/+t/Xr371KzO+613vOuecc9Dw4Ac/+OEPf/iqq65617ve9Q53uEPquNAWgiPs/OhHP/rFL36Bp7/+9a/f//73of2MZzxjueWWW2mllVZfffWHPOQhD3jAA8A7B0whiZQvueQSUk4kXXXVVTB83vOed+973xtJhL722mvf8573nBuSTA0Qov/JT36CMLpH7n/4wx8uu+wy0t92221RRfqrrLLKuuuuS/pj6+GA6pT4+sEPfnDppZeGAmCTNb34xS++733vix0qTQHwOKxxLSYWQfApT3nKe9/73k022aQnV4biDr75zW9ed911VBa5K6ywQozJ21155ZV0iMt46EMfusEGG1DuYZmJib7xjW+8733vu/zyy82y1lprrbbaauGY5OSc17XXXnvFFVcwtm9961tU/IlPfOIOO+ywxhpr9GR8vO5//OMfzzzzzLPPPptmcG04Yngrr7wy5YhVxl/+fVEa2nPRRRdh6tGPfjQr1XIkqniHz372s6ecckrMhaoiyCZFUUQIUqAMatZbb72nP/3p45EUnBL9qaeeet5551G8Rz7ykWyG6O/y70uDJH1UkT4Pgp5nPvOZj33sY8fQwyBpkL+i3ac+9angi3ejroyrqACB9re//e3vfOc7dGP77bdny4MxxUdQPk5IgFXufF1zzTXHHnsswWy99dYKfk4b6oILLnjRi16kpb/KVgHTWratNylPRx132WUXI8/sftppp2211VYo+ehHPyrazGw/9w2+973v4YV09tlnH+WZBAATU9tttx0QTjjhhBopzBxqWoMkvv333/9nP/vZtGap/vrrrwcvnHGBpJFwxqnB11xzTbxDIM1eU6D2NJClNcS2ZqjxbkEPXwItswLjTGOBA3ZA3VA6TSgfII+IqCLQcd5c8mMe85h73OMeM92njOOss876+te/rvHOO++8/vrrz+xS34CvPfLII2WPIoMkpWGyLUpTeiFRxz322GPhSShEhne84x2YYl0bbrghqTfkCEok8qV/X7///e933XXX/ulhIA+rD3zgAyLw4x//+Cc96UmtsNJXiPviF78o35HjYKpems3vpqRGymDYVkmBvtZrlBBTQgUFaKK6zWnr2TIy4tvf/vZSMLlhQ9qsSixIqbQM7lnPetbzn//8nmT8axuvTx7BsfFb0htOrolPKrXh9jg8brJJ2C/1Lf7UnYzf85738LvF+oZlvQ488EBc9CSj4XQzmwm2L3jBC2QQRDOz8bQGEcDph7RuZvyZNkiqlzJsvvnmolmT3CH1KhWQJMiL9g1Dfal79WeoHwdK/bqJPsaEM7R33HHHPtxVyetTI22kkKyjW+YFGSsD6WQ3wyxS3stHRGJDdfqsUzBjgdBnEIYNC0beR0tIgjyQscC1BAGU1QXeoqg6lGFLRYDDTXRTtZgUJQOaEJI4dCk08jowlboQt6ggdxjEs4OdBxwE9kRh5wKfZdF0xBFH9ISIYfaHuruPICEZhHDXX5VBSW9Egw7hBQriku490QxxUlyyGYSjbvrBkhHA3/Ux6dLUFI7vI6xSfcOfjCf0tY8LLs3Fqi1YSK1U3/xnqJ9BBhSWMQ899FAqPSD4zTlKLcmLLaBkEJXun0109xEEPKw5sU9evJV4NA7tH0p9DUjtmNMg4klSb1gwqdBhI20odtK81A5f1CXVNCygBD3DmmJMjRjDIqwhJaVmsWYZJIMojhwK0DMnLQ7YtkwHzC5ra2UI9bPAqs86uqOPCOdkC6qeuFZ3qaNsv5V4+CloDhhJEBwrlw7m1IrZiY2xw2yaPL+Y2L2+krD401aD01eLFJGgsyXXkGRwobLb4i6WY8OqXyI1FKBPjpOG6lAwu0iJwQ59p3VhWcyKHLvFni4+wkzmE16m0dS5HkCeRTW0zyBDl87TTetof6SVq5o2Tqt6ns6iyQK7Va/mjcFF+bjU5ooS4uiwAGxIFZb5RKlTw/bRDP0SPVerXq0aY3mBbEzIHVjWGDoQxtLQskpYdTmL7QySQ3777bdf32cqlf7O5Hla8+lPf9rzm8rNcoWne8h4xCMeUb7R+7dHpxy5A0K9R2oxQDx+22mnnVr0adPUiRrPQWUEnjo37PfJT37yqU996lCPTquTLr/88gcffPDnPvc5j3ird6fVeFr5iU98YsCnp9WJPL93NpREqrdGreGUTbrOOusMPgvpb7HFFp///Oc7jNzFR5hpyy23tK3SYb76Lo4AvP71r6cxcaS3prHn7Ycffvimm2462GGywmSe/Dsuce655xbqxi16UH/yySez4THYSaSz9uc85zmO6zVxwU5YcyhAHpUkxxkcG5W4QSDRWV9wiDbOEdY363PXSQSGKp47pdJnnFZ9IeBQg8PHI51GjQdAxNqKKo27+AiuzoHQtjM1bC+2OEPtsH19eyfVnaWVqdY363zX+WLnhXiiziO06ig1w47HVK16dWhMcI5se6NhZl8HeKR1fOXMln0acECOw4sKDbM2EnGS2mGnPpM26UsBHNhvleA0GbamjeUA1p797GfXtOlziygZ12c+85m2g7T2ETwrcdYkEdxhuiJepZ8NiXPMfmY+zB06eVVDhrnSvAptKbE1wGidU2xIc89mXnKx8zzxIB3Ki4zERKmm7bze+LIL4H2KmR1/+MMfctajJhFBg2RQYt8wYosNgHJNpD/BEgVtUs3E9jWVFIAenn/++TVthr0VQuGXa4ZN7FQZnJkberuHQL3RM7NliYDWPkISsfTSS9d8s+AjH/nIxhtvTN0ZsNPWZH/AAQfwym9+85sb6oHk03ZAidDSz6uvvnqjjTaqiXJAdJZZxuiVONDYz1eDEuXjjz9+ZoLgYO9SSy0lvJfmHeMnmXlra1oSYdl19NFHYwSkElHe06UAZC9WtZW3QbziNDNNMywXWe+CAwoyDZL8DflGDScO8CZwCW4Pe9jDbNc1aWxYrzZOUz9bVA6Jk7iL2yVlWmc5A8C2ObZlr/cDrLYactGE+Po23p31plbNiXtCIfEwLn/ty2BK3kE3MDhzeW5k41NpL1XWU1K629pHyFS9icx+SgOln7vvvrtXsNn5b3/7W3uKxCkWWdq95jWvoQ2pWU1BlJhpw17fBE1NlHPrla98pUd3oAGl91DN6KVgz7T23nvviRG7SJLItuyyy3q5oFg5Upl0YTXt9QeGihHejbKyQ+y4+Fwg21xQbksVG7P3Ue9cuFSy8+J8/eBIkpB7xIAel40qNfYLlP1tsqKJ8e9///uTUT1J0VI2rvE0ri25P/ShD1EM6uE9Y1p6xzve0eY69Jr4uxKzFkFSZkuAUv1IP+V33qavGRzXJH7MMcd4MYoZ8qrLLLMMLaXkNKQJgyxLcAVOzSzVW619hPT7Tne6U3WgYo1NF9tvao477jg2Sageg0+Ta7FjlLWkoNX6Yg1dhE6xZmLZLp0zF25xUnwwHBu+PCZDoV5jf70jaBZ4mZPMZSILKkM5PCMUBA477DA7BaJH550tLl7CWf/BlfCqM0XGEUP4ne98Z9oYUkNxaS06G4YEDN7nPvcRFepJSlj5Csk0oNQT8Ute8hIF+6ASRix4x6+mfc0t67J//OMfNQ2GvXXjjTdSuZljUmDhlv7bTv7whz8c7+zNlFQMawXA5ek7c5Zig9Y+oti5pmzn2el3b57J1sZ7nldDQLr1whe+0FEOr997YCaEpvqFpyDHITZLgHqS4nVJp1E9mKhftdaPw4a54PrwiCT6pGX9UHGXWfJf1krORHENfgK8ScfUhmdhjfUkRWPO1Ama1HFiwZNL56m9+3j66aczoYb2Ux1KnPDOZRPPVe07ao10iXF5XVVeOW2JOiABrX2E6N0ENTFEgmdb8Ywzzvja175Worg+q3R3plxp1cxcIybV0vJH2cGY6jrcXK4SeX7i0UHAmRlTteN4NSClGcaXR4jznSeK/KteiE7RtBpfcHvpS1+KKtGbI54pvurgbYNbdYRUYyEp97bpaJfHleo7FDjKuckl0UbZqFwTImlCqPRXvvIVH9pq0iXacP3WXyyieRctW/sIGw3SwpkuXxu7m7IJ6fEhhxxS1Gm3TjzxxGJNiWK7ADPTVMHExnsTxdLGE6yIbFIJs8d0XIMkHxnCcnUcC1GRTQ5com2MnxSR2Ca6quJ0KF9iiSWc/7NSsHRKNKvnNYSUYmN3VbqKlVEO3zpt2y/amKjasb7G1iChEHfpXMlMvgz7z3/+EwI1m1xpaoF9piHhnUw322wzY8pr0vNLlCi7EnSkn/TBFH7GlkqajlE1TKZSl84Fa6jY9J05Apq1tIhG8EEHHZR64SuuIlPF0Wx52GibmYgVuyi39hGeVKGpPgoZ14kxj+JJyE6EpEgumuimCqKNXdwSKemnhxrTNvBSG9b75S9/eeauGLWwKOVx+CluwuaI79CE1sKXM7KLI82xRZxGjgLyuAn7wKX6MX5ahQq89bvNZO88oj0I7IDUxpVCMCKS2CD0GKJIGxfgWRrki5VRttdlpV1vkDZHmEfzEIoSYNJa0dtqmR2mecW6VJ5WoBsNFdc26swHtx5Y2vyzXLfDZ8Vh0R5AUVoPPnzQLUU4Q5U0WYOkVPaSxYl6ZzqNow71NtSFvSYdJUc04XWve52T9bLjN73pTdELX6KvaKFBKWZoAAQ7vpCZuRVdoqG1j2BvLgZWGqj4kzNGolPSHLlVtFvvfve77V9SdGWVRhA8i12KZRo200dY9HpUXk8GUBzrNlp8GsvXrswCUFvfCoixwcsRMFE2UyRAmZ9SyemW6sf4Gc9Za3hBKo9AucGSIH31q18tWqKH1LljGb5mBnExOU6HGk3M+bk/X5SoV328E1CYVhOWmSLEZPieGXlG420XZOiIJM/CGV6KdRNHs9nOR9STFB1hVf+wSerE6QfvvlSqF39K4igBnYes8RSZVoS/8AqDLu5qSakYaqLQypQ51TvT1Lh/wYYUl1R0r9UxSYRxiY6hCV4a0AaDYVw2UDyQApHlZClmaMYb2hykKhO1ojpXqmntI/SUSqAyDVEqfOxjH+PImZ/gjCW7tbydPSRa4slCNLbcFaZKHeMn58Kb4mTi3VTJARF2DRmkzkEYyoMiybmf4qdUAiVkTz9EPGgymG222aaqBxZKTR6RJnr6FHjMRz3qUdNiCNwEB3Te7W53k8mH3YJUkMSFSzCM5QPoqLtUv/7oF2N+8pOfXK8orMURg3prDJYBK2rBymdv1dANwNJjKWT4BX6W4dWcZNELSRK6epJiOrZB+8Oko6b4FyX2v6DhiSygNAvdI3G65ycjjPZEjyrZKE5dyT0FvNHmC1/4AhDSreJEY5RBJJhJsacNjjZJGeOiMGTtpy0M+uzyKJQm8AL3u9/9+DXe0KKsNI5w6IqYXbpV/7P1stNwjql4WLDbbruhtTq64z0u9cAldb483Hmx5WKLLWYJWqxJZY/NZPgz06EIp9LIfffdVzl1TwWViRKVfnpK50oNAMrp+snw5PnFZ6JiINfW59lBmqVhwQcLIyWu2gkonvvc58Y4AWmRr6gXhBkkgiP/CrVm4UWNj5ZYo1isYiZhThnKDuq/DCphsXbzKWqj8ci2JFijBbzNdt7KM8g3vOENfARLq/KVCNCSf3zZy16WamoK0qW3v/3tkuqJQvfhT1d0N2NJ4rqwnPBcVNfFvXIWCtEFO2mhoZmQ7mOQNZTX0NnhVhAMNPPKg6ojaJAYnKYJqVfyhqkGzj6KmZhN9TMLXfIILl9wluFMHJ0k4gpw//vrP//qQhJ77bXXRFqxcdJJJ9npbCIYpqJZdSshUVWcWmXxpzJtiB1+7JTcgVAsKqpPQ41dsMVgiolH5fCYKJ8IqbuOnMaj9WipmZhpby8dW0j0Q5gLro/q0VgqJ5niSVPfasETBKtiiyDXUUcdZXbxQ6zzzFuNDD+cURy3rXaPGpsm/GDD/QjuRi/5wsTRElAKGhR/Ro01lO1YGhjdLdOKUMi/JKdRIxOJnxMnGqlSHgF20E0bP3E0URO4TqtIIuP4Sltp9MELYx1flpX2W6WQZat3y+2U9P9Qbek1dT/jS2FYrd6aWOOwgEN+jGHi3W6V8l6mhcFu3bv1woI1vKcV3bo37AXY2Lht0t7SjOdqpRUTh5WsyQ2hOvFuh09IUBICQt7EAYeqRLMt2OaqONS8PpxjfTQ4d1SrM2hdvjEDDjptVgshMh4KHQ8d2n6Bx+z0mNIM5SboRHw+Z+6Vgy2Ror9D4VkdJxRlmrlObC8uNW9fHaG+htSYYtuvuaAHVdbt9YP3uStqompUWUwjj+LxTcO6J47eJlHnsNfRR+AQMxyeMD6IOXGf8ihuYhp20+pxLjEb6rNlCJCPDej4ppFdrQcjvQTpIHhWx2daFIVNVm9Nq4GDnQXPrac16FnvATmhd9Bd4nacbPBgG+zAX0436neu6nEDi7y+laRqBozROlhWGrO7jzAERyuMQ7NPqBFM+DnjAKVbOoB/gcXfbt0DC5phBGTANKEzxwVTj7TMwR14Ozh0Ig5sB4eChfOJ3QKmvjpyXmP4UxkKz7gA1QDU/CZV9LePShtHQmScbiAniffyEUYRamget9chGuhO2FYK4lvPREB3qmx7IjHWqkASyKAZ/ZffreatNqaaY/gp5sT7dMuPSLbtdlWVr1INwCkuzelsA7GJJuCXRu75E/4LgxrgIiihlp3TJYIjdEbRGeQAs6+PMAoeQgVFquYJBbrxYPE/VORk3qRL85rTEBDQNr3GsMwYv+1fYHKaQ3krONMSTw26OfEgXmglqaHW54J/eGTItwWn2B5HJN6Hr+JoysySNvZJy0sD9vyJNZGvg0pDmMg8mBvEhw7gIwIICoQgliY4QJmhVvNA+sqhkAQVsZ605QmFbsFtIvp0zsg2FFBilioBxV7uskP7/Ghmlm09S3GoYcsIi1WPvz0jAKbk86Duad7IsN/JIDtnagkiJNEQ2y49SYoBSZn4WFFPLcIgtDkIptUT88TpIAVwCb0IA5pkuT6nQLn2lDnMEML1JtCQwsF8hPkQhETiF7X4MAWKxQ7RSpbcAVnyi+7SNiKpZ7ghA6VmYDJXzAJWZSRRIJfpoqAGMQIjShDJsyxUahEcUQh7sZwdmks8NvmJI3zxDnwEfpt0qW9jQCRZdJBpZ8ERhxQJSd2YmkihMSlbnzQHMewQaxicOMWCrQxRAs3+LjYROVGlWRltwUUY1yDeIRgf4P8Nr573cEbN8RvHRR31c4Qxjnw5muLcFHE6Q0ZR4hBIte8gNc4XepfBuX1oGtDJwnRUxtEpZyjVOJLoHN7EA22D0NB/EKdrfXDNOD6I5JQX8TcBzQEhb7I4pc54nvCEJ/iAwsyPbjUn1REsxxy192H05iTRB+c7nZWiFc4IOQ488QRdczJKLY3vu4SMBL9CroNSTVimJA6SOrAU3y6Ij7WURl6ofjp/Sav9ZVBFlabPLpWOhPkUo7OFvMmAlI/iIwakr/9QbMaBuXir0mFE8Dkd3ESH+k/dfwR67JCiV9q9cuK0uCPb/No0DWAq3g2VIlH9Pffc05orjmb3J6M4ghN7XhmQTTh27f1rs9Sc1+YaEM8IxWqR0KsxPF1xtAHLMZfXhZzX9n9JOHs6bS4seH2DvXF5mtWzMCCFQw2Ffi8Q+CvFMGacUvW3SQjpQMNt30d0AGVh68LNSQqkFZYPaPMykld3vBbh8tqLGKKBjIneeFnTkX55R/H1kzHY4Y+sImUrXjemnY5II8lX8Jx0DpK8/enlKy8RObYvd5izlI3Ze63LYXAvDTqPLLSKB7yqFxwQZpV05ZVXekHOXSGXz/Xx2JFMawzYF8iY2UcsENi7TCpuWCh5odYKTlj2cQfewUDSTs5CzJTAK4wXT6pETyOJTXIN3hrwvrNrjrM2yZe0ET6xxikB5VMuCLMVZfk5LSOrcroo12QfMV+lzxKC9IUnDC6EJAVECy1h80L5urwbPi8Yu80TufC4hgT1QkhS0LbQEpagW5gLXd4NX5j5ybRlBDICwyKQfcSweObRMgK3NQSyj7itSTTzkxEYFoHsI4bFM4+WEbitIZB9xG1NopmfjMCwCGQfMSyeebSMwG0NgewjbmsSzfxkBIZFIPuIYfHMo2UEbmsIZB9xW5No5icjMCwC/3vOMv5TnHRqddhp8mgZgYzAPEXgP+9r+K+0vH/uf4ubp2xksjMCGYGREPj/XdBfk/a22SoAAAAASUVORK5CYII=)\n",
        "\n",
        "\n",
        " Fundamental Equation:\n",
        "![Screenshot%202022-03-16%20160159.png](https://drive.google.com/uc?id=1UWFuyXjiupyyYx27iqxf-c-um0f2-kyG)\n",
        "\n",
        "- The inner summation goes from i=1 to i=length of sentence ‘L’.\n",
        "Hence we are summating the value of any feature function for all words of the sentence\n",
        "\n",
        "if we have a sentence ‘Ram is cool’, the inner summation will add values of the output of the jᵗʰ feature function for all 3 words of the sentence\n",
        "- The outer summation goes from j=1 to the total number of feature functions.\n",
        " It is doing something like this\n",
        "\n",
        "<b>W₁ * Σfeature_function₁ + W₂ * Σfeature_function₂……</b>\n",
        "- Wⱼ refers to weights assigned to a feature_functionⱼ.\n",
        "The denominator is referred to as Normalizing constant. It looks quite similar to the numerator with a couple of changes in the formula\n",
        "y’ in place of y\n",
        "A third summation over y’.\n",
        "\n",
        "Let us understand this.\n",
        "y’ refers to all the possible Label Sequence that can be assigned to a word sequence (sentence).\n",
        "\n",
        "<i>Bringing back ‘Ram is cool’.\n",
        "If you remember the named Entity Tag table mentioned above, we have a number of possible tags like PER, LOC, VEH, ORG, etc. Hence the assigned label sequence can be [PER, PER, LOC], [O, O, O], [VEH, ORG, O] and many many more!!! </i>\n",
        "\n",
        "Now, if I wish to calculate the\n",
        " P([PER, PER, LOC] | ‘Ram is cool’)=\n",
        "\n",
        "- <b>Numerator = exp (Σⱼ wⱼ Σ ᵢ Fⱼ(‘Ram is cool’,’PER PER LOC’)) </b>\n",
        "\n",
        "- <b>Denominator =exp (Σⱼ wⱼ Σ ᵢ Fⱼ(‘Ram is cool’,’O O O’))+exp (Σⱼ wⱼ Σ ᵢ Fⱼ(‘Ram is cool’,’ VEH ORG O’))+exp (Σⱼ wⱼ Σ ᵢ Fⱼ(‘Ram is cool’,’PER ORG ORG’))…. </b>\n",
        "\n",
        "\n",
        "Hence, the 3rd summation in denominator refers to summation for all label sequence possible for the sentence, and y’ refers to these possible combinations.\n",
        "\n",
        "A couple of points note:\n",
        "- As we know the <b> correct sequence label for ‘Ram is cool’ is [PER O O]. </b>\n",
        "\n",
        "Hence,\n",
        "P([PER O O ]|’Ram is cool’) should be highest amongst all other possible sequences for ‘Ram is cool’ if our CRF is trained well.\n",
        "\n",
        "- Linear CRF appears quite similar to logistic regression.  \n"
      ]
    },
    {
      "cell_type": "markdown",
      "metadata": {
        "id": "huNQiTGGLroU"
      },
      "source": [
        "## Deep Learning:\n",
        "\n",
        " ### Bi-directional LSTM with CNN\n",
        "\n",
        " - Recurrent neural networks (RNNs) are a powerful family of connectionist models that capture time dynamics via cycles in the graph.\n",
        "\n",
        "- But they <b> fail due to the gradient vanishing/exploding problems.</b> LSTMs are variants of RNNs designed to cope with these gradient vanishing problems.\n",
        "\n",
        "- For many sequence labelling tasks it is beneficial to have access to both past (left) and future (right) contexts.\n",
        "\n",
        "- However, the <b> LSTM’s hidden state (ht) takes information only from past, knowing nothing about the future</b>. An elegant solution whose effectiveness has been proven by previous work is bi-directional LSTM\n",
        "\n",
        "- The basic idea is to present each sequence <b> forwards and backwards to two separate hidden states to capture past and future information</b>, respectively. Then the two hidden states are concatenated to form the final output.\n",
        " ![Screenshot%202022-03-24%20234015.png](https://drive.google.com/uc?id=1MeCHvO5TgP0t1M7Ng2wIwWGoHOwoPIRu)\n",
        "\n",
        "- Convolutional neural networks **(CNN)** have also been investigated for <b> modelling character-level information</b>, among other NLP tasks. So in NER CNNs are used to extract character-level features for and POS-tagging respectively\n",
        "\n",
        " ![Screenshot%202022-03-24%20235036.png](https://drive.google.com/uc?id=1DIRyNjnotxMgMBz_jeZqDwQQz19kbu-A)\n",
        "\n",
        "\n",
        " ### Bi-directional LSTM CRF\n",
        "\n",
        "We have how a Bi-directional LSTM model works with another layer of CNN, but for sequence labelling we can consider <b>CRF</b>, as\n",
        "\n",
        "- it is beneficial to consider the <b>correlations between labels in neighbourhoods</b> and jointly decode the best chain of labels for a given input sentence.\n",
        "\n",
        "    - For example, in POS tagging an adjective is more likely to be followed by a noun than a verb,\n",
        "    - In NER with standard BIO2 annotation I-ORG cannot follow I-PER.\n",
        "    - Therefore, we model label sequence jointly using a conditional random field (CRF) instead of decoding each label independently.\n",
        "\n",
        "![Screenshot%202022-03-24%20234015.png](https://drive.google.com/uc?id=1zKIqm5yPB1g7vEoMasOnE_OmU9kC366G)\n",
        "\n",
        "## Hybrid\n",
        "\n",
        "- Hybrid methods are composed of **rule-based and deep learning** approaches, which facilitates the extraction of  entities out of  texts of domains that lack generic named entities labelled domain data sets.\n",
        "\n",
        "- The proposed approach takes the advantages of both deep learning and clustering approaches but separately, in combination with a knowledge-based approach by using a postprocessing module"
      ]
    },
    {
      "cell_type": "markdown",
      "metadata": {
        "id": "7KnVasNbLroV"
      },
      "source": [
        "# Training a NER from  scratch"
      ]
    },
    {
      "cell_type": "code",
      "execution_count": null,
      "metadata": {
        "id": "_a8Kx-RILroW"
      },
      "outputs": [],
      "source": [
        "import pandas as pd\n",
        "import numpy as np\n",
        "import matplotlib.pyplot as plt\n",
        "import tensorflow as tf\n",
        "import keras"
      ]
    },
    {
      "cell_type": "code",
      "execution_count": null,
      "metadata": {
        "id": "HMg_QWkmLroX",
        "outputId": "b2df8390-e9a2-4feb-ba76-6262679d8e7c",
        "colab": {
          "base_uri": "https://localhost:8080/"
        }
      },
      "outputs": [
        {
          "output_type": "stream",
          "name": "stderr",
          "text": [
            "WARNING:tensorflow:From <ipython-input-2-98cbf56d884d>:2: is_gpu_available (from tensorflow.python.framework.test_util) is deprecated and will be removed in a future version.\n",
            "Instructions for updating:\n",
            "Use `tf.config.list_physical_devices('GPU')` instead.\n"
          ]
        }
      ],
      "source": [
        "# Hyperparams if GPU is available\n",
        "if tf.test.is_gpu_available():\n",
        "    BATCH_SIZE = 512  # Number of examples used in each iteration\n",
        "    EPOCHS = 5  # Number of passes through entire dataset\n",
        "    MAX_LEN = 75  # Max length of review (in words)\n",
        "    EMBEDDING = 40  # Dimension of word embedding vector\n",
        "# Hyperparams for CPU training\n",
        "else:\n",
        "    BATCH_SIZE = 32\n",
        "    EPOCHS = 5\n",
        "    MAX_LEN = 75\n",
        "    EMBEDDING = 20"
      ]
    },
    {
      "cell_type": "markdown",
      "metadata": {
        "id": "p28aq0haLroY"
      },
      "source": [
        "## Reading Data"
      ]
    },
    {
      "cell_type": "code",
      "source": [
        "!gdown 1ao5aINQqedAWHSXGLpAVzW1iEZj7sZ5_\n",
        "!gdown 15RuVEDqO592th-44iVEpcGbtvX9RjDWR"
      ],
      "metadata": {
        "colab": {
          "base_uri": "https://localhost:8080/"
        },
        "id": "7riG4n5Lx9xl",
        "outputId": "debf9a9c-e1fa-406b-a9a3-96a974b50b01"
      },
      "execution_count": null,
      "outputs": [
        {
          "output_type": "stream",
          "name": "stdout",
          "text": [
            "Downloading...\n",
            "From: https://drive.google.com/uc?id=1ao5aINQqedAWHSXGLpAVzW1iEZj7sZ5_\n",
            "To: /content/ner_dataset.csv\n",
            "100% 15.2M/15.2M [00:00<00:00, 35.0MB/s]\n",
            "Downloading...\n",
            "From: https://drive.google.com/uc?id=15RuVEDqO592th-44iVEpcGbtvX9RjDWR\n",
            "To: /content/drugsComTrain_raw.csv\n",
            "100% 1.38M/1.38M [00:00<00:00, 164MB/s]\n"
          ]
        }
      ]
    },
    {
      "cell_type": "code",
      "execution_count": null,
      "metadata": {
        "id": "n5GZVwPcLroZ",
        "outputId": "e918a244-e98e-487f-eedc-4f9db23163ef",
        "colab": {
          "base_uri": "https://localhost:8080/",
          "height": 363
        }
      },
      "outputs": [
        {
          "output_type": "execute_result",
          "data": {
            "text/plain": [
              "    Sentence #           Word  POS    Tag\n",
              "0  Sentence: 1      Thousands  NNS      O\n",
              "1          NaN             of   IN      O\n",
              "2          NaN  demonstrators  NNS      O\n",
              "3          NaN           have  VBP      O\n",
              "4          NaN        marched  VBN      O\n",
              "5          NaN        through   IN      O\n",
              "6          NaN         London  NNP  B-geo\n",
              "7          NaN             to   TO      O\n",
              "8          NaN        protest   VB      O\n",
              "9          NaN            the   DT      O"
            ],
            "text/html": [
              "\n",
              "  <div id=\"df-e46eb174-1845-4a77-929b-eb864965b963\">\n",
              "    <div class=\"colab-df-container\">\n",
              "      <div>\n",
              "<style scoped>\n",
              "    .dataframe tbody tr th:only-of-type {\n",
              "        vertical-align: middle;\n",
              "    }\n",
              "\n",
              "    .dataframe tbody tr th {\n",
              "        vertical-align: top;\n",
              "    }\n",
              "\n",
              "    .dataframe thead th {\n",
              "        text-align: right;\n",
              "    }\n",
              "</style>\n",
              "<table border=\"1\" class=\"dataframe\">\n",
              "  <thead>\n",
              "    <tr style=\"text-align: right;\">\n",
              "      <th></th>\n",
              "      <th>Sentence #</th>\n",
              "      <th>Word</th>\n",
              "      <th>POS</th>\n",
              "      <th>Tag</th>\n",
              "    </tr>\n",
              "  </thead>\n",
              "  <tbody>\n",
              "    <tr>\n",
              "      <th>0</th>\n",
              "      <td>Sentence: 1</td>\n",
              "      <td>Thousands</td>\n",
              "      <td>NNS</td>\n",
              "      <td>O</td>\n",
              "    </tr>\n",
              "    <tr>\n",
              "      <th>1</th>\n",
              "      <td>NaN</td>\n",
              "      <td>of</td>\n",
              "      <td>IN</td>\n",
              "      <td>O</td>\n",
              "    </tr>\n",
              "    <tr>\n",
              "      <th>2</th>\n",
              "      <td>NaN</td>\n",
              "      <td>demonstrators</td>\n",
              "      <td>NNS</td>\n",
              "      <td>O</td>\n",
              "    </tr>\n",
              "    <tr>\n",
              "      <th>3</th>\n",
              "      <td>NaN</td>\n",
              "      <td>have</td>\n",
              "      <td>VBP</td>\n",
              "      <td>O</td>\n",
              "    </tr>\n",
              "    <tr>\n",
              "      <th>4</th>\n",
              "      <td>NaN</td>\n",
              "      <td>marched</td>\n",
              "      <td>VBN</td>\n",
              "      <td>O</td>\n",
              "    </tr>\n",
              "    <tr>\n",
              "      <th>5</th>\n",
              "      <td>NaN</td>\n",
              "      <td>through</td>\n",
              "      <td>IN</td>\n",
              "      <td>O</td>\n",
              "    </tr>\n",
              "    <tr>\n",
              "      <th>6</th>\n",
              "      <td>NaN</td>\n",
              "      <td>London</td>\n",
              "      <td>NNP</td>\n",
              "      <td>B-geo</td>\n",
              "    </tr>\n",
              "    <tr>\n",
              "      <th>7</th>\n",
              "      <td>NaN</td>\n",
              "      <td>to</td>\n",
              "      <td>TO</td>\n",
              "      <td>O</td>\n",
              "    </tr>\n",
              "    <tr>\n",
              "      <th>8</th>\n",
              "      <td>NaN</td>\n",
              "      <td>protest</td>\n",
              "      <td>VB</td>\n",
              "      <td>O</td>\n",
              "    </tr>\n",
              "    <tr>\n",
              "      <th>9</th>\n",
              "      <td>NaN</td>\n",
              "      <td>the</td>\n",
              "      <td>DT</td>\n",
              "      <td>O</td>\n",
              "    </tr>\n",
              "  </tbody>\n",
              "</table>\n",
              "</div>\n",
              "      <button class=\"colab-df-convert\" onclick=\"convertToInteractive('df-e46eb174-1845-4a77-929b-eb864965b963')\"\n",
              "              title=\"Convert this dataframe to an interactive table.\"\n",
              "              style=\"display:none;\">\n",
              "        \n",
              "  <svg xmlns=\"http://www.w3.org/2000/svg\" height=\"24px\"viewBox=\"0 0 24 24\"\n",
              "       width=\"24px\">\n",
              "    <path d=\"M0 0h24v24H0V0z\" fill=\"none\"/>\n",
              "    <path d=\"M18.56 5.44l.94 2.06.94-2.06 2.06-.94-2.06-.94-.94-2.06-.94 2.06-2.06.94zm-11 1L8.5 8.5l.94-2.06 2.06-.94-2.06-.94L8.5 2.5l-.94 2.06-2.06.94zm10 10l.94 2.06.94-2.06 2.06-.94-2.06-.94-.94-2.06-.94 2.06-2.06.94z\"/><path d=\"M17.41 7.96l-1.37-1.37c-.4-.4-.92-.59-1.43-.59-.52 0-1.04.2-1.43.59L10.3 9.45l-7.72 7.72c-.78.78-.78 2.05 0 2.83L4 21.41c.39.39.9.59 1.41.59.51 0 1.02-.2 1.41-.59l7.78-7.78 2.81-2.81c.8-.78.8-2.07 0-2.86zM5.41 20L4 18.59l7.72-7.72 1.47 1.35L5.41 20z\"/>\n",
              "  </svg>\n",
              "      </button>\n",
              "      \n",
              "  <style>\n",
              "    .colab-df-container {\n",
              "      display:flex;\n",
              "      flex-wrap:wrap;\n",
              "      gap: 12px;\n",
              "    }\n",
              "\n",
              "    .colab-df-convert {\n",
              "      background-color: #E8F0FE;\n",
              "      border: none;\n",
              "      border-radius: 50%;\n",
              "      cursor: pointer;\n",
              "      display: none;\n",
              "      fill: #1967D2;\n",
              "      height: 32px;\n",
              "      padding: 0 0 0 0;\n",
              "      width: 32px;\n",
              "    }\n",
              "\n",
              "    .colab-df-convert:hover {\n",
              "      background-color: #E2EBFA;\n",
              "      box-shadow: 0px 1px 2px rgba(60, 64, 67, 0.3), 0px 1px 3px 1px rgba(60, 64, 67, 0.15);\n",
              "      fill: #174EA6;\n",
              "    }\n",
              "\n",
              "    [theme=dark] .colab-df-convert {\n",
              "      background-color: #3B4455;\n",
              "      fill: #D2E3FC;\n",
              "    }\n",
              "\n",
              "    [theme=dark] .colab-df-convert:hover {\n",
              "      background-color: #434B5C;\n",
              "      box-shadow: 0px 1px 3px 1px rgba(0, 0, 0, 0.15);\n",
              "      filter: drop-shadow(0px 1px 2px rgba(0, 0, 0, 0.3));\n",
              "      fill: #FFFFFF;\n",
              "    }\n",
              "  </style>\n",
              "\n",
              "      <script>\n",
              "        const buttonEl =\n",
              "          document.querySelector('#df-e46eb174-1845-4a77-929b-eb864965b963 button.colab-df-convert');\n",
              "        buttonEl.style.display =\n",
              "          google.colab.kernel.accessAllowed ? 'block' : 'none';\n",
              "\n",
              "        async function convertToInteractive(key) {\n",
              "          const element = document.querySelector('#df-e46eb174-1845-4a77-929b-eb864965b963');\n",
              "          const dataTable =\n",
              "            await google.colab.kernel.invokeFunction('convertToInteractive',\n",
              "                                                     [key], {});\n",
              "          if (!dataTable) return;\n",
              "\n",
              "          const docLinkHtml = 'Like what you see? Visit the ' +\n",
              "            '<a target=\"_blank\" href=https://colab.research.google.com/notebooks/data_table.ipynb>data table notebook</a>'\n",
              "            + ' to learn more about interactive tables.';\n",
              "          element.innerHTML = '';\n",
              "          dataTable['output_type'] = 'display_data';\n",
              "          await google.colab.output.renderOutput(dataTable, element);\n",
              "          const docLink = document.createElement('div');\n",
              "          docLink.innerHTML = docLinkHtml;\n",
              "          element.appendChild(docLink);\n",
              "        }\n",
              "      </script>\n",
              "    </div>\n",
              "  </div>\n",
              "  "
            ]
          },
          "metadata": {},
          "execution_count": 4
        }
      ],
      "source": [
        "data = pd.read_csv(\"/content/ner_dataset.csv\", encoding=\"latin1\")\n",
        "\n",
        "\n",
        "# Show the first 10 rows\n",
        "data.head(n=10)"
      ]
    },
    {
      "cell_type": "markdown",
      "metadata": {
        "id": "w8JSuWT5LroZ"
      },
      "source": [
        "We see in column \"Sentence #\"  sentence 1 is followed by NaN, so we need to fill the same we whatever the value is in top"
      ]
    },
    {
      "cell_type": "code",
      "execution_count": null,
      "metadata": {
        "id": "FG1B9XypLroZ",
        "outputId": "ee6c996a-e1d1-4d7d-f194-99312f8cba05",
        "colab": {
          "base_uri": "https://localhost:8080/",
          "height": 802
        }
      },
      "outputs": [
        {
          "output_type": "execute_result",
          "data": {
            "text/plain": [
              "     Sentence #           Word  POS    Tag\n",
              "0   Sentence: 1      Thousands  NNS      O\n",
              "1   Sentence: 1             of   IN      O\n",
              "2   Sentence: 1  demonstrators  NNS      O\n",
              "3   Sentence: 1           have  VBP      O\n",
              "4   Sentence: 1        marched  VBN      O\n",
              "5   Sentence: 1        through   IN      O\n",
              "6   Sentence: 1         London  NNP  B-geo\n",
              "7   Sentence: 1             to   TO      O\n",
              "8   Sentence: 1        protest   VB      O\n",
              "9   Sentence: 1            the   DT      O\n",
              "10  Sentence: 1            war   NN      O\n",
              "11  Sentence: 1             in   IN      O\n",
              "12  Sentence: 1           Iraq  NNP  B-geo\n",
              "13  Sentence: 1            and   CC      O\n",
              "14  Sentence: 1         demand   VB      O\n",
              "15  Sentence: 1            the   DT      O\n",
              "16  Sentence: 1     withdrawal   NN      O\n",
              "17  Sentence: 1             of   IN      O\n",
              "18  Sentence: 1        British   JJ  B-gpe\n",
              "19  Sentence: 1         troops  NNS      O\n",
              "20  Sentence: 1           from   IN      O\n",
              "21  Sentence: 1           that   DT      O\n",
              "22  Sentence: 1        country   NN      O\n",
              "23  Sentence: 1              .    .      O"
            ],
            "text/html": [
              "\n",
              "  <div id=\"df-6b33b977-1f4f-4705-872a-2354c40d0471\">\n",
              "    <div class=\"colab-df-container\">\n",
              "      <div>\n",
              "<style scoped>\n",
              "    .dataframe tbody tr th:only-of-type {\n",
              "        vertical-align: middle;\n",
              "    }\n",
              "\n",
              "    .dataframe tbody tr th {\n",
              "        vertical-align: top;\n",
              "    }\n",
              "\n",
              "    .dataframe thead th {\n",
              "        text-align: right;\n",
              "    }\n",
              "</style>\n",
              "<table border=\"1\" class=\"dataframe\">\n",
              "  <thead>\n",
              "    <tr style=\"text-align: right;\">\n",
              "      <th></th>\n",
              "      <th>Sentence #</th>\n",
              "      <th>Word</th>\n",
              "      <th>POS</th>\n",
              "      <th>Tag</th>\n",
              "    </tr>\n",
              "  </thead>\n",
              "  <tbody>\n",
              "    <tr>\n",
              "      <th>0</th>\n",
              "      <td>Sentence: 1</td>\n",
              "      <td>Thousands</td>\n",
              "      <td>NNS</td>\n",
              "      <td>O</td>\n",
              "    </tr>\n",
              "    <tr>\n",
              "      <th>1</th>\n",
              "      <td>Sentence: 1</td>\n",
              "      <td>of</td>\n",
              "      <td>IN</td>\n",
              "      <td>O</td>\n",
              "    </tr>\n",
              "    <tr>\n",
              "      <th>2</th>\n",
              "      <td>Sentence: 1</td>\n",
              "      <td>demonstrators</td>\n",
              "      <td>NNS</td>\n",
              "      <td>O</td>\n",
              "    </tr>\n",
              "    <tr>\n",
              "      <th>3</th>\n",
              "      <td>Sentence: 1</td>\n",
              "      <td>have</td>\n",
              "      <td>VBP</td>\n",
              "      <td>O</td>\n",
              "    </tr>\n",
              "    <tr>\n",
              "      <th>4</th>\n",
              "      <td>Sentence: 1</td>\n",
              "      <td>marched</td>\n",
              "      <td>VBN</td>\n",
              "      <td>O</td>\n",
              "    </tr>\n",
              "    <tr>\n",
              "      <th>5</th>\n",
              "      <td>Sentence: 1</td>\n",
              "      <td>through</td>\n",
              "      <td>IN</td>\n",
              "      <td>O</td>\n",
              "    </tr>\n",
              "    <tr>\n",
              "      <th>6</th>\n",
              "      <td>Sentence: 1</td>\n",
              "      <td>London</td>\n",
              "      <td>NNP</td>\n",
              "      <td>B-geo</td>\n",
              "    </tr>\n",
              "    <tr>\n",
              "      <th>7</th>\n",
              "      <td>Sentence: 1</td>\n",
              "      <td>to</td>\n",
              "      <td>TO</td>\n",
              "      <td>O</td>\n",
              "    </tr>\n",
              "    <tr>\n",
              "      <th>8</th>\n",
              "      <td>Sentence: 1</td>\n",
              "      <td>protest</td>\n",
              "      <td>VB</td>\n",
              "      <td>O</td>\n",
              "    </tr>\n",
              "    <tr>\n",
              "      <th>9</th>\n",
              "      <td>Sentence: 1</td>\n",
              "      <td>the</td>\n",
              "      <td>DT</td>\n",
              "      <td>O</td>\n",
              "    </tr>\n",
              "    <tr>\n",
              "      <th>10</th>\n",
              "      <td>Sentence: 1</td>\n",
              "      <td>war</td>\n",
              "      <td>NN</td>\n",
              "      <td>O</td>\n",
              "    </tr>\n",
              "    <tr>\n",
              "      <th>11</th>\n",
              "      <td>Sentence: 1</td>\n",
              "      <td>in</td>\n",
              "      <td>IN</td>\n",
              "      <td>O</td>\n",
              "    </tr>\n",
              "    <tr>\n",
              "      <th>12</th>\n",
              "      <td>Sentence: 1</td>\n",
              "      <td>Iraq</td>\n",
              "      <td>NNP</td>\n",
              "      <td>B-geo</td>\n",
              "    </tr>\n",
              "    <tr>\n",
              "      <th>13</th>\n",
              "      <td>Sentence: 1</td>\n",
              "      <td>and</td>\n",
              "      <td>CC</td>\n",
              "      <td>O</td>\n",
              "    </tr>\n",
              "    <tr>\n",
              "      <th>14</th>\n",
              "      <td>Sentence: 1</td>\n",
              "      <td>demand</td>\n",
              "      <td>VB</td>\n",
              "      <td>O</td>\n",
              "    </tr>\n",
              "    <tr>\n",
              "      <th>15</th>\n",
              "      <td>Sentence: 1</td>\n",
              "      <td>the</td>\n",
              "      <td>DT</td>\n",
              "      <td>O</td>\n",
              "    </tr>\n",
              "    <tr>\n",
              "      <th>16</th>\n",
              "      <td>Sentence: 1</td>\n",
              "      <td>withdrawal</td>\n",
              "      <td>NN</td>\n",
              "      <td>O</td>\n",
              "    </tr>\n",
              "    <tr>\n",
              "      <th>17</th>\n",
              "      <td>Sentence: 1</td>\n",
              "      <td>of</td>\n",
              "      <td>IN</td>\n",
              "      <td>O</td>\n",
              "    </tr>\n",
              "    <tr>\n",
              "      <th>18</th>\n",
              "      <td>Sentence: 1</td>\n",
              "      <td>British</td>\n",
              "      <td>JJ</td>\n",
              "      <td>B-gpe</td>\n",
              "    </tr>\n",
              "    <tr>\n",
              "      <th>19</th>\n",
              "      <td>Sentence: 1</td>\n",
              "      <td>troops</td>\n",
              "      <td>NNS</td>\n",
              "      <td>O</td>\n",
              "    </tr>\n",
              "    <tr>\n",
              "      <th>20</th>\n",
              "      <td>Sentence: 1</td>\n",
              "      <td>from</td>\n",
              "      <td>IN</td>\n",
              "      <td>O</td>\n",
              "    </tr>\n",
              "    <tr>\n",
              "      <th>21</th>\n",
              "      <td>Sentence: 1</td>\n",
              "      <td>that</td>\n",
              "      <td>DT</td>\n",
              "      <td>O</td>\n",
              "    </tr>\n",
              "    <tr>\n",
              "      <th>22</th>\n",
              "      <td>Sentence: 1</td>\n",
              "      <td>country</td>\n",
              "      <td>NN</td>\n",
              "      <td>O</td>\n",
              "    </tr>\n",
              "    <tr>\n",
              "      <th>23</th>\n",
              "      <td>Sentence: 1</td>\n",
              "      <td>.</td>\n",
              "      <td>.</td>\n",
              "      <td>O</td>\n",
              "    </tr>\n",
              "  </tbody>\n",
              "</table>\n",
              "</div>\n",
              "      <button class=\"colab-df-convert\" onclick=\"convertToInteractive('df-6b33b977-1f4f-4705-872a-2354c40d0471')\"\n",
              "              title=\"Convert this dataframe to an interactive table.\"\n",
              "              style=\"display:none;\">\n",
              "        \n",
              "  <svg xmlns=\"http://www.w3.org/2000/svg\" height=\"24px\"viewBox=\"0 0 24 24\"\n",
              "       width=\"24px\">\n",
              "    <path d=\"M0 0h24v24H0V0z\" fill=\"none\"/>\n",
              "    <path d=\"M18.56 5.44l.94 2.06.94-2.06 2.06-.94-2.06-.94-.94-2.06-.94 2.06-2.06.94zm-11 1L8.5 8.5l.94-2.06 2.06-.94-2.06-.94L8.5 2.5l-.94 2.06-2.06.94zm10 10l.94 2.06.94-2.06 2.06-.94-2.06-.94-.94-2.06-.94 2.06-2.06.94z\"/><path d=\"M17.41 7.96l-1.37-1.37c-.4-.4-.92-.59-1.43-.59-.52 0-1.04.2-1.43.59L10.3 9.45l-7.72 7.72c-.78.78-.78 2.05 0 2.83L4 21.41c.39.39.9.59 1.41.59.51 0 1.02-.2 1.41-.59l7.78-7.78 2.81-2.81c.8-.78.8-2.07 0-2.86zM5.41 20L4 18.59l7.72-7.72 1.47 1.35L5.41 20z\"/>\n",
              "  </svg>\n",
              "      </button>\n",
              "      \n",
              "  <style>\n",
              "    .colab-df-container {\n",
              "      display:flex;\n",
              "      flex-wrap:wrap;\n",
              "      gap: 12px;\n",
              "    }\n",
              "\n",
              "    .colab-df-convert {\n",
              "      background-color: #E8F0FE;\n",
              "      border: none;\n",
              "      border-radius: 50%;\n",
              "      cursor: pointer;\n",
              "      display: none;\n",
              "      fill: #1967D2;\n",
              "      height: 32px;\n",
              "      padding: 0 0 0 0;\n",
              "      width: 32px;\n",
              "    }\n",
              "\n",
              "    .colab-df-convert:hover {\n",
              "      background-color: #E2EBFA;\n",
              "      box-shadow: 0px 1px 2px rgba(60, 64, 67, 0.3), 0px 1px 3px 1px rgba(60, 64, 67, 0.15);\n",
              "      fill: #174EA6;\n",
              "    }\n",
              "\n",
              "    [theme=dark] .colab-df-convert {\n",
              "      background-color: #3B4455;\n",
              "      fill: #D2E3FC;\n",
              "    }\n",
              "\n",
              "    [theme=dark] .colab-df-convert:hover {\n",
              "      background-color: #434B5C;\n",
              "      box-shadow: 0px 1px 3px 1px rgba(0, 0, 0, 0.15);\n",
              "      filter: drop-shadow(0px 1px 2px rgba(0, 0, 0, 0.3));\n",
              "      fill: #FFFFFF;\n",
              "    }\n",
              "  </style>\n",
              "\n",
              "      <script>\n",
              "        const buttonEl =\n",
              "          document.querySelector('#df-6b33b977-1f4f-4705-872a-2354c40d0471 button.colab-df-convert');\n",
              "        buttonEl.style.display =\n",
              "          google.colab.kernel.accessAllowed ? 'block' : 'none';\n",
              "\n",
              "        async function convertToInteractive(key) {\n",
              "          const element = document.querySelector('#df-6b33b977-1f4f-4705-872a-2354c40d0471');\n",
              "          const dataTable =\n",
              "            await google.colab.kernel.invokeFunction('convertToInteractive',\n",
              "                                                     [key], {});\n",
              "          if (!dataTable) return;\n",
              "\n",
              "          const docLinkHtml = 'Like what you see? Visit the ' +\n",
              "            '<a target=\"_blank\" href=https://colab.research.google.com/notebooks/data_table.ipynb>data table notebook</a>'\n",
              "            + ' to learn more about interactive tables.';\n",
              "          element.innerHTML = '';\n",
              "          dataTable['output_type'] = 'display_data';\n",
              "          await google.colab.output.renderOutput(dataTable, element);\n",
              "          const docLink = document.createElement('div');\n",
              "          docLink.innerHTML = docLinkHtml;\n",
              "          element.appendChild(docLink);\n",
              "        }\n",
              "      </script>\n",
              "    </div>\n",
              "  </div>\n",
              "  "
            ]
          },
          "metadata": {},
          "execution_count": 5
        }
      ],
      "source": [
        "data = data.fillna(method=\"ffill\")\n",
        "data.head(n=24)"
      ]
    },
    {
      "cell_type": "markdown",
      "metadata": {
        "id": "He4CDcfXLroa"
      },
      "source": [
        "Now, this looks better.\n",
        "\n",
        "As we see the dataset has 4 columns\n",
        "- Sentence # (the sentence number)\n",
        "- Word\n",
        "- POS\n",
        "- Tag (the annotation which is manually labelled against each word)\n",
        "\n",
        "This method of labelling is known as sequence labelling. Let's take a look at some of the numbers./"
      ]
    },
    {
      "cell_type": "code",
      "execution_count": null,
      "metadata": {
        "id": "3uzkw4yLLroa",
        "outputId": "c255c537-860a-4660-e805-db5c68d47fa3",
        "colab": {
          "base_uri": "https://localhost:8080/"
        }
      },
      "outputs": [
        {
          "output_type": "execute_result",
          "data": {
            "text/plain": [
              "(1048575, 4)"
            ]
          },
          "metadata": {},
          "execution_count": 6
        }
      ],
      "source": [
        "data.shape"
      ]
    },
    {
      "cell_type": "code",
      "execution_count": null,
      "metadata": {
        "id": "GWm3xabsLroa",
        "outputId": "9eb9cb5e-45d4-4e52-9b3e-416fd3aca83a",
        "colab": {
          "base_uri": "https://localhost:8080/"
        }
      },
      "outputs": [
        {
          "output_type": "stream",
          "name": "stdout",
          "text": [
            "Number of sentences:  47959\n"
          ]
        }
      ],
      "source": [
        "print(\"Number of sentences: \", len(data.groupby(['Sentence #'])))\n"
      ]
    },
    {
      "cell_type": "code",
      "execution_count": null,
      "metadata": {
        "id": "2897jPOrLrob",
        "outputId": "cf33f377-f962-4ed7-cfc3-2c65c823bc3e",
        "colab": {
          "base_uri": "https://localhost:8080/"
        }
      },
      "outputs": [
        {
          "output_type": "stream",
          "name": "stdout",
          "text": [
            "Number of unique words in the dataset:  35178\n"
          ]
        }
      ],
      "source": [
        "words = list(set(data[\"Word\"].values))\n",
        "n_words = len(words)\n",
        "print(\"Number of unique words in the dataset: \", n_words)"
      ]
    },
    {
      "cell_type": "markdown",
      "metadata": {
        "id": "p3Yf_Q9rLroc"
      },
      "source": [
        "The number of words is less than number of sentence. Its becuase we can have same word in different sentences."
      ]
    },
    {
      "cell_type": "code",
      "execution_count": null,
      "metadata": {
        "id": "Fyo1n-miLroc",
        "outputId": "dc326ef8-246c-46e7-a44f-4a21471a75ce",
        "colab": {
          "base_uri": "https://localhost:8080/"
        }
      },
      "outputs": [
        {
          "output_type": "stream",
          "name": "stdout",
          "text": [
            "Number of Labels:  17\n"
          ]
        }
      ],
      "source": [
        "n_tags = len(data.groupby(['Tag']))\n",
        "print(\"Number of Labels: \", n_tags)\n"
      ]
    },
    {
      "cell_type": "code",
      "execution_count": null,
      "metadata": {
        "id": "jpcA7KSrLrod",
        "outputId": "3c6b7769-9c88-4bc5-853c-f7ad3685779a",
        "colab": {
          "base_uri": "https://localhost:8080/"
        }
      },
      "outputs": [
        {
          "output_type": "stream",
          "name": "stdout",
          "text": [
            "Tags: ['I-geo', 'I-art', 'I-eve', 'B-eve', 'B-tim', 'O', 'I-org', 'I-gpe', 'B-art', 'I-tim', 'B-nat', 'I-nat', 'B-per', 'B-org', 'I-per', 'B-gpe', 'B-geo']\n"
          ]
        }
      ],
      "source": [
        "tags = list(set(data[\"Tag\"].values))\n",
        "print(\"Tags:\", tags)"
      ]
    },
    {
      "cell_type": "markdown",
      "metadata": {
        "id": "qVJ04mhILrod"
      },
      "source": [
        "<b>\n",
        "\n",
        "- geo = Geographical Entity\n",
        "- org = Organization\n",
        "- per = Person\n",
        "- gpe = Geopolitical Entity\n",
        "- tim = Time indicator\n",
        "- art = Artifact\n",
        "- eve = Event\n",
        "- nat = Natural Phenomenon\n",
        "    \n",
        "</b>"
      ]
    },
    {
      "cell_type": "code",
      "execution_count": null,
      "metadata": {
        "id": "KAs7smJ8Lroe",
        "outputId": "fffa1a8e-01de-450e-b706-5d1165c388e6",
        "colab": {
          "base_uri": "https://localhost:8080/"
        }
      },
      "outputs": [
        {
          "output_type": "execute_result",
          "data": {
            "text/plain": [
              "O        887908\n",
              "B-geo     37644\n",
              "B-tim     20333\n",
              "B-org     20143\n",
              "I-per     17251\n",
              "B-per     16990\n",
              "I-org     16784\n",
              "B-gpe     15870\n",
              "I-geo      7414\n",
              "I-tim      6528\n",
              "B-art       402\n",
              "B-eve       308\n",
              "I-art       297\n",
              "I-eve       253\n",
              "B-nat       201\n",
              "I-gpe       198\n",
              "I-nat        51\n",
              "Name: Tag, dtype: int64"
            ]
          },
          "metadata": {},
          "execution_count": 11
        }
      ],
      "source": [
        "#let's check the frequency of each tag\n",
        "data['Tag'].value_counts()"
      ]
    },
    {
      "cell_type": "markdown",
      "metadata": {
        "id": "8rR9mjiJLroe"
      },
      "source": [
        "We can see the <b> GEO (gepgraphic location) tag has the max frequency </b>, followed by time entity.\n"
      ]
    },
    {
      "cell_type": "markdown",
      "metadata": {
        "id": "-3DlsMxeLrof"
      },
      "source": [
        "## Preprocessing"
      ]
    },
    {
      "cell_type": "markdown",
      "metadata": {
        "id": "Dh9Li7uALrof"
      },
      "source": [
        "For Preprocessing, we will first put each sentence through a function which will <b> put each of the words along with its POS and Tag together in a tuple</b>. Each sentence will form a list of tuples."
      ]
    },
    {
      "cell_type": "code",
      "execution_count": null,
      "metadata": {
        "id": "ec3P9FEALrof",
        "outputId": "dc300fcc-8910-44f5-d7ed-62304c652eb4",
        "colab": {
          "base_uri": "https://localhost:8080/"
        }
      },
      "outputs": [
        {
          "output_type": "stream",
          "name": "stdout",
          "text": [
            "This is what a sentence looks like:\n",
            "[('Thousands', 'NNS', 'O'), ('of', 'IN', 'O'), ('demonstrators', 'NNS', 'O'), ('have', 'VBP', 'O'), ('marched', 'VBN', 'O'), ('through', 'IN', 'O'), ('London', 'NNP', 'B-geo'), ('to', 'TO', 'O'), ('protest', 'VB', 'O'), ('the', 'DT', 'O'), ('war', 'NN', 'O'), ('in', 'IN', 'O'), ('Iraq', 'NNP', 'B-geo'), ('and', 'CC', 'O'), ('demand', 'VB', 'O'), ('the', 'DT', 'O'), ('withdrawal', 'NN', 'O'), ('of', 'IN', 'O'), ('British', 'JJ', 'B-gpe'), ('troops', 'NNS', 'O'), ('from', 'IN', 'O'), ('that', 'DT', 'O'), ('country', 'NN', 'O'), ('.', '.', 'O')]\n"
          ]
        }
      ],
      "source": [
        "class SentenceGetter(object):\n",
        "    \"\"\"Class to Get the sentence in this format:\n",
        "    [(Token_1, Part_of_Speech_1, Tag_1), ..., (Token_n, Part_of_Speech_n, Tag_n)]\"\"\"\n",
        "    def __init__(self, data):\n",
        "        \"\"\"Args:\n",
        "            data is the pandas.DataFrame which contains the above dataset\"\"\"\n",
        "        self.n_sent = 1\n",
        "        self.data = data\n",
        "        self.empty = False\n",
        "        agg_func = lambda s: [(w, p, t) for w, p, t in zip(s[\"Word\"].values.tolist(),\n",
        "                                                           s[\"POS\"].values.tolist(),\n",
        "                                                           s[\"Tag\"].values.tolist())]\n",
        "        self.grouped = self.data.groupby(\"Sentence #\").apply(agg_func)\n",
        "        self.sentences = [s for s in self.grouped]\n",
        "\n",
        "    def get_next(self):\n",
        "        \"\"\"Return one sentence\"\"\"\n",
        "        try:\n",
        "            s = self.grouped[\"Sentence: {}\".format(self.n_sent)]\n",
        "            self.n_sent += 1\n",
        "            return s\n",
        "        except:\n",
        "            return None\n",
        "\n",
        "getter = SentenceGetter(data)\n",
        "sent = getter.get_next()\n",
        "print('This is what a sentence looks like:')\n",
        "print(sent)"
      ]
    },
    {
      "cell_type": "code",
      "execution_count": null,
      "metadata": {
        "id": "uJ4gU5loLrof",
        "outputId": "246ad46d-e367-430c-da45-33f16d4564f0",
        "colab": {
          "base_uri": "https://localhost:8080/",
          "height": 295
        }
      },
      "outputs": [
        {
          "output_type": "display_data",
          "data": {
            "text/plain": [
              "<Figure size 432x288 with 1 Axes>"
            ],
            "image/png": "[encoded data removed]"
          },
          "metadata": {
            "needs_background": "light"
          }
        }
      ],
      "source": [
        "# Get all the sentences\n",
        "sentences = getter.sentences\n",
        "# Plot sentence by lenght\n",
        "plt.hist([len(s) for s in sentences], bins=50)\n",
        "plt.title('Token per sentence')\n",
        "plt.xlabel('Len (number of token)')\n",
        "plt.ylabel('# samples')\n",
        "plt.show()"
      ]
    },
    {
      "cell_type": "markdown",
      "metadata": {
        "id": "WvOE0YJTLrof"
      },
      "source": [
        "From the histogram, we can see most of the sentences have around <b> 15 to 30 tokens </b>. Tokens can we referred as words ignoring punctuation marks."
      ]
    },
    {
      "cell_type": "markdown",
      "metadata": {
        "id": "PykCRIY6Lrog"
      },
      "source": [
        "- <b>Further PreProcessing:</b>\n",
        "\n",
        "- We will convert each text word to a corresponding integer ID using the <b> word2idx dictionary</b>. Doing so saves a lot of memory.\n",
        "- In order to feed the data to out Bi-LSTM-CRF model, we need to ensure that all text should be of the same length.\n",
        " - The method sequence.pad_sequences() and variable MAX_LEN are used for this purpose.\n",
        " - The text which are shorter than MAX_LEN are padded to get them to the same length, whereas text which are longer than MAX_LEN are truncated."
      ]
    },
    {
      "cell_type": "code",
      "execution_count": null,
      "metadata": {
        "id": "0CvBgR1vLrog",
        "outputId": "a2169b73-5e3f-4690-b5b9-5d5f5038e108",
        "colab": {
          "base_uri": "https://localhost:8080/"
        }
      },
      "outputs": [
        {
          "output_type": "stream",
          "name": "stdout",
          "text": [
            "The word Obama is identified by the index: 2888\n",
            "The labels B-geo(which defines Geopraphical Enitities) is identified by the index: 17\n"
          ]
        }
      ],
      "source": [
        "import sklearn\n",
        "\n",
        "# Vocabulary Key:word -> Value:token_index\n",
        "# The first 2 entries are reserved for PAD and UNK\n",
        "word2idx = {w: i + 2 for i, w in enumerate(words)}\n",
        "word2idx[\"UNK\"] = 1 # Unknown words\n",
        "word2idx[\"PAD\"] = 0 # Padding\n",
        "\n",
        "# Vocabulary Key:token_index -> Value:word\n",
        "idx2word = {i: w for w, i in word2idx.items()}\n",
        "\n",
        "# Vocabulary Key:Label/Tag -> Value:tag_index\n",
        "# The first entry is reserved for PAD\n",
        "tag2idx = {t: i+1 for i, t in enumerate(tags)}\n",
        "tag2idx[\"PAD\"] = 0\n",
        "\n",
        "# Vocabulary Key:tag_index -> Value:Label/Tag\n",
        "idx2tag = {i: w for w, i in tag2idx.items()}\n",
        "print(\"The word Obama is identified by the index: {}\".format(word2idx[\"Obama\"]))\n",
        "print(\"The labels B-geo(which defines Geopraphical Enitities) is identified by the index: {}\".format(tag2idx[\"B-geo\"]))\n"
      ]
    },
    {
      "cell_type": "code",
      "execution_count": null,
      "metadata": {
        "id": "fxrM4890Lrog",
        "outputId": "1a17f9be-c0dd-4b37-8885-ae17f3cd06d5",
        "colab": {
          "base_uri": "https://localhost:8080/"
        }
      },
      "outputs": [
        {
          "output_type": "stream",
          "name": "stdout",
          "text": [
            "Raw Sample:\n",
            "  Thousands of demonstrators have marched through London to protest the war in Iraq and demand the withdrawal of British troops from that country .\n",
            "\n",
            " \n",
            "Raw Label:\n",
            "  O O O O O O B-geo O O O O O B-geo O O O O O B-gpe O O O O O\n",
            "\n",
            " \n",
            "After processing, sample:\n",
            " [11251 23279 10963  6389   584 12374  7383  7376  7296 15453  4324 26289\n",
            " 10427 32060  1488 15453 12161 23279 17470 15923 24358  4447   396 24941\n",
            "     0     0     0     0     0     0     0     0     0     0     0     0\n",
            "     0     0     0     0     0     0     0     0     0     0     0     0\n",
            "     0     0     0     0     0     0     0     0     0     0     0     0\n",
            "     0     0     0     0     0     0     0     0     0     0     0     0\n",
            "     0     0     0]\n",
            "\n",
            " \n",
            "After processing, labels:\n",
            " [[0. 0. 0. ... 0. 0. 0.]\n",
            " [0. 0. 0. ... 0. 0. 0.]\n",
            " [0. 0. 0. ... 0. 0. 0.]\n",
            " ...\n",
            " [1. 0. 0. ... 0. 0. 0.]\n",
            " [1. 0. 0. ... 0. 0. 0.]\n",
            " [1. 0. 0. ... 0. 0. 0.]]\n"
          ]
        }
      ],
      "source": [
        "#from keras.preprocessing.sequence import pad_sequences\n",
        "from keras_preprocessing.sequence import pad_sequences\n",
        "\n",
        "# Convert each sentence from list of Token to list of word_index\n",
        "X = [[word2idx[w[0]] for w in s] for s in sentences]\n",
        "\n",
        "# Padding each sentence to have the same lenght\n",
        "X = pad_sequences(maxlen=MAX_LEN, sequences=X, padding=\"post\", value=word2idx[\"PAD\"])\n",
        "\n",
        "# Convert Tag/Label to tag_index\n",
        "y = [[tag2idx[w[2]] for w in s] for s in sentences]\n",
        "\n",
        "# Padding each sentence to have the same lenght\n",
        "y = pad_sequences(maxlen=MAX_LEN, sequences=y, padding=\"post\", value=tag2idx[\"PAD\"])\n",
        "from keras.utils import to_categorical\n",
        "\n",
        "# One-Hot encode\n",
        "y = [to_categorical(i, num_classes=n_tags+1) for i in y]  # n_tags+1(PAD)\n",
        "from sklearn.model_selection import train_test_split\n",
        "X_tr, X_te, y_tr, y_te = train_test_split(X, y, test_size=0.1)\n",
        "X_tr.shape, X_te.shape, np.array(y_tr).shape, np.array(y_te).shape\n",
        "\n",
        "\n",
        "print('Raw Sample:\\n ', ' '.join([w[0] for w in sentences[0]]))\n",
        "print('\\n ' )\n",
        "print('Raw Label:\\n ', ' '.join([w[2] for w in sentences[0]]))\n",
        "print('\\n ' )\n",
        "print('After processing, sample:\\n', X[0])\n",
        "print('\\n ' )\n",
        "print('After processing, labels:\\n', y[0])"
      ]
    },
    {
      "cell_type": "code",
      "source": [
        "y_tr = np.array(y_tr)\n",
        "y_te = np.array(y_te)"
      ],
      "metadata": {
        "id": "uBhPUyfPCA-U"
      },
      "execution_count": null,
      "outputs": []
    },
    {
      "cell_type": "markdown",
      "metadata": {
        "id": "zYEmqcK8Lrog"
      },
      "source": [
        "## Model Building - Bi-LSTM + CRF"
      ]
    },
    {
      "cell_type": "code",
      "source": [
        "!pip install tensorflow_addons"
      ],
      "metadata": {
        "colab": {
          "base_uri": "https://localhost:8080/"
        },
        "id": "VaVCOXk3zRRX",
        "outputId": "7c99e7ec-d320-4e4c-e228-c66b9332f41c"
      },
      "execution_count": null,
      "outputs": [
        {
          "output_type": "stream",
          "name": "stdout",
          "text": [
            "Looking in indexes: https://pypi.org/simple, https://us-python.pkg.dev/colab-wheels/public/simple/\n",
            "Collecting tensorflow_addons\n",
            "  Downloading tensorflow_addons-0.19.0-cp38-cp38-manylinux_2_17_x86_64.manylinux2014_x86_64.whl (1.1 MB)\n",
            "\u001b[2K     \u001b[90m━━━━━━━━━━━━━━━━━━━━━━━━━━━━━━━━━━━━━━━━\u001b[0m \u001b[32m1.1/1.1 MB\u001b[0m \u001b[31m54.6 MB/s\u001b[0m eta \u001b[36m0:00:00\u001b[0m\n",
            "\u001b[?25hRequirement already satisfied: packaging in /usr/local/lib/python3.8/dist-packages (from tensorflow_addons) (21.3)\n",
            "Requirement already satisfied: typeguard>=2.7 in /usr/local/lib/python3.8/dist-packages (from tensorflow_addons) (2.7.1)\n",
            "Requirement already satisfied: pyparsing!=3.0.5,>=2.0.2 in /usr/local/lib/python3.8/dist-packages (from packaging->tensorflow_addons) (3.0.9)\n",
            "Installing collected packages: tensorflow_addons\n",
            "Successfully installed tensorflow_addons-0.19.0\n"
          ]
        }
      ]
    },
    {
      "cell_type": "code",
      "source": [
        "from keras.models import Model\n",
        "from tensorflow.keras.layers import Input\n",
        "from tensorflow_addons.utils.types import FloatTensorLike, TensorLike\n",
        "\n",
        "# LSTM components\n",
        "from keras.layers import LSTM, Embedding, Dense, TimeDistributed, Dropout, Bidirectional\n",
        "\n",
        "# CRF layer\n",
        "from tensorflow_addons.layers import CRF\n",
        "\n",
        "# Sigmoid focal cross entropy loss. works well with highly unbalanced input data\n",
        "from tensorflow_addons.losses import SigmoidFocalCrossEntropy\n",
        "from tensorflow_addons.optimizers import AdamW\n",
        "\n",
        "\n",
        "def build_model(max_len = 75, input_dim = 35180, embedding_dim = 200):\n",
        "  # Model definition\n",
        "  input = Input(shape=(max_len,))\n",
        "\n",
        "  # Get embeddings\n",
        "  embeddings = Embedding(input_dim=input_dim,\n",
        "                      output_dim=embedding_dim,\n",
        "                      input_length=max_len, mask_zero=True,\n",
        "                    )(input)\n",
        "\n",
        "  # variational biLSTM\n",
        "  output_sequences = Bidirectional(LSTM(units=50, return_sequences=True))(embeddings)\n",
        "\n",
        "  # Stacking\n",
        "  output_sequences = Bidirectional(LSTM(units=50, return_sequences=True))(output_sequences)\n",
        "\n",
        "  # Adding more non-linearity\n",
        "  dense_out = TimeDistributed(Dense(25, activation=\"relu\"))(output_sequences)\n",
        "\n",
        "  # CRF layer\n",
        "  crf = CRF(18, name='crf')\n",
        "  predicted_sequence, potentials, sequence_length, crf_kernel = crf(dense_out)\n",
        "\n",
        "  model = Model(input, potentials)\n",
        "  model.compile(\n",
        "      optimizer=AdamW(weight_decay=0.001),\n",
        "      loss= SigmoidFocalCrossEntropy()) # Sigmoid focal cross entropy loss\n",
        "\n",
        "  return model\n",
        "\n",
        "model = build_model()\n",
        "\n",
        "# Checkpointing\n",
        "save_model = tf.keras.callbacks.ModelCheckpoint(filepath='twitter_ner_crf.h5',\n",
        "  monitor='val_loss',\n",
        "  save_weights_only=True,\n",
        "  save_best_only=True,\n",
        "  verbose=1\n",
        ")\n",
        "\n",
        "# Early stopping\n",
        "es = tf.keras.callbacks.EarlyStopping(monitor='val_loss', verbose=1, patience=10)\n",
        "\n",
        "callbacks = [save_model, es]\n",
        "\n",
        "model.summary()"
      ],
      "metadata": {
        "colab": {
          "base_uri": "https://localhost:8080/"
        },
        "id": "uPHAfQNrClF_",
        "outputId": "9e924cc6-5963-4707-fac9-14b20404a1f1"
      },
      "execution_count": null,
      "outputs": [
        {
          "output_type": "stream",
          "name": "stdout",
          "text": [
            "Model: \"model\"\n",
            "_________________________________________________________________\n",
            " Layer (type)                Output Shape              Param #   \n",
            "=================================================================\n",
            " input_1 (InputLayer)        [(None, 75)]              0         \n",
            "                                                                 \n",
            " embedding (Embedding)       (None, 75, 200)           7036000   \n",
            "                                                                 \n",
            " bidirectional (Bidirectiona  (None, 75, 100)          100400    \n",
            " l)                                                              \n",
            "                                                                 \n",
            " bidirectional_1 (Bidirectio  (None, 75, 100)          60400     \n",
            " nal)                                                            \n",
            "                                                                 \n",
            " time_distributed (TimeDistr  (None, 75, 25)           2525      \n",
            " ibuted)                                                         \n",
            "                                                                 \n",
            " crf (CRF)                   [(None, 75),              828       \n",
            "                              (None, 75, 18),                    \n",
            "                              (None,),                           \n",
            "                              (18, 18)]                          \n",
            "                                                                 \n",
            "=================================================================\n",
            "Total params: 7,200,153\n",
            "Trainable params: 7,200,153\n",
            "Non-trainable params: 0\n",
            "_________________________________________________________________\n"
          ]
        }
      ]
    },
    {
      "cell_type": "markdown",
      "source": [
        "# What are potentials?\n",
        "- Potentials are outputs of feature functions in a CRF model.\n",
        "- In a linear chain CRF, they can be further divided into transition and emission potentials.\n",
        "- These potentials are then processed by a CRF kernel and sequences are generated using algorithms like [viterbi decoding](https://en.wikipedia.org/wiki/Viterbi_decoder)\n",
        "- A simple implementation of a CRF kernel can be found [here](https://pytorch.org/tutorials/beginner/nlp/advanced_tutorial.html#advanced-making-dynamic-decisions-and-the-bi-lstm-crf). Implementation of CRF kernel by tensorflow can be found on their [github](https://github.com/tensorflow/addons/blob/v0.17.0/tensorflow_addons/layers/crf.py)"
      ],
      "metadata": {
        "id": "5DrPw_BHGIH1"
      }
    },
    {
      "cell_type": "code",
      "source": [
        "model.fit(X_tr, y_tr, validation_data = (X_te, y_te), shuffle = True)"
      ],
      "metadata": {
        "colab": {
          "base_uri": "https://localhost:8080/"
        },
        "id": "1LiwSOwxEVGg",
        "outputId": "2c1297e5-675f-4776-c227-44e27568ea09"
      },
      "execution_count": null,
      "outputs": [
        {
          "output_type": "stream",
          "name": "stderr",
          "text": [
            "WARNING:tensorflow:Gradients do not exist for variables ['chain_kernel:0'] when minimizing the loss. If you're using `model.compile()`, did you forget to provide a `loss`argument?\n",
            "WARNING:tensorflow:Gradients do not exist for variables ['chain_kernel:0'] when minimizing the loss. If you're using `model.compile()`, did you forget to provide a `loss`argument?\n"
          ]
        },
        {
          "output_type": "stream",
          "name": "stdout",
          "text": [
            "1349/1349 [==============================] - 76s 35ms/step - loss: 0.1349 - val_loss: 0.0305\n"
          ]
        },
        {
          "output_type": "execute_result",
          "data": {
            "text/plain": [
              "<keras.callbacks.History at 0x7f653dd41220>"
            ]
          },
          "metadata": {},
          "execution_count": 19
        }
      ]
    },
    {
      "cell_type": "markdown",
      "metadata": {
        "id": "7bUKnzfrLroh"
      },
      "source": [
        "Now, let's again go back to our original ask.\n",
        "- We need to find relation between drug name and problems it is causing.\n",
        "\n",
        "### But there are <b> 2 obstacles </b> :\n",
        "- But we <b>don't have any entity</b> tags which talk either about <b>drug name</b> or <b> side effects/problems/diseases </b>.\n",
        "- We <b> need a lot of annotated data from a specific domain </b> (in this case BioMedical data)\n",
        "\n",
        "### How do we tackle it?\n",
        "\n",
        "- The answer is we use a pre-trained domain specific NER. There are domain specific NERs such as banking, e-commerce, manufacturing, bio-medical NER.  \n",
        "\n",
        "- Before that, let's check the dataset which has review data from a pharma company."
      ]
    },
    {
      "cell_type": "code",
      "execution_count": null,
      "metadata": {
        "id": "8Rz79TtyLroh",
        "outputId": "2a377c28-7842-4b10-fbd9-2ca271f6513d",
        "colab": {
          "base_uri": "https://localhost:8080/",
          "height": 206
        }
      },
      "outputs": [
        {
          "output_type": "execute_result",
          "data": {
            "text/plain": [
              "   uniqueID                  drugName                     condition  \\\n",
              "0  206461.0                 Valsartan  Left Ventricular Dysfunction   \n",
              "1   95260.0                Guanfacine                          ADHD   \n",
              "2   92703.0                    Lybrel                 Birth Control   \n",
              "3  138000.0                Ortho Evra                 Birth Control   \n",
              "4   35696.0  Buprenorphine / naloxone             Opiate Dependence   \n",
              "\n",
              "                                              review  rating       date  \\\n",
              "0  \"It has no side effect, I take it in combinati...     9.0  20-May-12   \n",
              "1  \"My son is halfway through his fourth week of ...     8.0  27-Apr-10   \n",
              "2  \"I used to take another oral contraceptive, wh...     5.0  14-Dec-09   \n",
              "3  \"This is my first time using any form of birth...     8.0  03-Nov-15   \n",
              "4  \"Suboxone has completely turned my life around...     9.0  27-Nov-16   \n",
              "\n",
              "   usefulCount  \n",
              "0         27.0  \n",
              "1        192.0  \n",
              "2         17.0  \n",
              "3         10.0  \n",
              "4         37.0  "
            ],
            "text/html": [
              "\n",
              "  <div id=\"df-1240cada-d608-4c41-865c-2963f9d64b47\">\n",
              "    <div class=\"colab-df-container\">\n",
              "      <div>\n",
              "<style scoped>\n",
              "    .dataframe tbody tr th:only-of-type {\n",
              "        vertical-align: middle;\n",
              "    }\n",
              "\n",
              "    .dataframe tbody tr th {\n",
              "        vertical-align: top;\n",
              "    }\n",
              "\n",
              "    .dataframe thead th {\n",
              "        text-align: right;\n",
              "    }\n",
              "</style>\n",
              "<table border=\"1\" class=\"dataframe\">\n",
              "  <thead>\n",
              "    <tr style=\"text-align: right;\">\n",
              "      <th></th>\n",
              "      <th>uniqueID</th>\n",
              "      <th>drugName</th>\n",
              "      <th>condition</th>\n",
              "      <th>review</th>\n",
              "      <th>rating</th>\n",
              "      <th>date</th>\n",
              "      <th>usefulCount</th>\n",
              "    </tr>\n",
              "  </thead>\n",
              "  <tbody>\n",
              "    <tr>\n",
              "      <th>0</th>\n",
              "      <td>206461.0</td>\n",
              "      <td>Valsartan</td>\n",
              "      <td>Left Ventricular Dysfunction</td>\n",
              "      <td>\"It has no side effect, I take it in combinati...</td>\n",
              "      <td>9.0</td>\n",
              "      <td>20-May-12</td>\n",
              "      <td>27.0</td>\n",
              "    </tr>\n",
              "    <tr>\n",
              "      <th>1</th>\n",
              "      <td>95260.0</td>\n",
              "      <td>Guanfacine</td>\n",
              "      <td>ADHD</td>\n",
              "      <td>\"My son is halfway through his fourth week of ...</td>\n",
              "      <td>8.0</td>\n",
              "      <td>27-Apr-10</td>\n",
              "      <td>192.0</td>\n",
              "    </tr>\n",
              "    <tr>\n",
              "      <th>2</th>\n",
              "      <td>92703.0</td>\n",
              "      <td>Lybrel</td>\n",
              "      <td>Birth Control</td>\n",
              "      <td>\"I used to take another oral contraceptive, wh...</td>\n",
              "      <td>5.0</td>\n",
              "      <td>14-Dec-09</td>\n",
              "      <td>17.0</td>\n",
              "    </tr>\n",
              "    <tr>\n",
              "      <th>3</th>\n",
              "      <td>138000.0</td>\n",
              "      <td>Ortho Evra</td>\n",
              "      <td>Birth Control</td>\n",
              "      <td>\"This is my first time using any form of birth...</td>\n",
              "      <td>8.0</td>\n",
              "      <td>03-Nov-15</td>\n",
              "      <td>10.0</td>\n",
              "    </tr>\n",
              "    <tr>\n",
              "      <th>4</th>\n",
              "      <td>35696.0</td>\n",
              "      <td>Buprenorphine / naloxone</td>\n",
              "      <td>Opiate Dependence</td>\n",
              "      <td>\"Suboxone has completely turned my life around...</td>\n",
              "      <td>9.0</td>\n",
              "      <td>27-Nov-16</td>\n",
              "      <td>37.0</td>\n",
              "    </tr>\n",
              "  </tbody>\n",
              "</table>\n",
              "</div>\n",
              "      <button class=\"colab-df-convert\" onclick=\"convertToInteractive('df-1240cada-d608-4c41-865c-2963f9d64b47')\"\n",
              "              title=\"Convert this dataframe to an interactive table.\"\n",
              "              style=\"display:none;\">\n",
              "        \n",
              "  <svg xmlns=\"http://www.w3.org/2000/svg\" height=\"24px\"viewBox=\"0 0 24 24\"\n",
              "       width=\"24px\">\n",
              "    <path d=\"M0 0h24v24H0V0z\" fill=\"none\"/>\n",
              "    <path d=\"M18.56 5.44l.94 2.06.94-2.06 2.06-.94-2.06-.94-.94-2.06-.94 2.06-2.06.94zm-11 1L8.5 8.5l.94-2.06 2.06-.94-2.06-.94L8.5 2.5l-.94 2.06-2.06.94zm10 10l.94 2.06.94-2.06 2.06-.94-2.06-.94-.94-2.06-.94 2.06-2.06.94z\"/><path d=\"M17.41 7.96l-1.37-1.37c-.4-.4-.92-.59-1.43-.59-.52 0-1.04.2-1.43.59L10.3 9.45l-7.72 7.72c-.78.78-.78 2.05 0 2.83L4 21.41c.39.39.9.59 1.41.59.51 0 1.02-.2 1.41-.59l7.78-7.78 2.81-2.81c.8-.78.8-2.07 0-2.86zM5.41 20L4 18.59l7.72-7.72 1.47 1.35L5.41 20z\"/>\n",
              "  </svg>\n",
              "      </button>\n",
              "      \n",
              "  <style>\n",
              "    .colab-df-container {\n",
              "      display:flex;\n",
              "      flex-wrap:wrap;\n",
              "      gap: 12px;\n",
              "    }\n",
              "\n",
              "    .colab-df-convert {\n",
              "      background-color: #E8F0FE;\n",
              "      border: none;\n",
              "      border-radius: 50%;\n",
              "      cursor: pointer;\n",
              "      display: none;\n",
              "      fill: #1967D2;\n",
              "      height: 32px;\n",
              "      padding: 0 0 0 0;\n",
              "      width: 32px;\n",
              "    }\n",
              "\n",
              "    .colab-df-convert:hover {\n",
              "      background-color: #E2EBFA;\n",
              "      box-shadow: 0px 1px 2px rgba(60, 64, 67, 0.3), 0px 1px 3px 1px rgba(60, 64, 67, 0.15);\n",
              "      fill: #174EA6;\n",
              "    }\n",
              "\n",
              "    [theme=dark] .colab-df-convert {\n",
              "      background-color: #3B4455;\n",
              "      fill: #D2E3FC;\n",
              "    }\n",
              "\n",
              "    [theme=dark] .colab-df-convert:hover {\n",
              "      background-color: #434B5C;\n",
              "      box-shadow: 0px 1px 3px 1px rgba(0, 0, 0, 0.15);\n",
              "      filter: drop-shadow(0px 1px 2px rgba(0, 0, 0, 0.3));\n",
              "      fill: #FFFFFF;\n",
              "    }\n",
              "  </style>\n",
              "\n",
              "      <script>\n",
              "        const buttonEl =\n",
              "          document.querySelector('#df-1240cada-d608-4c41-865c-2963f9d64b47 button.colab-df-convert');\n",
              "        buttonEl.style.display =\n",
              "          google.colab.kernel.accessAllowed ? 'block' : 'none';\n",
              "\n",
              "        async function convertToInteractive(key) {\n",
              "          const element = document.querySelector('#df-1240cada-d608-4c41-865c-2963f9d64b47');\n",
              "          const dataTable =\n",
              "            await google.colab.kernel.invokeFunction('convertToInteractive',\n",
              "                                                     [key], {});\n",
              "          if (!dataTable) return;\n",
              "\n",
              "          const docLinkHtml = 'Like what you see? Visit the ' +\n",
              "            '<a target=\"_blank\" href=https://colab.research.google.com/notebooks/data_table.ipynb>data table notebook</a>'\n",
              "            + ' to learn more about interactive tables.';\n",
              "          element.innerHTML = '';\n",
              "          dataTable['output_type'] = 'display_data';\n",
              "          await google.colab.output.renderOutput(dataTable, element);\n",
              "          const docLink = document.createElement('div');\n",
              "          docLink.innerHTML = docLinkHtml;\n",
              "          element.appendChild(docLink);\n",
              "        }\n",
              "      </script>\n",
              "    </div>\n",
              "  </div>\n",
              "  "
            ]
          },
          "metadata": {},
          "execution_count": 20
        }
      ],
      "source": [
        "raw_df=pd.read_csv('/content/drugsComTrain_raw.csv', encoding='iso-8859-1')\n",
        "raw_df.head()"
      ]
    },
    {
      "cell_type": "markdown",
      "metadata": {
        "id": "bwibLwRxLroh"
      },
      "source": [
        "We can see, the data has these important columns:\n",
        "<b>\n",
        "1. drugName\n",
        "2. condition\n",
        "3. review\n",
        "</b>\n",
        "Let's take a look at one of review, and understand how a <b> SME would have labelled it manually. </b>"
      ]
    },
    {
      "cell_type": "code",
      "execution_count": null,
      "metadata": {
        "id": "F9JTjObRLroh",
        "outputId": "46a8a304-aab9-4025-800f-b501010f7fde",
        "colab": {
          "base_uri": "https://localhost:8080/"
        }
      },
      "outputs": [
        {
          "output_type": "stream",
          "name": "stdout",
          "text": [
            "Review Number: 206461.0\n",
            "Drug Name: Valsartan\n",
            "Review: \"It has no side effect, I take it in combination of Bystolic 5 Mg and Fish Oil\"\n"
          ]
        }
      ],
      "source": [
        "print('Review Number:',raw_df['uniqueID'][0])\n",
        "print('Drug Name:',raw_df['drugName'][0])\n",
        "print('Review:',raw_df['review'][0])"
      ]
    },
    {
      "cell_type": "markdown",
      "metadata": {
        "id": "t1bQI7jCLroi"
      },
      "source": [
        "And we see, for review number 206461, there were <b> no side-effects or problem </b> being caused by the drug Valsartan. Let's take a look at another example."
      ]
    },
    {
      "cell_type": "code",
      "execution_count": null,
      "metadata": {
        "id": "QQK0Lr2OLroi",
        "outputId": "a4ef79d6-1ece-4ada-b71a-07e3462797fd",
        "colab": {
          "base_uri": "https://localhost:8080/"
        }
      },
      "outputs": [
        {
          "output_type": "stream",
          "name": "stdout",
          "text": [
            "Review Number: 81890.0\n",
            "Drug Name: Liraglutide\n",
            "Review: \"I have been taking Saxenda since July 2016.  I had severe nausea for about a month once I got up to the 2.6 dosage.  It has since subsided and the only side effect I notice now is the dry mouth.  I make sure to drink  2.5 litres of water a day (about 10 glasses).  This helps with the weight loss as well as the constipation.  I have been reducing my dose to find a comfortable spot where I am still losing weight but don&#039;t feel like I am over medicating.  For me, 1.8 is working very well.  I also feel wearing a Fitbit has really helped.  I can track my food, water, exercise and steps - it keeps me moving more.  When this started I could barely walk the length of myself without getting winded - I have lost 58 lbs so far.\"\n"
          ]
        }
      ],
      "source": [
        "print('Review Number:',raw_df['uniqueID'][15])\n",
        "print('Drug Name:',raw_df['drugName'][15])\n",
        "print('Review:',raw_df['review'][15])"
      ]
    },
    {
      "cell_type": "markdown",
      "metadata": {
        "id": "ne_pdqOmLroi"
      },
      "source": [
        "<b> Liraglutide </b> is a molecule used to treat type 2 diabetes and chronic weight management. Now, we can see there are some side-effects attached to it\n",
        "- <b> dry mouth </b>\n",
        "- <b>nausea </b>\n",
        "\n",
        "So, as we get closer to the ask. We need to map Liraglutide with dry mouth and nausea.\n",
        "\n",
        "<b>But, how? </b>\n",
        "\n",
        "Let's check what are the tools we have in hand. But before that, let's take a look at how a word cloud on this review column would look like:"
      ]
    },
    {
      "cell_type": "code",
      "execution_count": null,
      "metadata": {
        "id": "oTEOrCRdLroi",
        "outputId": "9fa51dd1-e0f0-421d-9f12-d81d6cf29b74",
        "colab": {
          "base_uri": "https://localhost:8080/",
          "height": 445
        }
      },
      "outputs": [
        {
          "output_type": "stream",
          "name": "stdout",
          "text": [
            "<wordcloud.wordcloud.WordCloud object at 0x7f65cf14f610>\n"
          ]
        },
        {
          "output_type": "display_data",
          "data": {
            "text/plain": [
              "<Figure size 720x1080 with 1 Axes>"
            ],
            "image/png": "[encoded data removed]"
          },
          "metadata": {
            "needs_background": "light"
          }
        }
      ],
      "source": [
        "# let's see the words cloud for the reviews\n",
        "\n",
        "# most popular drugs\n",
        "\n",
        "from wordcloud import WordCloud\n",
        "from wordcloud import STOPWORDS\n",
        "\n",
        "stopwords = set(STOPWORDS)\n",
        "\n",
        "wordcloud = WordCloud(background_color = 'yellow', stopwords = stopwords, width = 1200, height = 800).generate(str(raw_df['review']))\n",
        "\n",
        "plt.rcParams['figure.figsize'] = (10, 15)\n",
        "plt.title('Word Cloud - Review', fontsize = 25)\n",
        "print(wordcloud)\n",
        "plt.axis('off')\n",
        "plt.imshow(wordcloud)\n",
        "plt.show()"
      ]
    },
    {
      "cell_type": "markdown",
      "metadata": {
        "id": "ftiqfF8BLroi"
      },
      "source": [
        "Not much information, is inferred from the word cloud.\n",
        "\n",
        "- We need a model which is pre-trained on Bio-Medical data and would be able to identify drug names and side-effects/symptoms and disease name. So here comes, stanza\n",
        "\n",
        "## Bio-Medical NER - Stanza\n",
        "\n",
        "At a high level, Stanza currently provides packages that support <b> Universal Dependencies (UD)-compatible syntactic analysis </b> and named entity recognition (NER) from both English biomedical literature and clinical note text. Officially offered packages include:\n",
        "\n",
        "- 2 UD-compatible biomedical syntactic analysis pipelines, trained with human-annotated treebanks;\n",
        "- 1 UD-compatible clinical syntactic analysis pipeline, trained with silver data;\n",
        "\n",
        "\n",
        "![Screenshot%202022-03-16%20184002.png](https://drive.google.com/uc?id=1FDU5qfDpm9w0EYqVmqymqy9LtabhBeJy)\n",
        "- 8 accurate biomedical NER models augmented with contextualized representations;\n",
        "- 2 clinical NER models, including one specialized in radiology reports.\n",
        "\n",
        "\n",
        "\n",
        "![Screenshot%202022-03-16%20183750.png](https://drive.google.com/uc?id=15Omc0QfQzI9wer54ncHhtP8bGWzw1jBh)\n",
        "\n",
        "The 16 entity types in the BioNLP13CG model include, some of which are:\n",
        "- ORGAN\n",
        "- ORGANISM\n",
        "- PROBLEM\n",
        "- TREATMENT\n",
        "- DISEASE\n",
        "- CHEMICAL\n",
        "\n",
        "<B> Let's import stanza </b>"
      ]
    },
    {
      "cell_type": "code",
      "source": [
        "!pip install stanza"
      ],
      "metadata": {
        "colab": {
          "base_uri": "https://localhost:8080/"
        },
        "id": "8pgKtxaF0GtJ",
        "outputId": "06466883-7420-46c7-d2f5-56e78fad3113"
      },
      "execution_count": null,
      "outputs": [
        {
          "output_type": "stream",
          "name": "stdout",
          "text": [
            "Looking in indexes: https://pypi.org/simple, https://us-python.pkg.dev/colab-wheels/public/simple/\n",
            "Collecting stanza\n",
            "  Downloading stanza-1.4.2-py3-none-any.whl (691 kB)\n",
            "\u001b[2K     \u001b[90m━━━━━━━━━━━━━━━━━━━━━━━━━━━━━━━━━━━━━━\u001b[0m \u001b[32m691.3/691.3 KB\u001b[0m \u001b[31m27.7 MB/s\u001b[0m eta \u001b[36m0:00:00\u001b[0m\n",
            "\u001b[?25hRequirement already satisfied: requests in /usr/local/lib/python3.8/dist-packages (from stanza) (2.25.1)\n",
            "Collecting emoji\n",
            "  Downloading emoji-2.2.0.tar.gz (240 kB)\n",
            "\u001b[2K     \u001b[90m━━━━━━━━━━━━━━━━━━━━━━━━━━━━━━━━━━━━━━\u001b[0m \u001b[32m240.9/240.9 KB\u001b[0m \u001b[31m18.6 MB/s\u001b[0m eta \u001b[36m0:00:00\u001b[0m\n",
            "\u001b[?25h  Preparing metadata (setup.py) ... \u001b[?25l\u001b[?25hdone\n",
            "Requirement already satisfied: tqdm in /usr/local/lib/python3.8/dist-packages (from stanza) (4.64.1)\n",
            "Requirement already satisfied: torch>=1.3.0 in /usr/local/lib/python3.8/dist-packages (from stanza) (1.13.0+cu116)\n",
            "Requirement already satisfied: protobuf in /usr/local/lib/python3.8/dist-packages (from stanza) (3.19.6)\n",
            "Requirement already satisfied: numpy in /usr/local/lib/python3.8/dist-packages (from stanza) (1.21.6)\n",
            "Requirement already satisfied: six in /usr/local/lib/python3.8/dist-packages (from stanza) (1.15.0)\n",
            "Requirement already satisfied: typing-extensions in /usr/local/lib/python3.8/dist-packages (from torch>=1.3.0->stanza) (4.4.0)\n",
            "Requirement already satisfied: urllib3<1.27,>=1.21.1 in /usr/local/lib/python3.8/dist-packages (from requests->stanza) (1.24.3)\n",
            "Requirement already satisfied: certifi>=2017.4.17 in /usr/local/lib/python3.8/dist-packages (from requests->stanza) (2022.12.7)\n",
            "Requirement already satisfied: idna<3,>=2.5 in /usr/local/lib/python3.8/dist-packages (from requests->stanza) (2.10)\n",
            "Requirement already satisfied: chardet<5,>=3.0.2 in /usr/local/lib/python3.8/dist-packages (from requests->stanza) (4.0.0)\n",
            "Building wheels for collected packages: emoji\n",
            "  Building wheel for emoji (setup.py) ... \u001b[?25l\u001b[?25hdone\n",
            "  Created wheel for emoji: filename=emoji-2.2.0-py3-none-any.whl size=234926 sha256=3cd2df92b15ac39a9b4886271d957b2803dc4b7c26d25fe59ca720c1c7adb029\n",
            "  Stored in directory: /root/.cache/pip/wheels/86/62/9e/a6b27a681abcde69970dbc0326ff51955f3beac72f15696984\n",
            "Successfully built emoji\n",
            "Installing collected packages: emoji, stanza\n",
            "Successfully installed emoji-2.2.0 stanza-1.4.2\n"
          ]
        }
      ]
    },
    {
      "cell_type": "code",
      "execution_count": null,
      "metadata": {
        "id": "Lm12sFe6Lroj",
        "outputId": "1063db1e-5c02-459a-856f-781853019302",
        "colab": {
          "referenced_widgets": [
            "4711bd4e24824c53b64aad4c10f12c58",
            "8b3ae7ffb7e342ddb18d000ffe3a10b7",
            "c8d4294fcb3147129d483d972d38904e",
            "3e9d93a9985d477cb029a6a67f37f489",
            "f58f6380d9f3472ab192525169e52597",
            "0f358e1e0ab54d57afbf9654cff2df84",
            "cfed18a717664c74a0dbfb8780125ce2",
            "a4582c2a6e1d4a63b506464317696f92",
            "877afe361a8941c0b6216551a21fe0b6",
            "e23c9cfd9c754ab7bdc4fa486d7434a6",
            "3ab71c2576524804a8ae3a207ab70d20",
            "423b8bf12a304c55b6064946fc3e13e4",
            "adaf3b4346c548e7b15eb5920a9775dc",
            "dbf8643b34b340e28f6c99e8973185df",
            "12cb165d086b48a49687c2fb84467bed",
            "153b768c84d8431c978be5ac0fbeace8",
            "f50708984a2e41388ecbea2e28b66983",
            "7c621d976d19401993d7784316231615",
            "3acf4869ed224f29899ea13280e7b263",
            "e2ccd43cd41f436696d952950b04c700",
            "9c8db797a2fc44f1830ce1dbc32e64f6",
            "c8a55b6558b842268d1707d4d503d692",
            "6fd85837ee2b46adb2e011015b96c8b2",
            "f871bfb5d2b54d55a06feef371952955",
            "3e49e25c4e44440abf0713429411cdd6",
            "1b54e5f3b6294470b3572e2cec4db1c4",
            "a85ba70e303445e0bd7c2248b51c76ae",
            "01cb2a144565472a8d2499bfe05d0117",
            "39c7b3fe3e0f4394abfb5bf2022f252a",
            "a69025db9ce84a0085b031ce094adc9e",
            "ffac75cea29c447483e4f292bb60f222",
            "7c2299c40b444b0398d03f6fdf5591c2",
            "3a5278e1c75446edad9a4e5619b334b0",
            "42f9be47eb4b4c4f960d3279f0be0767",
            "1ecf699249564f62b859e34d6bea468c",
            "87d9c4012bd04304be3eb5f62b7abd23",
            "629ceba327464a36a5ebd9ea92dffc35",
            "34adb14bbfd849baaf2501a917004e11",
            "52034fc3dae44f5983dc5e15ef7dc640",
            "6932906e4b774410a6be4330b41cf331",
            "5121bda114864963964140c3987ad6f1",
            "04b6e8cfe6964a528ec1ee507f36f78f",
            "a22bcfecd6db4840821d4414ccd17a8f",
            "9bced9aed7904a40aba1ed3138648445",
            "55cad11eae9e4766a7347d5e44a81744",
            "3a8669cc86a54eb6a4f0f678e7105b52",
            "9beea6672b6049b68df957dfd8030cc1",
            "6df5f15b9e2b486d893487df81aaf4c4",
            "451317f05e8d4d3bb6bb7c4740869601",
            "ef95562a03c441b99362cefee1d0f29c",
            "8f335c3ae13741fdb1cb03ddba387e6a",
            "dfd17fbfd46647c9b02e173d34f9c7ce",
            "a253f8054e7145de97493de3b05bffab",
            "e902176c513242c9b36481f2abd6657a",
            "91e9fe96a1da468fbf5a51df74c90b23",
            "600a16b13b1440a6baf00778d31478fd",
            "595e489b0d4c499791c0c9a5ecd002e4",
            "078bf6f5787841de834ced02d8266215",
            "887ccec4eef74186b04ba591f336fee0",
            "ce920bbabc7242bfa0f57992cb0460a4",
            "910f6c77b5464ad391b4d92591dc8b8d",
            "813dff54f3884e6987545c5d921dd55c",
            "4b47556418f141979562cbd89f0a52da",
            "9e943328aa6344b19dcf245f6ba0d8ca",
            "53162e678c62464797ac819f459ff803",
            "78eadda8d672432f930bddfec9c9c28f",
            "204342748032414ba0bac8e294ed8f09",
            "82405052e53a4ce398ba069b69287878",
            "ab747438ae944e9caa99d11fd4a7fca8",
            "3ce3338512da45e8b9fdd1afbb3f01bc",
            "f50f623a1ec94e6f9bde1b58ab1d5957",
            "c9fed408c33942e8be7f1419fc4c6b53",
            "321d1e72c4554177aa95712874c91451",
            "2f5a1c0630a443c0ac1c17307e021cda",
            "833ffa36351d4dc696ba572219d9c42e",
            "bea1c408b1c2419ba6500292738c1579",
            "f164e5be23c1459f897a08b5f08a1ec2",
            "0c1692e2797d4810bb4e03b6958a8c92",
            "cf19d9a2b6a8453c851f5879c796c352",
            "2c243c2c342944f88e00b2f1cc1c3e14",
            "a0a962411d984cb78723586e6a103c14",
            "5f01359e71984a4cb5af8340c2b1926c",
            "ba7d9679a8fa47cb93b568d978d46672",
            "6ee931274b3b48e5815357914220a28d",
            "a381e360bb4346a2a0568083e765a666",
            "818062d22d144e22a3a91c594071f900",
            "a06e028f39ef463a9927ac222783e94c",
            "6206c9a0269c40708b16b2bb559ed945",
            "b01ee5e41ea44941ac1df702316fc142",
            "cb54625c7c504cd7860a0e2c591d27e6",
            "820e2f1b96364833b31e48df86b5fd5c",
            "36ab73ffded64ed1a32ebcd76a69b8d0",
            "2ac115c45c41470e8bfc81495912202e",
            "700b6b48887d46e7aa6bb4bee134f785",
            "f5351c4534c84fbe85cf5f959d3c5469",
            "0bdab7681a97494e8c832551c302e295",
            "bf5bb02e05df4a55a08ad3d775b304b9",
            "274cd3c278dc4ca190c9edac9c07a5e8",
            "a78e186556114de5b37b7b8fb4f5c208",
            "76163441bc714f1d98b1ab5ae470a163",
            "9d143d90d8e64c828f4ae895959de22e",
            "974fd4a8676a4698bb560375dac6d74d",
            "d911d864b9ab423a93ca26aa8ff1d137",
            "d92532fe74684a6083f5f467fb65da4b",
            "11c38fcce5604d468add8dc000493461",
            "028ecf8124c540dbb85880d063641ff1",
            "dacf09ce75ab4c4e940457b6c629efb0",
            "000fb19de2a342fc898e4d6cb3da5152",
            "81b667d56edc4f279ca5929d6b73b27e",
            "7b5afb33a0584a99b933f4544c4890fc",
            "48fdde4f53084326a4f4d9a8d6bb7afd",
            "29933963615b4e8a997c68cb7868ac5a",
            "9607eab60b584782bcfab05457f825d7",
            "26ec948d8cc94c32933e73d31c87cb68",
            "06ce939d511d49f1b825d54aadf1e142",
            "a21b61491a434c189e293caca9b06441",
            "2776ae5fa61a4cf5af7d22afa5a21a22",
            "806c30bd54dd4dfc96ca2311d3cb056e",
            "f3db6a951b1b458aabdcae99001b3ff8",
            "a1c7d4f5d11d420882dd95444a67d4f9",
            "4bedfba89f20424094e4cee09d607039",
            "6a89b503ad424e0cb8b13c6c06e2c9f6",
            "1f57a6cecffc45ff97eea882cfac1c98",
            "09d560ecc3b043b5bf90f0d1416814f0",
            "156cf4a626ff4b41a555835f85a88fff",
            "d43120c393c64d1ebf0e745ab8056177",
            "a0cceaa601884669ac3c10908c61ba9e",
            "5c99b851604447378d71dead438d16e4",
            "6f4c434c32f5466b8675c9793d1ddfcb",
            "59515dafd4a149bfbb9e743e608d81b2",
            "bb16e341a60940499d8bd5b7f840866f",
            "8d8e5dd099b845be8a7092508d1d80b3",
            "c40b5df5f7e44d63b58eede59a67d6c9",
            "340e2e13bbc04f938c840dcd555bc222",
            "fdb43c3186a9488f968578e2ece5b412",
            "0995eee9969348caa40bf9908f57178e",
            "585e786f5cd14bd6b1cf7d1e9a4b23d2",
            "291a1e3950af42c3ae0db89199f078b2",
            "75212162c46743988b79db5c3a40a62a",
            "ffbdee83157f49f3bdf353bf0342ed63",
            "c6ac9c65ed6e4c9999414d4a34d06fcb",
            "875afc9cf59b41c298361aa88fe06f19",
            "de357dd81fc448678e62477a2af2dbea",
            "d52469478a5c4df49b6eecae76765bec",
            "0821c1b28c3b48ebbbb5a5dbe02662f9",
            "69f491d17532427bb3f313d500d6f890",
            "7bd68ee008ad46afa52bdca0c3c9bbbf",
            "ad509be619d6475188781f64da0befd3",
            "d1582b7e04fa43238012babf80e6c3d2",
            "afe8e826b42a447bb87091d0f9b80b58",
            "4714288f566046d89fdaed243e71cd58",
            "c3ed8ce487874f419eed4b40164993ce",
            "ae8bf2a8cc2d49df94e39264ee4cf1c2",
            "88a0484a00874e74b708965ea2d03ed4"
          ],
          "base_uri": "https://localhost:8080/",
          "height": 1000
        }
      },
      "outputs": [
        {
          "output_type": "display_data",
          "data": {
            "text/plain": [
              "Downloading https://raw.githubusercontent.com/stanfordnlp/stanza-resources/main/resources_1.4.1.json:   0%|   …"
            ],
            "application/vnd.jupyter.widget-view+json": {
              "version_major": 2,
              "version_minor": 0,
              "model_id": "4711bd4e24824c53b64aad4c10f12c58"
            }
          },
          "metadata": {}
        },
        {
          "output_type": "stream",
          "name": "stderr",
          "text": [
            "INFO:stanza:Downloading these customized packages for language: en (English)...\n",
            "=============================\n",
            "| Processor       | Package |\n",
            "-----------------------------\n",
            "| tokenize        | mimic   |\n",
            "| pos             | mimic   |\n",
            "| lemma           | mimic   |\n",
            "| depparse        | mimic   |\n",
            "| ner             | i2b2    |\n",
            "| forward_charlm  | mimic   |\n",
            "| pretrain        | mimic   |\n",
            "| backward_charlm | mimic   |\n",
            "=============================\n",
            "\n"
          ]
        },
        {
          "output_type": "display_data",
          "data": {
            "text/plain": [
              "Downloading https://huggingface.co/stanfordnlp/stanza-en/resolve/v1.4.1/models/tokenize/mimic.pt:   0%|       …"
            ],
            "application/vnd.jupyter.widget-view+json": {
              "version_major": 2,
              "version_minor": 0,
              "model_id": "423b8bf12a304c55b6064946fc3e13e4"
            }
          },
          "metadata": {}
        },
        {
          "output_type": "display_data",
          "data": {
            "text/plain": [
              "Downloading https://huggingface.co/stanfordnlp/stanza-en/resolve/v1.4.1/models/pos/mimic.pt:   0%|          | …"
            ],
            "application/vnd.jupyter.widget-view+json": {
              "version_major": 2,
              "version_minor": 0,
              "model_id": "6fd85837ee2b46adb2e011015b96c8b2"
            }
          },
          "metadata": {}
        },
        {
          "output_type": "display_data",
          "data": {
            "text/plain": [
              "Downloading https://huggingface.co/stanfordnlp/stanza-en/resolve/v1.4.1/models/lemma/mimic.pt:   0%|          …"
            ],
            "application/vnd.jupyter.widget-view+json": {
              "version_major": 2,
              "version_minor": 0,
              "model_id": "42f9be47eb4b4c4f960d3279f0be0767"
            }
          },
          "metadata": {}
        },
        {
          "output_type": "display_data",
          "data": {
            "text/plain": [
              "Downloading https://huggingface.co/stanfordnlp/stanza-en/resolve/v1.4.1/models/depparse/mimic.pt:   0%|       …"
            ],
            "application/vnd.jupyter.widget-view+json": {
              "version_major": 2,
              "version_minor": 0,
              "model_id": "55cad11eae9e4766a7347d5e44a81744"
            }
          },
          "metadata": {}
        },
        {
          "output_type": "display_data",
          "data": {
            "text/plain": [
              "Downloading https://huggingface.co/stanfordnlp/stanza-en/resolve/v1.4.1/models/ner/i2b2.pt:   0%|          | 0…"
            ],
            "application/vnd.jupyter.widget-view+json": {
              "version_major": 2,
              "version_minor": 0,
              "model_id": "600a16b13b1440a6baf00778d31478fd"
            }
          },
          "metadata": {}
        },
        {
          "output_type": "display_data",
          "data": {
            "text/plain": [
              "Downloading https://huggingface.co/stanfordnlp/stanza-en/resolve/v1.4.1/models/forward_charlm/mimic.pt:   0%| …"
            ],
            "application/vnd.jupyter.widget-view+json": {
              "version_major": 2,
              "version_minor": 0,
              "model_id": "204342748032414ba0bac8e294ed8f09"
            }
          },
          "metadata": {}
        },
        {
          "output_type": "display_data",
          "data": {
            "text/plain": [
              "Downloading https://huggingface.co/stanfordnlp/stanza-en/resolve/v1.4.1/models/pretrain/mimic.pt:   0%|       …"
            ],
            "application/vnd.jupyter.widget-view+json": {
              "version_major": 2,
              "version_minor": 0,
              "model_id": "0c1692e2797d4810bb4e03b6958a8c92"
            }
          },
          "metadata": {}
        },
        {
          "output_type": "display_data",
          "data": {
            "text/plain": [
              "Downloading https://huggingface.co/stanfordnlp/stanza-en/resolve/v1.4.1/models/backward_charlm/mimic.pt:   0%|…"
            ],
            "application/vnd.jupyter.widget-view+json": {
              "version_major": 2,
              "version_minor": 0,
              "model_id": "b01ee5e41ea44941ac1df702316fc142"
            }
          },
          "metadata": {}
        },
        {
          "output_type": "stream",
          "name": "stderr",
          "text": [
            "INFO:stanza:Finished downloading models and saved to /root/stanza_resources.\n"
          ]
        },
        {
          "output_type": "display_data",
          "data": {
            "text/plain": [
              "Downloading https://raw.githubusercontent.com/stanfordnlp/stanza-resources/main/resources_1.4.1.json:   0%|   …"
            ],
            "application/vnd.jupyter.widget-view+json": {
              "version_major": 2,
              "version_minor": 0,
              "model_id": "76163441bc714f1d98b1ab5ae470a163"
            }
          },
          "metadata": {}
        },
        {
          "output_type": "stream",
          "name": "stderr",
          "text": [
            "INFO:stanza:Downloading these customized packages for language: en (English)...\n",
            "=============================\n",
            "| Processor       | Package |\n",
            "-----------------------------\n",
            "| tokenize        | mimic   |\n",
            "| pos             | mimic   |\n",
            "| lemma           | mimic   |\n",
            "| depparse        | mimic   |\n",
            "| ner             | bc5cdr  |\n",
            "| pretrain        | craft   |\n",
            "| forward_charlm  | pubmed  |\n",
            "| pretrain        | mimic   |\n",
            "| backward_charlm | pubmed  |\n",
            "| forward_charlm  | mimic   |\n",
            "| backward_charlm | mimic   |\n",
            "=============================\n",
            "\n",
            "INFO:stanza:File exists: /root/stanza_resources/en/tokenize/mimic.pt\n",
            "INFO:stanza:File exists: /root/stanza_resources/en/pos/mimic.pt\n",
            "INFO:stanza:File exists: /root/stanza_resources/en/lemma/mimic.pt\n",
            "INFO:stanza:File exists: /root/stanza_resources/en/depparse/mimic.pt\n"
          ]
        },
        {
          "output_type": "display_data",
          "data": {
            "text/plain": [
              "Downloading https://huggingface.co/stanfordnlp/stanza-en/resolve/v1.4.1/models/ner/bc5cdr.pt:   0%|          |…"
            ],
            "application/vnd.jupyter.widget-view+json": {
              "version_major": 2,
              "version_minor": 0,
              "model_id": "48fdde4f53084326a4f4d9a8d6bb7afd"
            }
          },
          "metadata": {}
        },
        {
          "output_type": "display_data",
          "data": {
            "text/plain": [
              "Downloading https://huggingface.co/stanfordnlp/stanza-en/resolve/v1.4.1/models/pretrain/craft.pt:   0%|       …"
            ],
            "application/vnd.jupyter.widget-view+json": {
              "version_major": 2,
              "version_minor": 0,
              "model_id": "6a89b503ad424e0cb8b13c6c06e2c9f6"
            }
          },
          "metadata": {}
        },
        {
          "output_type": "display_data",
          "data": {
            "text/plain": [
              "Downloading https://huggingface.co/stanfordnlp/stanza-en/resolve/v1.4.1/models/forward_charlm/pubmed.pt:   0%|…"
            ],
            "application/vnd.jupyter.widget-view+json": {
              "version_major": 2,
              "version_minor": 0,
              "model_id": "c40b5df5f7e44d63b58eede59a67d6c9"
            }
          },
          "metadata": {}
        },
        {
          "output_type": "stream",
          "name": "stderr",
          "text": [
            "INFO:stanza:File exists: /root/stanza_resources/en/pretrain/mimic.pt\n"
          ]
        },
        {
          "output_type": "display_data",
          "data": {
            "text/plain": [
              "Downloading https://huggingface.co/stanfordnlp/stanza-en/resolve/v1.4.1/models/backward_charlm/pubmed.pt:   0%…"
            ],
            "application/vnd.jupyter.widget-view+json": {
              "version_major": 2,
              "version_minor": 0,
              "model_id": "d52469478a5c4df49b6eecae76765bec"
            }
          },
          "metadata": {}
        },
        {
          "output_type": "stream",
          "name": "stderr",
          "text": [
            "INFO:stanza:File exists: /root/stanza_resources/en/forward_charlm/mimic.pt\n",
            "INFO:stanza:File exists: /root/stanza_resources/en/backward_charlm/mimic.pt\n",
            "INFO:stanza:Finished downloading models and saved to /root/stanza_resources.\n"
          ]
        }
      ],
      "source": [
        "import stanza\n",
        "stanza.download('en', package='mimic',processors={'ner':'i2b2'})\n",
        "stanza.download('en', package='mimic',processors={'ner':'bc5cdr'})"
      ]
    },
    {
      "cell_type": "markdown",
      "metadata": {
        "id": "u1NXdzDVLroj"
      },
      "source": [
        "Because, within the data we already have drug name, we need PROBLEM and DISEASE entity identification only, we are downloading only two NER models\n",
        "<b>\n",
        "1. i2b2\n",
        "2. bc5cdr\n",
        "</b>\n",
        "\n",
        "So, let us create two pipeline with these"
      ]
    },
    {
      "cell_type": "code",
      "execution_count": null,
      "metadata": {
        "id": "PeaafXZTLroj",
        "outputId": "78e1c7eb-25bd-46d8-cd3e-618605d80970",
        "colab": {
          "base_uri": "https://localhost:8080/",
          "height": 760,
          "referenced_widgets": [
            "40d4194926d54599b41d6a6cf84bc1e7",
            "fa87ad115e3042cda758f5f2d7418f80",
            "7e4d0edeb5844a838e325c5a574112b6",
            "0d3b7a403fe543558ffb54279c593bba",
            "dd8c837dcc7a4a769d26aab692dd27d4",
            "36cda6ae440b436d99e49e7ea2e44a39",
            "f4768551420c4fff929d2581925cb8e6",
            "ab80c1396c4b46a49cdca3feb8bc6904",
            "b2c5acaa8f1e47ac9625d373b6d40d70",
            "61465928e2b6445fb77d0022d8be5da9",
            "2073f599711541a5a8c973a21120ca1b",
            "01f748f972b346f5ab84b6403bf2259c",
            "9311a8955bf24f0d826dcd8e1080c3a6",
            "edf93409acc9415cb1e288181e6262de",
            "fc01eb2b7c0d46f4b5d5cb34c53830eb",
            "d8ae95009b784194967267fd4597ab8a",
            "6a8503467efb425bb0639c4c0f928ff1",
            "da547987ab3a4f5d911de9500d49e746",
            "c8caabaa33de49bf9c12c173d780735b",
            "3706627337e347b7b98f6b5e2fd63af0",
            "43ec41bbb8b540d78ef9de268311c803",
            "4ba12fd056ff4235b9d7b3495be4d201"
          ]
        }
      },
      "outputs": [
        {
          "output_type": "stream",
          "name": "stderr",
          "text": [
            "INFO:stanza:Checking for updates to resources.json in case models have been updated.  Note: this behavior can be turned off with download_method=None or download_method=DownloadMethod.REUSE_RESOURCES\n"
          ]
        },
        {
          "output_type": "display_data",
          "data": {
            "text/plain": [
              "Downloading https://raw.githubusercontent.com/stanfordnlp/stanza-resources/main/resources_1.4.1.json:   0%|   …"
            ],
            "application/vnd.jupyter.widget-view+json": {
              "version_major": 2,
              "version_minor": 0,
              "model_id": "40d4194926d54599b41d6a6cf84bc1e7"
            }
          },
          "metadata": {}
        },
        {
          "output_type": "stream",
          "name": "stderr",
          "text": [
            "INFO:stanza:Loading these models for language: en (English):\n",
            "=======================\n",
            "| Processor | Package |\n",
            "-----------------------\n",
            "| tokenize  | mimic   |\n",
            "| pos       | mimic   |\n",
            "| lemma     | mimic   |\n",
            "| depparse  | mimic   |\n",
            "| ner       | i2b2    |\n",
            "=======================\n",
            "\n",
            "INFO:stanza:Use device: gpu\n",
            "INFO:stanza:Loading: tokenize\n",
            "INFO:stanza:Loading: pos\n",
            "INFO:stanza:Loading: lemma\n",
            "INFO:stanza:Loading: depparse\n",
            "INFO:stanza:Loading: ner\n",
            "INFO:stanza:Done loading processors!\n",
            "INFO:stanza:Checking for updates to resources.json in case models have been updated.  Note: this behavior can be turned off with download_method=None or download_method=DownloadMethod.REUSE_RESOURCES\n"
          ]
        },
        {
          "output_type": "display_data",
          "data": {
            "text/plain": [
              "Downloading https://raw.githubusercontent.com/stanfordnlp/stanza-resources/main/resources_1.4.1.json:   0%|   …"
            ],
            "application/vnd.jupyter.widget-view+json": {
              "version_major": 2,
              "version_minor": 0,
              "model_id": "01f748f972b346f5ab84b6403bf2259c"
            }
          },
          "metadata": {}
        },
        {
          "output_type": "stream",
          "name": "stderr",
          "text": [
            "INFO:stanza:Loading these models for language: en (English):\n",
            "=======================\n",
            "| Processor | Package |\n",
            "-----------------------\n",
            "| tokenize  | mimic   |\n",
            "| pos       | mimic   |\n",
            "| lemma     | mimic   |\n",
            "| depparse  | mimic   |\n",
            "| ner       | bc5cdr  |\n",
            "=======================\n",
            "\n",
            "INFO:stanza:Use device: gpu\n",
            "INFO:stanza:Loading: tokenize\n",
            "INFO:stanza:Loading: pos\n",
            "INFO:stanza:Loading: lemma\n",
            "INFO:stanza:Loading: depparse\n",
            "INFO:stanza:Loading: ner\n",
            "INFO:stanza:Done loading processors!\n"
          ]
        }
      ],
      "source": [
        "nlp1 = stanza.Pipeline('en', package='mimic', processors={'ner':'i2b2'})\n",
        "nlp2= stanza.Pipeline('en', package='mimic', processors={'ner':'bc5cdr'})"
      ]
    },
    {
      "cell_type": "code",
      "execution_count": null,
      "metadata": {
        "id": "HZfGBksxLroj",
        "outputId": "24b1fa6e-f847-4e17-e1b6-f69d12a31e37",
        "colab": {
          "base_uri": "https://localhost:8080/"
        }
      },
      "outputs": [
        {
          "output_type": "execute_result",
          "data": {
            "text/plain": [
              "[{\n",
              "   \"text\": \"birth control\",\n",
              "   \"type\": \"TREATMENT\",\n",
              "   \"start_char\": 40,\n",
              "   \"end_char\": 53\n",
              " }, {\n",
              "   \"text\": \"the patch\",\n",
              "   \"type\": \"TREATMENT\",\n",
              "   \"start_char\": 81,\n",
              "   \"end_char\": 90\n",
              " }, {\n",
              "   \"text\": \"my cramps\",\n",
              "   \"type\": \"PROBLEM\",\n",
              "   \"start_char\": 305,\n",
              "   \"end_char\": 314\n",
              " }, {\n",
              "   \"text\": \"cramps\",\n",
              "   \"type\": \"PROBLEM\",\n",
              "   \"start_char\": 372,\n",
              "   \"end_char\": 378\n",
              " }, {\n",
              "   \"text\": \"birth control\",\n",
              "   \"type\": \"TREATMENT\",\n",
              "   \"start_char\": 392,\n",
              "   \"end_char\": 405\n",
              " }, {\n",
              "   \"text\": \"the patch\",\n",
              "   \"type\": \"TREATMENT\",\n",
              "   \"start_char\": 437,\n",
              "   \"end_char\": 446\n",
              " }]"
            ]
          },
          "metadata": {},
          "execution_count": 28
        }
      ],
      "source": [
        "#Let's check a sample sentence with i2b2\n",
        "doc = nlp1(\"This is my first time using any form of birth control. I&#039;m glad I went with the patch, I have been on it for 8 months. At first It decreased my libido but that subsided. The only downside is that it made my periods longer (5-6 days to be exact) I used to only have periods for 3-4 days max also made my cramps intense for the first two days of my period, I never had cramps before using birth control. Other than that in happy with the patch\")\n",
        "doc.entities"
      ]
    },
    {
      "cell_type": "markdown",
      "metadata": {
        "id": "VbwFUjEOLroj"
      },
      "source": [
        "So if we see what is being detected through NER,\n",
        "<b>\n",
        "- cramps (problem)\n",
        "- birth control (treatment)\n",
        "- patch (treatment)\n",
        "</b>\n",
        "\n",
        "![Screenshot%202022-03-16%20190006.png](https://drive.google.com/uc?id=1dJUVi6MUdnct0miPjSNSA1iRLHHLGJT0)\n",
        "\n",
        "Let's do the same with <b> bc5cdr</b>"
      ]
    },
    {
      "cell_type": "code",
      "execution_count": null,
      "metadata": {
        "id": "tgP3QGiiLrok",
        "outputId": "efa53489-6f8f-4707-8d83-2436c2d9bd44",
        "colab": {
          "base_uri": "https://localhost:8080/"
        }
      },
      "outputs": [
        {
          "output_type": "execute_result",
          "data": {
            "text/plain": [
              "[{\n",
              "   \"text\": \"cramps\",\n",
              "   \"type\": \"DISEASE\",\n",
              "   \"start_char\": 308,\n",
              "   \"end_char\": 314\n",
              " }, {\n",
              "   \"text\": \"cramps\",\n",
              "   \"type\": \"DISEASE\",\n",
              "   \"start_char\": 372,\n",
              "   \"end_char\": 378\n",
              " }]"
            ]
          },
          "metadata": {},
          "execution_count": 29
        }
      ],
      "source": [
        "#Let's check a sample sentence with i2b2\n",
        "doc = nlp2(\"This is my first time using any form of birth control. I&#039;m glad I went with the patch, I have been on it for 8 months. At first It decreased my libido but that subsided. The only downside is that it made my periods longer (5-6 days to be exact) I used to only have periods for 3-4 days max also made my cramps intense for the first two days of my period, I never had cramps before using birth control. Other than that in happy with the patch\")\n",
        "doc.entities"
      ]
    },
    {
      "cell_type": "markdown",
      "metadata": {
        "id": "U0Pxqc9XLrok"
      },
      "source": [
        "![Screenshot%202022-03-25%20145818.png](https://drive.google.com/uc?id=1PsXq6HjerNVOAUAZW0lBQioNfpz74Jxl)\n",
        "\n",
        "We see almost the same results, just the name of the entities differ. We will choose bc5cdr, as of now."
      ]
    },
    {
      "cell_type": "code",
      "execution_count": null,
      "metadata": {
        "id": "5KzCPy-jLrok",
        "outputId": "68006a72-ef58-40cd-d3ed-583f8f3b59b5",
        "colab": {
          "base_uri": "https://localhost:8080/"
        }
      },
      "outputs": [
        {
          "output_type": "stream",
          "name": "stderr",
          "text": [
            "<ipython-input-30-dac5c8bdb0ff>:4: SettingWithCopyWarning: \n",
            "A value is trying to be set on a copy of a slice from a DataFrame.\n",
            "Try using .loc[row_indexer,col_indexer] = value instead\n",
            "\n",
            "See the caveats in the documentation: https://pandas.pydata.org/pandas-docs/stable/user_guide/indexing.html#returning-a-view-versus-a-copy\n",
            "  df['Side-Effects']=''\n"
          ]
        }
      ],
      "source": [
        "#slicing the first 50 rows, keeping the time factor in mind\n",
        "\n",
        "df = raw_df.head(50)\n",
        "df['Side-Effects']=''\n",
        "\n",
        "for i, row in df.iterrows():\n",
        "    doc=nlp2(row[\"review\"])\n",
        "    doc_entity=doc.entities\n",
        "    #print(doc_entity)\n",
        "    ae=[]\n",
        "\n",
        "    for token in doc_entity:\n",
        "        #print(token.type)\n",
        "        if token.type==\"DISEASE\":\n",
        "            ae.append(token.text)\n",
        "            #print(ae)\n",
        "\n",
        "    df.at[i,'Side-Effects']=ae\n"
      ]
    },
    {
      "cell_type": "code",
      "execution_count": null,
      "metadata": {
        "id": "8RVmVwetLrok",
        "outputId": "c46c5c53-9bf2-457b-b4ba-13515ef31949",
        "colab": {
          "base_uri": "https://localhost:8080/",
          "height": 407
        }
      },
      "outputs": [
        {
          "output_type": "execute_result",
          "data": {
            "text/plain": [
              "   uniqueID                            drugName                     condition  \\\n",
              "0  206461.0                           Valsartan  Left Ventricular Dysfunction   \n",
              "1   95260.0                          Guanfacine                          ADHD   \n",
              "2   92703.0                              Lybrel                 Birth Control   \n",
              "3  138000.0                          Ortho Evra                 Birth Control   \n",
              "4   35696.0            Buprenorphine / naloxone             Opiate Dependence   \n",
              "5  155963.0                              Cialis  Benign Prostatic Hyperplasia   \n",
              "6  165907.0                      Levonorgestrel       Emergency Contraception   \n",
              "7  102654.0                        Aripiprazole               Bipolar Disorde   \n",
              "8   74811.0                              Keppra                      Epilepsy   \n",
              "9   48928.0  Ethinyl estradiol / levonorgestrel                 Birth Control   \n",
              "\n",
              "                                              review  rating       date  \\\n",
              "0  \"It has no side effect, I take it in combinati...     9.0  20-May-12   \n",
              "1  \"My son is halfway through his fourth week of ...     8.0  27-Apr-10   \n",
              "2  \"I used to take another oral contraceptive, wh...     5.0  14-Dec-09   \n",
              "3  \"This is my first time using any form of birth...     8.0  03-Nov-15   \n",
              "4  \"Suboxone has completely turned my life around...     9.0  27-Nov-16   \n",
              "5  \"2nd day on 5mg started to work with rock hard...     2.0  28-Nov-15   \n",
              "6  \"He pulled out, but he cummed a bit in me. I t...     1.0  07-Mar-17   \n",
              "7  \"Abilify changed my life. There is hope. I was...    10.0  14-Mar-15   \n",
              "8  \" I Ve had  nothing but problems with the Kepp...     1.0  09-Aug-16   \n",
              "9  \"I had been on the pill for many years. When m...     8.0  08-Dec-16   \n",
              "\n",
              "   usefulCount                                      Side-Effects  \n",
              "0         27.0                                                []  \n",
              "1        192.0                                                []  \n",
              "2         17.0                                                []  \n",
              "3         10.0                                  [cramps, cramps]  \n",
              "4         37.0                                    [constipation]  \n",
              "5         43.0                                        [headache]  \n",
              "6          5.0                                                []  \n",
              "7         32.0        [depression, depressed, Bi-polar disorder]  \n",
              "8         11.0                                                []  \n",
              "9          1.0  [acne, acne, depression, weight gain, depressed]  "
            ],
            "text/html": [
              "\n",
              "  <div id=\"df-1da9de67-7c58-465e-90a5-4fc3933e945e\">\n",
              "    <div class=\"colab-df-container\">\n",
              "      <div>\n",
              "<style scoped>\n",
              "    .dataframe tbody tr th:only-of-type {\n",
              "        vertical-align: middle;\n",
              "    }\n",
              "\n",
              "    .dataframe tbody tr th {\n",
              "        vertical-align: top;\n",
              "    }\n",
              "\n",
              "    .dataframe thead th {\n",
              "        text-align: right;\n",
              "    }\n",
              "</style>\n",
              "<table border=\"1\" class=\"dataframe\">\n",
              "  <thead>\n",
              "    <tr style=\"text-align: right;\">\n",
              "      <th></th>\n",
              "      <th>uniqueID</th>\n",
              "      <th>drugName</th>\n",
              "      <th>condition</th>\n",
              "      <th>review</th>\n",
              "      <th>rating</th>\n",
              "      <th>date</th>\n",
              "      <th>usefulCount</th>\n",
              "      <th>Side-Effects</th>\n",
              "    </tr>\n",
              "  </thead>\n",
              "  <tbody>\n",
              "    <tr>\n",
              "      <th>0</th>\n",
              "      <td>206461.0</td>\n",
              "      <td>Valsartan</td>\n",
              "      <td>Left Ventricular Dysfunction</td>\n",
              "      <td>\"It has no side effect, I take it in combinati...</td>\n",
              "      <td>9.0</td>\n",
              "      <td>20-May-12</td>\n",
              "      <td>27.0</td>\n",
              "      <td>[]</td>\n",
              "    </tr>\n",
              "    <tr>\n",
              "      <th>1</th>\n",
              "      <td>95260.0</td>\n",
              "      <td>Guanfacine</td>\n",
              "      <td>ADHD</td>\n",
              "      <td>\"My son is halfway through his fourth week of ...</td>\n",
              "      <td>8.0</td>\n",
              "      <td>27-Apr-10</td>\n",
              "      <td>192.0</td>\n",
              "      <td>[]</td>\n",
              "    </tr>\n",
              "    <tr>\n",
              "      <th>2</th>\n",
              "      <td>92703.0</td>\n",
              "      <td>Lybrel</td>\n",
              "      <td>Birth Control</td>\n",
              "      <td>\"I used to take another oral contraceptive, wh...</td>\n",
              "      <td>5.0</td>\n",
              "      <td>14-Dec-09</td>\n",
              "      <td>17.0</td>\n",
              "      <td>[]</td>\n",
              "    </tr>\n",
              "    <tr>\n",
              "      <th>3</th>\n",
              "      <td>138000.0</td>\n",
              "      <td>Ortho Evra</td>\n",
              "      <td>Birth Control</td>\n",
              "      <td>\"This is my first time using any form of birth...</td>\n",
              "      <td>8.0</td>\n",
              "      <td>03-Nov-15</td>\n",
              "      <td>10.0</td>\n",
              "      <td>[cramps, cramps]</td>\n",
              "    </tr>\n",
              "    <tr>\n",
              "      <th>4</th>\n",
              "      <td>35696.0</td>\n",
              "      <td>Buprenorphine / naloxone</td>\n",
              "      <td>Opiate Dependence</td>\n",
              "      <td>\"Suboxone has completely turned my life around...</td>\n",
              "      <td>9.0</td>\n",
              "      <td>27-Nov-16</td>\n",
              "      <td>37.0</td>\n",
              "      <td>[constipation]</td>\n",
              "    </tr>\n",
              "    <tr>\n",
              "      <th>5</th>\n",
              "      <td>155963.0</td>\n",
              "      <td>Cialis</td>\n",
              "      <td>Benign Prostatic Hyperplasia</td>\n",
              "      <td>\"2nd day on 5mg started to work with rock hard...</td>\n",
              "      <td>2.0</td>\n",
              "      <td>28-Nov-15</td>\n",
              "      <td>43.0</td>\n",
              "      <td>[headache]</td>\n",
              "    </tr>\n",
              "    <tr>\n",
              "      <th>6</th>\n",
              "      <td>165907.0</td>\n",
              "      <td>Levonorgestrel</td>\n",
              "      <td>Emergency Contraception</td>\n",
              "      <td>\"He pulled out, but he cummed a bit in me. I t...</td>\n",
              "      <td>1.0</td>\n",
              "      <td>07-Mar-17</td>\n",
              "      <td>5.0</td>\n",
              "      <td>[]</td>\n",
              "    </tr>\n",
              "    <tr>\n",
              "      <th>7</th>\n",
              "      <td>102654.0</td>\n",
              "      <td>Aripiprazole</td>\n",
              "      <td>Bipolar Disorde</td>\n",
              "      <td>\"Abilify changed my life. There is hope. I was...</td>\n",
              "      <td>10.0</td>\n",
              "      <td>14-Mar-15</td>\n",
              "      <td>32.0</td>\n",
              "      <td>[depression, depressed, Bi-polar disorder]</td>\n",
              "    </tr>\n",
              "    <tr>\n",
              "      <th>8</th>\n",
              "      <td>74811.0</td>\n",
              "      <td>Keppra</td>\n",
              "      <td>Epilepsy</td>\n",
              "      <td>\" I Ve had  nothing but problems with the Kepp...</td>\n",
              "      <td>1.0</td>\n",
              "      <td>09-Aug-16</td>\n",
              "      <td>11.0</td>\n",
              "      <td>[]</td>\n",
              "    </tr>\n",
              "    <tr>\n",
              "      <th>9</th>\n",
              "      <td>48928.0</td>\n",
              "      <td>Ethinyl estradiol / levonorgestrel</td>\n",
              "      <td>Birth Control</td>\n",
              "      <td>\"I had been on the pill for many years. When m...</td>\n",
              "      <td>8.0</td>\n",
              "      <td>08-Dec-16</td>\n",
              "      <td>1.0</td>\n",
              "      <td>[acne, acne, depression, weight gain, depressed]</td>\n",
              "    </tr>\n",
              "  </tbody>\n",
              "</table>\n",
              "</div>\n",
              "      <button class=\"colab-df-convert\" onclick=\"convertToInteractive('df-1da9de67-7c58-465e-90a5-4fc3933e945e')\"\n",
              "              title=\"Convert this dataframe to an interactive table.\"\n",
              "              style=\"display:none;\">\n",
              "        \n",
              "  <svg xmlns=\"http://www.w3.org/2000/svg\" height=\"24px\"viewBox=\"0 0 24 24\"\n",
              "       width=\"24px\">\n",
              "    <path d=\"M0 0h24v24H0V0z\" fill=\"none\"/>\n",
              "    <path d=\"M18.56 5.44l.94 2.06.94-2.06 2.06-.94-2.06-.94-.94-2.06-.94 2.06-2.06.94zm-11 1L8.5 8.5l.94-2.06 2.06-.94-2.06-.94L8.5 2.5l-.94 2.06-2.06.94zm10 10l.94 2.06.94-2.06 2.06-.94-2.06-.94-.94-2.06-.94 2.06-2.06.94z\"/><path d=\"M17.41 7.96l-1.37-1.37c-.4-.4-.92-.59-1.43-.59-.52 0-1.04.2-1.43.59L10.3 9.45l-7.72 7.72c-.78.78-.78 2.05 0 2.83L4 21.41c.39.39.9.59 1.41.59.51 0 1.02-.2 1.41-.59l7.78-7.78 2.81-2.81c.8-.78.8-2.07 0-2.86zM5.41 20L4 18.59l7.72-7.72 1.47 1.35L5.41 20z\"/>\n",
              "  </svg>\n",
              "      </button>\n",
              "      \n",
              "  <style>\n",
              "    .colab-df-container {\n",
              "      display:flex;\n",
              "      flex-wrap:wrap;\n",
              "      gap: 12px;\n",
              "    }\n",
              "\n",
              "    .colab-df-convert {\n",
              "      background-color: #E8F0FE;\n",
              "      border: none;\n",
              "      border-radius: 50%;\n",
              "      cursor: pointer;\n",
              "      display: none;\n",
              "      fill: #1967D2;\n",
              "      height: 32px;\n",
              "      padding: 0 0 0 0;\n",
              "      width: 32px;\n",
              "    }\n",
              "\n",
              "    .colab-df-convert:hover {\n",
              "      background-color: #E2EBFA;\n",
              "      box-shadow: 0px 1px 2px rgba(60, 64, 67, 0.3), 0px 1px 3px 1px rgba(60, 64, 67, 0.15);\n",
              "      fill: #174EA6;\n",
              "    }\n",
              "\n",
              "    [theme=dark] .colab-df-convert {\n",
              "      background-color: #3B4455;\n",
              "      fill: #D2E3FC;\n",
              "    }\n",
              "\n",
              "    [theme=dark] .colab-df-convert:hover {\n",
              "      background-color: #434B5C;\n",
              "      box-shadow: 0px 1px 3px 1px rgba(0, 0, 0, 0.15);\n",
              "      filter: drop-shadow(0px 1px 2px rgba(0, 0, 0, 0.3));\n",
              "      fill: #FFFFFF;\n",
              "    }\n",
              "  </style>\n",
              "\n",
              "      <script>\n",
              "        const buttonEl =\n",
              "          document.querySelector('#df-1da9de67-7c58-465e-90a5-4fc3933e945e button.colab-df-convert');\n",
              "        buttonEl.style.display =\n",
              "          google.colab.kernel.accessAllowed ? 'block' : 'none';\n",
              "\n",
              "        async function convertToInteractive(key) {\n",
              "          const element = document.querySelector('#df-1da9de67-7c58-465e-90a5-4fc3933e945e');\n",
              "          const dataTable =\n",
              "            await google.colab.kernel.invokeFunction('convertToInteractive',\n",
              "                                                     [key], {});\n",
              "          if (!dataTable) return;\n",
              "\n",
              "          const docLinkHtml = 'Like what you see? Visit the ' +\n",
              "            '<a target=\"_blank\" href=https://colab.research.google.com/notebooks/data_table.ipynb>data table notebook</a>'\n",
              "            + ' to learn more about interactive tables.';\n",
              "          element.innerHTML = '';\n",
              "          dataTable['output_type'] = 'display_data';\n",
              "          await google.colab.output.renderOutput(dataTable, element);\n",
              "          const docLink = document.createElement('div');\n",
              "          docLink.innerHTML = docLinkHtml;\n",
              "          element.appendChild(docLink);\n",
              "        }\n",
              "      </script>\n",
              "    </div>\n",
              "  </div>\n",
              "  "
            ]
          },
          "metadata": {},
          "execution_count": 31
        }
      ],
      "source": [
        "df.head(10)"
      ]
    },
    {
      "cell_type": "markdown",
      "metadata": {
        "id": "_lX8XwiFLrok"
      },
      "source": [
        "We can see, the Disease column have picked <b> a lot of symptoms/side-effects </b>. Now it's time to put them together."
      ]
    },
    {
      "cell_type": "code",
      "execution_count": null,
      "metadata": {
        "scrolled": true,
        "id": "KXbRoFIVLrok",
        "outputId": "4bdc91f6-9d7b-40a3-f6a6-76198f51326f",
        "colab": {
          "base_uri": "https://localhost:8080/",
          "height": 206
        }
      },
      "outputs": [
        {
          "output_type": "execute_result",
          "data": {
            "text/plain": [
              "                             drugName  \\\n",
              "3                          Ortho Evra   \n",
              "4            Buprenorphine / naloxone   \n",
              "5                              Cialis   \n",
              "7                        Aripiprazole   \n",
              "9  Ethinyl estradiol / levonorgestrel   \n",
              "\n",
              "                                       Side-Effects  \n",
              "3                                  [cramps, cramps]  \n",
              "4                                    [constipation]  \n",
              "5                                        [headache]  \n",
              "7        [depression, depressed, Bi-polar disorder]  \n",
              "9  [acne, acne, depression, weight gain, depressed]  "
            ],
            "text/html": [
              "\n",
              "  <div id=\"df-fa4e38de-23b5-476f-922b-3bf69f93e2bd\">\n",
              "    <div class=\"colab-df-container\">\n",
              "      <div>\n",
              "<style scoped>\n",
              "    .dataframe tbody tr th:only-of-type {\n",
              "        vertical-align: middle;\n",
              "    }\n",
              "\n",
              "    .dataframe tbody tr th {\n",
              "        vertical-align: top;\n",
              "    }\n",
              "\n",
              "    .dataframe thead th {\n",
              "        text-align: right;\n",
              "    }\n",
              "</style>\n",
              "<table border=\"1\" class=\"dataframe\">\n",
              "  <thead>\n",
              "    <tr style=\"text-align: right;\">\n",
              "      <th></th>\n",
              "      <th>drugName</th>\n",
              "      <th>Side-Effects</th>\n",
              "    </tr>\n",
              "  </thead>\n",
              "  <tbody>\n",
              "    <tr>\n",
              "      <th>3</th>\n",
              "      <td>Ortho Evra</td>\n",
              "      <td>[cramps, cramps]</td>\n",
              "    </tr>\n",
              "    <tr>\n",
              "      <th>4</th>\n",
              "      <td>Buprenorphine / naloxone</td>\n",
              "      <td>[constipation]</td>\n",
              "    </tr>\n",
              "    <tr>\n",
              "      <th>5</th>\n",
              "      <td>Cialis</td>\n",
              "      <td>[headache]</td>\n",
              "    </tr>\n",
              "    <tr>\n",
              "      <th>7</th>\n",
              "      <td>Aripiprazole</td>\n",
              "      <td>[depression, depressed, Bi-polar disorder]</td>\n",
              "    </tr>\n",
              "    <tr>\n",
              "      <th>9</th>\n",
              "      <td>Ethinyl estradiol / levonorgestrel</td>\n",
              "      <td>[acne, acne, depression, weight gain, depressed]</td>\n",
              "    </tr>\n",
              "  </tbody>\n",
              "</table>\n",
              "</div>\n",
              "      <button class=\"colab-df-convert\" onclick=\"convertToInteractive('df-fa4e38de-23b5-476f-922b-3bf69f93e2bd')\"\n",
              "              title=\"Convert this dataframe to an interactive table.\"\n",
              "              style=\"display:none;\">\n",
              "        \n",
              "  <svg xmlns=\"http://www.w3.org/2000/svg\" height=\"24px\"viewBox=\"0 0 24 24\"\n",
              "       width=\"24px\">\n",
              "    <path d=\"M0 0h24v24H0V0z\" fill=\"none\"/>\n",
              "    <path d=\"M18.56 5.44l.94 2.06.94-2.06 2.06-.94-2.06-.94-.94-2.06-.94 2.06-2.06.94zm-11 1L8.5 8.5l.94-2.06 2.06-.94-2.06-.94L8.5 2.5l-.94 2.06-2.06.94zm10 10l.94 2.06.94-2.06 2.06-.94-2.06-.94-.94-2.06-.94 2.06-2.06.94z\"/><path d=\"M17.41 7.96l-1.37-1.37c-.4-.4-.92-.59-1.43-.59-.52 0-1.04.2-1.43.59L10.3 9.45l-7.72 7.72c-.78.78-.78 2.05 0 2.83L4 21.41c.39.39.9.59 1.41.59.51 0 1.02-.2 1.41-.59l7.78-7.78 2.81-2.81c.8-.78.8-2.07 0-2.86zM5.41 20L4 18.59l7.72-7.72 1.47 1.35L5.41 20z\"/>\n",
              "  </svg>\n",
              "      </button>\n",
              "      \n",
              "  <style>\n",
              "    .colab-df-container {\n",
              "      display:flex;\n",
              "      flex-wrap:wrap;\n",
              "      gap: 12px;\n",
              "    }\n",
              "\n",
              "    .colab-df-convert {\n",
              "      background-color: #E8F0FE;\n",
              "      border: none;\n",
              "      border-radius: 50%;\n",
              "      cursor: pointer;\n",
              "      display: none;\n",
              "      fill: #1967D2;\n",
              "      height: 32px;\n",
              "      padding: 0 0 0 0;\n",
              "      width: 32px;\n",
              "    }\n",
              "\n",
              "    .colab-df-convert:hover {\n",
              "      background-color: #E2EBFA;\n",
              "      box-shadow: 0px 1px 2px rgba(60, 64, 67, 0.3), 0px 1px 3px 1px rgba(60, 64, 67, 0.15);\n",
              "      fill: #174EA6;\n",
              "    }\n",
              "\n",
              "    [theme=dark] .colab-df-convert {\n",
              "      background-color: #3B4455;\n",
              "      fill: #D2E3FC;\n",
              "    }\n",
              "\n",
              "    [theme=dark] .colab-df-convert:hover {\n",
              "      background-color: #434B5C;\n",
              "      box-shadow: 0px 1px 3px 1px rgba(0, 0, 0, 0.15);\n",
              "      filter: drop-shadow(0px 1px 2px rgba(0, 0, 0, 0.3));\n",
              "      fill: #FFFFFF;\n",
              "    }\n",
              "  </style>\n",
              "\n",
              "      <script>\n",
              "        const buttonEl =\n",
              "          document.querySelector('#df-fa4e38de-23b5-476f-922b-3bf69f93e2bd button.colab-df-convert');\n",
              "        buttonEl.style.display =\n",
              "          google.colab.kernel.accessAllowed ? 'block' : 'none';\n",
              "\n",
              "        async function convertToInteractive(key) {\n",
              "          const element = document.querySelector('#df-fa4e38de-23b5-476f-922b-3bf69f93e2bd');\n",
              "          const dataTable =\n",
              "            await google.colab.kernel.invokeFunction('convertToInteractive',\n",
              "                                                     [key], {});\n",
              "          if (!dataTable) return;\n",
              "\n",
              "          const docLinkHtml = 'Like what you see? Visit the ' +\n",
              "            '<a target=\"_blank\" href=https://colab.research.google.com/notebooks/data_table.ipynb>data table notebook</a>'\n",
              "            + ' to learn more about interactive tables.';\n",
              "          element.innerHTML = '';\n",
              "          dataTable['output_type'] = 'display_data';\n",
              "          await google.colab.output.renderOutput(dataTable, element);\n",
              "          const docLink = document.createElement('div');\n",
              "          docLink.innerHTML = docLinkHtml;\n",
              "          element.appendChild(docLink);\n",
              "        }\n",
              "      </script>\n",
              "    </div>\n",
              "  </div>\n",
              "  "
            ]
          },
          "metadata": {},
          "execution_count": 32
        }
      ],
      "source": [
        "#keep only the relevant cols and the rows with non-empty side-effects\n",
        "cols_rel=['drugName','Side-Effects']\n",
        "df_rel= df.loc[:,cols_rel]\n",
        "df_rel=df_rel[df_rel[\"Side-Effects\"].astype(bool)]\n",
        "df_rel.head()"
      ]
    },
    {
      "cell_type": "code",
      "execution_count": null,
      "metadata": {
        "id": "TmVAhCRyLrol"
      },
      "outputs": [],
      "source": [
        "#  create a list to host each problem with the drugname\n",
        "list=[]\n",
        "for i,row in df_rel.iterrows():\n",
        "    for ele in enumerate(row['Side-Effects']):\n",
        "        #print(row['drugName'],ele[1])\n",
        "        list.append((row['drugName'],ele[1]))\n",
        "\n"
      ]
    },
    {
      "cell_type": "code",
      "execution_count": null,
      "metadata": {
        "id": "-ColmvaeLrol",
        "outputId": "b0a0285e-183c-4273-94f6-ccb199d376d0",
        "colab": {
          "base_uri": "https://localhost:8080/",
          "height": 363
        }
      },
      "outputs": [
        {
          "output_type": "execute_result",
          "data": {
            "text/plain": [
              "                             drugName       Side-Effects\n",
              "0                          Ortho Evra             cramps\n",
              "1                          Ortho Evra             cramps\n",
              "2            Buprenorphine / naloxone       constipation\n",
              "3                              Cialis           headache\n",
              "4                        Aripiprazole         depression\n",
              "5                        Aripiprazole          depressed\n",
              "6                        Aripiprazole  Bi-polar disorder\n",
              "7  Ethinyl estradiol / levonorgestrel               acne\n",
              "8  Ethinyl estradiol / levonorgestrel               acne\n",
              "9  Ethinyl estradiol / levonorgestrel         depression"
            ],
            "text/html": [
              "\n",
              "  <div id=\"df-18ca6d64-fe18-4fe5-b80f-17411bed30a3\">\n",
              "    <div class=\"colab-df-container\">\n",
              "      <div>\n",
              "<style scoped>\n",
              "    .dataframe tbody tr th:only-of-type {\n",
              "        vertical-align: middle;\n",
              "    }\n",
              "\n",
              "    .dataframe tbody tr th {\n",
              "        vertical-align: top;\n",
              "    }\n",
              "\n",
              "    .dataframe thead th {\n",
              "        text-align: right;\n",
              "    }\n",
              "</style>\n",
              "<table border=\"1\" class=\"dataframe\">\n",
              "  <thead>\n",
              "    <tr style=\"text-align: right;\">\n",
              "      <th></th>\n",
              "      <th>drugName</th>\n",
              "      <th>Side-Effects</th>\n",
              "    </tr>\n",
              "  </thead>\n",
              "  <tbody>\n",
              "    <tr>\n",
              "      <th>0</th>\n",
              "      <td>Ortho Evra</td>\n",
              "      <td>cramps</td>\n",
              "    </tr>\n",
              "    <tr>\n",
              "      <th>1</th>\n",
              "      <td>Ortho Evra</td>\n",
              "      <td>cramps</td>\n",
              "    </tr>\n",
              "    <tr>\n",
              "      <th>2</th>\n",
              "      <td>Buprenorphine / naloxone</td>\n",
              "      <td>constipation</td>\n",
              "    </tr>\n",
              "    <tr>\n",
              "      <th>3</th>\n",
              "      <td>Cialis</td>\n",
              "      <td>headache</td>\n",
              "    </tr>\n",
              "    <tr>\n",
              "      <th>4</th>\n",
              "      <td>Aripiprazole</td>\n",
              "      <td>depression</td>\n",
              "    </tr>\n",
              "    <tr>\n",
              "      <th>5</th>\n",
              "      <td>Aripiprazole</td>\n",
              "      <td>depressed</td>\n",
              "    </tr>\n",
              "    <tr>\n",
              "      <th>6</th>\n",
              "      <td>Aripiprazole</td>\n",
              "      <td>Bi-polar disorder</td>\n",
              "    </tr>\n",
              "    <tr>\n",
              "      <th>7</th>\n",
              "      <td>Ethinyl estradiol / levonorgestrel</td>\n",
              "      <td>acne</td>\n",
              "    </tr>\n",
              "    <tr>\n",
              "      <th>8</th>\n",
              "      <td>Ethinyl estradiol / levonorgestrel</td>\n",
              "      <td>acne</td>\n",
              "    </tr>\n",
              "    <tr>\n",
              "      <th>9</th>\n",
              "      <td>Ethinyl estradiol / levonorgestrel</td>\n",
              "      <td>depression</td>\n",
              "    </tr>\n",
              "  </tbody>\n",
              "</table>\n",
              "</div>\n",
              "      <button class=\"colab-df-convert\" onclick=\"convertToInteractive('df-18ca6d64-fe18-4fe5-b80f-17411bed30a3')\"\n",
              "              title=\"Convert this dataframe to an interactive table.\"\n",
              "              style=\"display:none;\">\n",
              "        \n",
              "  <svg xmlns=\"http://www.w3.org/2000/svg\" height=\"24px\"viewBox=\"0 0 24 24\"\n",
              "       width=\"24px\">\n",
              "    <path d=\"M0 0h24v24H0V0z\" fill=\"none\"/>\n",
              "    <path d=\"M18.56 5.44l.94 2.06.94-2.06 2.06-.94-2.06-.94-.94-2.06-.94 2.06-2.06.94zm-11 1L8.5 8.5l.94-2.06 2.06-.94-2.06-.94L8.5 2.5l-.94 2.06-2.06.94zm10 10l.94 2.06.94-2.06 2.06-.94-2.06-.94-.94-2.06-.94 2.06-2.06.94z\"/><path d=\"M17.41 7.96l-1.37-1.37c-.4-.4-.92-.59-1.43-.59-.52 0-1.04.2-1.43.59L10.3 9.45l-7.72 7.72c-.78.78-.78 2.05 0 2.83L4 21.41c.39.39.9.59 1.41.59.51 0 1.02-.2 1.41-.59l7.78-7.78 2.81-2.81c.8-.78.8-2.07 0-2.86zM5.41 20L4 18.59l7.72-7.72 1.47 1.35L5.41 20z\"/>\n",
              "  </svg>\n",
              "      </button>\n",
              "      \n",
              "  <style>\n",
              "    .colab-df-container {\n",
              "      display:flex;\n",
              "      flex-wrap:wrap;\n",
              "      gap: 12px;\n",
              "    }\n",
              "\n",
              "    .colab-df-convert {\n",
              "      background-color: #E8F0FE;\n",
              "      border: none;\n",
              "      border-radius: 50%;\n",
              "      cursor: pointer;\n",
              "      display: none;\n",
              "      fill: #1967D2;\n",
              "      height: 32px;\n",
              "      padding: 0 0 0 0;\n",
              "      width: 32px;\n",
              "    }\n",
              "\n",
              "    .colab-df-convert:hover {\n",
              "      background-color: #E2EBFA;\n",
              "      box-shadow: 0px 1px 2px rgba(60, 64, 67, 0.3), 0px 1px 3px 1px rgba(60, 64, 67, 0.15);\n",
              "      fill: #174EA6;\n",
              "    }\n",
              "\n",
              "    [theme=dark] .colab-df-convert {\n",
              "      background-color: #3B4455;\n",
              "      fill: #D2E3FC;\n",
              "    }\n",
              "\n",
              "    [theme=dark] .colab-df-convert:hover {\n",
              "      background-color: #434B5C;\n",
              "      box-shadow: 0px 1px 3px 1px rgba(0, 0, 0, 0.15);\n",
              "      filter: drop-shadow(0px 1px 2px rgba(0, 0, 0, 0.3));\n",
              "      fill: #FFFFFF;\n",
              "    }\n",
              "  </style>\n",
              "\n",
              "      <script>\n",
              "        const buttonEl =\n",
              "          document.querySelector('#df-18ca6d64-fe18-4fe5-b80f-17411bed30a3 button.colab-df-convert');\n",
              "        buttonEl.style.display =\n",
              "          google.colab.kernel.accessAllowed ? 'block' : 'none';\n",
              "\n",
              "        async function convertToInteractive(key) {\n",
              "          const element = document.querySelector('#df-18ca6d64-fe18-4fe5-b80f-17411bed30a3');\n",
              "          const dataTable =\n",
              "            await google.colab.kernel.invokeFunction('convertToInteractive',\n",
              "                                                     [key], {});\n",
              "          if (!dataTable) return;\n",
              "\n",
              "          const docLinkHtml = 'Like what you see? Visit the ' +\n",
              "            '<a target=\"_blank\" href=https://colab.research.google.com/notebooks/data_table.ipynb>data table notebook</a>'\n",
              "            + ' to learn more about interactive tables.';\n",
              "          element.innerHTML = '';\n",
              "          dataTable['output_type'] = 'display_data';\n",
              "          await google.colab.output.renderOutput(dataTable, element);\n",
              "          const docLink = document.createElement('div');\n",
              "          docLink.innerHTML = docLinkHtml;\n",
              "          element.appendChild(docLink);\n",
              "        }\n",
              "      </script>\n",
              "    </div>\n",
              "  </div>\n",
              "  "
            ]
          },
          "metadata": {},
          "execution_count": 34
        }
      ],
      "source": [
        "#convert the list into a dataframe\n",
        "df_drug_problem = pd.DataFrame(list,columns = ['drugName', 'Side-Effects'])\n",
        "df_drug_problem.head(10)"
      ]
    },
    {
      "cell_type": "code",
      "execution_count": null,
      "metadata": {
        "id": "Rt3QBY29Lrom",
        "outputId": "9a786657-a176-41cc-d12e-ef13c7a8b481",
        "colab": {
          "base_uri": "https://localhost:8080/",
          "height": 424
        }
      },
      "outputs": [
        {
          "output_type": "execute_result",
          "data": {
            "text/plain": [
              "                     drugName     Side-Effects\n",
              "0                  Ortho Evra           cramps\n",
              "2    Buprenorphine / naloxone     constipation\n",
              "3                      Cialis         headache\n",
              "4                Aripiprazole       depression\n",
              "5                Aripiprazole        depressed\n",
              "..                        ...              ...\n",
              "105                Tamsulosin  Memory problems\n",
              "106                Tamsulosin       runny nose\n",
              "107                Tamsulosin         weakness\n",
              "108                Tamsulosin        tiredness\n",
              "109               Doxycycline              UTI\n",
              "\n",
              "[90 rows x 2 columns]"
            ],
            "text/html": [
              "\n",
              "  <div id=\"df-2916b914-d525-42f8-b3eb-03ad3a042acc\">\n",
              "    <div class=\"colab-df-container\">\n",
              "      <div>\n",
              "<style scoped>\n",
              "    .dataframe tbody tr th:only-of-type {\n",
              "        vertical-align: middle;\n",
              "    }\n",
              "\n",
              "    .dataframe tbody tr th {\n",
              "        vertical-align: top;\n",
              "    }\n",
              "\n",
              "    .dataframe thead th {\n",
              "        text-align: right;\n",
              "    }\n",
              "</style>\n",
              "<table border=\"1\" class=\"dataframe\">\n",
              "  <thead>\n",
              "    <tr style=\"text-align: right;\">\n",
              "      <th></th>\n",
              "      <th>drugName</th>\n",
              "      <th>Side-Effects</th>\n",
              "    </tr>\n",
              "  </thead>\n",
              "  <tbody>\n",
              "    <tr>\n",
              "      <th>0</th>\n",
              "      <td>Ortho Evra</td>\n",
              "      <td>cramps</td>\n",
              "    </tr>\n",
              "    <tr>\n",
              "      <th>2</th>\n",
              "      <td>Buprenorphine / naloxone</td>\n",
              "      <td>constipation</td>\n",
              "    </tr>\n",
              "    <tr>\n",
              "      <th>3</th>\n",
              "      <td>Cialis</td>\n",
              "      <td>headache</td>\n",
              "    </tr>\n",
              "    <tr>\n",
              "      <th>4</th>\n",
              "      <td>Aripiprazole</td>\n",
              "      <td>depression</td>\n",
              "    </tr>\n",
              "    <tr>\n",
              "      <th>5</th>\n",
              "      <td>Aripiprazole</td>\n",
              "      <td>depressed</td>\n",
              "    </tr>\n",
              "    <tr>\n",
              "      <th>...</th>\n",
              "      <td>...</td>\n",
              "      <td>...</td>\n",
              "    </tr>\n",
              "    <tr>\n",
              "      <th>105</th>\n",
              "      <td>Tamsulosin</td>\n",
              "      <td>Memory problems</td>\n",
              "    </tr>\n",
              "    <tr>\n",
              "      <th>106</th>\n",
              "      <td>Tamsulosin</td>\n",
              "      <td>runny nose</td>\n",
              "    </tr>\n",
              "    <tr>\n",
              "      <th>107</th>\n",
              "      <td>Tamsulosin</td>\n",
              "      <td>weakness</td>\n",
              "    </tr>\n",
              "    <tr>\n",
              "      <th>108</th>\n",
              "      <td>Tamsulosin</td>\n",
              "      <td>tiredness</td>\n",
              "    </tr>\n",
              "    <tr>\n",
              "      <th>109</th>\n",
              "      <td>Doxycycline</td>\n",
              "      <td>UTI</td>\n",
              "    </tr>\n",
              "  </tbody>\n",
              "</table>\n",
              "<p>90 rows × 2 columns</p>\n",
              "</div>\n",
              "      <button class=\"colab-df-convert\" onclick=\"convertToInteractive('df-2916b914-d525-42f8-b3eb-03ad3a042acc')\"\n",
              "              title=\"Convert this dataframe to an interactive table.\"\n",
              "              style=\"display:none;\">\n",
              "        \n",
              "  <svg xmlns=\"http://www.w3.org/2000/svg\" height=\"24px\"viewBox=\"0 0 24 24\"\n",
              "       width=\"24px\">\n",
              "    <path d=\"M0 0h24v24H0V0z\" fill=\"none\"/>\n",
              "    <path d=\"M18.56 5.44l.94 2.06.94-2.06 2.06-.94-2.06-.94-.94-2.06-.94 2.06-2.06.94zm-11 1L8.5 8.5l.94-2.06 2.06-.94-2.06-.94L8.5 2.5l-.94 2.06-2.06.94zm10 10l.94 2.06.94-2.06 2.06-.94-2.06-.94-.94-2.06-.94 2.06-2.06.94z\"/><path d=\"M17.41 7.96l-1.37-1.37c-.4-.4-.92-.59-1.43-.59-.52 0-1.04.2-1.43.59L10.3 9.45l-7.72 7.72c-.78.78-.78 2.05 0 2.83L4 21.41c.39.39.9.59 1.41.59.51 0 1.02-.2 1.41-.59l7.78-7.78 2.81-2.81c.8-.78.8-2.07 0-2.86zM5.41 20L4 18.59l7.72-7.72 1.47 1.35L5.41 20z\"/>\n",
              "  </svg>\n",
              "      </button>\n",
              "      \n",
              "  <style>\n",
              "    .colab-df-container {\n",
              "      display:flex;\n",
              "      flex-wrap:wrap;\n",
              "      gap: 12px;\n",
              "    }\n",
              "\n",
              "    .colab-df-convert {\n",
              "      background-color: #E8F0FE;\n",
              "      border: none;\n",
              "      border-radius: 50%;\n",
              "      cursor: pointer;\n",
              "      display: none;\n",
              "      fill: #1967D2;\n",
              "      height: 32px;\n",
              "      padding: 0 0 0 0;\n",
              "      width: 32px;\n",
              "    }\n",
              "\n",
              "    .colab-df-convert:hover {\n",
              "      background-color: #E2EBFA;\n",
              "      box-shadow: 0px 1px 2px rgba(60, 64, 67, 0.3), 0px 1px 3px 1px rgba(60, 64, 67, 0.15);\n",
              "      fill: #174EA6;\n",
              "    }\n",
              "\n",
              "    [theme=dark] .colab-df-convert {\n",
              "      background-color: #3B4455;\n",
              "      fill: #D2E3FC;\n",
              "    }\n",
              "\n",
              "    [theme=dark] .colab-df-convert:hover {\n",
              "      background-color: #434B5C;\n",
              "      box-shadow: 0px 1px 3px 1px rgba(0, 0, 0, 0.15);\n",
              "      filter: drop-shadow(0px 1px 2px rgba(0, 0, 0, 0.3));\n",
              "      fill: #FFFFFF;\n",
              "    }\n",
              "  </style>\n",
              "\n",
              "      <script>\n",
              "        const buttonEl =\n",
              "          document.querySelector('#df-2916b914-d525-42f8-b3eb-03ad3a042acc button.colab-df-convert');\n",
              "        buttonEl.style.display =\n",
              "          google.colab.kernel.accessAllowed ? 'block' : 'none';\n",
              "\n",
              "        async function convertToInteractive(key) {\n",
              "          const element = document.querySelector('#df-2916b914-d525-42f8-b3eb-03ad3a042acc');\n",
              "          const dataTable =\n",
              "            await google.colab.kernel.invokeFunction('convertToInteractive',\n",
              "                                                     [key], {});\n",
              "          if (!dataTable) return;\n",
              "\n",
              "          const docLinkHtml = 'Like what you see? Visit the ' +\n",
              "            '<a target=\"_blank\" href=https://colab.research.google.com/notebooks/data_table.ipynb>data table notebook</a>'\n",
              "            + ' to learn more about interactive tables.';\n",
              "          element.innerHTML = '';\n",
              "          dataTable['output_type'] = 'display_data';\n",
              "          await google.colab.output.renderOutput(dataTable, element);\n",
              "          const docLink = document.createElement('div');\n",
              "          docLink.innerHTML = docLinkHtml;\n",
              "          element.appendChild(docLink);\n",
              "        }\n",
              "      </script>\n",
              "    </div>\n",
              "  </div>\n",
              "  "
            ]
          },
          "metadata": {},
          "execution_count": 35
        }
      ],
      "source": [
        "#but we see some duplicates\n",
        "df_drug_problem.drop_duplicates(subset=None,keep='first',inplace=False)"
      ]
    },
    {
      "cell_type": "code",
      "execution_count": null,
      "metadata": {
        "id": "GJvktbgiLrom",
        "outputId": "c5eb5e59-2f40-43be-93e9-424dcf226139",
        "colab": {
          "base_uri": "https://localhost:8080/"
        }
      },
      "outputs": [
        {
          "output_type": "execute_result",
          "data": {
            "text/plain": [
              "Lamotrigine                           8\n",
              "Trazodone                             8\n",
              "Tamsulosin                            7\n",
              "Dulcolax                              6\n",
              "Amitriptyline                         6\n",
              "Ethinyl estradiol / levonorgestrel    5\n",
              "Ledipasvir / sofosbuvir               5\n",
              "Dextromethorphan                      5\n",
              "Azithromycin                          4\n",
              "Toradol                               4\n",
              "Pentasa                               4\n",
              "Liraglutide                           4\n",
              "Atripla                               3\n",
              "Trimethoprim                          3\n",
              "Sertraline                            3\n",
              "Contrave                              3\n",
              "Topiramate                            3\n",
              "Aripiprazole                          3\n",
              "Imitrex                               3\n",
              "Fluconazole                           2\n",
              "Trilafon                              2\n",
              "MoviPrep                              2\n",
              "Ortho Evra                            2\n",
              "Daytrana                              2\n",
              "L-methylfolate                        2\n",
              "Ativan                                1\n",
              "Mobic                                 1\n",
              "Morphine                              1\n",
              "Buprenorphine / naloxone              1\n",
              "Etonogestrel                          1\n",
              "Nilotinib                             1\n",
              "Nexplanon                             1\n",
              "Clonazepam                            1\n",
              "Venlafaxine                           1\n",
              "Cialis                                1\n",
              "Doxycycline                           1\n",
              "Name: drugName, dtype: int64"
            ]
          },
          "metadata": {},
          "execution_count": 36
        }
      ],
      "source": [
        "df_drug_problem['drugName'].value_counts()"
      ]
    },
    {
      "cell_type": "markdown",
      "metadata": {
        "id": "uP9k-0bjLrom"
      },
      "source": [
        "So we see the top 5 drugName with the highest number of side-effects are :\n",
        "<b>\n",
        "- Trazodone                             \n",
        "- Lamotrigine                           \n",
        "- Tamsulosin                            \n",
        "- Amitriptyline                         \n",
        "- Dulcolax                              \n",
        "</b>"
      ]
    },
    {
      "cell_type": "markdown",
      "metadata": {
        "id": "1r6IVBnnLron"
      },
      "source": [
        "## Scope for improvement\n",
        "\n",
        "\n",
        "<b>1. Use BIO-Bert for Relationship extraction</b>\n",
        "We can see some the problems are solved by that Drug as well, so if we can establish a relationship between the drugName and the side-effect that will give us a much refined insight about the drug\n",
        "\n",
        "Further more we can also involve\n",
        "\n",
        "<b>2. Knowledge Graph for Question and Answering purpose</b>\n"
      ]
    },
    {
      "cell_type": "markdown",
      "metadata": {
        "id": "_pJvH7ReLron"
      },
      "source": [
        "## Conclusion summary\n",
        "\n",
        "Links:\n",
        "\n",
        "https://www.persistent.com/blogs/building-named-entity-recognition-models-for-healthcare/\n",
        "\n",
        "https://arxiv.org/pdf/1511.08308v4.pdf\n",
        "\n",
        "https://medium.com/data-science-in-your-pocket/named-entity-recognition-ner-using-conditional-random-fields-in-nlp-3660df22e95c\n",
        "\n",
        "https://stanfordnlp.github.io/stanza/available_biomed_models.html\n",
        "\n",
        "http://stanza.run/bio\n",
        "\n",
        "https://aclanthology.org/Q16-1026.pdf\n",
        "\n",
        "https://arxiv.org/pdf/1603.01354.pdf"
      ]
    }
  ]
}