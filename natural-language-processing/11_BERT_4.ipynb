{
  "nbformat": 4,
  "nbformat_minor": 0,
  "metadata": {
    "colab": {
      "provenance": []
    },
    "kernelspec": {
      "name": "python3",
      "display_name": "Python 3"
    },
    "language_info": {
      "name": "python"
    }
  },
  "cells": [
    {
      "cell_type": "markdown",
      "source": [
        "### Problem Statement:\n",
        "\n",
        "**Context**: \n",
        "The Gurugram-based FlipItNews aims to revolutionize the way Indians perceive finance, business, and capital market investment, by giving it a boost through artificial intelligence (AI) and machine learning (ML). They’re on a mission to reinvent financial literacy for Indians, where financial awareness is driven by smart information discovery and engagement with peers. Through their smart content discovery and contextual engagement, the company is simplifying business, finance, and investment for millennials and first-time investors\n",
        "\n",
        "**Objective**:\n",
        "The goal of this project is to use a bunch of news articles extracted from the companies’ internal database and categorize them into several categories like politics, technology, sports, business and entertainment based on their content. Use natural language processing and create & compare at least three different models."
      ],
      "metadata": {
        "id": "tPPACNSNERvI"
      }
    },
    {
      "cell_type": "markdown",
      "source": [
        "### Attribute Information:\n",
        "\n",
        "* Article \n",
        "* Category \n",
        "\n",
        "The feature names are themselves pretty self-explanatory."
      ],
      "metadata": {
        "id": "hAysaT5qEhnN"
      }
    },
    {
      "cell_type": "markdown",
      "source": [
        "### Our Approach:\n",
        "\n",
        "1. Importing the libraries\n",
        "2. Loading the dataset\n",
        "  * Mounting the drive\n",
        "  * Reading the data file\n",
        "3. Data Exploration\n",
        "  * Shape of the dataset\n",
        "  * News articles per category\n",
        "4. Text Processing\n",
        "  * Removing the non-letters\n",
        "  * Tokenizing the text\n",
        "  * Removing stopwords\n",
        "  * Lemmatization\n",
        "5. Data Transformation\n",
        "  * Encoding the target variable\n",
        "  * Bag of Words\n",
        "  * TF-IDF\n",
        "  * Train-Test Split\n",
        "6. Model Training & Evaluation\n",
        "  * Simple Approach\n",
        "    * Naive Bayes\n",
        "  * Functionalized Code\n",
        "    * Decision Tree\n",
        "    * Nearest Neighbors\n",
        "    * Random Forest"
      ],
      "metadata": {
        "id": "CIwbd9i2bpcu"
      }
    },
    {
      "cell_type": "markdown",
      "source": [
        "#### Importing the libraries -"
      ],
      "metadata": {
        "id": "M8oK_7cCn3Hj"
      }
    },
    {
      "cell_type": "code",
      "source": [
        "# To ignore all warnings\n",
        "import warnings\n",
        "\n",
        "# For reading & manipulating the data\n",
        "import pandas as pd\n",
        "import numpy as np\n",
        "\n",
        "# For visualizing the data\n",
        "!pip install matplotlib --upgrade\n",
        "import matplotlib.pyplot as plt\n",
        "import seaborn as sns\n",
        "\n",
        "# To use Regular Expressions\n",
        "import re\n",
        "\n",
        "# To use Natural Language Processing\n",
        "import nltk\n",
        "\n",
        "# For tokenization\n",
        "from nltk.tokenize import word_tokenize\n",
        "nltk.download('punkt')\n",
        "\n",
        "# To remove stopwords\n",
        "from nltk.corpus import stopwords\n",
        "nltk.download('stopwords')\n",
        "\n",
        "# For lemmetization\n",
        "from nltk import WordNetLemmatizer\n",
        "nltk.download('wordnet')\n",
        "\n",
        "# For BoW & TF-IDF\n",
        "from sklearn.feature_extraction.text import CountVectorizer, TfidfVectorizer\n",
        "\n",
        "# For encoding the categorical variable\n",
        "!pip install category_encoders\n",
        "import category_encoders as ce\n",
        "\n",
        "# To try out different ML models\n",
        "from sklearn.tree import DecisionTreeClassifier\n",
        "from sklearn.neighbors import KNeighborsClassifier\n",
        "from sklearn.naive_bayes import MultinomialNB\n",
        "from sklearn.ensemble import RandomForestClassifier\n",
        "\n",
        "# To perform train-test split\n",
        "from sklearn.model_selection import train_test_split\n",
        "\n",
        "# Performace Metrics for evaluating the model\n",
        "from sklearn.metrics import accuracy_score, roc_auc_score, f1_score, precision_score, recall_score\n",
        "from sklearn.metrics import confusion_matrix, classification_report\n",
        "\n",
        "warnings.simplefilter('ignore')"
      ],
      "metadata": {
        "colab": {
          "base_uri": "https://localhost:8080/"
        },
        "id": "VKKeNeJ2EP9D",
        "outputId": "ed32c940-6c85-4ef0-8a74-86d1ef22337b"
      },
      "execution_count": null,
      "outputs": [
        {
          "output_type": "stream",
          "name": "stdout",
          "text": [
            "Requirement already satisfied: matplotlib in /usr/local/lib/python3.7/dist-packages (3.5.2)\n",
            "Requirement already satisfied: kiwisolver>=1.0.1 in /usr/local/lib/python3.7/dist-packages (from matplotlib) (1.4.2)\n",
            "Requirement already satisfied: numpy>=1.17 in /usr/local/lib/python3.7/dist-packages (from matplotlib) (1.21.6)\n",
            "Requirement already satisfied: packaging>=20.0 in /usr/local/lib/python3.7/dist-packages (from matplotlib) (21.3)\n",
            "Requirement already satisfied: pyparsing>=2.2.1 in /usr/local/lib/python3.7/dist-packages (from matplotlib) (3.0.8)\n",
            "Requirement already satisfied: cycler>=0.10 in /usr/local/lib/python3.7/dist-packages (from matplotlib) (0.11.0)\n",
            "Requirement already satisfied: fonttools>=4.22.0 in /usr/local/lib/python3.7/dist-packages (from matplotlib) (4.33.3)\n",
            "Requirement already satisfied: pillow>=6.2.0 in /usr/local/lib/python3.7/dist-packages (from matplotlib) (7.1.2)\n",
            "Requirement already satisfied: python-dateutil>=2.7 in /usr/local/lib/python3.7/dist-packages (from matplotlib) (2.8.2)\n",
            "Requirement already satisfied: typing-extensions in /usr/local/lib/python3.7/dist-packages (from kiwisolver>=1.0.1->matplotlib) (4.2.0)\n",
            "Requirement already satisfied: six>=1.5 in /usr/local/lib/python3.7/dist-packages (from python-dateutil>=2.7->matplotlib) (1.15.0)\n",
            "[nltk_data] Downloading package punkt to /root/nltk_data...\n",
            "[nltk_data]   Package punkt is already up-to-date!\n",
            "[nltk_data] Downloading package stopwords to /root/nltk_data...\n",
            "[nltk_data]   Package stopwords is already up-to-date!\n",
            "[nltk_data] Downloading package wordnet to /root/nltk_data...\n",
            "[nltk_data]   Package wordnet is already up-to-date!\n",
            "Requirement already satisfied: category_encoders in /usr/local/lib/python3.7/dist-packages (2.4.0)\n",
            "Requirement already satisfied: scipy>=1.0.0 in /usr/local/lib/python3.7/dist-packages (from category_encoders) (1.4.1)\n",
            "Requirement already satisfied: numpy>=1.14.0 in /usr/local/lib/python3.7/dist-packages (from category_encoders) (1.21.6)\n",
            "Requirement already satisfied: patsy>=0.5.1 in /usr/local/lib/python3.7/dist-packages (from category_encoders) (0.5.2)\n",
            "Requirement already satisfied: scikit-learn>=0.20.0 in /usr/local/lib/python3.7/dist-packages (from category_encoders) (1.0.2)\n",
            "Requirement already satisfied: statsmodels>=0.9.0 in /usr/local/lib/python3.7/dist-packages (from category_encoders) (0.10.2)\n",
            "Requirement already satisfied: pandas>=0.21.1 in /usr/local/lib/python3.7/dist-packages (from category_encoders) (1.3.5)\n",
            "Requirement already satisfied: pytz>=2017.3 in /usr/local/lib/python3.7/dist-packages (from pandas>=0.21.1->category_encoders) (2022.1)\n",
            "Requirement already satisfied: python-dateutil>=2.7.3 in /usr/local/lib/python3.7/dist-packages (from pandas>=0.21.1->category_encoders) (2.8.2)\n",
            "Requirement already satisfied: six in /usr/local/lib/python3.7/dist-packages (from patsy>=0.5.1->category_encoders) (1.15.0)\n",
            "Requirement already satisfied: threadpoolctl>=2.0.0 in /usr/local/lib/python3.7/dist-packages (from scikit-learn>=0.20.0->category_encoders) (3.1.0)\n",
            "Requirement already satisfied: joblib>=0.11 in /usr/local/lib/python3.7/dist-packages (from scikit-learn>=0.20.0->category_encoders) (1.1.0)\n"
          ]
        },
        {
          "output_type": "stream",
          "name": "stderr",
          "text": [
            "/usr/local/lib/python3.7/dist-packages/statsmodels/tools/_testing.py:19: FutureWarning: pandas.util.testing is deprecated. Use the functions in the public API at pandas.testing instead.\n",
            "  import pandas.util.testing as tm\n"
          ]
        }
      ]
    },
    {
      "cell_type": "markdown",
      "source": [
        "#### Loading the dataset -"
      ],
      "metadata": {
        "id": "VhsX0zsKn7-J"
      }
    },
    {
      "cell_type": "markdown",
      "source": [
        "Mounting the drive -"
      ],
      "metadata": {
        "id": "ywUE2Uy1cnb1"
      }
    },
    {
      "cell_type": "code",
      "source": [
        "from pydrive.auth import GoogleAuth\n",
        "from pydrive.drive import GoogleDrive\n",
        "from google.colab import auth\n",
        "from oauth2client.client import GoogleCredentials\n",
        " \n",
        "auth.authenticate_user()\n",
        "gauth = GoogleAuth()\n",
        "gauth.credentials = GoogleCredentials.get_application_default()\n",
        "drive = GoogleDrive(gauth)"
      ],
      "metadata": {
        "id": "-v55M_l7ET41"
      },
      "execution_count": null,
      "outputs": []
    },
    {
      "cell_type": "code",
      "source": [
        "link = 'https://drive.google.com/file/d/1mHPCO9zDKKtlJ3FU4zCWRfReIg8uDGyG/view?usp=sharing'\n",
        " \n",
        "id = link.split(\"/\")[-2]\n",
        " \n",
        "downloaded = drive.CreateFile({'id':id})\n",
        "downloaded.GetContentFile('news-articles.csv') "
      ],
      "metadata": {
        "id": "Llv5ljhv16bj"
      },
      "execution_count": null,
      "outputs": []
    },
    {
      "cell_type": "markdown",
      "source": [
        "Reading the data file -"
      ],
      "metadata": {
        "id": "yL-ioWR3CnJb"
      }
    },
    {
      "cell_type": "code",
      "source": [
        "df = pd.read_csv('news-articles.csv')\n",
        "df.sample(10)"
      ],
      "metadata": {
        "colab": {
          "base_uri": "https://localhost:8080/",
          "height": 363
        },
        "id": "_PnRhLtmChMd",
        "outputId": "701e5c97-8eff-48f5-cda7-c3f92932a65d"
      },
      "execution_count": null,
      "outputs": [
        {
          "output_type": "execute_result",
          "data": {
            "text/plain": [
              "           Category                                            Article\n",
              "221      Technology  world tour for top video gamers two uk gamers ...\n",
              "852   Entertainment  prince crowned  top music earner  prince earne...\n",
              "80         Business  us company admits benin bribery a us defence a...\n",
              "73           Sports  funding cut hits wales students the wales stud...\n",
              "614   Entertainment  spears seeks aborted tour payment singer britn...\n",
              "1507       Business  mexican in us send $16bn home mexican labourer...\n",
              "993      Technology  us hacker breaks into t-mobile a man is facing...\n",
              "256        Politics  lib dems  new election pr chief the lib dems h...\n",
              "2046       Politics  tory expert denies defeatism the conservatives...\n",
              "1137         Sports  d arcy injury adds to ireland woe gordon d arc..."
            ],
            "text/html": [
              "\n",
              "  <div id=\"df-4116764d-5c7f-462a-959a-d797cfb12c57\">\n",
              "    <div class=\"colab-df-container\">\n",
              "      <div>\n",
              "<style scoped>\n",
              "    .dataframe tbody tr th:only-of-type {\n",
              "        vertical-align: middle;\n",
              "    }\n",
              "\n",
              "    .dataframe tbody tr th {\n",
              "        vertical-align: top;\n",
              "    }\n",
              "\n",
              "    .dataframe thead th {\n",
              "        text-align: right;\n",
              "    }\n",
              "</style>\n",
              "<table border=\"1\" class=\"dataframe\">\n",
              "  <thead>\n",
              "    <tr style=\"text-align: right;\">\n",
              "      <th></th>\n",
              "      <th>Category</th>\n",
              "      <th>Article</th>\n",
              "    </tr>\n",
              "  </thead>\n",
              "  <tbody>\n",
              "    <tr>\n",
              "      <th>221</th>\n",
              "      <td>Technology</td>\n",
              "      <td>world tour for top video gamers two uk gamers ...</td>\n",
              "    </tr>\n",
              "    <tr>\n",
              "      <th>852</th>\n",
              "      <td>Entertainment</td>\n",
              "      <td>prince crowned  top music earner  prince earne...</td>\n",
              "    </tr>\n",
              "    <tr>\n",
              "      <th>80</th>\n",
              "      <td>Business</td>\n",
              "      <td>us company admits benin bribery a us defence a...</td>\n",
              "    </tr>\n",
              "    <tr>\n",
              "      <th>73</th>\n",
              "      <td>Sports</td>\n",
              "      <td>funding cut hits wales students the wales stud...</td>\n",
              "    </tr>\n",
              "    <tr>\n",
              "      <th>614</th>\n",
              "      <td>Entertainment</td>\n",
              "      <td>spears seeks aborted tour payment singer britn...</td>\n",
              "    </tr>\n",
              "    <tr>\n",
              "      <th>1507</th>\n",
              "      <td>Business</td>\n",
              "      <td>mexican in us send $16bn home mexican labourer...</td>\n",
              "    </tr>\n",
              "    <tr>\n",
              "      <th>993</th>\n",
              "      <td>Technology</td>\n",
              "      <td>us hacker breaks into t-mobile a man is facing...</td>\n",
              "    </tr>\n",
              "    <tr>\n",
              "      <th>256</th>\n",
              "      <td>Politics</td>\n",
              "      <td>lib dems  new election pr chief the lib dems h...</td>\n",
              "    </tr>\n",
              "    <tr>\n",
              "      <th>2046</th>\n",
              "      <td>Politics</td>\n",
              "      <td>tory expert denies defeatism the conservatives...</td>\n",
              "    </tr>\n",
              "    <tr>\n",
              "      <th>1137</th>\n",
              "      <td>Sports</td>\n",
              "      <td>d arcy injury adds to ireland woe gordon d arc...</td>\n",
              "    </tr>\n",
              "  </tbody>\n",
              "</table>\n",
              "</div>\n",
              "      <button class=\"colab-df-convert\" onclick=\"convertToInteractive('df-4116764d-5c7f-462a-959a-d797cfb12c57')\"\n",
              "              title=\"Convert this dataframe to an interactive table.\"\n",
              "              style=\"display:none;\">\n",
              "        \n",
              "  <svg xmlns=\"http://www.w3.org/2000/svg\" height=\"24px\"viewBox=\"0 0 24 24\"\n",
              "       width=\"24px\">\n",
              "    <path d=\"M0 0h24v24H0V0z\" fill=\"none\"/>\n",
              "    <path d=\"M18.56 5.44l.94 2.06.94-2.06 2.06-.94-2.06-.94-.94-2.06-.94 2.06-2.06.94zm-11 1L8.5 8.5l.94-2.06 2.06-.94-2.06-.94L8.5 2.5l-.94 2.06-2.06.94zm10 10l.94 2.06.94-2.06 2.06-.94-2.06-.94-.94-2.06-.94 2.06-2.06.94z\"/><path d=\"M17.41 7.96l-1.37-1.37c-.4-.4-.92-.59-1.43-.59-.52 0-1.04.2-1.43.59L10.3 9.45l-7.72 7.72c-.78.78-.78 2.05 0 2.83L4 21.41c.39.39.9.59 1.41.59.51 0 1.02-.2 1.41-.59l7.78-7.78 2.81-2.81c.8-.78.8-2.07 0-2.86zM5.41 20L4 18.59l7.72-7.72 1.47 1.35L5.41 20z\"/>\n",
              "  </svg>\n",
              "      </button>\n",
              "      \n",
              "  <style>\n",
              "    .colab-df-container {\n",
              "      display:flex;\n",
              "      flex-wrap:wrap;\n",
              "      gap: 12px;\n",
              "    }\n",
              "\n",
              "    .colab-df-convert {\n",
              "      background-color: #E8F0FE;\n",
              "      border: none;\n",
              "      border-radius: 50%;\n",
              "      cursor: pointer;\n",
              "      display: none;\n",
              "      fill: #1967D2;\n",
              "      height: 32px;\n",
              "      padding: 0 0 0 0;\n",
              "      width: 32px;\n",
              "    }\n",
              "\n",
              "    .colab-df-convert:hover {\n",
              "      background-color: #E2EBFA;\n",
              "      box-shadow: 0px 1px 2px rgba(60, 64, 67, 0.3), 0px 1px 3px 1px rgba(60, 64, 67, 0.15);\n",
              "      fill: #174EA6;\n",
              "    }\n",
              "\n",
              "    [theme=dark] .colab-df-convert {\n",
              "      background-color: #3B4455;\n",
              "      fill: #D2E3FC;\n",
              "    }\n",
              "\n",
              "    [theme=dark] .colab-df-convert:hover {\n",
              "      background-color: #434B5C;\n",
              "      box-shadow: 0px 1px 3px 1px rgba(0, 0, 0, 0.15);\n",
              "      filter: drop-shadow(0px 1px 2px rgba(0, 0, 0, 0.3));\n",
              "      fill: #FFFFFF;\n",
              "    }\n",
              "  </style>\n",
              "\n",
              "      <script>\n",
              "        const buttonEl =\n",
              "          document.querySelector('#df-4116764d-5c7f-462a-959a-d797cfb12c57 button.colab-df-convert');\n",
              "        buttonEl.style.display =\n",
              "          google.colab.kernel.accessAllowed ? 'block' : 'none';\n",
              "\n",
              "        async function convertToInteractive(key) {\n",
              "          const element = document.querySelector('#df-4116764d-5c7f-462a-959a-d797cfb12c57');\n",
              "          const dataTable =\n",
              "            await google.colab.kernel.invokeFunction('convertToInteractive',\n",
              "                                                     [key], {});\n",
              "          if (!dataTable) return;\n",
              "\n",
              "          const docLinkHtml = 'Like what you see? Visit the ' +\n",
              "            '<a target=\"_blank\" href=https://colab.research.google.com/notebooks/data_table.ipynb>data table notebook</a>'\n",
              "            + ' to learn more about interactive tables.';\n",
              "          element.innerHTML = '';\n",
              "          dataTable['output_type'] = 'display_data';\n",
              "          await google.colab.output.renderOutput(dataTable, element);\n",
              "          const docLink = document.createElement('div');\n",
              "          docLink.innerHTML = docLinkHtml;\n",
              "          element.appendChild(docLink);\n",
              "        }\n",
              "      </script>\n",
              "    </div>\n",
              "  </div>\n",
              "  "
            ]
          },
          "metadata": {},
          "execution_count": 4
        }
      ]
    },
    {
      "cell_type": "markdown",
      "source": [
        "#### Data Exploration"
      ],
      "metadata": {
        "id": "htiEIx9ooD14"
      }
    },
    {
      "cell_type": "markdown",
      "source": [
        "First, let's check the shape of the dataset that we have."
      ],
      "metadata": {
        "id": "92GM0NZsZZxh"
      }
    },
    {
      "cell_type": "code",
      "source": [
        "print(\"No. of rows: {}\".format(df.shape[0]))"
      ],
      "metadata": {
        "colab": {
          "base_uri": "https://localhost:8080/"
        },
        "id": "SJIyzdGw2KdS",
        "outputId": "0d05d992-fc27-4525-9dca-daa8bbce16c5"
      },
      "execution_count": null,
      "outputs": [
        {
          "output_type": "stream",
          "name": "stdout",
          "text": [
            "No. of rows: 2225\n"
          ]
        }
      ]
    },
    {
      "cell_type": "markdown",
      "source": [
        "*Observation: There are 2,225 different news articles present in the dataset.*"
      ],
      "metadata": {
        "id": "l1xJxOVm6U99"
      }
    },
    {
      "cell_type": "markdown",
      "source": [
        "**No. of news articles per category -**"
      ],
      "metadata": {
        "id": "0cbpp4Z4CuIQ"
      }
    },
    {
      "cell_type": "code",
      "source": [
        "plt.figure(figsize=(8, 5))\n",
        "ax = sns.countplot(x='Category', data=df, palette='Blues')\n",
        "\n",
        "ax.bar_label(ax.containers[0])\n",
        "\n",
        "ax.set_title('Distribution of Categories')\n",
        "ax.set_xlabel('Category')\n",
        "ax.set_ylabel('Number of Articles')\n",
        "\n",
        "plt.show()"
      ],
      "metadata": {
        "colab": {
          "base_uri": "https://localhost:8080/",
          "height": 350
        },
        "id": "99Udo4t56KmK",
        "outputId": "ff43edac-8f2d-482b-c2b2-e28bc0140373"
      },
      "execution_count": null,
      "outputs": [
        {
          "output_type": "display_data",
          "data": {
            "text/plain": [
              "<Figure size 576x360 with 1 Axes>"
            ],
            "image/png": "[encoded data removed]"
          },
          "metadata": {
            "needs_background": "light"
          }
        }
      ]
    },
    {
      "cell_type": "markdown",
      "source": [
        "*Observation: Most of the news articles in the dataset are from Business & Sports category.*"
      ],
      "metadata": {
        "id": "lUppekuVDkad"
      }
    },
    {
      "cell_type": "markdown",
      "source": [
        "#### Text Processing "
      ],
      "metadata": {
        "id": "Q7jaJ2XZR_er"
      }
    },
    {
      "cell_type": "markdown",
      "source": [
        "Before processing -"
      ],
      "metadata": {
        "id": "qsqlvy9BTg5A"
      }
    },
    {
      "cell_type": "code",
      "source": [
        "df['Article'][1]"
      ],
      "metadata": {
        "colab": {
          "base_uri": "https://localhost:8080/",
          "height": 122
        },
        "id": "MO5iIAMPJCKz",
        "outputId": "a46cf28a-9a25-4159-b29b-964087bf0530"
      },
      "execution_count": null,
      "outputs": [
        {
          "output_type": "execute_result",
          "data": {
            "text/plain": [
              "'worldcom boss  left books alone  former worldcom boss bernie ebbers  who is accused of overseeing an $11bn (£5.8bn) fraud  never made accounting decisions  a witness has told jurors.  david myers made the comments under questioning by defence lawyers who have been arguing that mr ebbers was not responsible for worldcom s problems. the phone company collapsed in 2002 and prosecutors claim that losses were hidden to protect the firm s shares. mr myers has already pleaded guilty to fraud and is assisting prosecutors.  on monday  defence lawyer reid weingarten tried to distance his client from the allegations. during cross examination  he asked mr myers if he ever knew mr ebbers  make an accounting decision  .  not that i am aware of   mr myers replied.  did you ever know mr ebbers to make an accounting entry into worldcom books   mr weingarten pressed.  no   replied the witness. mr myers has admitted that he ordered false accounting entries at the request of former worldcom chief financial officer scott sullivan. defence lawyers have been trying to paint mr sullivan  who has admitted fraud and will testify later in the trial  as the mastermind behind worldcom s accounting house of cards.  mr ebbers  team  meanwhile  are looking to portray him as an affable boss  who by his own admission is more pe graduate than economist. whatever his abilities  mr ebbers transformed worldcom from a relative unknown into a $160bn telecoms giant and investor darling of the late 1990s. worldcom s problems mounted  however  as competition increased and the telecoms boom petered out. when the firm finally collapsed  shareholders lost about $180bn and 20 000 workers lost their jobs. mr ebbers  trial is expected to last two months and if found guilty the former ceo faces a substantial jail sentence. he has firmly declared his innocence.'"
            ],
            "application/vnd.google.colaboratory.intrinsic+json": {
              "type": "string"
            }
          },
          "metadata": {},
          "execution_count": 7
        }
      ]
    },
    {
      "cell_type": "markdown",
      "source": [
        "This is how a single news article in our dataset looks before processing. <br>\n",
        "We can see that everything is already in lower case so we don't need to do that explicitly."
      ],
      "metadata": {
        "id": "uOuFguh_SC1q"
      }
    },
    {
      "cell_type": "code",
      "source": [
        "stop_words = list(stopwords.words(\"english\"))\n",
        "\n",
        "def text_process(sent):\n",
        "  # Removing non-letters\n",
        "  sent = re.sub('[^a-zA-Z]', ' ', sent)\n",
        "     \n",
        "  # Word tokenizing the text\n",
        "  words = nltk.word_tokenize(sent)\n",
        "    \n",
        "  # Removing stopwords\n",
        "  filtered_sent = [w for w in words if not w in stop_words]\n",
        "    \n",
        "  # Lemmatization\n",
        "  lemmatizer = WordNetLemmatizer()\n",
        "  new_txt = [lemmatizer.lemmatize(word) for word in filtered_sent]\n",
        "  new_txt = \" \".join(new_txt)\n",
        "  \n",
        "  return new_txt\n",
        "\n",
        "df['Article'] = df['Article'].apply(text_process)\n"
      ],
      "metadata": {
        "id": "8AZE7pbYGhf3"
      },
      "execution_count": null,
      "outputs": []
    },
    {
      "cell_type": "markdown",
      "source": [
        "After processing -"
      ],
      "metadata": {
        "id": "rBJQYwEPTj2X"
      }
    },
    {
      "cell_type": "code",
      "source": [
        "df['Article'][1]"
      ],
      "metadata": {
        "colab": {
          "base_uri": "https://localhost:8080/",
          "height": 122
        },
        "id": "K3zlQCgsSZc-",
        "outputId": "54b2a8f9-db35-43c3-a04f-287585b40b0d"
      },
      "execution_count": null,
      "outputs": [
        {
          "output_type": "execute_result",
          "data": {
            "text/plain": [
              "'worldcom bos left book alone former worldcom bos bernie ebbers accused overseeing bn bn fraud never made accounting decision witness told juror david myers made comment questioning defence lawyer arguing mr ebbers responsible worldcom problem phone company collapsed prosecutor claim loss hidden protect firm share mr myers already pleaded guilty fraud assisting prosecutor monday defence lawyer reid weingarten tried distance client allegation cross examination asked mr myers ever knew mr ebbers make accounting decision aware mr myers replied ever know mr ebbers make accounting entry worldcom book mr weingarten pressed replied witness mr myers admitted ordered false accounting entry request former worldcom chief financial officer scott sullivan defence lawyer trying paint mr sullivan admitted fraud testify later trial mastermind behind worldcom accounting house card mr ebbers team meanwhile looking portray affable bos admission pe graduate economist whatever ability mr ebbers transformed worldcom relative unknown bn telecom giant investor darling late worldcom problem mounted however competition increased telecom boom petered firm finally collapsed shareholder lost bn worker lost job mr ebbers trial expected last two month found guilty former ceo face substantial jail sentence firmly declared innocence'"
            ],
            "application/vnd.google.colaboratory.intrinsic+json": {
              "type": "string"
            }
          },
          "metadata": {},
          "execution_count": 9
        }
      ]
    },
    {
      "cell_type": "markdown",
      "source": [
        "This is what an article obtained after text processing looks like."
      ],
      "metadata": {
        "id": "U3DRliarZ9vf"
      }
    },
    {
      "cell_type": "markdown",
      "source": [
        "#### Data Transformation"
      ],
      "metadata": {
        "id": "E9m-Rm1JobhE"
      }
    },
    {
      "cell_type": "markdown",
      "source": [
        "**Encoding the target variable -**"
      ],
      "metadata": {
        "id": "c6AXvcndAKA2"
      }
    },
    {
      "cell_type": "markdown",
      "source": [
        "We will be using the OrdinalEncoder from category_encoders. \n",
        "\n",
        "It encodes categorical features as ordinal, in one ordered feature.\n",
        "Ordinal encoding uses a single column of integers to represent the classes.\n",
        "\n",
        "For more details you can refer to this link: https://contrib.scikit-learn.org/category_encoders/"
      ],
      "metadata": {
        "id": "BQQD_AhmaXJr"
      }
    },
    {
      "cell_type": "code",
      "source": [
        "encode = ce.OrdinalEncoder(cols=['Category'])\n",
        "df = encode.fit_transform(df)"
      ],
      "metadata": {
        "id": "AXBEAaJg_U5l"
      },
      "execution_count": null,
      "outputs": []
    },
    {
      "cell_type": "markdown",
      "source": [
        "**Outcome labels after encoding -**\n",
        "\n",
        "Category:\n",
        "\n",
        "1 - Technology\n",
        "\n",
        "2 - Business\n",
        "\n",
        "3 - Sports\n",
        "\n",
        "4 - Entertainment\n",
        "\n",
        "5 - Politics"
      ],
      "metadata": {
        "id": "3xTGgZQbBStE"
      }
    },
    {
      "cell_type": "markdown",
      "source": [
        "**Bag of Words / TF-IDF**"
      ],
      "metadata": {
        "id": "sAuhD3e1-4Be"
      }
    },
    {
      "cell_type": "markdown",
      "source": [
        "We've given the user a choice to select one of the following techniques for vectorizing the data -\n",
        "* BoW\n",
        "* TF-IDF"
      ],
      "metadata": {
        "id": "t7no7LYSbPjI"
      }
    },
    {
      "cell_type": "code",
      "source": [
        "choice = int(input(\"Choose \\n (1) If you want to use Bag of Words \\n (2) If you want to use TF-IDF \\n Choice: \"))\n",
        "\n",
        "if choice == 1:\n",
        "  cv = CountVectorizer(max_features=5000)\n",
        "  X = cv.fit_transform(df.Article).toarray()\n",
        "  y = np.array(df['Category'].values)\n",
        "\n",
        "elif choice == 2:\n",
        "  tf_idf = TfidfVectorizer()\n",
        "  X = tf_idf.fit_transform(df.Article).toarray()\n",
        "  y = np.array(df['Category'].values)\n",
        "\n",
        "else:\n",
        "  print(\"Wrong Input!\")"
      ],
      "metadata": {
        "id": "UuZ66mAx84w4",
        "colab": {
          "base_uri": "https://localhost:8080/"
        },
        "outputId": "0060b190-8f35-4ba0-8cd0-43db5c774f92"
      },
      "execution_count": null,
      "outputs": [
        {
          "name": "stdout",
          "output_type": "stream",
          "text": [
            "Choose \n",
            " (1) If you want to use Bag of Words \n",
            " (2) If you want to use TF-IDF \n",
            " Choice: 2\n"
          ]
        }
      ]
    },
    {
      "cell_type": "markdown",
      "source": [
        "Performing train-test split -"
      ],
      "metadata": {
        "id": "g6MNWh3M_tS5"
      }
    },
    {
      "cell_type": "code",
      "source": [
        "X_train, X_val, y_train, y_val = train_test_split(X, y, test_size=0.25, \n",
        "                                                  shuffle=True, stratify=y, \n",
        "                                                  random_state=42)"
      ],
      "metadata": {
        "id": "9LNUNT2P_VGA"
      },
      "execution_count": null,
      "outputs": []
    },
    {
      "cell_type": "markdown",
      "source": [
        "Final shape of the train & test set."
      ],
      "metadata": {
        "id": "Z2UEoCtCbf1G"
      }
    },
    {
      "cell_type": "code",
      "source": [
        "print(\"No. of rows in train set is {}.\".format(X_train.shape[0]))\n",
        "print(\"No. of rows in test set is {}.\".format(X_val.shape[0]))"
      ],
      "metadata": {
        "id": "b81MhbWZAFtY",
        "colab": {
          "base_uri": "https://localhost:8080/"
        },
        "outputId": "6e9c1a24-940c-4974-fb96-b15865c41fc7"
      },
      "execution_count": null,
      "outputs": [
        {
          "output_type": "stream",
          "name": "stdout",
          "text": [
            "No. of rows in train set is 1668.\n",
            "No. of rows in test set is 557.\n"
          ]
        }
      ]
    },
    {
      "cell_type": "markdown",
      "source": [
        "### Simple Approach -"
      ],
      "metadata": {
        "id": "siNwm6GgLnzL"
      }
    },
    {
      "cell_type": "markdown",
      "source": [
        "First, we'll follow a basic approach to create a model for this multi-class classification problem."
      ],
      "metadata": {
        "id": "3Y2EbIUTcSzh"
      }
    },
    {
      "cell_type": "markdown",
      "source": [
        "####**Naive Bayes Classifier**"
      ],
      "metadata": {
        "id": "lRW7Jot2q3qx"
      }
    },
    {
      "cell_type": "markdown",
      "source": [
        "The very first ML algorithm that we'll be trying is Naive Bayes Classifier."
      ],
      "metadata": {
        "id": "setGwvA2cfSb"
      }
    },
    {
      "cell_type": "code",
      "source": [
        "# Training the model -\n",
        "nb = MultinomialNB()\n",
        "nb.fit(X_train, y_train)"
      ],
      "metadata": {
        "id": "46t1KEOIq29e",
        "colab": {
          "base_uri": "https://localhost:8080/"
        },
        "outputId": "a15b5d42-365e-425e-d0f7-a2074a50d93b"
      },
      "execution_count": null,
      "outputs": [
        {
          "output_type": "execute_result",
          "data": {
            "text/plain": [
              "MultinomialNB()"
            ]
          },
          "metadata": {},
          "execution_count": 14
        }
      ]
    },
    {
      "cell_type": "code",
      "source": [
        "# Calculating the train & test accuracy -\n",
        "nb_train = accuracy_score(y_train, nb.predict(X_train))\n",
        "nb_test = accuracy_score(y_val, nb.predict(X_val))\n",
        "\n",
        "print(\"Train accuracy :{:.3f}\".format(nb_train))\n",
        "print(\"Test accuracy :{:.3f}\".format(nb_test))"
      ],
      "metadata": {
        "id": "hXDMJQZes2WJ",
        "colab": {
          "base_uri": "https://localhost:8080/"
        },
        "outputId": "95c73675-7785-484a-e413-8405accc6df5"
      },
      "execution_count": null,
      "outputs": [
        {
          "output_type": "stream",
          "name": "stdout",
          "text": [
            "Train accuracy :0.988\n",
            "Test accuracy :0.977\n"
          ]
        }
      ]
    },
    {
      "cell_type": "code",
      "source": [
        "# Making predictions on the test set -\n",
        "y_pred_nb = nb.predict(X_val)\n",
        "y_pred_proba_nb = nb.predict_proba(X_val)"
      ],
      "metadata": {
        "id": "MKytRCrdr4fA"
      },
      "execution_count": null,
      "outputs": []
    },
    {
      "cell_type": "code",
      "source": [
        "# Computing the ROC AUC score -\n",
        "print(\"ROC AUC Score: {:.3f}\".format(roc_auc_score(y_val, y_pred_proba_nb, multi_class='ovr')))"
      ],
      "metadata": {
        "id": "UPIMdVpKsDey",
        "colab": {
          "base_uri": "https://localhost:8080/"
        },
        "outputId": "3973cb23-77a6-4e6f-ee93-ce4d0ea259fb"
      },
      "execution_count": null,
      "outputs": [
        {
          "output_type": "stream",
          "name": "stdout",
          "text": [
            "ROC AUC Score: 0.999\n"
          ]
        }
      ]
    },
    {
      "cell_type": "code",
      "source": [
        "# Computing the precision, recall & f1 score -\n",
        "precision = precision_score(y_val, y_pred_nb, average='weighted')\n",
        "recall = recall_score(y_val, y_pred_nb, average='weighted')\n",
        "f1 = f1_score(y_val, y_pred_nb, average='weighted')\n",
        "\n",
        "print(\"Precision: {:.3f}\".format(precision))\n",
        "print(\"Recall: {:.3f}\".format(recall))\n",
        "print(\"F1 Score: {:.3f}\".format(f1))"
      ],
      "metadata": {
        "colab": {
          "base_uri": "https://localhost:8080/"
        },
        "id": "TqKgBQyxY4bG",
        "outputId": "52eaefd7-5df3-47c4-9a78-eff453ffa84d"
      },
      "execution_count": null,
      "outputs": [
        {
          "output_type": "stream",
          "name": "stdout",
          "text": [
            "Precision: 0.977\n",
            "Recall: 0.977\n",
            "F1 Score: 0.977\n"
          ]
        }
      ]
    },
    {
      "cell_type": "markdown",
      "source": [
        "Plotting the Confusion Matrix -"
      ],
      "metadata": {
        "id": "m4N303Q3t4ro"
      }
    },
    {
      "cell_type": "code",
      "source": [
        "cm = confusion_matrix(y_val, y_pred_nb)\n",
        "\n",
        "plt.figure(figsize = (8, 5))\n",
        "sns.heatmap(cm, annot=True, fmt='d', cbar=False, cmap='Blues')\n",
        "plt.title('Confusion Matrix')\n",
        "plt.xlabel('Predicted label')\n",
        "plt.ylabel('Actual label')\n",
        "plt.show()"
      ],
      "metadata": {
        "id": "ZmllUyU_uLNR",
        "colab": {
          "base_uri": "https://localhost:8080/",
          "height": 350
        },
        "outputId": "ea829074-0eb1-4985-e440-b051e30394ce"
      },
      "execution_count": null,
      "outputs": [
        {
          "output_type": "display_data",
          "data": {
            "text/plain": [
              "<Figure size 576x360 with 1 Axes>"
            ],
            "image/png": "[encoded data removed]"
          },
          "metadata": {
            "needs_background": "light"
          }
        }
      ]
    },
    {
      "cell_type": "markdown",
      "source": [
        "Printing the Classification Report -"
      ],
      "metadata": {
        "id": "UtViSbvpveSh"
      }
    },
    {
      "cell_type": "code",
      "source": [
        "print(classification_report(y_val, y_pred_nb))"
      ],
      "metadata": {
        "id": "phKvLIblvOQa",
        "colab": {
          "base_uri": "https://localhost:8080/"
        },
        "outputId": "fdd22525-fb66-41b2-8138-8e323bdf6a2f"
      },
      "execution_count": null,
      "outputs": [
        {
          "output_type": "stream",
          "name": "stdout",
          "text": [
            "              precision    recall  f1-score   support\n",
            "\n",
            "           1       0.98      0.98      0.98       100\n",
            "           2       0.97      0.97      0.97       128\n",
            "           3       1.00      1.00      1.00       128\n",
            "           4       1.00      0.95      0.97        97\n",
            "           5       0.94      0.98      0.96       104\n",
            "\n",
            "    accuracy                           0.98       557\n",
            "   macro avg       0.98      0.98      0.98       557\n",
            "weighted avg       0.98      0.98      0.98       557\n",
            "\n"
          ]
        }
      ]
    },
    {
      "cell_type": "markdown",
      "source": [
        "### Functionalized Code -"
      ],
      "metadata": {
        "id": "uXoo7WjtLt8_"
      }
    },
    {
      "cell_type": "markdown",
      "source": [
        "Now, we'll try to functionalize the above code so that we can use it for a few more different models."
      ],
      "metadata": {
        "id": "tn3UaU5VezLR"
      }
    },
    {
      "cell_type": "markdown",
      "source": [
        "#### Model Training"
      ],
      "metadata": {
        "id": "jce-58Uo2CFL"
      }
    },
    {
      "cell_type": "code",
      "source": [
        "def model_train(obj):\n",
        "  obj.fit(X_train, y_train) # Training the model \n",
        "  y_pred = obj.predict(X_val) # Making predictions\n",
        "  y_pred_proba = obj.predict_proba(X_val)\n",
        "  return y_pred, y_pred_proba"
      ],
      "metadata": {
        "id": "2SERsOIkuS54"
      },
      "execution_count": null,
      "outputs": []
    },
    {
      "cell_type": "markdown",
      "source": [
        "#### Model Evaluation"
      ],
      "metadata": {
        "id": "T69zTSiE2E_D"
      }
    },
    {
      "cell_type": "code",
      "source": [
        "def model_eval(obj, y_pred, y_pred_proba):\n",
        "  print(\"-------------------------\")\n",
        "\n",
        "  # Calculating the train & test accuracy \n",
        "  train_acc = accuracy_score(y_train, obj.predict(X_train))\n",
        "  test_acc = accuracy_score(y_val, obj.predict(X_val))\n",
        "\n",
        "  print(\"Train Accuracy: {:.3f}\".format(train_acc))\n",
        "  print(\"Test Accuracy: {:.3f}\\n\".format(test_acc))\n",
        "\n",
        "  # Computing the ROC AUC score\n",
        "  print(\"ROC AUC Score: {:.3f}\\n\".format(roc_auc_score(y_val, y_pred_proba, multi_class='ovr')))\n",
        "\n",
        "  # Computing the precision, recall & f1 score\n",
        "  precision = precision_score(y_val, y_pred, average='weighted')\n",
        "  recall = recall_score(y_val, y_pred, average='weighted')\n",
        "  f1 = f1_score(y_val, y_pred, average='weighted')\n",
        "\n",
        "  print(\"Precision: {:.3f}\".format(precision))\n",
        "  print(\"Recall: {:.3f}\".format(recall))\n",
        "  print(\"F1 Score: {:.3f}\".format(f1))\n",
        "\n",
        "  print(\"-------------------------\")"
      ],
      "metadata": {
        "id": "mKSx47HKuZMk"
      },
      "execution_count": null,
      "outputs": []
    },
    {
      "cell_type": "markdown",
      "source": [
        "Now, let us try out a few more different ML algorithm to see how they perform for this problem, on this dataset."
      ],
      "metadata": {
        "id": "h3qAXRLBddfj"
      }
    },
    {
      "cell_type": "markdown",
      "source": [
        "**Decision Tree Classifer**"
      ],
      "metadata": {
        "id": "ZCi9-7YtQeZq"
      }
    },
    {
      "cell_type": "code",
      "source": [
        "# Creating the model object -\n",
        "dt = DecisionTreeClassifier()\n",
        "\n",
        "# Training the model -\n",
        "y_pred_dt, y_pred_proba_dt = model_train(dt)\n",
        "\n",
        "# Evaluatong the model -\n",
        "model_eval(dt, y_pred_dt, y_pred_proba_dt)"
      ],
      "metadata": {
        "id": "ttZMQWACQptZ",
        "colab": {
          "base_uri": "https://localhost:8080/"
        },
        "outputId": "7180870e-a469-4c0c-d304-9826ff682292"
      },
      "execution_count": null,
      "outputs": [
        {
          "output_type": "stream",
          "name": "stdout",
          "text": [
            "-------------------------\n",
            "Train Accuracy: 1.000\n",
            "Test Accuracy: 0.860\n",
            "\n",
            "ROC AUC Score: 0.912\n",
            "\n",
            "Precision: 0.861\n",
            "Recall: 0.860\n",
            "F1 Score: 0.860\n",
            "-------------------------\n"
          ]
        }
      ]
    },
    {
      "cell_type": "markdown",
      "source": [
        "**Nearest Neighbors Classifier**"
      ],
      "metadata": {
        "id": "Egzqu4PbQiu3"
      }
    },
    {
      "cell_type": "code",
      "source": [
        "# Creating the model object -\n",
        "knn = KNeighborsClassifier(n_neighbors=5)\n",
        "\n",
        "# Training the model -\n",
        "y_pred_knn, y_pred_proba_knn = model_train(knn)\n",
        "\n",
        "# Evaluatong the model -\n",
        "model_eval(knn, y_pred_knn, y_pred_proba_knn)"
      ],
      "metadata": {
        "id": "a5Fgr4nTQsCN",
        "colab": {
          "base_uri": "https://localhost:8080/"
        },
        "outputId": "0e9bb3af-3645-425d-c5fa-30b83aec83fd"
      },
      "execution_count": null,
      "outputs": [
        {
          "output_type": "stream",
          "name": "stdout",
          "text": [
            "-------------------------\n",
            "Train Accuracy: 0.965\n",
            "Test Accuracy: 0.934\n",
            "\n",
            "ROC AUC Score: 0.988\n",
            "\n",
            "Precision: 0.935\n",
            "Recall: 0.934\n",
            "F1 Score: 0.933\n",
            "-------------------------\n"
          ]
        }
      ]
    },
    {
      "cell_type": "markdown",
      "source": [
        "**Random Forest Classifier**"
      ],
      "metadata": {
        "id": "lws9c2wqL-7F"
      }
    },
    {
      "cell_type": "code",
      "source": [
        "# Creating the model object -\n",
        "rf = RandomForestClassifier()\n",
        "\n",
        "# Training the model -\n",
        "y_pred_rf, y_pred_proba_rf = model_train(rf)\n",
        "\n",
        "# Evaluatong the model -\n",
        "model_eval(rf, y_pred_rf, y_pred_proba_rf)"
      ],
      "metadata": {
        "id": "EiVD6z8cMIzt",
        "colab": {
          "base_uri": "https://localhost:8080/"
        },
        "outputId": "96aa046e-12c6-4616-e0ee-cec8168c9f8a"
      },
      "execution_count": null,
      "outputs": [
        {
          "output_type": "stream",
          "name": "stdout",
          "text": [
            "-------------------------\n",
            "Train Accuracy: 1.000\n",
            "Test Accuracy: 0.975\n",
            "\n",
            "ROC AUC Score: 0.998\n",
            "\n",
            "Precision: 0.975\n",
            "Recall: 0.975\n",
            "F1 Score: 0.975\n",
            "-------------------------\n"
          ]
        }
      ]
    },
    {
      "cell_type": "markdown",
      "source": [
        "*Observation: Out of all the models tested till now, Naive Bayes Classifier seems to be the best performing one since it gives good train & test accuracy, more than satisfactory precision & recall and almost non-significant overfitting.*\n",
        "\n"
      ],
      "metadata": {
        "id": "vP16yXxZldgp"
      }
    }
  ]
}