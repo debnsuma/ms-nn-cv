{
 "cells": [
  {
   "cell_type": "markdown",
   "metadata": {},
   "source": [
    "# Chapter 2"
   ]
  },
  {
   "cell_type": "markdown",
   "metadata": {},
   "source": [
    "## A Single Neuron"
   ]
  },
  {
   "cell_type": "code",
   "execution_count": 1,
   "metadata": {},
   "outputs": [],
   "source": [
    "input = [1,2,3]\n",
    "weights = [0.2, 0.8, -0.5]\n",
    "bias = 2"
   ]
  },
  {
   "cell_type": "code",
   "execution_count": 2,
   "metadata": {},
   "outputs": [
    {
     "name": "stdout",
     "output_type": "stream",
     "text": [
      "2.3\n"
     ]
    }
   ],
   "source": [
    "output = (input[0] * weights[0] +\n",
    "          input[1] * weights[1] +\n",
    "          input[2] * weights[2] +\n",
    "          bias)\n",
    "\n",
    "print(output)"
   ]
  },
  {
   "cell_type": "code",
   "execution_count": 3,
   "metadata": {},
   "outputs": [
    {
     "name": "stdout",
     "output_type": "stream",
     "text": [
      "4.8\n"
     ]
    }
   ],
   "source": [
    "inputs = [1.0, 2.0, 3.0, 2.5]\n",
    "weights = [0.2, 0.8, -0.5, 1.0]\n",
    "bias = 2.0\n",
    "\n",
    "output = (inputs[0]*weights[0] +\n",
    "          inputs[1]*weights[1] +\n",
    "          inputs[2]*weights[2] +\n",
    "          inputs[3]*weights[3] + \n",
    "          bias)\n",
    "\n",
    "print(output)"
   ]
  },
  {
   "cell_type": "markdown",
   "metadata": {},
   "source": [
    "## A Layer of Neurons"
   ]
  },
  {
   "cell_type": "code",
   "execution_count": 4,
   "metadata": {},
   "outputs": [
    {
     "name": "stdout",
     "output_type": "stream",
     "text": [
      "[4.8, 1.21, 2.385]\n"
     ]
    }
   ],
   "source": [
    "inputs = [1, 2, 3, 2.5]\n",
    "weights1 = [0.2, 0.8, -0.5, 1]\n",
    "weights2 = [0.5, -0.91, 0.26, -0.5]\n",
    "weights3 = [-0.26, -0.27, 0.17, 0.87]\n",
    "\n",
    "bias1 = 2\n",
    "bias2 = 3\n",
    "bias3 = 0.5\n",
    "\n",
    "outputs = [\n",
    "            # Neuron 1:\n",
    "            inputs[0]*weights1[0] +\n",
    "            inputs[1]*weights1[1] +\n",
    "            inputs[2]*weights1[2] +\n",
    "            inputs[3]*weights1[3] + bias1,\n",
    "    \n",
    "            # Neuron 2:\n",
    "            inputs[0]*weights2[0] +\n",
    "            inputs[1]*weights2[1] +\n",
    "            inputs[2]*weights2[2] +\n",
    "            inputs[3]*weights2[3] + bias2,\n",
    "    \n",
    "            # Neuron 3:\n",
    "            inputs[0]*weights3[0] +\n",
    "            inputs[1]*weights3[1] +\n",
    "            inputs[2]*weights3[2] +\n",
    "            inputs[3]*weights3[3] + bias3\n",
    "        ]\n",
    "\n",
    "print(outputs)"
   ]
  },
  {
   "cell_type": "code",
   "execution_count": 5,
   "metadata": {},
   "outputs": [
    {
     "name": "stdout",
     "output_type": "stream",
     "text": [
      "[4.8, 1.21, 2.385]\n"
     ]
    }
   ],
   "source": [
    "# My implementation \n",
    "\n",
    "inputs = [1, 2, 3, 2.5]\n",
    "weights = [[0.2, 0.8, -0.5, 1],\n",
    "           [0.5, -0.91, 0.26, -0.5],\n",
    "           [-0.26, -0.27, 0.17, 0.87]\n",
    "          ]\n",
    "\n",
    "biases = [2, 3, 0.5]\n",
    "\n",
    "output = []\n",
    "for neuron_weights, neuron_biases in zip(weights, biases):\n",
    "    neuron_output = 0\n",
    "    for i in range(len(neuron_weights)):\n",
    "        neuron_output += inputs[i] * neuron_weights[i]\n",
    "    output.append(neuron_output + neuron_biases)\n",
    "\n",
    "print(output)"
   ]
  },
  {
   "cell_type": "code",
   "execution_count": 6,
   "metadata": {},
   "outputs": [
    {
     "name": "stdout",
     "output_type": "stream",
     "text": [
      "[4.8, 1.21, 2.385]\n"
     ]
    }
   ],
   "source": [
    "print(output)"
   ]
  },
  {
   "cell_type": "code",
   "execution_count": 7,
   "metadata": {},
   "outputs": [
    {
     "name": "stdout",
     "output_type": "stream",
     "text": [
      "[4.8, 1.21, 2.385]\n"
     ]
    }
   ],
   "source": [
    "inputs = [1, 2, 3, 2.5]\n",
    "weights = [[0.2, 0.8, -0.5, 1],\n",
    "[0.5, -0.91, 0.26, -0.5],\n",
    "[-0.26, -0.27, 0.17, 0.87]]\n",
    "biases = [2, 3, 0.5]\n",
    "\n",
    "# Output of current layer\n",
    "layer_outputs = []\n",
    "# For each neuron\n",
    "for neuron_weights, neuron_bias in zip(weights, biases):\n",
    "    # Zeroed output of given neuron\n",
    "    neuron_output = 0\n",
    "    # For each input and weight to the neuron\n",
    "    for n_input, weight in zip(inputs, neuron_weights):\n",
    "        # Multiply this input by associated weight\n",
    "        # and add to the neuron's output variable\n",
    "        neuron_output += n_input*weight\n",
    "    # Add bias\n",
    "    neuron_output += neuron_bias\n",
    "    # Put neuron's result to the layer's output list\n",
    "    layer_outputs.append(neuron_output)\n",
    "    \n",
    "print(layer_outputs)"
   ]
  },
  {
   "cell_type": "markdown",
   "metadata": {},
   "source": [
    "## Tensors, Arrays and Vectors"
   ]
  },
  {
   "cell_type": "code",
   "execution_count": 8,
   "metadata": {},
   "outputs": [],
   "source": [
    "a_tensor = [[[1,5,6,2],\n",
    "             [3,2,1,3]],\n",
    "            [[5,2,1,2],\n",
    "             [6,4,8,4]],\n",
    "            [[2,8,5,3],\n",
    "             [1,1,9,4]]\n",
    "           ]"
   ]
  },
  {
   "cell_type": "code",
   "execution_count": 9,
   "metadata": {},
   "outputs": [
    {
     "data": {
      "text/plain": [
       "(3, 2, 4)"
      ]
     },
     "execution_count": 9,
     "metadata": {},
     "output_type": "execute_result"
    }
   ],
   "source": [
    "import numpy as np\n",
    "\n",
    "np.array(a_tensor).shape"
   ]
  },
  {
   "cell_type": "markdown",
   "metadata": {},
   "source": [
    "## Dot Product and Vector Addition"
   ]
  },
  {
   "cell_type": "markdown",
   "metadata": {},
   "source": [
    "A dot product of two vectors is a sum of products of consecutive vector elements. Both vectors\n",
    "must be of the same size (have an equal number of elements)."
   ]
  },
  {
   "cell_type": "code",
   "execution_count": 10,
   "metadata": {},
   "outputs": [
    {
     "name": "stdout",
     "output_type": "stream",
     "text": [
      "20\n"
     ]
    }
   ],
   "source": [
    "a = [1,2,3]\n",
    "b = [2,3,4]\n",
    "\n",
    "dot_product = (a[0]*b[0] + \n",
    "               a[1]*b[1] + \n",
    "               a[2]*b[2])\n",
    "\n",
    "print(dot_product)"
   ]
  },
  {
   "cell_type": "code",
   "execution_count": 11,
   "metadata": {},
   "outputs": [
    {
     "name": "stdout",
     "output_type": "stream",
     "text": [
      "20\n"
     ]
    }
   ],
   "source": [
    "a = np.array(a)\n",
    "b = np.array(b) \n",
    "\n",
    "dot_product = a @ b\n",
    "print(dot_product)"
   ]
  },
  {
   "cell_type": "code",
   "execution_count": 12,
   "metadata": {},
   "outputs": [
    {
     "name": "stdout",
     "output_type": "stream",
     "text": [
      "20\n"
     ]
    }
   ],
   "source": [
    "dot_product = b @ a\n",
    "print(dot_product)"
   ]
  },
  {
   "cell_type": "code",
   "execution_count": 13,
   "metadata": {},
   "outputs": [
    {
     "name": "stdout",
     "output_type": "stream",
     "text": [
      "20\n"
     ]
    }
   ],
   "source": [
    "dot_product = a.dot(b)\n",
    "print(dot_product)"
   ]
  },
  {
   "cell_type": "code",
   "execution_count": 14,
   "metadata": {},
   "outputs": [
    {
     "name": "stdout",
     "output_type": "stream",
     "text": [
      "20\n"
     ]
    }
   ],
   "source": [
    "dot_product = np.dot(a, b)\n",
    "print(dot_product)"
   ]
  },
  {
   "cell_type": "markdown",
   "metadata": {},
   "source": [
    "## A Single Neuron with NumPy"
   ]
  },
  {
   "cell_type": "code",
   "execution_count": 15,
   "metadata": {},
   "outputs": [
    {
     "name": "stdout",
     "output_type": "stream",
     "text": [
      "4.8\n"
     ]
    }
   ],
   "source": [
    "import numpy as np\n",
    "\n",
    "inputs = [1.0, 2.0, 3.0, 2.5]\n",
    "weights = [0.2, 0.8, -0.5, 1.0]\n",
    "bias = 2.0\n",
    "\n",
    "outputs = np.dot(inputs, weights) + bias\n",
    "\n",
    "print(outputs)"
   ]
  },
  {
   "cell_type": "markdown",
   "metadata": {},
   "source": [
    "## A Layer of Neurons with NumPy"
   ]
  },
  {
   "cell_type": "code",
   "execution_count": 16,
   "metadata": {},
   "outputs": [
    {
     "name": "stdout",
     "output_type": "stream",
     "text": [
      "[4.8   1.21  2.385]\n"
     ]
    }
   ],
   "source": [
    "inputs = [1.0, 2.0, 3.0, 2.5]\n",
    "weights = [ \n",
    "            [0.2, 0.8, -0.5, 1],\n",
    "            [0.5, -0.91, 0.26, -0.5],\n",
    "            [-0.26, -0.27, 0.17, 0.87]\n",
    "          ]\n",
    "biases = [2.0, 3.0, 0.5]\n",
    "\n",
    "layer_outputs = np.dot(weights, inputs) + biases\n",
    "print(layer_outputs)"
   ]
  },
  {
   "cell_type": "markdown",
   "metadata": {},
   "source": [
    "## A Batch of Data and Matrix Product"
   ]
  },
  {
   "cell_type": "code",
   "execution_count": 17,
   "metadata": {},
   "outputs": [
    {
     "data": {
      "text/plain": [
       "[1, 2, 3]"
      ]
     },
     "execution_count": 17,
     "metadata": {},
     "output_type": "execute_result"
    }
   ],
   "source": [
    "a = list(range(1, 4))\n",
    "a"
   ]
  },
  {
   "cell_type": "code",
   "execution_count": 18,
   "metadata": {},
   "outputs": [
    {
     "data": {
      "text/plain": [
       "array([1, 2, 3])"
      ]
     },
     "execution_count": 18,
     "metadata": {},
     "output_type": "execute_result"
    }
   ],
   "source": [
    "np.array(a)"
   ]
  },
  {
   "cell_type": "code",
   "execution_count": 19,
   "metadata": {},
   "outputs": [
    {
     "data": {
      "text/plain": [
       "array([[1, 2, 3]])"
      ]
     },
     "execution_count": 19,
     "metadata": {},
     "output_type": "execute_result"
    }
   ],
   "source": [
    "np.expand_dims(np.array(a), axis=0)"
   ]
  },
  {
   "cell_type": "code",
   "execution_count": 20,
   "metadata": {},
   "outputs": [
    {
     "data": {
      "text/plain": [
       "(1, 3)"
      ]
     },
     "execution_count": 20,
     "metadata": {},
     "output_type": "execute_result"
    }
   ],
   "source": [
    "np.expand_dims(np.array(a), axis=0).shape"
   ]
  },
  {
   "cell_type": "code",
   "execution_count": 21,
   "metadata": {},
   "outputs": [
    {
     "data": {
      "text/plain": [
       "array([[1],\n",
       "       [2],\n",
       "       [3]])"
      ]
     },
     "execution_count": 21,
     "metadata": {},
     "output_type": "execute_result"
    }
   ],
   "source": [
    "np.expand_dims(np.array(a), axis=1)"
   ]
  },
  {
   "cell_type": "code",
   "execution_count": 22,
   "metadata": {},
   "outputs": [
    {
     "data": {
      "text/plain": [
       "(3, 1)"
      ]
     },
     "execution_count": 22,
     "metadata": {},
     "output_type": "execute_result"
    }
   ],
   "source": [
    "np.expand_dims(np.array(a), axis=1).shape"
   ]
  },
  {
   "cell_type": "code",
   "execution_count": 23,
   "metadata": {},
   "outputs": [
    {
     "data": {
      "text/plain": [
       "[2.0, 3.0, 0.5]"
      ]
     },
     "execution_count": 23,
     "metadata": {},
     "output_type": "execute_result"
    }
   ],
   "source": [
    "biases"
   ]
  },
  {
   "cell_type": "code",
   "execution_count": 24,
   "metadata": {},
   "outputs": [
    {
     "data": {
      "text/plain": [
       "array([2. , 3. , 0.5])"
      ]
     },
     "execution_count": 24,
     "metadata": {},
     "output_type": "execute_result"
    }
   ],
   "source": [
    "np.array(biases).T"
   ]
  },
  {
   "cell_type": "code",
   "execution_count": 25,
   "metadata": {},
   "outputs": [
    {
     "data": {
      "text/plain": [
       "(3,)"
      ]
     },
     "execution_count": 25,
     "metadata": {},
     "output_type": "execute_result"
    }
   ],
   "source": [
    "np.array(biases).T.shape"
   ]
  },
  {
   "cell_type": "code",
   "execution_count": 26,
   "metadata": {},
   "outputs": [
    {
     "data": {
      "text/plain": [
       "(3,)"
      ]
     },
     "execution_count": 26,
     "metadata": {},
     "output_type": "execute_result"
    }
   ],
   "source": [
    "np.array(biases).shape"
   ]
  },
  {
   "cell_type": "code",
   "execution_count": 27,
   "metadata": {},
   "outputs": [
    {
     "name": "stdout",
     "output_type": "stream",
     "text": [
      "[[20]]\n"
     ]
    }
   ],
   "source": [
    "import numpy as np\n",
    "a = [1, 2, 3]\n",
    "b = [2, 3, 4]\n",
    "\n",
    "a = np.array([a])\n",
    "b = np.array([b]).T\n",
    "\n",
    "print(np.dot(a, b))"
   ]
  },
  {
   "cell_type": "code",
   "execution_count": 28,
   "metadata": {},
   "outputs": [
    {
     "name": "stdout",
     "output_type": "stream",
     "text": [
      "[[ 4.8    1.21   2.385]\n",
      " [ 8.9   -1.81   0.2  ]\n",
      " [ 1.41   1.051  0.026]]\n"
     ]
    }
   ],
   "source": [
    "import numpy as np\n",
    "inputs = [  \n",
    "            [1.0, 2.0, 3.0, 2.5],\n",
    "            [2.0, 5.0, -1.0, 2.0],\n",
    "            [-1.5, 2.7, 3.3, -0.8]\n",
    "         ]\n",
    "weights = [ \n",
    "            [0.2, 0.8, -0.5, 1.0],\n",
    "            [0.5, -0.91, 0.26, -0.5],\n",
    "            [-0.26, -0.27, 0.17, 0.87]\n",
    "          ]\n",
    "biases = [2.0, 3.0, 0.5]\n",
    "\n",
    "layer_outputs = np.dot(inputs, np.array(weights).T) + biases\n",
    "print(layer_outputs)"
   ]
  },
  {
   "cell_type": "code",
   "execution_count": 29,
   "metadata": {},
   "outputs": [
    {
     "data": {
      "text/plain": [
       "array([[ 4.8  ,  1.21 ,  2.385],\n",
       "       [ 8.9  , -1.81 ,  0.2  ],\n",
       "       [ 1.41 ,  1.051,  0.026]])"
      ]
     },
     "execution_count": 29,
     "metadata": {},
     "output_type": "execute_result"
    }
   ],
   "source": [
    "# Same resule but we will not use this as we have to take transpose 2 times \n",
    "np.dot(weights, np.array(inputs).T).T + biases"
   ]
  },
  {
   "cell_type": "markdown",
   "metadata": {},
   "source": [
    "As you can see, our neural network takes in a group of samples (inputs) and outputs a group of\n",
    "predictions. If you’ve used any of the deep learning libraries, this is why you pass in a list of\n",
    "inputs (even if it’s just one feature set) and are returned a list of predictions, even if there’s only\n",
    "one prediction."
   ]
  },
  {
   "cell_type": "markdown",
   "metadata": {},
   "source": [
    "# Chapter 3"
   ]
  },
  {
   "cell_type": "markdown",
   "metadata": {},
   "source": [
    "### Adding Layers"
   ]
  },
  {
   "cell_type": "code",
   "execution_count": 30,
   "metadata": {},
   "outputs": [
    {
     "name": "stdout",
     "output_type": "stream",
     "text": [
      "[[ 0.5031  -1.04185 -2.03875]\n",
      " [ 0.2434  -2.7332  -5.7633 ]\n",
      " [-0.99314  1.41254 -0.35655]]\n"
     ]
    }
   ],
   "source": [
    "inputs = np.array([  \n",
    "                        [1, 2, 3, 2.5],\n",
    "                        [2., 5., -1., 2],\n",
    "                        [-1.5, 2.7, 3.3, -0.8]\n",
    "                     ])\n",
    "# Layer 1\n",
    "weights1 = np.array([\n",
    "                        [0.2, 0.8, -0.5, 1],\n",
    "                        [0.5, -0.91, 0.26, -0.5],\n",
    "                        [-0.26, -0.27, 0.17, 0.87]\n",
    "                      ])\n",
    "\n",
    "biases1 = np.array([2, 3, 0.5])\n",
    "\n",
    "\n",
    "# Layer 2\n",
    "weights2 = np.array([\n",
    "                        [0.1, -0.14, 0.5],\n",
    "                        [-0.5, 0.12, -0.33],\n",
    "                        [-0.44, 0.73, -0.13]\n",
    "                    ])\n",
    "biases2 = np.array([-1, 2, -0.5])\n",
    "\n",
    "layer1_outputs = np.dot(inputs, weights1.T) + biases1 \n",
    "layer2_outputs = np.dot(layer1_outputs, weights2.T) + biases2\n",
    "\n",
    "print(layer2_outputs)"
   ]
  },
  {
   "cell_type": "markdown",
   "metadata": {},
   "source": [
    "## Training Data"
   ]
  },
  {
   "cell_type": "code",
   "execution_count": 31,
   "metadata": {},
   "outputs": [],
   "source": [
    "from matplotlib import pyplot as plt\n",
    "import spiral"
   ]
  },
  {
   "cell_type": "code",
   "execution_count": 32,
   "metadata": {},
   "outputs": [
    {
     "data": {
      "image/png": "[encoded data removed]",
      "text/plain": [
       "<Figure size 640x480 with 1 Axes>"
      ]
     },
     "metadata": {},
     "output_type": "display_data"
    }
   ],
   "source": [
    "X, y = spiral.create_data(samples=100, classes=3)\n",
    "plt.scatter(X[:, 0], X[:, 1])\n",
    "plt.show()"
   ]
  },
  {
   "cell_type": "code",
   "execution_count": 33,
   "metadata": {},
   "outputs": [
    {
     "data": {
      "image/png": "[encoded data removed]",
      "text/plain": [
       "<Figure size 640x480 with 1 Axes>"
      ]
     },
     "metadata": {},
     "output_type": "display_data"
    }
   ],
   "source": [
    "plt.scatter(X[:, 0], X[:, 1], c=y, cmap='gist_rainbow_r')\n",
    "plt.show()"
   ]
  },
  {
   "cell_type": "markdown",
   "metadata": {},
   "source": [
    "## Dense Layer Class"
   ]
  },
  {
   "cell_type": "code",
   "execution_count": 34,
   "metadata": {},
   "outputs": [],
   "source": [
    "# Dense layer\n",
    "class Layer_Dense:\n",
    "\n",
    "    def __init__(self, n_inputs, n_neurons):\n",
    "        self.weights = 0.01 * np.random.randn(n_inputs, n_neurons) # We dont have to do transponse later \n",
    "        self.biases = np.zeros((1, n_neurons))\n",
    "        \n",
    "\n",
    "    def forward(self, inputs):\n",
    "        self.output = np.dot(inputs, self.weights) + self.biases\n",
    "        "
   ]
  },
  {
   "cell_type": "code",
   "execution_count": 35,
   "metadata": {},
   "outputs": [
    {
     "name": "stdout",
     "output_type": "stream",
     "text": [
      "[[ 0.00000000e+00  0.00000000e+00  0.00000000e+00]\n",
      " [ 2.49884804e-05 -8.77716861e-05  8.90966093e-05]\n",
      " [ 1.93645775e-04 -1.74364209e-04  1.46720531e-04]\n",
      " [ 6.71161555e-05 -2.59730951e-04  2.65087335e-04]\n",
      " [ 4.11748098e-04 -2.94211490e-04  2.29696276e-04]]\n"
     ]
    }
   ],
   "source": [
    "# Create dataset\n",
    "X, y = spiral.create_data(samples=100, classes=3)\n",
    "\n",
    "# Create Dense layer with 2 input features and 3 output values\n",
    "dense1 = Layer_Dense(2, 3)\n",
    "\n",
    "# Perform a forward pass of our training data through this layer\n",
    "dense1.forward(X)\n",
    "\n",
    "# Let's see output of the first few samples:\n",
    "print(dense1.output[:5])"
   ]
  },
  {
   "cell_type": "markdown",
   "metadata": {},
   "source": [
    "# Chapter 4"
   ]
  },
  {
   "cell_type": "markdown",
   "metadata": {},
   "source": [
    "### ReLU Activation Function Code"
   ]
  },
  {
   "cell_type": "code",
   "execution_count": 36,
   "metadata": {},
   "outputs": [
    {
     "name": "stdout",
     "output_type": "stream",
     "text": [
      "[0, 2, 0, 3.3, 0, 1.1, 2.2, 0]\n"
     ]
    }
   ],
   "source": [
    "inputs = [0, 2, -1, 3.3, -2.7, 1.1, 2.2, -100]\n",
    "\n",
    "def myReLU(i):\n",
    "    return i if i > 0 else 0\n",
    "\n",
    "output = list(map(myReLU, inputs))\n",
    "print(output)"
   ]
  },
  {
   "cell_type": "code",
   "execution_count": 37,
   "metadata": {},
   "outputs": [
    {
     "name": "stdout",
     "output_type": "stream",
     "text": [
      "[0.  2.  0.  3.3 0.  1.1 2.2 0. ]\n"
     ]
    }
   ],
   "source": [
    "import numpy as np\n",
    "\n",
    "inputs = [0, 2, -1, 3.3, -2.7, 1.1, 2.2, -100]\n",
    "\n",
    "def myReLU2(inputs):\n",
    "    return np.maximum(0, inputs)\n",
    "\n",
    "output = myReLU2(inputs)\n",
    "print(output)"
   ]
  },
  {
   "cell_type": "code",
   "execution_count": 38,
   "metadata": {},
   "outputs": [],
   "source": [
    "class Activation_ReLU:\n",
    "    def forward(self, inputs):\n",
    "        self.output = np.maximum(0, inputs) "
   ]
  },
  {
   "cell_type": "code",
   "execution_count": 39,
   "metadata": {},
   "outputs": [
    {
     "name": "stdout",
     "output_type": "stream",
     "text": [
      "[[0.00000000e+00 0.00000000e+00 0.00000000e+00]\n",
      " [0.00000000e+00 0.00000000e+00 3.18361706e-05]\n",
      " [0.00000000e+00 0.00000000e+00 2.81122481e-05]\n",
      " [0.00000000e+00 4.81307770e-05 1.29251513e-04]\n",
      " [1.48868064e-06 1.70414911e-04 2.20385323e-04]]\n"
     ]
    }
   ],
   "source": [
    "# Create dataset\n",
    "X, y = spiral.create_data(samples=100, classes=3)\n",
    "\n",
    "# Create Dense layer with 2 input features and 3 output values\n",
    "dense1 = Layer_Dense(2, 3)\n",
    "\n",
    "# Create ReLU activation (to be used with Dense layer):\n",
    "activation1 = Activation_ReLU()\n",
    "# Make a forward pass of our training data through this layer\n",
    "dense1.forward(X)\n",
    "\n",
    "# Forward pass through activation func.\n",
    "# Takes in output from previous layer\n",
    "activation1.forward(dense1.output)\n",
    "\n",
    "# Let's see output of the first few samples:\n",
    "print(activation1.output[:5])"
   ]
  },
  {
   "cell_type": "code",
   "execution_count": 40,
   "metadata": {},
   "outputs": [
    {
     "data": {
      "text/plain": [
       "array([[ 0.00000000e+00,  0.00000000e+00,  0.00000000e+00],\n",
       "       [-9.10387467e-05, -2.05573574e-07,  3.18361706e-05],\n",
       "       [-2.33224255e-04, -4.17560842e-05,  2.81122481e-05],\n",
       "       [-1.89603508e-04,  4.81307770e-05,  1.29251513e-04],\n",
       "       [ 1.48868064e-06,  1.70414911e-04,  2.20385323e-04]])"
      ]
     },
     "execution_count": 40,
     "metadata": {},
     "output_type": "execute_result"
    }
   ],
   "source": [
    "dense1.output[:5]"
   ]
  },
  {
   "cell_type": "code",
   "execution_count": 41,
   "metadata": {},
   "outputs": [
    {
     "data": {
      "text/plain": [
       "array([[False, False, False],\n",
       "       [False, False,  True],\n",
       "       [False, False,  True],\n",
       "       [False,  True,  True],\n",
       "       [ True,  True,  True]])"
      ]
     },
     "execution_count": 41,
     "metadata": {},
     "output_type": "execute_result"
    }
   ],
   "source": [
    "dense1.output[:5] > 0"
   ]
  },
  {
   "cell_type": "markdown",
   "metadata": {},
   "source": [
    "### The Softmax Activation Function"
   ]
  },
  {
   "cell_type": "code",
   "execution_count": 42,
   "metadata": {},
   "outputs": [
    {
     "name": "stdout",
     "output_type": "stream",
     "text": [
      "exponentiated values:\n",
      "[121.51041751893969, 3.3534846525504487, 10.85906266492961]\n"
     ]
    }
   ],
   "source": [
    "# Values from the previous output when we described\n",
    "# what a neural network is\n",
    "layer_outputs = [4.8, 1.21, 2.385]\n",
    "\n",
    "# e - mathematical constant, we use E here to match a common coding\n",
    "# style where constants are uppercased\n",
    "E = 2.71828182846 # you can also use math.e\n",
    "\n",
    "# For each value in a vector, calculate the exponential value\n",
    "exp_values = []\n",
    "for output in layer_outputs:\n",
    "    exp_values.append(E ** output) # ** - power operator in Python\n",
    "\n",
    "print('exponentiated values:')\n",
    "print(exp_values)"
   ]
  },
  {
   "cell_type": "code",
   "execution_count": 43,
   "metadata": {},
   "outputs": [
    {
     "name": "stdout",
     "output_type": "stream",
     "text": [
      "[0.8952826639573506, 0.024708306782070668, 0.08000902926057876]\n"
     ]
    }
   ],
   "source": [
    "output = []\n",
    "exp_sum = sum(exp_values) \n",
    "for i in exp_values:\n",
    "    output.append(i/exp_sum)\n",
    "\n",
    "print(output)"
   ]
  },
  {
   "cell_type": "code",
   "execution_count": 44,
   "metadata": {},
   "outputs": [
    {
     "data": {
      "text/plain": [
       "1.0"
      ]
     },
     "execution_count": 44,
     "metadata": {},
     "output_type": "execute_result"
    }
   ],
   "source": [
    "sum(output)"
   ]
  },
  {
   "cell_type": "code",
   "execution_count": 45,
   "metadata": {},
   "outputs": [],
   "source": [
    "layer_outputs = [4.8, 1.21, 2.385]\n",
    "\n",
    "def mySoftMax(inputs):\n",
    "    return np.exp(inputs)/np.sum(np.exp(inputs))"
   ]
  },
  {
   "cell_type": "code",
   "execution_count": 46,
   "metadata": {},
   "outputs": [
    {
     "name": "stdout",
     "output_type": "stream",
     "text": [
      "[0.89528266 0.02470831 0.08000903]\n"
     ]
    }
   ],
   "source": [
    "output = mySoftMax(layer_outputs)\n",
    "print(output)"
   ]
  },
  {
   "cell_type": "code",
   "execution_count": 47,
   "metadata": {},
   "outputs": [
    {
     "data": {
      "text/plain": [
       "0.9999999999999999"
      ]
     },
     "execution_count": 47,
     "metadata": {},
     "output_type": "execute_result"
    }
   ],
   "source": [
    "np.sum(output)"
   ]
  },
  {
   "cell_type": "code",
   "execution_count": 48,
   "metadata": {},
   "outputs": [
    {
     "name": "stdout",
     "output_type": "stream",
     "text": [
      "[[1.62510862e-02 4.48502847e-04 1.45231633e-03]\n",
      " [9.80595215e-01 2.18874853e-05 1.63353249e-04]\n",
      " [5.47802614e-04 3.82571295e-04 1.37265228e-04]]\n"
     ]
    }
   ],
   "source": [
    "layer_outputs = np.array([[4.8, 1.21, 2.385],\n",
    "                            [8.9, -1.81, 0.2],\n",
    "                            [1.41, 1.051, 0.026]])\n",
    "\n",
    "output = mySoftMax(layer_outputs)\n",
    "print(output)"
   ]
  },
  {
   "cell_type": "code",
   "execution_count": 49,
   "metadata": {},
   "outputs": [
    {
     "data": {
      "text/plain": [
       "18.172"
      ]
     },
     "execution_count": 49,
     "metadata": {},
     "output_type": "execute_result"
    }
   ],
   "source": [
    "np.sum(layer_outputs, axis=None)"
   ]
  },
  {
   "cell_type": "code",
   "execution_count": 50,
   "metadata": {},
   "outputs": [
    {
     "data": {
      "text/plain": [
       "18.172"
      ]
     },
     "execution_count": 50,
     "metadata": {},
     "output_type": "execute_result"
    }
   ],
   "source": [
    "np.sum(layer_outputs)"
   ]
  },
  {
   "cell_type": "code",
   "execution_count": 51,
   "metadata": {},
   "outputs": [
    {
     "data": {
      "text/plain": [
       "array([8.395, 7.29 , 2.487])"
      ]
     },
     "execution_count": 51,
     "metadata": {},
     "output_type": "execute_result"
    }
   ],
   "source": [
    "np.sum(layer_outputs, axis=1)"
   ]
  },
  {
   "cell_type": "code",
   "execution_count": 52,
   "metadata": {},
   "outputs": [
    {
     "name": "stdout",
     "output_type": "stream",
     "text": [
      "[[8.395]\n",
      " [7.29 ]\n",
      " [2.487]]\n"
     ]
    }
   ],
   "source": [
    "print(np.sum(layer_outputs, axis=1, keepdims=True))"
   ]
  },
  {
   "cell_type": "code",
   "execution_count": 53,
   "metadata": {},
   "outputs": [],
   "source": [
    "class Activation_Softmax:\n",
    "    def forward(self, inputs):\n",
    "        # Get unnormalized probabilities\n",
    "        exp_values = np.exp(inputs - np.max(inputs, \n",
    "                                            axis=1, \n",
    "                                            keepdims=True)) \n",
    "        # Normalize them for each sample\n",
    "        exp_sum = np.sum(exp_values, \n",
    "                         axis=1, \n",
    "                         keepdims=True)\n",
    "        \n",
    "        self.output = exp_values / exp_sum"
   ]
  },
  {
   "cell_type": "code",
   "execution_count": 54,
   "metadata": {},
   "outputs": [
    {
     "name": "stdout",
     "output_type": "stream",
     "text": [
      "[[0.33333333 0.33333333 0.33333333]\n",
      " [0.3333332  0.33333299 0.33333381]\n",
      " [0.33333334 0.33333258 0.33333408]\n",
      " [0.33333397 0.33333214 0.33333389]\n",
      " [0.33333279 0.3333319  0.3333353 ]]\n"
     ]
    }
   ],
   "source": [
    "# Create dataset\n",
    "X, y = spiral.create_data(samples=100, classes=3)\n",
    "\n",
    "# Create Dense layer with 2 input features and 3 output values\n",
    "dense1 = Layer_Dense(2, 3)\n",
    "# Create ReLU activation (to be used with Dense layer):\n",
    "activation1 = Activation_ReLU()\n",
    "\n",
    "# Create second Dense layer with 3 input features (as we take output\n",
    "# of previous layer here) and 3 output values\n",
    "dense2 = Layer_Dense(3, 3)\n",
    "# Create Softmax activation (to be used with Dense layer):\n",
    "activation2 = Activation_Softmax()\n",
    "\n",
    "# Make a forward pass of our training data through this layer\n",
    "dense1.forward(X)\n",
    "\n",
    "# Make a forward pass through activation function\n",
    "# it takes the output of first dense layer here\n",
    "activation1.forward(dense1.output)\n",
    "\n",
    "# Make a forward pass through second Dense layer\n",
    "# it takes outputs of activation function of first layer as inputs\n",
    "dense2.forward(activation1.output)\n",
    "\n",
    "# Make a forward pass through activation function\n",
    "# it takes the output of second dense layer here\n",
    "activation2.forward(dense2.output)\n",
    "\n",
    "# Let's see output of the first few samples:\n",
    "print(activation2.output[:5])"
   ]
  },
  {
   "cell_type": "markdown",
   "metadata": {},
   "source": [
    "### Full code up to this point"
   ]
  },
  {
   "cell_type": "code",
   "execution_count": 55,
   "metadata": {},
   "outputs": [],
   "source": [
    "# Dense layer\n",
    "class Layer_Dense:\n",
    "    # Layer initialization\n",
    "    def __init__(self, n_inputs, n_neurons):\n",
    "        # Initialize weights and biases\n",
    "        self.weights = 0.01 * np.random.randn(n_inputs, n_neurons)\n",
    "        self.biases = np.zeros((1, n_neurons))\n",
    "    \n",
    "    # Forward pass\n",
    "    def forward(self, inputs):\n",
    "        # Calculate output values from inputs, weights and biases\n",
    "        self.output = np.dot(inputs, self.weights) + self.biases\n",
    "\n",
    "# ReLU activation\n",
    "class Activation_ReLU:\n",
    "    # Forward pass\n",
    "    def forward(self, inputs):\n",
    "        # Calculate output values from inputs\n",
    "        self.output = np.maximum(0, inputs)\n",
    "\n",
    "# Softmax activation\n",
    "class Activation_Softmax:\n",
    "    # Forward pass\n",
    "    def forward(self, inputs):\n",
    "        # Get unnormalized probabilities\n",
    "        exp_values = np.exp(inputs - np.max(inputs, axis=1,\n",
    "        keepdims=True))\n",
    "        \n",
    "        # Normalize them for each sample\n",
    "        probabilities = exp_values / np.sum(exp_values, axis=1,\n",
    "        keepdims=True)\n",
    "        self.output = probabilities"
   ]
  },
  {
   "cell_type": "code",
   "execution_count": 56,
   "metadata": {},
   "outputs": [
    {
     "name": "stdout",
     "output_type": "stream",
     "text": [
      "[[0.33333333 0.33333333 0.33333333]\n",
      " [0.33333318 0.33333358 0.33333324]\n",
      " [0.33333299 0.33333387 0.33333313]\n",
      " [0.33333269 0.33333449 0.33333282]\n",
      " [0.33333238 0.33333552 0.33333209]]\n"
     ]
    }
   ],
   "source": [
    "# Create dataset\n",
    "X, y = spiral.create_data(samples=100, classes=3)\n",
    "\n",
    "# Create Dense layer with 2 input features and 3 output values\n",
    "dense1 = Layer_Dense(2, 3)\n",
    "\n",
    "# Create ReLU activation (to be used with Dense layer):\n",
    "activation1 = Activation_ReLU()\n",
    "\n",
    "# Create second Dense layer with 3 input features (as we take output\n",
    "# of previous layer here) and 3 output values\n",
    "dense2 = Layer_Dense(3, 3)\n",
    "\n",
    "# Create Softmax activation (to be used with Dense layer):\n",
    "activation2 = Activation_Softmax()\n",
    "\n",
    "# Make a forward pass of our training data through this layer\n",
    "dense1.forward(X)\n",
    "\n",
    "# Make a forward pass through activation function\n",
    "# it takes the output of first dense layer here\n",
    "activation1.forward(dense1.output)\n",
    "\n",
    "# Make a forward pass through second Dense layer\n",
    "# it takes outputs of activation function of first layer as inputs\n",
    "dense2.forward(activation1.output)\n",
    "\n",
    "# Make a forward pass through activation function\n",
    "# it takes the output of second dense layer here\n",
    "activation2.forward(dense2.output)\n",
    "\n",
    "# Let's see output of the first few samples:\n",
    "print(activation2.output[:5])"
   ]
  },
  {
   "cell_type": "markdown",
   "metadata": {},
   "source": [
    "# Chapter 5"
   ]
  },
  {
   "cell_type": "markdown",
   "metadata": {},
   "source": [
    "## Calculating Network Error with Loss"
   ]
  },
  {
   "cell_type": "code",
   "execution_count": 57,
   "metadata": {},
   "outputs": [],
   "source": [
    "import math "
   ]
  },
  {
   "cell_type": "code",
   "execution_count": 58,
   "metadata": {},
   "outputs": [
    {
     "name": "stdout",
     "output_type": "stream",
     "text": [
      "0.35667494393873245\n"
     ]
    }
   ],
   "source": [
    "softmax_output = [0.7, 0.1, 0.3]\n",
    "target_output = [1, 0, 0]\n",
    "\n",
    "loss = - (math.log(softmax_output[0]) * target_output[0] +\n",
    "          math.log(softmax_output[1]) * target_output[1] +\n",
    "          math.log(softmax_output[2]) * target_output[2])\n",
    "\n",
    "print(loss)\n",
    "                   "
   ]
  },
  {
   "cell_type": "code",
   "execution_count": 59,
   "metadata": {},
   "outputs": [
    {
     "data": {
      "text/plain": [
       "0.0"
      ]
     },
     "execution_count": 59,
     "metadata": {},
     "output_type": "execute_result"
    }
   ],
   "source": [
    "np.log(1)"
   ]
  },
  {
   "cell_type": "code",
   "execution_count": 60,
   "metadata": {},
   "outputs": [],
   "source": [
    "# Probabilities for 3 samples\n",
    "softmax_outputs = np.array([[0.7, 0.1, 0.2],\n",
    "                            [0.1, 0.5, 0.4],\n",
    "                            [0.02, 0.9, 0.08]])"
   ]
  },
  {
   "cell_type": "code",
   "execution_count": 61,
   "metadata": {},
   "outputs": [],
   "source": [
    "class_targets = [0, 1, 1] # dog, cat, cat"
   ]
  },
  {
   "cell_type": "code",
   "execution_count": 62,
   "metadata": {},
   "outputs": [
    {
     "data": {
      "text/plain": [
       "array([0.7, 0.5, 0.9])"
      ]
     },
     "execution_count": 62,
     "metadata": {},
     "output_type": "execute_result"
    }
   ],
   "source": [
    "softmax_outputs[np.arange(len(class_targets)), class_targets]"
   ]
  },
  {
   "cell_type": "code",
   "execution_count": 63,
   "metadata": {},
   "outputs": [
    {
     "name": "stdout",
     "output_type": "stream",
     "text": [
      "[0.7 0.5 0.9]\n",
      "[0.35667494 0.69314718 0.10536052]\n"
     ]
    }
   ],
   "source": [
    "# Find the loss \n",
    "softmax_output_for_all_data = softmax_outputs[np.arange(3), class_targets]\n",
    "print(softmax_output_for_all_data)\n",
    "\n",
    "loss = - np.log(softmax_output_for_all_data) \n",
    "print(loss) "
   ]
  },
  {
   "cell_type": "code",
   "execution_count": 64,
   "metadata": {},
   "outputs": [
    {
     "data": {
      "text/plain": [
       "0.38506088005216804"
      ]
     },
     "execution_count": 64,
     "metadata": {},
     "output_type": "execute_result"
    }
   ],
   "source": [
    "np.average(loss)"
   ]
  },
  {
   "cell_type": "code",
   "execution_count": 65,
   "metadata": {},
   "outputs": [],
   "source": [
    "import numpy as np\n",
    "softmax_outputs = np.array([[0.7, 0.1, 0.2],\n",
    "                            [0.1, 0.5, 0.4],\n",
    "                            [0.02, 0.9, 0.08]])\n",
    "class_targets = np.array([[1, 0, 0],\n",
    "                          [0, 1, 0],\n",
    "                          [0, 1, 0]])"
   ]
  },
  {
   "cell_type": "code",
   "execution_count": 66,
   "metadata": {},
   "outputs": [
    {
     "name": "stdout",
     "output_type": "stream",
     "text": [
      "[0 1 1]\n"
     ]
    }
   ],
   "source": [
    "class_targets_labels = np.argmax(class_targets, axis=1)\n",
    "print(class_targets_labels)"
   ]
  },
  {
   "cell_type": "code",
   "execution_count": 67,
   "metadata": {},
   "outputs": [
    {
     "data": {
      "text/plain": [
       "array([0.7, 0.5, 0.9])"
      ]
     },
     "execution_count": 67,
     "metadata": {},
     "output_type": "execute_result"
    }
   ],
   "source": [
    "correct_confidences = softmax_outputs[np.arange(len(class_targets)), class_targets_labels]\n",
    "correct_confidences"
   ]
  },
  {
   "cell_type": "code",
   "execution_count": 68,
   "metadata": {},
   "outputs": [
    {
     "name": "stdout",
     "output_type": "stream",
     "text": [
      "[0.7 0.5 0.9]\n"
     ]
    }
   ],
   "source": [
    "# All together \n",
    "\n",
    "import numpy as np\n",
    "softmax_outputs = np.array([[0.7, 0.1, 0.2],\n",
    "                            [0.1, 0.5, 0.4],\n",
    "                            [0.02, 0.9, 0.08]])\n",
    "class_targets = np.array([[1, 0, 0],\n",
    "                          [0, 1, 0],\n",
    "                          [0, 1, 0]])\n",
    "\n",
    "# Probabilities for target values -\n",
    "# only if categorical labels\n",
    "\n",
    "# for 1 hot encoding \n",
    "if len(class_targets.shape) == 2: \n",
    "    class_targets_labels = np.argmax(class_targets, axis=1)\n",
    "    correct_confidences = softmax_outputs[np.arange(len(class_targets)), class_targets_labels]\n",
    "\n",
    "print(correct_confidences) "
   ]
  },
  {
   "cell_type": "code",
   "execution_count": 69,
   "metadata": {},
   "outputs": [
    {
     "name": "stdout",
     "output_type": "stream",
     "text": [
      "0.38506088005216804\n"
     ]
    }
   ],
   "source": [
    "# Losses\n",
    "neg_log = -np.log(correct_confidences)\n",
    "average_loss = np.mean(neg_log)\n",
    "\n",
    "print(average_loss)"
   ]
  },
  {
   "cell_type": "code",
   "execution_count": 70,
   "metadata": {},
   "outputs": [
    {
     "data": {
      "text/plain": [
       "-16.11809565095832"
      ]
     },
     "execution_count": 70,
     "metadata": {},
     "output_type": "execute_result"
    }
   ],
   "source": [
    "np.log(0.0000001)"
   ]
  },
  {
   "cell_type": "code",
   "execution_count": 71,
   "metadata": {},
   "outputs": [
    {
     "name": "stdout",
     "output_type": "stream",
     "text": [
      "0.0\n"
     ]
    }
   ],
   "source": [
    "print(np.e**(-np.inf))"
   ]
  },
  {
   "cell_type": "code",
   "execution_count": 72,
   "metadata": {},
   "outputs": [
    {
     "name": "stdout",
     "output_type": "stream",
     "text": [
      "inf\n"
     ]
    },
    {
     "name": "stderr",
     "output_type": "stream",
     "text": [
      "/var/folders/sg/qf1dw3cs4q5007gb2_9zd8600000gr/T/ipykernel_84166/1371846216.py:1: RuntimeWarning: divide by zero encountered in log\n",
      "  print(np.mean([1, 2, 3, -np.log(0)]))\n"
     ]
    }
   ],
   "source": [
    "print(np.mean([1, 2, 3, -np.log(0)]))"
   ]
  },
  {
   "cell_type": "code",
   "execution_count": 73,
   "metadata": {},
   "outputs": [
    {
     "name": "stdout",
     "output_type": "stream",
     "text": [
      "1.500000000025\n"
     ]
    }
   ],
   "source": [
    "print(np.mean([1, 2, 3, -np.log(1-1e-10)]))"
   ]
  },
  {
   "cell_type": "markdown",
   "metadata": {},
   "source": [
    "## The Categorical Cross-Entropy Loss Class"
   ]
  },
  {
   "cell_type": "code",
   "execution_count": 74,
   "metadata": {},
   "outputs": [],
   "source": [
    "class Loss:\n",
    "\n",
    "    def calculate(self, output, y):\n",
    "        sample_losses = self.forward(output, y) \n",
    "\n",
    "        data_loss = np.mean(sample_losses)\n",
    "\n",
    "        return data_loss"
   ]
  },
  {
   "cell_type": "code",
   "execution_count": 75,
   "metadata": {},
   "outputs": [],
   "source": [
    "# Cross-entropy loss\n",
    "class Loss_CategoricalCrossentropy(Loss):\n",
    "    # Forward pass\n",
    "    def forward(self, y_pred, y_true):\n",
    "        # Number of samples in a batch\n",
    "        samples = len(y_pred)\n",
    "        \n",
    "        # Clip data to prevent division by 0\n",
    "        # Clip both sides to not drag mean towards any value\n",
    "        y_pred_clipped = np.clip(y_pred, 1e-7, 1 - 1e-7)\n",
    "        \n",
    "        # Probabilities for target values -\n",
    "        # only if categorical labels\n",
    "        if len(y_true.shape) == 1:\n",
    "            correct_confidences = y_pred_clipped[\n",
    "                                                    range(samples),\n",
    "                                                    y_true\n",
    "                                                ]\n",
    "        # Mask values - only for one-hot encoded labels\n",
    "        elif len(y_true.shape) == 2:\n",
    "            correct_confidences = np.sum(\n",
    "                                            y_pred_clipped*y_true,\n",
    "                                            axis=1\n",
    "                                        )\n",
    "            \n",
    "        # Losses\n",
    "        negative_log_likelihoods = -np.log(correct_confidences)\n",
    "        return negative_log_likelihoods"
   ]
  },
  {
   "cell_type": "code",
   "execution_count": 76,
   "metadata": {},
   "outputs": [
    {
     "name": "stdout",
     "output_type": "stream",
     "text": [
      "0.38506088005216804\n"
     ]
    }
   ],
   "source": [
    "loss_function = Loss_CategoricalCrossentropy()\n",
    "loss = loss_function.calculate(softmax_outputs, class_targets)\n",
    "print(loss)"
   ]
  },
  {
   "cell_type": "markdown",
   "metadata": {},
   "source": [
    "## Combining everything up to this point"
   ]
  },
  {
   "cell_type": "code",
   "execution_count": 77,
   "metadata": {},
   "outputs": [],
   "source": [
    "# Dense layer\n",
    "class Layer_Dense:\n",
    "    # Layer initialization\n",
    "    def __init__(self, n_inputs, n_neurons):\n",
    "        # Initialize weights and biases\n",
    "        self.weights = 0.01 * np.random.randn(n_inputs, n_neurons)\n",
    "        self.biases = np.zeros((1, n_neurons))\n",
    "    \n",
    "    # Forward pass\n",
    "    def forward(self, inputs):\n",
    "        # Calculate output values from inputs, weights and biases\n",
    "        self.output = np.dot(inputs, self.weights) + self.biases\n",
    "\n",
    "# ReLU activation\n",
    "class Activation_ReLU:\n",
    "    # Forward pass\n",
    "    def forward(self, inputs):\n",
    "        # Calculate output values from inputs\n",
    "        self.output = np.maximum(0, inputs)\n",
    "\n",
    "# Softmax activation\n",
    "class Activation_Softmax:\n",
    "    # Forward pass\n",
    "    def forward(self, inputs):\n",
    "        # Get unnormalized probabilities\n",
    "        exp_values = np.exp(inputs - np.max(inputs, axis=1,\n",
    "        keepdims=True))\n",
    "        \n",
    "        # Normalize them for each sample\n",
    "        probabilities = exp_values / np.sum(exp_values, axis=1,\n",
    "        keepdims=True)\n",
    "        self.output = probabilities\n",
    "\n",
    "# Common loss class\n",
    "class Loss:\n",
    "    # Calculates the data and regularization losses\n",
    "    # given model output and ground truth values\n",
    "    def calculate(self, output, y):\n",
    "        # Calculate sample losses\n",
    "        sample_losses = self.forward(output, y)\n",
    "        # Calculate mean loss\n",
    "        data_loss = np.mean(sample_losses)\n",
    "        # Return loss\n",
    "        return data_loss\n",
    "\n",
    "# Cross-entropy loss\n",
    "class Loss_CategoricalCrossentropy(Loss):\n",
    "    # Forward pass\n",
    "    def forward(self, y_pred, y_true):\n",
    "        # Number of samples in a batch\n",
    "        samples = len(y_pred)\n",
    "        \n",
    "        # Clip data to prevent division by 0\n",
    "        # Clip both sides to not drag mean towards any value\n",
    "        y_pred_clipped = np.clip(y_pred, 1e-7, 1 - 1e-7)\n",
    "        \n",
    "        # Probabilities for target values -\n",
    "        # only if categorical labels\n",
    "        if len(y_true.shape) == 1:\n",
    "            correct_confidences = y_pred_clipped[\n",
    "                                                    range(samples),\n",
    "                                                    y_true\n",
    "                                                ]\n",
    "        # Mask values - only for one-hot encoded labels\n",
    "        elif len(y_true.shape) == 2:\n",
    "            correct_confidences = np.sum(\n",
    "                                            y_pred_clipped*y_true,\n",
    "                                            axis=1\n",
    "                                        )\n",
    "            \n",
    "        # Losses\n",
    "        negative_log_likelihoods = -np.log(correct_confidences)\n",
    "        return negative_log_likelihoods"
   ]
  },
  {
   "cell_type": "code",
   "execution_count": 78,
   "metadata": {},
   "outputs": [
    {
     "name": "stdout",
     "output_type": "stream",
     "text": [
      "[[0.33333333 0.33333333 0.33333333]\n",
      " [0.33333327 0.33333342 0.33333331]\n",
      " [0.33333321 0.3333335  0.33333328]\n",
      " [0.33333318 0.33333294 0.33333388]\n",
      " [0.33333313 0.33333345 0.33333343]]\n",
      "loss: 1.098614259512288\n"
     ]
    }
   ],
   "source": [
    "# Create dataset\n",
    "X, y = spiral.create_data(samples=100, classes=3)\n",
    "\n",
    "# Create Dense layer with 2 input features and 3 output values\n",
    "dense1 = Layer_Dense(2, 3)\n",
    "\n",
    "# Create ReLU activation (to be used with Dense layer):\n",
    "activation1 = Activation_ReLU()\n",
    "\n",
    "# Create second Dense layer with 3 input features (as we take output\n",
    "# of previous layer here) and 3 output values\n",
    "dense2 = Layer_Dense(3, 3)\n",
    "\n",
    "# Create Softmax activation (to be used with Dense layer):\n",
    "activation2 = Activation_Softmax()\n",
    "\n",
    "# Make a forward pass of our training data through this layer\n",
    "dense1.forward(X)\n",
    "\n",
    "# Make a forward pass through activation function\n",
    "# it takes the output of first dense layer here\n",
    "activation1.forward(dense1.output)\n",
    "\n",
    "# Make a forward pass through second Dense layer\n",
    "# it takes outputs of activation function of first layer as inputs\n",
    "dense2.forward(activation1.output)\n",
    "\n",
    "# Make a forward pass through activation function\n",
    "# it takes the output of second dense layer here\n",
    "activation2.forward(dense2.output)\n",
    "\n",
    "# Let's see output of the first few samples:\n",
    "print(activation2.output[:5])\n",
    "\n",
    "# Perform a forward pass through activation function\n",
    "# it takes the output of second dense layer here and returns loss\n",
    "loss = loss_function.calculate(activation2.output, y)\n",
    "\n",
    "# Print loss value\n",
    "print('loss:', loss)"
   ]
  },
  {
   "cell_type": "markdown",
   "metadata": {},
   "source": [
    "## Accuracy Calculation"
   ]
  },
  {
   "cell_type": "code",
   "execution_count": 79,
   "metadata": {},
   "outputs": [
    {
     "name": "stdout",
     "output_type": "stream",
     "text": [
      "acc: 0.6666666666666666\n"
     ]
    }
   ],
   "source": [
    "import numpy as np\n",
    "# Probabilities of 3 samples\n",
    "softmax_outputs = np.array([[0.7, 0.2, 0.1],\n",
    "                            [0.5, 0.1, 0.4],\n",
    "                            [0.02, 0.9, 0.08]])\n",
    "\n",
    "# Target (ground-truth) labels for 3 samples\n",
    "class_targets = np.array([0, 1, 1])\n",
    "\n",
    "# Calculate values along second axis (axis of index 1)\n",
    "predictions = np.argmax(softmax_outputs, axis=1)\n",
    "\n",
    "# If targets are one-hot encoded - convert them\n",
    "if len(class_targets.shape) == 2:\n",
    "    class_targets = np.argmax(class_targets, axis=1)\n",
    "\n",
    "# True evaluates to 1; False to 0\n",
    "accuracy = np.mean(predictions == class_targets)\n",
    "print('acc:', accuracy)"
   ]
  },
  {
   "cell_type": "code",
   "execution_count": 80,
   "metadata": {},
   "outputs": [
    {
     "name": "stdout",
     "output_type": "stream",
     "text": [
      "[[0.33333333 0.33333333 0.33333333]\n",
      " [0.33333385 0.3333334  0.33333275]\n",
      " [0.33333432 0.33333347 0.33333221]\n",
      " [0.33333472 0.33333352 0.33333176]\n",
      " [0.33333539 0.33333384 0.33333077]]\n",
      "loss: 1.0986170408838325\n",
      "acc: 0.36333333333333334\n"
     ]
    }
   ],
   "source": [
    "# Create dataset\n",
    "X, y = spiral.create_data(samples=100, classes=3)\n",
    "\n",
    "# Create Dense layer with 2 input features and 3 output values\n",
    "dense1 = Layer_Dense(2, 3)\n",
    "\n",
    "# Create ReLU activation (to be used with Dense layer):\n",
    "activation1 = Activation_ReLU()\n",
    "\n",
    "# Create second Dense layer with 3 input features (as we take output\n",
    "# of previous layer here) and 3 output values\n",
    "dense2 = Layer_Dense(3, 3)\n",
    "\n",
    "# Create Softmax activation (to be used with Dense layer):\n",
    "activation2 = Activation_Softmax()\n",
    "\n",
    "# Make a forward pass of our training data through this layer\n",
    "dense1.forward(X)\n",
    "\n",
    "# Make a forward pass through activation function\n",
    "# it takes the output of first dense layer here\n",
    "activation1.forward(dense1.output)\n",
    "\n",
    "# Make a forward pass through second Dense layer\n",
    "# it takes outputs of activation function of first layer as inputs\n",
    "dense2.forward(activation1.output)\n",
    "\n",
    "# Make a forward pass through activation function\n",
    "# it takes the output of second dense layer here\n",
    "activation2.forward(dense2.output)\n",
    "\n",
    "# Let's see output of the first few samples:\n",
    "print(activation2.output[:5])\n",
    "\n",
    "# Perform a forward pass through activation function\n",
    "# it takes the output of second dense layer here and returns loss\n",
    "loss = loss_function.calculate(activation2.output, y)\n",
    "\n",
    "# Print loss value\n",
    "print('loss:', loss)\n",
    "\n",
    "# Calculate accuracy from output of activation2 and targets\n",
    "# calculate values along first axis\n",
    "predictions = np.argmax(activation2.output, axis=1)\n",
    "if len(y.shape) == 2:\n",
    "    y = np.argmax(y, axis=1)\n",
    "\n",
    "accuracy = np.mean(predictions == y)\n",
    "# Print accuracy\n",
    "print('acc:', accuracy)"
   ]
  },
  {
   "cell_type": "code",
   "execution_count": 81,
   "metadata": {},
   "outputs": [
    {
     "data": {
      "text/plain": [
       "(300,)"
      ]
     },
     "execution_count": 81,
     "metadata": {},
     "output_type": "execute_result"
    }
   ],
   "source": [
    "y.shape"
   ]
  },
  {
   "cell_type": "markdown",
   "metadata": {},
   "source": [
    "# Chapter 6 "
   ]
  },
  {
   "cell_type": "markdown",
   "metadata": {},
   "source": [
    "## Introducing Optimization"
   ]
  },
  {
   "cell_type": "code",
   "execution_count": 82,
   "metadata": {},
   "outputs": [],
   "source": [
    "import matplotlib.pyplot as plt\n",
    "import vertical"
   ]
  },
  {
   "cell_type": "code",
   "execution_count": 83,
   "metadata": {},
   "outputs": [
    {
     "data": {
      "image/png": "[encoded data removed]",
      "text/plain": [
       "<Figure size 640x480 with 1 Axes>"
      ]
     },
     "metadata": {},
     "output_type": "display_data"
    }
   ],
   "source": [
    "X, y = vertical.create_data(samples=100, classes=3)\n",
    "plt.scatter(X[:, 0], \n",
    "            X[:, 1], \n",
    "            c=y, s=40, cmap='brg')\n",
    "plt.show()"
   ]
  },
  {
   "cell_type": "code",
   "execution_count": 85,
   "metadata": {},
   "outputs": [
    {
     "data": {
      "text/plain": [
       "array([[-0.12342038,  0.46587114],\n",
       "       [ 0.02904957,  0.43358018],\n",
       "       [-0.00820775,  0.48832472],\n",
       "       [-0.0956667 ,  0.55848929],\n",
       "       [ 0.12512962,  0.50377746],\n",
       "       [ 0.15792087,  0.71588415],\n",
       "       [ 0.0860057 ,  0.50053223],\n",
       "       [-0.08756438,  0.37209955],\n",
       "       [-0.12157349,  0.643318  ],\n",
       "       [ 0.08085573,  0.47271576]])"
      ]
     },
     "execution_count": 85,
     "metadata": {},
     "output_type": "execute_result"
    }
   ],
   "source": [
    "X[:10, :]"
   ]
  },
  {
   "cell_type": "code",
   "execution_count": 87,
   "metadata": {},
   "outputs": [
    {
     "data": {
      "text/plain": [
       "array([0, 0, 0, 0, 0, 0, 0, 0, 0, 0], dtype=uint8)"
      ]
     },
     "execution_count": 87,
     "metadata": {},
     "output_type": "execute_result"
    }
   ],
   "source": [
    "y[:10]"
   ]
  },
  {
   "cell_type": "markdown",
   "metadata": {},
   "source": [
    "Using the previously created code up to this point, we can use this new dataset with a simple\n",
    "neural network:"
   ]
  },
  {
   "cell_type": "code",
   "execution_count": 108,
   "metadata": {},
   "outputs": [],
   "source": [
    "# Create dataset\n",
    "X, y = vertical.create_data(samples=100, classes=3)\n",
    "\n",
    "# Create model\n",
    "dense1 = Layer_Dense(2, 3)                         # first dense layer, 2 inputs\n",
    "activation1 = Activation_ReLU()\n",
    "\n",
    "dense2 = Layer_Dense(3, 3)                         # second dense layer, 3 inputs, 3 outputs\n",
    "activation2 = Activation_Softmax()\n",
    "\n",
    "# Create loss function\n",
    "loss_function = Loss_CategoricalCrossentropy()\n"
   ]
  },
  {
   "cell_type": "markdown",
   "metadata": {},
   "source": [
    "Then create some variables to track the best loss and the associated weights and biases:"
   ]
  },
  {
   "cell_type": "code",
   "execution_count": 109,
   "metadata": {},
   "outputs": [],
   "source": [
    "# Helper variables\n",
    "lowest_loss = 9999999 # some initial value\n",
    "\n",
    "best_dense1_weights = dense1.weights.copy()\n",
    "best_dense1_biases = dense1.biases.copy()\n",
    "\n",
    "best_dense2_weights = dense2.weights.copy()\n",
    "best_dense2_biases = dense2.biases.copy()"
   ]
  },
  {
   "cell_type": "code",
   "execution_count": 110,
   "metadata": {},
   "outputs": [
    {
     "data": {
      "text/plain": [
       "array([[-0.0081906 , -0.00980209, -0.01866693],\n",
       "       [-0.00124669,  0.00157805,  0.00416211]])"
      ]
     },
     "execution_count": 110,
     "metadata": {},
     "output_type": "execute_result"
    }
   ],
   "source": [
    "best_dense1_weights"
   ]
  },
  {
   "cell_type": "markdown",
   "metadata": {},
   "source": [
    "Now we iterate as many times as desired, pick random values for weights and biases, and\n",
    "save the weights and biases if they generate the lowest-seen loss:"
   ]
  },
  {
   "cell_type": "code",
   "execution_count": 111,
   "metadata": {},
   "outputs": [
    {
     "name": "stdout",
     "output_type": "stream",
     "text": [
      "New set of weights found, iteration: 0 loss: 1.098879145870132 acc: 0.3333333333333333\n",
      "New set of weights found, iteration: 1 loss: 1.0987334146736558 acc: 0.3333333333333333\n",
      "New set of weights found, iteration: 2 loss: 1.0987096297955816 acc: 0.3333333333333333\n",
      "New set of weights found, iteration: 11 loss: 1.097804230195145 acc: 0.3333333333333333\n",
      "New set of weights found, iteration: 65 loss: 1.0976583958427024 acc: 0.3433333333333333\n",
      "New set of weights found, iteration: 372 loss: 1.0968609332676917 acc: 0.3466666666666667\n",
      "New set of weights found, iteration: 2568 loss: 1.0967120905835406 acc: 0.3333333333333333\n",
      "New set of weights found, iteration: 5003 loss: 1.0963548834789514 acc: 0.3333333333333333\n",
      "New set of weights found, iteration: 7591 loss: 1.0960336611112067 acc: 0.3333333333333333\n"
     ]
    }
   ],
   "source": [
    "for iteration in range(10000):\n",
    "    # Generate a new set of weights for iteration\n",
    "    dense1.weights = 0.05 * np.random.randn(2, 3)\n",
    "    dense1.biases = 0.05 * np.random.randn(1, 3)\n",
    "    dense2.weights = 0.05 * np.random.randn(3, 3)\n",
    "    dense2.biases = 0.05 * np.random.randn(1, 3)\n",
    "\n",
    "    # Perform a forward pass of the training data through this layer\n",
    "    dense1.forward(X)\n",
    "    activation1.forward(dense1.output)\n",
    "    dense2.forward(activation1.output)\n",
    "    activation2.forward(dense2.output)\n",
    "    \n",
    "    # Perform a forward pass through activation function\n",
    "    # it takes the output of second dense layer here and returns loss\n",
    "    loss = loss_function.calculate(activation2.output, y)\n",
    "    \n",
    "    # Calculate accuracy from output of activation2 and targets\n",
    "    # calculate values along first axis\n",
    "    predictions = np.argmax(activation2.output, axis=1)\n",
    "    accuracy = np.mean(predictions == y)\n",
    "    \n",
    "    # If loss is smaller - print and save weights and biases aside\n",
    "    if loss < lowest_loss:\n",
    "        print('New set of weights found, iteration:', iteration,\n",
    "        'loss:', loss, 'acc:', accuracy)\n",
    "        best_dense1_weights = dense1.weights.copy()\n",
    "        best_dense1_biases = dense1.biases.copy()\n",
    "        best_dense2_weights = dense2.weights.copy()\n",
    "        best_dense2_biases = dense2.biases.copy()\n",
    "        lowest_loss = loss"
   ]
  },
  {
   "cell_type": "markdown",
   "metadata": {},
   "source": [
    "Loss continued to drop, but accuracy did not change. This doesn’t appear to be a reliable method\n",
    "for minimizing loss."
   ]
  },
  {
   "cell_type": "markdown",
   "metadata": {},
   "source": [
    "Even with this basic dataset, we see that randomly searching for weight and bias combinations\n",
    "will take far too long to be an acceptable method. Another idea might be, instead of setting\n",
    "parameters with randomly-chosen values each iteration, apply a fraction of these values to\n",
    "parameters. With this, weights will be updated from what currently yields us the lowest loss\n",
    "instead of aimlessly randomly"
   ]
  },
  {
   "cell_type": "markdown",
   "metadata": {},
   "source": [
    "## Full code up to this point"
   ]
  },
  {
   "cell_type": "code",
   "execution_count": 116,
   "metadata": {
    "scrolled": true
   },
   "outputs": [
    {
     "name": "stdout",
     "output_type": "stream",
     "text": [
      "New set of weights found, iteration: 0 loss: 1.1004502122920439 acc: 0.3333333333333333\n",
      "New set of weights found, iteration: 2 loss: 1.099693206955648 acc: 0.3333333333333333\n",
      "New set of weights found, iteration: 3 loss: 1.0996169037332473 acc: 0.3333333333333333\n",
      "New set of weights found, iteration: 4 loss: 1.098097527028944 acc: 0.3333333333333333\n",
      "New set of weights found, iteration: 5 loss: 1.0976078982563569 acc: 0.3333333333333333\n",
      "New set of weights found, iteration: 10 loss: 1.0959746985379146 acc: 0.3333333333333333\n",
      "New set of weights found, iteration: 11 loss: 1.0936814204646914 acc: 0.3333333333333333\n",
      "New set of weights found, iteration: 13 loss: 1.093136080953877 acc: 0.3333333333333333\n",
      "New set of weights found, iteration: 18 loss: 1.091667136825035 acc: 0.3333333333333333\n",
      "New set of weights found, iteration: 20 loss: 1.0900838665783372 acc: 0.3333333333333333\n",
      "New set of weights found, iteration: 21 loss: 1.0899265103040439 acc: 0.3333333333333333\n",
      "New set of weights found, iteration: 23 loss: 1.0885839389909062 acc: 0.2966666666666667\n",
      "New set of weights found, iteration: 25 loss: 1.0852983297409313 acc: 0.3333333333333333\n",
      "New set of weights found, iteration: 26 loss: 1.0831120844084938 acc: 0.3333333333333333\n",
      "New set of weights found, iteration: 37 loss: 1.0784265396260657 acc: 0.3333333333333333\n",
      "New set of weights found, iteration: 38 loss: 1.0784080561866738 acc: 0.3333333333333333\n",
      "New set of weights found, iteration: 40 loss: 1.0703405581944136 acc: 0.3333333333333333\n",
      "New set of weights found, iteration: 43 loss: 1.0688697498171273 acc: 0.3333333333333333\n",
      "New set of weights found, iteration: 44 loss: 1.0650248965344662 acc: 0.44\n",
      "New set of weights found, iteration: 47 loss: 1.0610767742857856 acc: 0.4266666666666667\n",
      "New set of weights found, iteration: 51 loss: 1.0512963589733093 acc: 0.5866666666666667\n",
      "New set of weights found, iteration: 52 loss: 1.0414274158192012 acc: 0.43666666666666665\n",
      "New set of weights found, iteration: 53 loss: 1.036616631041423 acc: 0.37666666666666665\n",
      "New set of weights found, iteration: 54 loss: 1.0347776252710164 acc: 0.45\n",
      "New set of weights found, iteration: 56 loss: 1.0342285351629406 acc: 0.3333333333333333\n",
      "New set of weights found, iteration: 58 loss: 1.0274025504624735 acc: 0.5433333333333333\n",
      "New set of weights found, iteration: 62 loss: 1.01683971068923 acc: 0.6633333333333333\n",
      "New set of weights found, iteration: 64 loss: 1.0043360120152458 acc: 0.6433333333333333\n",
      "New set of weights found, iteration: 65 loss: 0.9842288374558689 acc: 0.62\n",
      "New set of weights found, iteration: 67 loss: 0.980047890971973 acc: 0.63\n",
      "New set of weights found, iteration: 72 loss: 0.9758005444007813 acc: 0.6166666666666667\n",
      "New set of weights found, iteration: 78 loss: 0.9606990478753332 acc: 0.62\n",
      "New set of weights found, iteration: 79 loss: 0.9512124056765945 acc: 0.5766666666666667\n",
      "New set of weights found, iteration: 82 loss: 0.9467735487017392 acc: 0.6733333333333333\n",
      "New set of weights found, iteration: 84 loss: 0.9375423680289006 acc: 0.86\n",
      "New set of weights found, iteration: 88 loss: 0.9299046274849313 acc: 0.65\n",
      "New set of weights found, iteration: 91 loss: 0.9227486491171415 acc: 0.9233333333333333\n",
      "New set of weights found, iteration: 93 loss: 0.9190553777762833 acc: 0.82\n",
      "New set of weights found, iteration: 94 loss: 0.9150874206845799 acc: 0.6666666666666666\n",
      "New set of weights found, iteration: 96 loss: 0.9098424658631807 acc: 0.91\n",
      "New set of weights found, iteration: 98 loss: 0.9014830404874571 acc: 0.92\n",
      "New set of weights found, iteration: 99 loss: 0.8947443789092934 acc: 0.6433333333333333\n",
      "New set of weights found, iteration: 102 loss: 0.8939694289321558 acc: 0.6466666666666666\n",
      "New set of weights found, iteration: 112 loss: 0.8917857611831984 acc: 0.6533333333333333\n",
      "New set of weights found, iteration: 113 loss: 0.8898859830903276 acc: 0.7766666666666666\n",
      "New set of weights found, iteration: 114 loss: 0.8895369389385189 acc: 0.6666666666666666\n",
      "New set of weights found, iteration: 115 loss: 0.8844588251802983 acc: 0.6633333333333333\n",
      "New set of weights found, iteration: 117 loss: 0.8742286059863636 acc: 0.6666666666666666\n",
      "New set of weights found, iteration: 119 loss: 0.865100330240676 acc: 0.6666666666666666\n",
      "New set of weights found, iteration: 122 loss: 0.8597251388111772 acc: 0.6666666666666666\n",
      "New set of weights found, iteration: 125 loss: 0.8482482225971992 acc: 0.6666666666666666\n",
      "New set of weights found, iteration: 126 loss: 0.843614020671588 acc: 0.6633333333333333\n",
      "New set of weights found, iteration: 127 loss: 0.8424045951029513 acc: 0.6666666666666666\n",
      "New set of weights found, iteration: 128 loss: 0.8261704746113115 acc: 0.6666666666666666\n",
      "New set of weights found, iteration: 129 loss: 0.8258764352437379 acc: 0.6666666666666666\n",
      "New set of weights found, iteration: 131 loss: 0.8210833814977387 acc: 0.6666666666666666\n",
      "New set of weights found, iteration: 135 loss: 0.8199290977993311 acc: 0.6666666666666666\n",
      "New set of weights found, iteration: 136 loss: 0.8060908428395958 acc: 0.6666666666666666\n",
      "New set of weights found, iteration: 143 loss: 0.7929946417415623 acc: 0.67\n",
      "New set of weights found, iteration: 145 loss: 0.781669910820043 acc: 0.7066666666666667\n",
      "New set of weights found, iteration: 148 loss: 0.7593561817358208 acc: 0.67\n",
      "New set of weights found, iteration: 151 loss: 0.7540960007322485 acc: 0.6666666666666666\n",
      "New set of weights found, iteration: 154 loss: 0.7414369734535343 acc: 0.6766666666666666\n",
      "New set of weights found, iteration: 156 loss: 0.738810450321234 acc: 0.6733333333333333\n",
      "New set of weights found, iteration: 158 loss: 0.730097014587518 acc: 0.6833333333333333\n",
      "New set of weights found, iteration: 160 loss: 0.7206866226496423 acc: 0.74\n",
      "New set of weights found, iteration: 161 loss: 0.7196667686575043 acc: 0.6666666666666666\n",
      "New set of weights found, iteration: 162 loss: 0.7070463630533151 acc: 0.7366666666666667\n",
      "New set of weights found, iteration: 163 loss: 0.6991984601598453 acc: 0.6933333333333334\n",
      "New set of weights found, iteration: 169 loss: 0.6984889006341198 acc: 0.7733333333333333\n",
      "New set of weights found, iteration: 170 loss: 0.6962068845878988 acc: 0.7133333333333334\n",
      "New set of weights found, iteration: 172 loss: 0.6949564168189492 acc: 0.7766666666666666\n",
      "New set of weights found, iteration: 173 loss: 0.6939569633707813 acc: 0.7733333333333333\n",
      "New set of weights found, iteration: 174 loss: 0.6769948185767031 acc: 0.7733333333333333\n",
      "New set of weights found, iteration: 180 loss: 0.6517454493273922 acc: 0.7933333333333333\n",
      "New set of weights found, iteration: 181 loss: 0.6492139939484645 acc: 0.8333333333333334\n",
      "New set of weights found, iteration: 182 loss: 0.6427101862070117 acc: 0.7833333333333333\n",
      "New set of weights found, iteration: 185 loss: 0.63862610940204 acc: 0.7866666666666666\n",
      "New set of weights found, iteration: 187 loss: 0.6239448059776155 acc: 0.8333333333333334\n",
      "New set of weights found, iteration: 192 loss: 0.6207064927867687 acc: 0.8433333333333334\n",
      "New set of weights found, iteration: 193 loss: 0.6201757976120651 acc: 0.8933333333333333\n",
      "New set of weights found, iteration: 194 loss: 0.5997859838468391 acc: 0.8966666666666666\n",
      "New set of weights found, iteration: 195 loss: 0.598202222091272 acc: 0.9\n",
      "New set of weights found, iteration: 198 loss: 0.5945000660630954 acc: 0.9166666666666666\n",
      "New set of weights found, iteration: 202 loss: 0.5939904979955974 acc: 0.9233333333333333\n",
      "New set of weights found, iteration: 204 loss: 0.5903209733318288 acc: 0.93\n",
      "New set of weights found, iteration: 205 loss: 0.5846900369301538 acc: 0.8766666666666667\n",
      "New set of weights found, iteration: 207 loss: 0.580114375099083 acc: 0.8633333333333333\n",
      "New set of weights found, iteration: 209 loss: 0.5790374576080652 acc: 0.8733333333333333\n",
      "New set of weights found, iteration: 212 loss: 0.5787981295882033 acc: 0.8933333333333333\n",
      "New set of weights found, iteration: 226 loss: 0.5756995695913144 acc: 0.9166666666666666\n",
      "New set of weights found, iteration: 228 loss: 0.5631459155454895 acc: 0.9066666666666666\n",
      "New set of weights found, iteration: 232 loss: 0.5624621826419852 acc: 0.86\n",
      "New set of weights found, iteration: 236 loss: 0.5600414648252102 acc: 0.9\n",
      "New set of weights found, iteration: 240 loss: 0.5535521118813468 acc: 0.8933333333333333\n",
      "New set of weights found, iteration: 249 loss: 0.552360273246762 acc: 0.88\n",
      "New set of weights found, iteration: 252 loss: 0.549389921322543 acc: 0.8633333333333333\n",
      "New set of weights found, iteration: 253 loss: 0.5463232874348943 acc: 0.8633333333333333\n",
      "New set of weights found, iteration: 256 loss: 0.5370487014519626 acc: 0.8833333333333333\n",
      "New set of weights found, iteration: 259 loss: 0.5342075951053514 acc: 0.9033333333333333\n",
      "New set of weights found, iteration: 263 loss: 0.5338688708537318 acc: 0.9033333333333333\n",
      "New set of weights found, iteration: 265 loss: 0.5296633369194281 acc: 0.9166666666666666\n",
      "New set of weights found, iteration: 279 loss: 0.5230255492168663 acc: 0.8933333333333333\n",
      "New set of weights found, iteration: 280 loss: 0.5223824224156046 acc: 0.9066666666666666\n",
      "New set of weights found, iteration: 283 loss: 0.5176391909268526 acc: 0.8833333333333333\n",
      "New set of weights found, iteration: 284 loss: 0.5045674175318418 acc: 0.8966666666666666\n",
      "New set of weights found, iteration: 293 loss: 0.4980693081275846 acc: 0.8966666666666666\n",
      "New set of weights found, iteration: 294 loss: 0.49655279615237014 acc: 0.9066666666666666\n",
      "New set of weights found, iteration: 299 loss: 0.49207350681316864 acc: 0.9033333333333333\n",
      "New set of weights found, iteration: 301 loss: 0.48765782531161905 acc: 0.88\n",
      "New set of weights found, iteration: 304 loss: 0.4860414290488069 acc: 0.8733333333333333\n",
      "New set of weights found, iteration: 309 loss: 0.483478374759304 acc: 0.89\n",
      "New set of weights found, iteration: 310 loss: 0.4832880143802613 acc: 0.8733333333333333\n",
      "New set of weights found, iteration: 314 loss: 0.481797871607136 acc: 0.8633333333333333\n",
      "New set of weights found, iteration: 315 loss: 0.48071148783886447 acc: 0.8933333333333333\n",
      "New set of weights found, iteration: 318 loss: 0.478704713125616 acc: 0.8866666666666667\n",
      "New set of weights found, iteration: 319 loss: 0.45799439120752994 acc: 0.8933333333333333\n",
      "New set of weights found, iteration: 321 loss: 0.45363135123379655 acc: 0.89\n",
      "New set of weights found, iteration: 329 loss: 0.44573562368186564 acc: 0.8933333333333333\n",
      "New set of weights found, iteration: 345 loss: 0.44323119928238425 acc: 0.91\n",
      "New set of weights found, iteration: 346 loss: 0.4411932813329735 acc: 0.9033333333333333\n",
      "New set of weights found, iteration: 347 loss: 0.44037925375397946 acc: 0.9033333333333333\n",
      "New set of weights found, iteration: 354 loss: 0.43494861409213853 acc: 0.92\n",
      "New set of weights found, iteration: 359 loss: 0.4345995312364183 acc: 0.93\n",
      "New set of weights found, iteration: 361 loss: 0.4253521572459573 acc: 0.9166666666666666\n",
      "New set of weights found, iteration: 365 loss: 0.4125012142283826 acc: 0.91\n",
      "New set of weights found, iteration: 369 loss: 0.412205791990628 acc: 0.9\n",
      "New set of weights found, iteration: 376 loss: 0.40747119229724604 acc: 0.9133333333333333\n",
      "New set of weights found, iteration: 377 loss: 0.40737886062926576 acc: 0.9033333333333333\n",
      "New set of weights found, iteration: 378 loss: 0.40736997852550855 acc: 0.89\n",
      "New set of weights found, iteration: 385 loss: 0.40294905142947546 acc: 0.9\n",
      "New set of weights found, iteration: 388 loss: 0.3983002088132551 acc: 0.9166666666666666\n",
      "New set of weights found, iteration: 389 loss: 0.39762104686039074 acc: 0.9066666666666666\n",
      "New set of weights found, iteration: 392 loss: 0.3952776548174026 acc: 0.93\n",
      "New set of weights found, iteration: 393 loss: 0.39460100388967684 acc: 0.93\n",
      "New set of weights found, iteration: 394 loss: 0.3921660225670213 acc: 0.9266666666666666\n",
      "New set of weights found, iteration: 395 loss: 0.3855244804295352 acc: 0.93\n",
      "New set of weights found, iteration: 396 loss: 0.3847270249058295 acc: 0.9266666666666666\n",
      "New set of weights found, iteration: 399 loss: 0.3786869338689172 acc: 0.9066666666666666\n",
      "New set of weights found, iteration: 405 loss: 0.37260161659686264 acc: 0.9066666666666666\n",
      "New set of weights found, iteration: 409 loss: 0.36953655084541814 acc: 0.9033333333333333\n",
      "New set of weights found, iteration: 412 loss: 0.36801082244688443 acc: 0.9166666666666666\n",
      "New set of weights found, iteration: 419 loss: 0.3633863020285294 acc: 0.92\n",
      "New set of weights found, iteration: 421 loss: 0.36043622134076336 acc: 0.93\n",
      "New set of weights found, iteration: 422 loss: 0.3603283818998406 acc: 0.9266666666666666\n",
      "New set of weights found, iteration: 423 loss: 0.35721930193314577 acc: 0.9266666666666666\n",
      "New set of weights found, iteration: 425 loss: 0.3549777232443905 acc: 0.9166666666666666\n",
      "New set of weights found, iteration: 428 loss: 0.3528664097037344 acc: 0.91\n",
      "New set of weights found, iteration: 429 loss: 0.3518647515821884 acc: 0.9033333333333333\n",
      "New set of weights found, iteration: 430 loss: 0.3482914165708043 acc: 0.9033333333333333\n",
      "New set of weights found, iteration: 432 loss: 0.34555757158723 acc: 0.9033333333333333\n",
      "New set of weights found, iteration: 435 loss: 0.342021217363087 acc: 0.9233333333333333\n",
      "New set of weights found, iteration: 442 loss: 0.3402374111238522 acc: 0.9066666666666666\n",
      "New set of weights found, iteration: 445 loss: 0.33978867880030134 acc: 0.91\n",
      "New set of weights found, iteration: 448 loss: 0.3385580495572246 acc: 0.9266666666666666\n",
      "New set of weights found, iteration: 452 loss: 0.3350347517857523 acc: 0.92\n",
      "New set of weights found, iteration: 453 loss: 0.33398966175683503 acc: 0.9233333333333333\n",
      "New set of weights found, iteration: 458 loss: 0.3297753943074367 acc: 0.91\n",
      "New set of weights found, iteration: 464 loss: 0.32817216083098866 acc: 0.92\n",
      "New set of weights found, iteration: 468 loss: 0.3278662170514677 acc: 0.9233333333333333\n",
      "New set of weights found, iteration: 469 loss: 0.32400760184778243 acc: 0.9133333333333333\n",
      "New set of weights found, iteration: 471 loss: 0.3200788209338453 acc: 0.9266666666666666\n",
      "New set of weights found, iteration: 472 loss: 0.31775628089262653 acc: 0.9266666666666666\n",
      "New set of weights found, iteration: 475 loss: 0.316652793970709 acc: 0.92\n",
      "New set of weights found, iteration: 477 loss: 0.31445006140178466 acc: 0.9233333333333333\n",
      "New set of weights found, iteration: 478 loss: 0.3137833136827881 acc: 0.9166666666666666\n",
      "New set of weights found, iteration: 479 loss: 0.31349417035715194 acc: 0.91\n",
      "New set of weights found, iteration: 481 loss: 0.30849968042633585 acc: 0.9166666666666666\n",
      "New set of weights found, iteration: 484 loss: 0.3052984794097812 acc: 0.9133333333333333\n",
      "New set of weights found, iteration: 488 loss: 0.30365117978439243 acc: 0.92\n",
      "New set of weights found, iteration: 493 loss: 0.3033197562913445 acc: 0.92\n",
      "New set of weights found, iteration: 496 loss: 0.30119586343691584 acc: 0.92\n",
      "New set of weights found, iteration: 497 loss: 0.299535241434262 acc: 0.92\n",
      "New set of weights found, iteration: 499 loss: 0.2979780084714878 acc: 0.92\n",
      "New set of weights found, iteration: 525 loss: 0.29623534443334154 acc: 0.9133333333333333\n",
      "New set of weights found, iteration: 526 loss: 0.2928501381665812 acc: 0.9166666666666666\n",
      "New set of weights found, iteration: 527 loss: 0.29202243355593244 acc: 0.93\n",
      "New set of weights found, iteration: 529 loss: 0.29027270185086584 acc: 0.9266666666666666\n",
      "New set of weights found, iteration: 533 loss: 0.28999924091599366 acc: 0.9333333333333333\n",
      "New set of weights found, iteration: 536 loss: 0.2897859750092145 acc: 0.9333333333333333\n",
      "New set of weights found, iteration: 538 loss: 0.28904863455567165 acc: 0.9366666666666666\n",
      "New set of weights found, iteration: 544 loss: 0.28425805398631826 acc: 0.93\n",
      "New set of weights found, iteration: 550 loss: 0.28327476170184257 acc: 0.9266666666666666\n",
      "New set of weights found, iteration: 552 loss: 0.27979939731413234 acc: 0.9266666666666666\n",
      "New set of weights found, iteration: 560 loss: 0.2780047279629529 acc: 0.9233333333333333\n",
      "New set of weights found, iteration: 571 loss: 0.27788545816323423 acc: 0.93\n",
      "New set of weights found, iteration: 575 loss: 0.2768956451570849 acc: 0.9233333333333333\n",
      "New set of weights found, iteration: 595 loss: 0.27357934805682743 acc: 0.93\n",
      "New set of weights found, iteration: 604 loss: 0.27280365669478035 acc: 0.9333333333333333\n",
      "New set of weights found, iteration: 605 loss: 0.2721244976382319 acc: 0.9366666666666666\n",
      "New set of weights found, iteration: 606 loss: 0.2704179901888352 acc: 0.9266666666666666\n",
      "New set of weights found, iteration: 608 loss: 0.26870589143286766 acc: 0.9233333333333333\n",
      "New set of weights found, iteration: 646 loss: 0.2648513774052367 acc: 0.9266666666666666\n",
      "New set of weights found, iteration: 656 loss: 0.2645215748485391 acc: 0.92\n",
      "New set of weights found, iteration: 658 loss: 0.26181534575368476 acc: 0.91\n",
      "New set of weights found, iteration: 661 loss: 0.260160976200205 acc: 0.9266666666666666\n",
      "New set of weights found, iteration: 663 loss: 0.2597573947315034 acc: 0.9333333333333333\n",
      "New set of weights found, iteration: 665 loss: 0.2574588534509591 acc: 0.93\n",
      "New set of weights found, iteration: 669 loss: 0.25718517905002297 acc: 0.93\n",
      "New set of weights found, iteration: 670 loss: 0.2563235848697554 acc: 0.92\n",
      "New set of weights found, iteration: 671 loss: 0.25553289148443015 acc: 0.9266666666666666\n",
      "New set of weights found, iteration: 678 loss: 0.25486831802172116 acc: 0.9266666666666666\n",
      "New set of weights found, iteration: 680 loss: 0.25437202495965694 acc: 0.9333333333333333\n",
      "New set of weights found, iteration: 681 loss: 0.25246086948622787 acc: 0.93\n",
      "New set of weights found, iteration: 690 loss: 0.251005774782512 acc: 0.9233333333333333\n",
      "New set of weights found, iteration: 691 loss: 0.2506330316542468 acc: 0.9266666666666666\n",
      "New set of weights found, iteration: 699 loss: 0.2486477206719503 acc: 0.93\n",
      "New set of weights found, iteration: 701 loss: 0.2480749019147324 acc: 0.9233333333333333\n",
      "New set of weights found, iteration: 704 loss: 0.24230442065666816 acc: 0.9266666666666666\n",
      "New set of weights found, iteration: 712 loss: 0.24021535797786092 acc: 0.93\n",
      "New set of weights found, iteration: 721 loss: 0.23898503170046526 acc: 0.9333333333333333\n",
      "New set of weights found, iteration: 724 loss: 0.23828273054908777 acc: 0.93\n",
      "New set of weights found, iteration: 740 loss: 0.2340542947478386 acc: 0.9266666666666666\n",
      "New set of weights found, iteration: 742 loss: 0.23197666939316064 acc: 0.93\n",
      "New set of weights found, iteration: 746 loss: 0.23045387204328938 acc: 0.9266666666666666\n",
      "New set of weights found, iteration: 748 loss: 0.23016811822176314 acc: 0.93\n",
      "New set of weights found, iteration: 757 loss: 0.22971591054506377 acc: 0.9366666666666666\n",
      "New set of weights found, iteration: 759 loss: 0.22857630143551333 acc: 0.9333333333333333\n",
      "New set of weights found, iteration: 760 loss: 0.2272308303976052 acc: 0.93\n",
      "New set of weights found, iteration: 763 loss: 0.2252006272116768 acc: 0.94\n",
      "New set of weights found, iteration: 776 loss: 0.22349754294564708 acc: 0.93\n",
      "New set of weights found, iteration: 778 loss: 0.22278024845534328 acc: 0.9266666666666666\n",
      "New set of weights found, iteration: 785 loss: 0.22278005675466234 acc: 0.9366666666666666\n",
      "New set of weights found, iteration: 786 loss: 0.22160780974977995 acc: 0.93\n",
      "New set of weights found, iteration: 787 loss: 0.2215729920290299 acc: 0.93\n",
      "New set of weights found, iteration: 795 loss: 0.22083010681554474 acc: 0.9266666666666666\n",
      "New set of weights found, iteration: 796 loss: 0.21627981297906013 acc: 0.93\n",
      "New set of weights found, iteration: 797 loss: 0.21515952805081445 acc: 0.9233333333333333\n",
      "New set of weights found, iteration: 801 loss: 0.21209357701122325 acc: 0.9266666666666666\n",
      "New set of weights found, iteration: 803 loss: 0.21118989811295677 acc: 0.9233333333333333\n",
      "New set of weights found, iteration: 834 loss: 0.20966898880747778 acc: 0.93\n",
      "New set of weights found, iteration: 855 loss: 0.20912713534111813 acc: 0.93\n",
      "New set of weights found, iteration: 864 loss: 0.20878516269721498 acc: 0.93\n",
      "New set of weights found, iteration: 867 loss: 0.207815299604997 acc: 0.9233333333333333\n",
      "New set of weights found, iteration: 887 loss: 0.2068410597123892 acc: 0.9266666666666666\n",
      "New set of weights found, iteration: 911 loss: 0.20585088937538565 acc: 0.93\n",
      "New set of weights found, iteration: 917 loss: 0.2055302960583277 acc: 0.9333333333333333\n",
      "New set of weights found, iteration: 919 loss: 0.2050696809657515 acc: 0.9266666666666666\n",
      "New set of weights found, iteration: 928 loss: 0.20417321699070393 acc: 0.9333333333333333\n",
      "New set of weights found, iteration: 929 loss: 0.2036873010440104 acc: 0.93\n",
      "New set of weights found, iteration: 934 loss: 0.20192638369478771 acc: 0.93\n",
      "New set of weights found, iteration: 948 loss: 0.20107404078005187 acc: 0.9333333333333333\n",
      "New set of weights found, iteration: 949 loss: 0.19842618132596793 acc: 0.9266666666666666\n",
      "New set of weights found, iteration: 958 loss: 0.19640268443814993 acc: 0.9266666666666666\n",
      "New set of weights found, iteration: 985 loss: 0.19634227809455937 acc: 0.93\n",
      "New set of weights found, iteration: 993 loss: 0.19591771919438156 acc: 0.93\n",
      "New set of weights found, iteration: 1006 loss: 0.19503581664980676 acc: 0.93\n",
      "New set of weights found, iteration: 1018 loss: 0.19477347341334977 acc: 0.9266666666666666\n",
      "New set of weights found, iteration: 1019 loss: 0.19382553483887535 acc: 0.93\n",
      "New set of weights found, iteration: 1020 loss: 0.19176869562281748 acc: 0.9333333333333333\n",
      "New set of weights found, iteration: 1040 loss: 0.19134615355364792 acc: 0.9333333333333333\n",
      "New set of weights found, iteration: 1043 loss: 0.19113754519102297 acc: 0.9333333333333333\n",
      "New set of weights found, iteration: 1059 loss: 0.18981424372567857 acc: 0.9266666666666666\n",
      "New set of weights found, iteration: 1061 loss: 0.1897449123407739 acc: 0.9366666666666666\n",
      "New set of weights found, iteration: 1063 loss: 0.1889703926446643 acc: 0.9366666666666666\n",
      "New set of weights found, iteration: 1065 loss: 0.18819013136714047 acc: 0.9366666666666666\n",
      "New set of weights found, iteration: 1070 loss: 0.18700422908561856 acc: 0.9266666666666666\n",
      "New set of weights found, iteration: 1081 loss: 0.18650654682148315 acc: 0.93\n",
      "New set of weights found, iteration: 1085 loss: 0.1856725672416974 acc: 0.9333333333333333\n",
      "New set of weights found, iteration: 1122 loss: 0.18521773327159977 acc: 0.93\n",
      "New set of weights found, iteration: 1123 loss: 0.18407739156424568 acc: 0.9333333333333333\n",
      "New set of weights found, iteration: 1131 loss: 0.18289540431926565 acc: 0.93\n",
      "New set of weights found, iteration: 1132 loss: 0.18126235760233522 acc: 0.93\n",
      "New set of weights found, iteration: 1133 loss: 0.18021307306228632 acc: 0.9366666666666666\n",
      "New set of weights found, iteration: 1149 loss: 0.17913441019993537 acc: 0.9333333333333333\n",
      "New set of weights found, iteration: 1150 loss: 0.17842957899251052 acc: 0.93\n",
      "New set of weights found, iteration: 1166 loss: 0.17616818408862878 acc: 0.93\n",
      "New set of weights found, iteration: 1173 loss: 0.17557253865843636 acc: 0.93\n",
      "New set of weights found, iteration: 1174 loss: 0.17399407061814198 acc: 0.9266666666666666\n",
      "New set of weights found, iteration: 1189 loss: 0.17375351043568577 acc: 0.93\n",
      "New set of weights found, iteration: 1209 loss: 0.1727415519284419 acc: 0.9333333333333333\n",
      "New set of weights found, iteration: 1226 loss: 0.17147687678768306 acc: 0.9266666666666666\n",
      "New set of weights found, iteration: 1230 loss: 0.16926369769156083 acc: 0.9366666666666666\n",
      "New set of weights found, iteration: 1250 loss: 0.1686004024378764 acc: 0.9366666666666666\n",
      "New set of weights found, iteration: 1254 loss: 0.16812819376700888 acc: 0.9366666666666666\n",
      "New set of weights found, iteration: 1258 loss: 0.16795311399662846 acc: 0.9366666666666666\n",
      "New set of weights found, iteration: 1264 loss: 0.16711944488095107 acc: 0.9333333333333333\n",
      "New set of weights found, iteration: 1269 loss: 0.16700165863773933 acc: 0.9333333333333333\n",
      "New set of weights found, iteration: 1275 loss: 0.1656211737988284 acc: 0.9366666666666666\n",
      "New set of weights found, iteration: 1293 loss: 0.1650529512013423 acc: 0.9366666666666666\n",
      "New set of weights found, iteration: 1295 loss: 0.16499011215119763 acc: 0.93\n",
      "New set of weights found, iteration: 1305 loss: 0.16429332606427272 acc: 0.9366666666666666\n",
      "New set of weights found, iteration: 1325 loss: 0.1635272616587765 acc: 0.94\n",
      "New set of weights found, iteration: 1336 loss: 0.1630502376468281 acc: 0.94\n",
      "New set of weights found, iteration: 1353 loss: 0.16288708358289755 acc: 0.9333333333333333\n",
      "New set of weights found, iteration: 1356 loss: 0.162396166679024 acc: 0.9333333333333333\n",
      "New set of weights found, iteration: 1374 loss: 0.16206920313749065 acc: 0.9366666666666666\n",
      "New set of weights found, iteration: 1379 loss: 0.16103490296482426 acc: 0.9266666666666666\n",
      "New set of weights found, iteration: 1402 loss: 0.16049540445151847 acc: 0.94\n",
      "New set of weights found, iteration: 1411 loss: 0.1601968254534885 acc: 0.9366666666666666\n",
      "New set of weights found, iteration: 1425 loss: 0.15918484388663948 acc: 0.9333333333333333\n",
      "New set of weights found, iteration: 1429 loss: 0.15908750047694842 acc: 0.9366666666666666\n",
      "New set of weights found, iteration: 1454 loss: 0.15887826394822954 acc: 0.9366666666666666\n",
      "New set of weights found, iteration: 1455 loss: 0.15875151741988616 acc: 0.94\n",
      "New set of weights found, iteration: 1488 loss: 0.15822724119411313 acc: 0.93\n",
      "New set of weights found, iteration: 1490 loss: 0.15770162818665218 acc: 0.9266666666666666\n",
      "New set of weights found, iteration: 1496 loss: 0.1568969010379033 acc: 0.9333333333333333\n",
      "New set of weights found, iteration: 1498 loss: 0.1556946348230828 acc: 0.9333333333333333\n",
      "New set of weights found, iteration: 1501 loss: 0.15546882661285774 acc: 0.9333333333333333\n",
      "New set of weights found, iteration: 1508 loss: 0.1553734428166098 acc: 0.9333333333333333\n",
      "New set of weights found, iteration: 1517 loss: 0.15527605705093356 acc: 0.93\n",
      "New set of weights found, iteration: 1541 loss: 0.154962075685998 acc: 0.9366666666666666\n",
      "New set of weights found, iteration: 1559 loss: 0.15472092655758046 acc: 0.94\n",
      "New set of weights found, iteration: 1647 loss: 0.15375112519774398 acc: 0.9366666666666666\n",
      "New set of weights found, iteration: 1657 loss: 0.15368383762617 acc: 0.9333333333333333\n",
      "New set of weights found, iteration: 1660 loss: 0.15320808718508092 acc: 0.9366666666666666\n",
      "New set of weights found, iteration: 1664 loss: 0.15240157650408026 acc: 0.9366666666666666\n",
      "New set of weights found, iteration: 1682 loss: 0.15209581576669076 acc: 0.9366666666666666\n",
      "New set of weights found, iteration: 1691 loss: 0.15166991322000345 acc: 0.9366666666666666\n",
      "New set of weights found, iteration: 1798 loss: 0.15123756309045197 acc: 0.9333333333333333\n",
      "New set of weights found, iteration: 1868 loss: 0.15070087673333085 acc: 0.9333333333333333\n",
      "New set of weights found, iteration: 1869 loss: 0.15054770535942447 acc: 0.9333333333333333\n",
      "New set of weights found, iteration: 1883 loss: 0.15046407517193766 acc: 0.9333333333333333\n",
      "New set of weights found, iteration: 1893 loss: 0.1498888349047893 acc: 0.9266666666666666\n",
      "New set of weights found, iteration: 1894 loss: 0.14964807483494932 acc: 0.9333333333333333\n",
      "New set of weights found, iteration: 1908 loss: 0.14884856518771153 acc: 0.9333333333333333\n",
      "New set of weights found, iteration: 1915 loss: 0.1484582733515907 acc: 0.93\n",
      "New set of weights found, iteration: 1925 loss: 0.1474874162900311 acc: 0.9366666666666666\n",
      "New set of weights found, iteration: 1947 loss: 0.1474472575984685 acc: 0.9333333333333333\n",
      "New set of weights found, iteration: 1951 loss: 0.14641404995581528 acc: 0.9333333333333333\n",
      "New set of weights found, iteration: 1963 loss: 0.14613591124698902 acc: 0.9333333333333333\n",
      "New set of weights found, iteration: 1979 loss: 0.14593543784265342 acc: 0.9366666666666666\n",
      "New set of weights found, iteration: 2033 loss: 0.1453650286672648 acc: 0.94\n",
      "New set of weights found, iteration: 2036 loss: 0.1453159016507493 acc: 0.94\n",
      "New set of weights found, iteration: 2066 loss: 0.14452332220862807 acc: 0.94\n",
      "New set of weights found, iteration: 2072 loss: 0.1444730568336945 acc: 0.94\n",
      "New set of weights found, iteration: 2073 loss: 0.1444257014513215 acc: 0.9366666666666666\n",
      "New set of weights found, iteration: 2082 loss: 0.1442369590545317 acc: 0.9333333333333333\n",
      "New set of weights found, iteration: 2121 loss: 0.14415376192070362 acc: 0.9366666666666666\n",
      "New set of weights found, iteration: 2130 loss: 0.14406641989588875 acc: 0.9366666666666666\n",
      "New set of weights found, iteration: 2143 loss: 0.14354191401324048 acc: 0.9366666666666666\n",
      "New set of weights found, iteration: 2148 loss: 0.14297082943795425 acc: 0.9333333333333333\n",
      "New set of weights found, iteration: 2204 loss: 0.14292419116927593 acc: 0.9366666666666666\n",
      "New set of weights found, iteration: 2224 loss: 0.14287877170420224 acc: 0.9333333333333333\n",
      "New set of weights found, iteration: 2228 loss: 0.14266806066523055 acc: 0.9366666666666666\n",
      "New set of weights found, iteration: 2247 loss: 0.1417345908659489 acc: 0.9333333333333333\n",
      "New set of weights found, iteration: 2257 loss: 0.14172357538788907 acc: 0.9333333333333333\n",
      "New set of weights found, iteration: 2261 loss: 0.14150648271991226 acc: 0.9366666666666666\n",
      "New set of weights found, iteration: 2329 loss: 0.14140918904294317 acc: 0.9333333333333333\n",
      "New set of weights found, iteration: 2334 loss: 0.1411115945989551 acc: 0.9366666666666666\n",
      "New set of weights found, iteration: 2335 loss: 0.14078447886615972 acc: 0.9333333333333333\n",
      "New set of weights found, iteration: 2349 loss: 0.14027390107781626 acc: 0.9333333333333333\n",
      "New set of weights found, iteration: 2360 loss: 0.14006315315556714 acc: 0.9333333333333333\n",
      "New set of weights found, iteration: 2409 loss: 0.139783058272824 acc: 0.9333333333333333\n",
      "New set of weights found, iteration: 2567 loss: 0.13930653694755885 acc: 0.9333333333333333\n",
      "New set of weights found, iteration: 2615 loss: 0.13912523116976663 acc: 0.9333333333333333\n",
      "New set of weights found, iteration: 2617 loss: 0.13885961089556245 acc: 0.9333333333333333\n",
      "New set of weights found, iteration: 2635 loss: 0.1387686970188802 acc: 0.9333333333333333\n",
      "New set of weights found, iteration: 2664 loss: 0.13866849810746018 acc: 0.9333333333333333\n",
      "New set of weights found, iteration: 2723 loss: 0.13855507191571795 acc: 0.9333333333333333\n",
      "New set of weights found, iteration: 2725 loss: 0.13847922226987935 acc: 0.9333333333333333\n",
      "New set of weights found, iteration: 2769 loss: 0.13822179975390103 acc: 0.9333333333333333\n",
      "New set of weights found, iteration: 2792 loss: 0.13815139746401778 acc: 0.9333333333333333\n",
      "New set of weights found, iteration: 3069 loss: 0.13812301362402327 acc: 0.9333333333333333\n",
      "New set of weights found, iteration: 3103 loss: 0.13775712504074156 acc: 0.9333333333333333\n",
      "New set of weights found, iteration: 3196 loss: 0.1376033031809938 acc: 0.9333333333333333\n",
      "New set of weights found, iteration: 3199 loss: 0.13716361993836032 acc: 0.9333333333333333\n",
      "New set of weights found, iteration: 4011 loss: 0.13708323091504773 acc: 0.9333333333333333\n",
      "New set of weights found, iteration: 4037 loss: 0.13702045002178342 acc: 0.9333333333333333\n",
      "New set of weights found, iteration: 4041 loss: 0.13693328595416404 acc: 0.9333333333333333\n",
      "New set of weights found, iteration: 4042 loss: 0.1367438251067441 acc: 0.93\n",
      "New set of weights found, iteration: 4166 loss: 0.13666847834324428 acc: 0.9333333333333333\n",
      "New set of weights found, iteration: 4284 loss: 0.13664119213225726 acc: 0.9333333333333333\n",
      "New set of weights found, iteration: 4289 loss: 0.13662004485405668 acc: 0.9333333333333333\n",
      "New set of weights found, iteration: 4295 loss: 0.13661052720483985 acc: 0.9366666666666666\n",
      "New set of weights found, iteration: 4305 loss: 0.13638365230125898 acc: 0.9333333333333333\n",
      "New set of weights found, iteration: 4368 loss: 0.13637284666298313 acc: 0.9333333333333333\n",
      "New set of weights found, iteration: 4535 loss: 0.1363655101283202 acc: 0.93\n",
      "New set of weights found, iteration: 4749 loss: 0.1363279157463819 acc: 0.9333333333333333\n",
      "New set of weights found, iteration: 4863 loss: 0.13624899919844027 acc: 0.9333333333333333\n",
      "New set of weights found, iteration: 4885 loss: 0.13600402881999685 acc: 0.9333333333333333\n",
      "New set of weights found, iteration: 5008 loss: 0.13585406444083584 acc: 0.9333333333333333\n",
      "New set of weights found, iteration: 5032 loss: 0.13580900002658958 acc: 0.9333333333333333\n",
      "New set of weights found, iteration: 5048 loss: 0.13569482543076614 acc: 0.9333333333333333\n",
      "New set of weights found, iteration: 5059 loss: 0.13566792976579464 acc: 0.9333333333333333\n",
      "New set of weights found, iteration: 5098 loss: 0.13554365581585662 acc: 0.9333333333333333\n",
      "New set of weights found, iteration: 5218 loss: 0.1352811112719529 acc: 0.9333333333333333\n",
      "New set of weights found, iteration: 5309 loss: 0.13506490418121278 acc: 0.9333333333333333\n",
      "New set of weights found, iteration: 5959 loss: 0.13487232663935014 acc: 0.9333333333333333\n",
      "New set of weights found, iteration: 6050 loss: 0.1348089140518357 acc: 0.9333333333333333\n",
      "New set of weights found, iteration: 6093 loss: 0.13469102021264695 acc: 0.9333333333333333\n",
      "New set of weights found, iteration: 6195 loss: 0.1346910084288897 acc: 0.9333333333333333\n",
      "New set of weights found, iteration: 6297 loss: 0.13458922607249413 acc: 0.9333333333333333\n",
      "New set of weights found, iteration: 6614 loss: 0.13458029832277119 acc: 0.9333333333333333\n",
      "New set of weights found, iteration: 7085 loss: 0.13450622457376 acc: 0.9333333333333333\n",
      "New set of weights found, iteration: 7600 loss: 0.1344385846814816 acc: 0.9333333333333333\n",
      "New set of weights found, iteration: 7696 loss: 0.13442850341548612 acc: 0.9333333333333333\n",
      "New set of weights found, iteration: 7775 loss: 0.13427465276642758 acc: 0.9333333333333333\n",
      "New set of weights found, iteration: 7859 loss: 0.134180158674474 acc: 0.9333333333333333\n",
      "New set of weights found, iteration: 8090 loss: 0.13406840853526317 acc: 0.9333333333333333\n",
      "New set of weights found, iteration: 8212 loss: 0.1340317174846229 acc: 0.9333333333333333\n",
      "New set of weights found, iteration: 8540 loss: 0.13399481570244046 acc: 0.9333333333333333\n",
      "New set of weights found, iteration: 8582 loss: 0.13384718628811118 acc: 0.9333333333333333\n",
      "New set of weights found, iteration: 8895 loss: 0.13381870936714554 acc: 0.9333333333333333\n",
      "New set of weights found, iteration: 8959 loss: 0.13371657349818847 acc: 0.9333333333333333\n",
      "New set of weights found, iteration: 8994 loss: 0.13349918836123484 acc: 0.9333333333333333\n",
      "New set of weights found, iteration: 9994 loss: 0.1334420839057846 acc: 0.9333333333333333\n"
     ]
    }
   ],
   "source": [
    "# Create dataset\n",
    "X, y = vertical.create_data(samples=100, classes=3)\n",
    "\n",
    "# Create model\n",
    "dense1 = Layer_Dense(2, 3)  # first dense layer, 2 inputs\n",
    "activation1 = Activation_ReLU()\n",
    "dense2 = Layer_Dense(3, 3)  # second dense layer, 3 inputs, 3 outputs\n",
    "activation2 = Activation_Softmax()\n",
    "\n",
    "# Create loss function\n",
    "loss_function = Loss_CategoricalCrossentropy()\n",
    "\n",
    "# Helper variables\n",
    "lowest_loss = 9999999  # some initial value\n",
    "best_dense1_weights = dense1.weights.copy()\n",
    "best_dense1_biases = dense1.biases.copy()\n",
    "best_dense2_weights = dense2.weights.copy()\n",
    "best_dense2_biases = dense2.biases.copy()\n",
    "\n",
    "for iteration in range(10000):\n",
    "\n",
    "    # Update weights with some small random values\n",
    "    dense1.weights += 0.05 * np.random.randn(2, 3)\n",
    "    dense1.biases += 0.05 * np.random.randn(1, 3)\n",
    "    dense2.weights += 0.05 * np.random.randn(3, 3)\n",
    "    dense2.biases += 0.05 * np.random.randn(1, 3)\n",
    "\n",
    "    # Perform a forward pass of our training data through this layer\n",
    "    dense1.forward(X)\n",
    "    activation1.forward(dense1.output)\n",
    "    dense2.forward(activation1.output)\n",
    "    activation2.forward(dense2.output)\n",
    "\n",
    "    # Perform a forward pass through activation function\n",
    "    # it takes the output of second dense layer here and returns loss\n",
    "    loss = loss_function.calculate(activation2.output, y)\n",
    "\n",
    "\n",
    "    # Calculate accuracy from output of activation2 and targets\n",
    "    # calculate values along first axis\n",
    "    predictions = np.argmax(activation2.output, axis=1)\n",
    "    accuracy = np.mean(predictions==y)\n",
    "\n",
    "    # If loss is smaller - print and save weights and biases aside\n",
    "    if loss < lowest_loss:\n",
    "        print('New set of weights found, iteration:', iteration,\n",
    "              'loss:', loss, 'acc:', accuracy)\n",
    "        best_dense1_weights = dense1.weights.copy()\n",
    "        best_dense1_biases = dense1.biases.copy()\n",
    "        best_dense2_weights = dense2.weights.copy()\n",
    "        best_dense2_biases = dense2.biases.copy()\n",
    "        lowest_loss = loss\n",
    "    # Revert weights and biases\n",
    "    else:\n",
    "        dense1.weights = best_dense1_weights.copy()\n",
    "        dense1.biases = best_dense1_biases.copy()\n",
    "        dense2.weights = best_dense2_weights.copy()\n",
    "        dense2.biases = best_dense2_biases.copy()"
   ]
  },
  {
   "cell_type": "markdown",
   "metadata": {},
   "source": [
    "Let’s try this with the previously-seen spiral dataset instead:"
   ]
  },
  {
   "cell_type": "code",
   "execution_count": 117,
   "metadata": {},
   "outputs": [
    {
     "name": "stdout",
     "output_type": "stream",
     "text": [
      "New set of weights found, iteration: 0 loss: 1.0996182234739906 acc: 0.33666666666666667\n",
      "New set of weights found, iteration: 1 loss: 1.0983275009842 acc: 0.3333333333333333\n",
      "New set of weights found, iteration: 25 loss: 1.0980159074218063 acc: 0.38\n",
      "New set of weights found, iteration: 26 loss: 1.097856414029801 acc: 0.3466666666666667\n",
      "New set of weights found, iteration: 30 loss: 1.0977590850938164 acc: 0.3333333333333333\n",
      "New set of weights found, iteration: 40 loss: 1.0974155415101572 acc: 0.37\n",
      "New set of weights found, iteration: 43 loss: 1.0974011648222388 acc: 0.33666666666666667\n",
      "New set of weights found, iteration: 57 loss: 1.0968632170809614 acc: 0.38666666666666666\n",
      "New set of weights found, iteration: 59 loss: 1.0965449331029533 acc: 0.36\n",
      "New set of weights found, iteration: 60 loss: 1.0960820554050599 acc: 0.36\n",
      "New set of weights found, iteration: 63 loss: 1.0934499859182483 acc: 0.39\n",
      "New set of weights found, iteration: 68 loss: 1.0932691858053964 acc: 0.38333333333333336\n",
      "New set of weights found, iteration: 70 loss: 1.0926269517751324 acc: 0.3566666666666667\n",
      "New set of weights found, iteration: 72 loss: 1.0920683936459374 acc: 0.36666666666666664\n",
      "New set of weights found, iteration: 73 loss: 1.0914471077297805 acc: 0.36333333333333334\n",
      "New set of weights found, iteration: 78 loss: 1.0913909292004171 acc: 0.4266666666666667\n",
      "New set of weights found, iteration: 81 loss: 1.0908874484053315 acc: 0.37\n",
      "New set of weights found, iteration: 83 loss: 1.090684572387725 acc: 0.36333333333333334\n",
      "New set of weights found, iteration: 84 loss: 1.0878742683998472 acc: 0.34\n",
      "New set of weights found, iteration: 87 loss: 1.0872371514702743 acc: 0.38666666666666666\n",
      "New set of weights found, iteration: 89 loss: 1.0870120740980478 acc: 0.38666666666666666\n",
      "New set of weights found, iteration: 99 loss: 1.0861905202083175 acc: 0.3933333333333333\n",
      "New set of weights found, iteration: 100 loss: 1.0850746513208442 acc: 0.3333333333333333\n",
      "New set of weights found, iteration: 102 loss: 1.0848932465883694 acc: 0.35333333333333333\n",
      "New set of weights found, iteration: 105 loss: 1.0839965472126862 acc: 0.42\n",
      "New set of weights found, iteration: 106 loss: 1.0837637698522782 acc: 0.41333333333333333\n",
      "New set of weights found, iteration: 116 loss: 1.0825346296537313 acc: 0.39666666666666667\n",
      "New set of weights found, iteration: 117 loss: 1.0813609011533034 acc: 0.4166666666666667\n",
      "New set of weights found, iteration: 120 loss: 1.0802399058970995 acc: 0.43666666666666665\n",
      "New set of weights found, iteration: 134 loss: 1.0801800877162804 acc: 0.42\n",
      "New set of weights found, iteration: 137 loss: 1.0794102588989534 acc: 0.43\n",
      "New set of weights found, iteration: 138 loss: 1.0789131552309694 acc: 0.4166666666666667\n",
      "New set of weights found, iteration: 140 loss: 1.0780122484021633 acc: 0.3566666666666667\n",
      "New set of weights found, iteration: 145 loss: 1.0779775452100655 acc: 0.35\n",
      "New set of weights found, iteration: 146 loss: 1.0768232575583851 acc: 0.39666666666666667\n",
      "New set of weights found, iteration: 151 loss: 1.0753512236947613 acc: 0.37666666666666665\n",
      "New set of weights found, iteration: 155 loss: 1.075199992235136 acc: 0.42\n",
      "New set of weights found, iteration: 158 loss: 1.074859431781906 acc: 0.4166666666666667\n",
      "New set of weights found, iteration: 160 loss: 1.0744662925162671 acc: 0.42333333333333334\n",
      "New set of weights found, iteration: 161 loss: 1.0741538090368066 acc: 0.41333333333333333\n",
      "New set of weights found, iteration: 170 loss: 1.072737871690179 acc: 0.4166666666666667\n",
      "New set of weights found, iteration: 172 loss: 1.0702198497978266 acc: 0.4166666666666667\n",
      "New set of weights found, iteration: 173 loss: 1.070061533560976 acc: 0.42333333333333334\n",
      "New set of weights found, iteration: 185 loss: 1.0700463622597192 acc: 0.4\n",
      "New set of weights found, iteration: 188 loss: 1.0694625593725535 acc: 0.39\n",
      "New set of weights found, iteration: 189 loss: 1.0671761241103814 acc: 0.44\n",
      "New set of weights found, iteration: 258 loss: 1.066999943326273 acc: 0.41333333333333333\n",
      "New set of weights found, iteration: 259 loss: 1.0664675141418651 acc: 0.42333333333333334\n",
      "New set of weights found, iteration: 274 loss: 1.066234540273748 acc: 0.4266666666666667\n",
      "New set of weights found, iteration: 279 loss: 1.066114462760691 acc: 0.43\n",
      "New set of weights found, iteration: 284 loss: 1.0646248403509784 acc: 0.4166666666666667\n",
      "New set of weights found, iteration: 302 loss: 1.0644033985591732 acc: 0.4033333333333333\n",
      "New set of weights found, iteration: 306 loss: 1.0643406758433491 acc: 0.42\n",
      "New set of weights found, iteration: 307 loss: 1.0638862593288305 acc: 0.42\n",
      "New set of weights found, iteration: 314 loss: 1.0629023010647252 acc: 0.4166666666666667\n",
      "New set of weights found, iteration: 326 loss: 1.062336063573499 acc: 0.4066666666666667\n",
      "New set of weights found, iteration: 374 loss: 1.0621167194648296 acc: 0.4033333333333333\n",
      "New set of weights found, iteration: 467 loss: 1.061959092111427 acc: 0.4066666666666667\n",
      "New set of weights found, iteration: 480 loss: 1.061411848550469 acc: 0.41\n",
      "New set of weights found, iteration: 489 loss: 1.0606380725527897 acc: 0.41\n",
      "New set of weights found, iteration: 491 loss: 1.060556276503286 acc: 0.41\n",
      "New set of weights found, iteration: 496 loss: 1.0602643488951087 acc: 0.39666666666666667\n",
      "New set of weights found, iteration: 504 loss: 1.0602260546357418 acc: 0.43\n",
      "New set of weights found, iteration: 534 loss: 1.0592026004536195 acc: 0.4166666666666667\n",
      "New set of weights found, iteration: 592 loss: 1.0584890783597334 acc: 0.42333333333333334\n",
      "New set of weights found, iteration: 708 loss: 1.0584407179549171 acc: 0.42\n",
      "New set of weights found, iteration: 970 loss: 1.0584200356558824 acc: 0.4266666666666667\n",
      "New set of weights found, iteration: 1025 loss: 1.057979008354235 acc: 0.4266666666666667\n",
      "New set of weights found, iteration: 1082 loss: 1.057657555536947 acc: 0.43\n",
      "New set of weights found, iteration: 1099 loss: 1.057532045309519 acc: 0.43666666666666665\n",
      "New set of weights found, iteration: 1120 loss: 1.0575120972463135 acc: 0.43\n",
      "New set of weights found, iteration: 1121 loss: 1.0574772278081817 acc: 0.41333333333333333\n",
      "New set of weights found, iteration: 1156 loss: 1.057470409430673 acc: 0.43\n",
      "New set of weights found, iteration: 1324 loss: 1.057455036743907 acc: 0.42\n",
      "New set of weights found, iteration: 1334 loss: 1.0573426138563593 acc: 0.43333333333333335\n",
      "New set of weights found, iteration: 1422 loss: 1.0571406182130276 acc: 0.42\n",
      "New set of weights found, iteration: 1440 loss: 1.0571215939950123 acc: 0.4266666666666667\n",
      "New set of weights found, iteration: 1887 loss: 1.0570876897289825 acc: 0.43666666666666665\n",
      "New set of weights found, iteration: 1918 loss: 1.0569486468754825 acc: 0.4166666666666667\n",
      "New set of weights found, iteration: 2091 loss: 1.0563752130462531 acc: 0.4266666666666667\n",
      "New set of weights found, iteration: 2442 loss: 1.0561970155732276 acc: 0.4166666666666667\n",
      "New set of weights found, iteration: 2500 loss: 1.0560785973220719 acc: 0.43333333333333335\n",
      "New set of weights found, iteration: 2582 loss: 1.0560226209290924 acc: 0.42\n",
      "New set of weights found, iteration: 2620 loss: 1.0559044121112902 acc: 0.4266666666666667\n",
      "New set of weights found, iteration: 2672 loss: 1.0558531501042505 acc: 0.4266666666666667\n",
      "New set of weights found, iteration: 2896 loss: 1.0558364570733165 acc: 0.41333333333333333\n",
      "New set of weights found, iteration: 2930 loss: 1.055738601715797 acc: 0.41333333333333333\n",
      "New set of weights found, iteration: 2960 loss: 1.0549037406563433 acc: 0.41\n",
      "New set of weights found, iteration: 3606 loss: 1.0548970655651426 acc: 0.4266666666666667\n",
      "New set of weights found, iteration: 3956 loss: 1.0548470856640113 acc: 0.44\n",
      "New set of weights found, iteration: 4075 loss: 1.0547039133525034 acc: 0.42333333333333334\n",
      "New set of weights found, iteration: 4344 loss: 1.0544991710230902 acc: 0.43\n",
      "New set of weights found, iteration: 4549 loss: 1.0544690711937956 acc: 0.43\n",
      "New set of weights found, iteration: 4788 loss: 1.0544133430781817 acc: 0.43333333333333335\n",
      "New set of weights found, iteration: 4814 loss: 1.054248187194675 acc: 0.44666666666666666\n",
      "New set of weights found, iteration: 4921 loss: 1.0541307135113411 acc: 0.43333333333333335\n",
      "New set of weights found, iteration: 5307 loss: 1.0534224985181848 acc: 0.43666666666666665\n",
      "New set of weights found, iteration: 5735 loss: 1.0532835044653837 acc: 0.45\n",
      "New set of weights found, iteration: 6920 loss: 1.0532774319956655 acc: 0.44\n",
      "New set of weights found, iteration: 7080 loss: 1.0532670040235834 acc: 0.42\n",
      "New set of weights found, iteration: 7268 loss: 1.0532553658506678 acc: 0.45\n",
      "New set of weights found, iteration: 7368 loss: 1.0532212386706055 acc: 0.4266666666666667\n",
      "New set of weights found, iteration: 7769 loss: 1.0532039055347848 acc: 0.4533333333333333\n",
      "New set of weights found, iteration: 8123 loss: 1.053160370442604 acc: 0.4266666666666667\n",
      "New set of weights found, iteration: 8208 loss: 1.0527966347240005 acc: 0.43333333333333335\n",
      "New set of weights found, iteration: 9115 loss: 1.0526525770927913 acc: 0.42333333333333334\n"
     ]
    }
   ],
   "source": [
    "# Create dataset\n",
    "X, y = spiral.create_data(samples=100, classes=3)\n",
    "\n",
    "# Create model\n",
    "dense1 = Layer_Dense(2, 3)  # first dense layer, 2 inputs\n",
    "activation1 = Activation_ReLU()\n",
    "dense2 = Layer_Dense(3, 3)  # second dense layer, 3 inputs, 3 outputs\n",
    "activation2 = Activation_Softmax()\n",
    "\n",
    "# Create loss function\n",
    "loss_function = Loss_CategoricalCrossentropy()\n",
    "\n",
    "# Helper variables\n",
    "lowest_loss = 9999999  # some initial value\n",
    "best_dense1_weights = dense1.weights.copy()\n",
    "best_dense1_biases = dense1.biases.copy()\n",
    "best_dense2_weights = dense2.weights.copy()\n",
    "best_dense2_biases = dense2.biases.copy()\n",
    "\n",
    "for iteration in range(10000):\n",
    "\n",
    "    # Update weights with some small random values\n",
    "    dense1.weights += 0.05 * np.random.randn(2, 3)\n",
    "    dense1.biases += 0.05 * np.random.randn(1, 3)\n",
    "    dense2.weights += 0.05 * np.random.randn(3, 3)\n",
    "    dense2.biases += 0.05 * np.random.randn(1, 3)\n",
    "\n",
    "    # Perform a forward pass of our training data through this layer\n",
    "    dense1.forward(X)\n",
    "    activation1.forward(dense1.output)\n",
    "    dense2.forward(activation1.output)\n",
    "    activation2.forward(dense2.output)\n",
    "\n",
    "    # Perform a forward pass through activation function\n",
    "    # it takes the output of second dense layer here and returns loss\n",
    "    loss = loss_function.calculate(activation2.output, y)\n",
    "\n",
    "\n",
    "    # Calculate accuracy from output of activation2 and targets\n",
    "    # calculate values along first axis\n",
    "    predictions = np.argmax(activation2.output, axis=1)\n",
    "    accuracy = np.mean(predictions==y)\n",
    "\n",
    "    # If loss is smaller - print and save weights and biases aside\n",
    "    if loss < lowest_loss:\n",
    "        print('New set of weights found, iteration:', iteration,\n",
    "              'loss:', loss, 'acc:', accuracy)\n",
    "        best_dense1_weights = dense1.weights.copy()\n",
    "        best_dense1_biases = dense1.biases.copy()\n",
    "        best_dense2_weights = dense2.weights.copy()\n",
    "        best_dense2_biases = dense2.biases.copy()\n",
    "        lowest_loss = loss\n",
    "    # Revert weights and biases\n",
    "    else:\n",
    "        dense1.weights = best_dense1_weights.copy()\n",
    "        dense1.biases = best_dense1_biases.copy()\n",
    "        dense2.weights = best_dense2_weights.copy()\n",
    "        dense2.biases = best_dense2_biases.copy()"
   ]
  },
  {
   "cell_type": "markdown",
   "metadata": {},
   "source": [
    "This training session ended with almost no progress. Loss decreased slightly and accuracy is\n",
    "barely above the initial value"
   ]
  },
  {
   "cell_type": "markdown",
   "metadata": {},
   "source": [
    "# Chapter 7"
   ]
  },
  {
   "cell_type": "markdown",
   "metadata": {},
   "source": [
    "## Derivatives"
   ]
  },
  {
   "cell_type": "code",
   "execution_count": null,
   "metadata": {},
   "outputs": [],
   "source": []
  }
 ],
 "metadata": {
  "kernelspec": {
   "display_name": "Python 3 (ipykernel)",
   "language": "python",
   "name": "python3"
  },
  "language_info": {
   "codemirror_mode": {
    "name": "ipython",
    "version": 3
   },
   "file_extension": ".py",
   "mimetype": "text/x-python",
   "name": "python",
   "nbconvert_exporter": "python",
   "pygments_lexer": "ipython3",
   "version": "3.11.9"
  }
 },
 "nbformat": 4,
 "nbformat_minor": 4
}
