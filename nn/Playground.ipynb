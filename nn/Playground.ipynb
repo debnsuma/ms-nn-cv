{
 "cells": [
  {
   "cell_type": "markdown",
   "metadata": {},
   "source": [
    "# Chapter 2"
   ]
  },
  {
   "cell_type": "markdown",
   "metadata": {},
   "source": [
    "## A Single Neuron"
   ]
  },
  {
   "cell_type": "code",
   "execution_count": 1,
   "metadata": {},
   "outputs": [],
   "source": [
    "input = [1,2,3]\n",
    "weights = [0.2, 0.8, -0.5]\n",
    "bias = 2"
   ]
  },
  {
   "cell_type": "code",
   "execution_count": 2,
   "metadata": {},
   "outputs": [
    {
     "name": "stdout",
     "output_type": "stream",
     "text": [
      "2.3\n"
     ]
    }
   ],
   "source": [
    "output = (input[0] * weights[0] +\n",
    "          input[1] * weights[1] +\n",
    "          input[2] * weights[2] +\n",
    "          bias)\n",
    "\n",
    "print(output)"
   ]
  },
  {
   "cell_type": "code",
   "execution_count": 3,
   "metadata": {},
   "outputs": [
    {
     "name": "stdout",
     "output_type": "stream",
     "text": [
      "4.8\n"
     ]
    }
   ],
   "source": [
    "inputs = [1.0, 2.0, 3.0, 2.5]\n",
    "weights = [0.2, 0.8, -0.5, 1.0]\n",
    "bias = 2.0\n",
    "\n",
    "output = (inputs[0]*weights[0] +\n",
    "          inputs[1]*weights[1] +\n",
    "          inputs[2]*weights[2] +\n",
    "          inputs[3]*weights[3] + \n",
    "          bias)\n",
    "\n",
    "print(output)"
   ]
  },
  {
   "cell_type": "markdown",
   "metadata": {},
   "source": [
    "## A Layer of Neurons"
   ]
  },
  {
   "cell_type": "code",
   "execution_count": 4,
   "metadata": {},
   "outputs": [
    {
     "name": "stdout",
     "output_type": "stream",
     "text": [
      "[4.8, 1.21, 2.385]\n"
     ]
    }
   ],
   "source": [
    "inputs = [1, 2, 3, 2.5]\n",
    "weights1 = [0.2, 0.8, -0.5, 1]\n",
    "weights2 = [0.5, -0.91, 0.26, -0.5]\n",
    "weights3 = [-0.26, -0.27, 0.17, 0.87]\n",
    "\n",
    "bias1 = 2\n",
    "bias2 = 3\n",
    "bias3 = 0.5\n",
    "\n",
    "outputs = [\n",
    "            # Neuron 1:\n",
    "            inputs[0]*weights1[0] +\n",
    "            inputs[1]*weights1[1] +\n",
    "            inputs[2]*weights1[2] +\n",
    "            inputs[3]*weights1[3] + bias1,\n",
    "    \n",
    "            # Neuron 2:\n",
    "            inputs[0]*weights2[0] +\n",
    "            inputs[1]*weights2[1] +\n",
    "            inputs[2]*weights2[2] +\n",
    "            inputs[3]*weights2[3] + bias2,\n",
    "    \n",
    "            # Neuron 3:\n",
    "            inputs[0]*weights3[0] +\n",
    "            inputs[1]*weights3[1] +\n",
    "            inputs[2]*weights3[2] +\n",
    "            inputs[3]*weights3[3] + bias3\n",
    "        ]\n",
    "\n",
    "print(outputs)"
   ]
  },
  {
   "cell_type": "code",
   "execution_count": 5,
   "metadata": {},
   "outputs": [
    {
     "name": "stdout",
     "output_type": "stream",
     "text": [
      "[4.8, 1.21, 2.385]\n"
     ]
    }
   ],
   "source": [
    "# My implementation \n",
    "\n",
    "inputs = [1, 2, 3, 2.5]\n",
    "weights = [\n",
    "           [0.2, 0.8, -0.5, 1],\n",
    "           [0.5, -0.91, 0.26, -0.5],\n",
    "           [-0.26, -0.27, 0.17, 0.87]\n",
    "          ]\n",
    "\n",
    "biases = [2, 3, 0.5]\n",
    "\n",
    "output = []\n",
    "for neuron_weights, neuron_biases in zip(weights, biases):\n",
    "    neuron_output = 0\n",
    "    for i in range(len(neuron_weights)):\n",
    "        neuron_output += inputs[i] * neuron_weights[i]\n",
    "    output.append(neuron_output + neuron_biases)\n",
    "\n",
    "print(output)"
   ]
  },
  {
   "cell_type": "code",
   "execution_count": 6,
   "metadata": {},
   "outputs": [
    {
     "name": "stdout",
     "output_type": "stream",
     "text": [
      "[4.8, 1.21, 2.385]\n"
     ]
    }
   ],
   "source": [
    "print(output)"
   ]
  },
  {
   "cell_type": "code",
   "execution_count": 7,
   "metadata": {},
   "outputs": [
    {
     "name": "stdout",
     "output_type": "stream",
     "text": [
      "[4.8, 1.21, 2.385]\n"
     ]
    }
   ],
   "source": [
    "inputs = [1, 2, 3, 2.5]\n",
    "weights = [[0.2, 0.8, -0.5, 1],\n",
    "           [0.5, -0.91, 0.26, -0.5],\n",
    "           [-0.26, -0.27, 0.17, 0.87]]\n",
    "biases = [2, 3, 0.5]\n",
    "\n",
    "# Output of current layer\n",
    "layer_outputs = []\n",
    "# For each neuron\n",
    "for neuron_weights, neuron_bias in zip(weights, biases):\n",
    "    # Zeroed output of given neuron\n",
    "    neuron_output = 0\n",
    "    # For each input and weight to the neuron\n",
    "    for n_input, weight in zip(inputs, neuron_weights):\n",
    "        # Multiply this input by associated weight\n",
    "        # and add to the neuron's output variable\n",
    "        neuron_output += n_input*weight\n",
    "    # Add bias\n",
    "    neuron_output += neuron_bias\n",
    "    # Put neuron's result to the layer's output list\n",
    "    layer_outputs.append(neuron_output)\n",
    "    \n",
    "print(layer_outputs)"
   ]
  },
  {
   "cell_type": "markdown",
   "metadata": {},
   "source": [
    "## Tensors, Arrays and Vectors"
   ]
  },
  {
   "cell_type": "code",
   "execution_count": 8,
   "metadata": {},
   "outputs": [],
   "source": [
    "a_tensor = [[[1,5,6,2],\n",
    "             [3,2,1,3]],\n",
    "            [[5,2,1,2],\n",
    "             [6,4,8,4]],\n",
    "            [[2,8,5,3],\n",
    "             [1,1,9,4]]\n",
    "           ]"
   ]
  },
  {
   "cell_type": "code",
   "execution_count": 9,
   "metadata": {},
   "outputs": [
    {
     "data": {
      "text/plain": [
       "(3, 2, 4)"
      ]
     },
     "execution_count": 9,
     "metadata": {},
     "output_type": "execute_result"
    }
   ],
   "source": [
    "import numpy as np\n",
    "\n",
    "np.array(a_tensor).shape"
   ]
  },
  {
   "cell_type": "markdown",
   "metadata": {},
   "source": [
    "## Dot Product and Vector Addition"
   ]
  },
  {
   "cell_type": "markdown",
   "metadata": {},
   "source": [
    "A dot product of two vectors is a sum of products of consecutive vector elements. Both vectors\n",
    "must be of the same size (have an equal number of elements)."
   ]
  },
  {
   "cell_type": "code",
   "execution_count": 10,
   "metadata": {},
   "outputs": [
    {
     "name": "stdout",
     "output_type": "stream",
     "text": [
      "20\n"
     ]
    }
   ],
   "source": [
    "a = [1,2,3]\n",
    "b = [2,3,4]\n",
    "\n",
    "dot_product = (a[0]*b[0] + \n",
    "               a[1]*b[1] + \n",
    "               a[2]*b[2])\n",
    "\n",
    "print(dot_product)"
   ]
  },
  {
   "cell_type": "code",
   "execution_count": 11,
   "metadata": {},
   "outputs": [
    {
     "name": "stdout",
     "output_type": "stream",
     "text": [
      "20\n"
     ]
    }
   ],
   "source": [
    "a = np.array(a)\n",
    "b = np.array(b) \n",
    "\n",
    "dot_product = a @ b\n",
    "print(dot_product)"
   ]
  },
  {
   "cell_type": "code",
   "execution_count": 12,
   "metadata": {},
   "outputs": [
    {
     "name": "stdout",
     "output_type": "stream",
     "text": [
      "20\n"
     ]
    }
   ],
   "source": [
    "dot_product = b @ a\n",
    "print(dot_product)"
   ]
  },
  {
   "cell_type": "code",
   "execution_count": 13,
   "metadata": {},
   "outputs": [
    {
     "name": "stdout",
     "output_type": "stream",
     "text": [
      "20\n"
     ]
    }
   ],
   "source": [
    "dot_product = a.dot(b)\n",
    "print(dot_product)"
   ]
  },
  {
   "cell_type": "code",
   "execution_count": 14,
   "metadata": {},
   "outputs": [
    {
     "name": "stdout",
     "output_type": "stream",
     "text": [
      "20\n"
     ]
    }
   ],
   "source": [
    "dot_product = np.dot(a, b)\n",
    "print(dot_product)"
   ]
  },
  {
   "cell_type": "markdown",
   "metadata": {},
   "source": [
    "## A Single Neuron with NumPy"
   ]
  },
  {
   "cell_type": "code",
   "execution_count": 15,
   "metadata": {},
   "outputs": [
    {
     "name": "stdout",
     "output_type": "stream",
     "text": [
      "4.8\n"
     ]
    }
   ],
   "source": [
    "import numpy as np\n",
    "\n",
    "inputs = [1.0, 2.0, 3.0, 2.5]\n",
    "weights = [0.2, 0.8, -0.5, 1.0]\n",
    "bias = 2.0\n",
    "\n",
    "outputs = np.dot(inputs, weights) + bias\n",
    "\n",
    "print(outputs)"
   ]
  },
  {
   "cell_type": "markdown",
   "metadata": {},
   "source": [
    "## A Layer of Neurons with NumPy"
   ]
  },
  {
   "cell_type": "code",
   "execution_count": 16,
   "metadata": {},
   "outputs": [
    {
     "name": "stdout",
     "output_type": "stream",
     "text": [
      "[4.8   1.21  2.385]\n"
     ]
    }
   ],
   "source": [
    "inputs = [1.0, 2.0, 3.0, 2.5]\n",
    "weights = [ \n",
    "            [0.2, 0.8, -0.5, 1],\n",
    "            [0.5, -0.91, 0.26, -0.5],\n",
    "            [-0.26, -0.27, 0.17, 0.87]\n",
    "          ]\n",
    "biases = [2.0, 3.0, 0.5]\n",
    "\n",
    "layer_outputs = np.dot(weights, inputs) + biases\n",
    "print(layer_outputs)"
   ]
  },
  {
   "cell_type": "markdown",
   "metadata": {},
   "source": [
    "## A Batch of Data and Matrix Product"
   ]
  },
  {
   "cell_type": "code",
   "execution_count": 17,
   "metadata": {},
   "outputs": [
    {
     "data": {
      "text/plain": [
       "[1, 2, 3]"
      ]
     },
     "execution_count": 17,
     "metadata": {},
     "output_type": "execute_result"
    }
   ],
   "source": [
    "a = list(range(1, 4))\n",
    "a"
   ]
  },
  {
   "cell_type": "code",
   "execution_count": 18,
   "metadata": {},
   "outputs": [
    {
     "data": {
      "text/plain": [
       "array([1, 2, 3])"
      ]
     },
     "execution_count": 18,
     "metadata": {},
     "output_type": "execute_result"
    }
   ],
   "source": [
    "np.array(a)"
   ]
  },
  {
   "cell_type": "code",
   "execution_count": 19,
   "metadata": {},
   "outputs": [
    {
     "data": {
      "text/plain": [
       "array([[1, 2, 3]])"
      ]
     },
     "execution_count": 19,
     "metadata": {},
     "output_type": "execute_result"
    }
   ],
   "source": [
    "np.expand_dims(np.array(a), axis=0)"
   ]
  },
  {
   "cell_type": "code",
   "execution_count": 20,
   "metadata": {},
   "outputs": [
    {
     "data": {
      "text/plain": [
       "(1, 3)"
      ]
     },
     "execution_count": 20,
     "metadata": {},
     "output_type": "execute_result"
    }
   ],
   "source": [
    "np.expand_dims(np.array(a), axis=0).shape"
   ]
  },
  {
   "cell_type": "code",
   "execution_count": 21,
   "metadata": {},
   "outputs": [
    {
     "data": {
      "text/plain": [
       "array([[1],\n",
       "       [2],\n",
       "       [3]])"
      ]
     },
     "execution_count": 21,
     "metadata": {},
     "output_type": "execute_result"
    }
   ],
   "source": [
    "np.expand_dims(np.array(a), axis=1)"
   ]
  },
  {
   "cell_type": "code",
   "execution_count": 22,
   "metadata": {},
   "outputs": [
    {
     "data": {
      "text/plain": [
       "(3, 1)"
      ]
     },
     "execution_count": 22,
     "metadata": {},
     "output_type": "execute_result"
    }
   ],
   "source": [
    "np.expand_dims(np.array(a), axis=1).shape"
   ]
  },
  {
   "cell_type": "code",
   "execution_count": 23,
   "metadata": {},
   "outputs": [
    {
     "data": {
      "text/plain": [
       "[2.0, 3.0, 0.5]"
      ]
     },
     "execution_count": 23,
     "metadata": {},
     "output_type": "execute_result"
    }
   ],
   "source": [
    "biases"
   ]
  },
  {
   "cell_type": "code",
   "execution_count": 24,
   "metadata": {},
   "outputs": [
    {
     "data": {
      "text/plain": [
       "array([2. , 3. , 0.5])"
      ]
     },
     "execution_count": 24,
     "metadata": {},
     "output_type": "execute_result"
    }
   ],
   "source": [
    "np.array(biases).T"
   ]
  },
  {
   "cell_type": "code",
   "execution_count": 25,
   "metadata": {},
   "outputs": [
    {
     "data": {
      "text/plain": [
       "(3,)"
      ]
     },
     "execution_count": 25,
     "metadata": {},
     "output_type": "execute_result"
    }
   ],
   "source": [
    "np.array(biases).T.shape"
   ]
  },
  {
   "cell_type": "code",
   "execution_count": 26,
   "metadata": {},
   "outputs": [
    {
     "data": {
      "text/plain": [
       "(3,)"
      ]
     },
     "execution_count": 26,
     "metadata": {},
     "output_type": "execute_result"
    }
   ],
   "source": [
    "np.array(biases).shape"
   ]
  },
  {
   "cell_type": "code",
   "execution_count": 27,
   "metadata": {},
   "outputs": [
    {
     "name": "stdout",
     "output_type": "stream",
     "text": [
      "[[20]]\n"
     ]
    }
   ],
   "source": [
    "import numpy as np\n",
    "a = [1, 2, 3]\n",
    "b = [2, 3, 4]\n",
    "\n",
    "a = np.array([a])\n",
    "b = np.array([b]).T\n",
    "\n",
    "print(np.dot(a, b))"
   ]
  },
  {
   "cell_type": "code",
   "execution_count": 28,
   "metadata": {},
   "outputs": [
    {
     "name": "stdout",
     "output_type": "stream",
     "text": [
      "[[ 4.8    1.21   2.385]\n",
      " [ 8.9   -1.81   0.2  ]\n",
      " [ 1.41   1.051  0.026]]\n"
     ]
    }
   ],
   "source": [
    "import numpy as np\n",
    "inputs = [  \n",
    "            [1.0, 2.0, 3.0, 2.5],\n",
    "            [2.0, 5.0, -1.0, 2.0],\n",
    "            [-1.5, 2.7, 3.3, -0.8]\n",
    "         ]\n",
    "weights = [ \n",
    "            [0.2, 0.8, -0.5, 1.0],\n",
    "            [0.5, -0.91, 0.26, -0.5],\n",
    "            [-0.26, -0.27, 0.17, 0.87]\n",
    "          ]\n",
    "biases = [2.0, 3.0, 0.5]\n",
    "\n",
    "layer_outputs = np.dot(inputs, np.array(weights).T) + biases\n",
    "print(layer_outputs)"
   ]
  },
  {
   "cell_type": "code",
   "execution_count": 29,
   "metadata": {},
   "outputs": [
    {
     "data": {
      "text/plain": [
       "array([[ 4.8  ,  1.21 ,  2.385],\n",
       "       [ 8.9  , -1.81 ,  0.2  ],\n",
       "       [ 1.41 ,  1.051,  0.026]])"
      ]
     },
     "execution_count": 29,
     "metadata": {},
     "output_type": "execute_result"
    }
   ],
   "source": [
    "# Same resule but we will not use this as we have to take transpose 2 times \n",
    "np.dot(weights, np.array(inputs).T).T + biases"
   ]
  },
  {
   "cell_type": "markdown",
   "metadata": {},
   "source": [
    "As you can see, our neural network takes in a group of samples (inputs) and outputs a group of\n",
    "predictions. If you’ve used any of the deep learning libraries, this is why you pass in a list of\n",
    "inputs (even if it’s just one feature set) and are returned a list of predictions, even if there’s only\n",
    "one prediction."
   ]
  },
  {
   "cell_type": "markdown",
   "metadata": {},
   "source": [
    "# Chapter 3"
   ]
  },
  {
   "cell_type": "markdown",
   "metadata": {},
   "source": [
    "### Adding Layers"
   ]
  },
  {
   "cell_type": "code",
   "execution_count": 30,
   "metadata": {},
   "outputs": [
    {
     "name": "stdout",
     "output_type": "stream",
     "text": [
      "[[ 0.5031  -1.04185 -2.03875]\n",
      " [ 0.2434  -2.7332  -5.7633 ]\n",
      " [-0.99314  1.41254 -0.35655]]\n"
     ]
    }
   ],
   "source": [
    "inputs = np.array([  \n",
    "                        [1, 2, 3, 2.5],\n",
    "                        [2., 5., -1., 2],\n",
    "                        [-1.5, 2.7, 3.3, -0.8]\n",
    "                     ])\n",
    "# Layer 1\n",
    "weights1 = np.array([\n",
    "                        [0.2, 0.8, -0.5, 1],\n",
    "                        [0.5, -0.91, 0.26, -0.5],\n",
    "                        [-0.26, -0.27, 0.17, 0.87]\n",
    "                      ])\n",
    "\n",
    "biases1 = np.array([2, 3, 0.5])\n",
    "\n",
    "\n",
    "# Layer 2\n",
    "weights2 = np.array([\n",
    "                        [0.1, -0.14, 0.5],\n",
    "                        [-0.5, 0.12, -0.33],\n",
    "                        [-0.44, 0.73, -0.13]\n",
    "                    ])\n",
    "biases2 = np.array([-1, 2, -0.5])\n",
    "\n",
    "layer1_outputs = np.dot(inputs, weights1.T) + biases1 \n",
    "layer2_outputs = np.dot(layer1_outputs, weights2.T) + biases2\n",
    "\n",
    "print(layer2_outputs)"
   ]
  },
  {
   "cell_type": "markdown",
   "metadata": {},
   "source": [
    "## Training Data"
   ]
  },
  {
   "cell_type": "code",
   "execution_count": 31,
   "metadata": {},
   "outputs": [],
   "source": [
    "from matplotlib import pyplot as plt\n",
    "import spiral"
   ]
  },
  {
   "cell_type": "code",
   "execution_count": 32,
   "metadata": {},
   "outputs": [
    {
     "data": {
      "image/png": "[encoded data removed]",
      "text/plain": [
       "<Figure size 640x480 with 1 Axes>"
      ]
     },
     "metadata": {},
     "output_type": "display_data"
    }
   ],
   "source": [
    "X, y = spiral.create_data(samples=100, classes=3)\n",
    "plt.scatter(X[:, 0], X[:, 1])\n",
    "plt.show()"
   ]
  },
  {
   "cell_type": "code",
   "execution_count": 33,
   "metadata": {},
   "outputs": [
    {
     "data": {
      "image/png": "[encoded data removed]",
      "text/plain": [
       "<Figure size 640x480 with 1 Axes>"
      ]
     },
     "metadata": {},
     "output_type": "display_data"
    }
   ],
   "source": [
    "plt.scatter(X[:, 0], X[:, 1], c=y, cmap='gist_rainbow_r')\n",
    "plt.show()"
   ]
  },
  {
   "cell_type": "markdown",
   "metadata": {},
   "source": [
    "## Dense Layer Class"
   ]
  },
  {
   "cell_type": "code",
   "execution_count": 34,
   "metadata": {},
   "outputs": [],
   "source": [
    "# Dense layer\n",
    "class Layer_Dense:\n",
    "\n",
    "    def __init__(self, n_inputs, n_neurons):\n",
    "        self.weights = 0.01 * np.random.randn(n_inputs, n_neurons) # We dont have to do transponse later \n",
    "        self.biases = np.zeros((1, n_neurons))\n",
    "        \n",
    "\n",
    "    def forward(self, inputs):\n",
    "        self.output = np.dot(inputs, self.weights) + self.biases\n",
    "        "
   ]
  },
  {
   "cell_type": "code",
   "execution_count": 35,
   "metadata": {},
   "outputs": [
    {
     "name": "stdout",
     "output_type": "stream",
     "text": [
      "[[ 0.00000000e+00  0.00000000e+00  0.00000000e+00]\n",
      " [ 1.63674381e-04  6.51769415e-06 -3.50236175e-05]\n",
      " [ 3.06240682e-04 -3.76271212e-05 -5.65196495e-05]\n",
      " [ 4.94982140e-04  9.72666024e-05 -1.19944774e-04]\n",
      " [ 6.20791591e-04 -6.06900854e-05 -1.17391775e-04]]\n"
     ]
    }
   ],
   "source": [
    "# Create dataset\n",
    "X, y = spiral.create_data(samples=100, classes=3)\n",
    "\n",
    "# Create Dense layer with 2 input features and 3 output values\n",
    "dense1 = Layer_Dense(2, 3)\n",
    "\n",
    "# Perform a forward pass of our training data through this layer\n",
    "dense1.forward(X)\n",
    "\n",
    "# Let's see output of the first few samples:\n",
    "print(dense1.output[:5])"
   ]
  },
  {
   "cell_type": "markdown",
   "metadata": {},
   "source": [
    "# Chapter 4"
   ]
  },
  {
   "cell_type": "markdown",
   "metadata": {},
   "source": [
    "### ReLU Activation Function Code"
   ]
  },
  {
   "cell_type": "code",
   "execution_count": 36,
   "metadata": {},
   "outputs": [
    {
     "name": "stdout",
     "output_type": "stream",
     "text": [
      "[0, 2, 0, 3.3, 0, 1.1, 2.2, 0]\n"
     ]
    }
   ],
   "source": [
    "inputs = [0, 2, -1, 3.3, -2.7, 1.1, 2.2, -100]\n",
    "\n",
    "def myReLU(i):\n",
    "    return i if i > 0 else 0\n",
    "\n",
    "output = list(map(myReLU, inputs))\n",
    "print(output)"
   ]
  },
  {
   "cell_type": "code",
   "execution_count": 37,
   "metadata": {},
   "outputs": [
    {
     "name": "stdout",
     "output_type": "stream",
     "text": [
      "[0.  2.  0.  3.3 0.  1.1 2.2 0. ]\n"
     ]
    }
   ],
   "source": [
    "import numpy as np\n",
    "\n",
    "inputs = [0, 2, -1, 3.3, -2.7, 1.1, 2.2, -100]\n",
    "\n",
    "def myReLU2(inputs):\n",
    "    return np.maximum(0, inputs)\n",
    "\n",
    "output = myReLU2(inputs)\n",
    "print(output)"
   ]
  },
  {
   "cell_type": "code",
   "execution_count": 38,
   "metadata": {},
   "outputs": [],
   "source": [
    "class Activation_ReLU:\n",
    "    def forward(self, inputs):\n",
    "        self.output = np.maximum(0, inputs) "
   ]
  },
  {
   "cell_type": "code",
   "execution_count": 39,
   "metadata": {},
   "outputs": [
    {
     "name": "stdout",
     "output_type": "stream",
     "text": [
      "[[0.00000000e+00 0.00000000e+00 0.00000000e+00]\n",
      " [4.62902108e-06 0.00000000e+00 1.06740473e-04]\n",
      " [7.21092346e-06 0.00000000e+00 3.18007245e-05]\n",
      " [1.38986764e-05 0.00000000e+00 2.98282645e-04]\n",
      " [7.62489926e-06 3.60148268e-04 5.36095277e-04]]\n"
     ]
    }
   ],
   "source": [
    "# Create dataset\n",
    "X, y = spiral.create_data(samples=100, classes=3)\n",
    "\n",
    "# Create Dense layer with 2 input features and 3 output values\n",
    "dense1 = Layer_Dense(2, 3)\n",
    "\n",
    "# Create ReLU activation (to be used with Dense layer):\n",
    "activation1 = Activation_ReLU()\n",
    "# Make a forward pass of our training data through this layer\n",
    "dense1.forward(X)\n",
    "\n",
    "# Forward pass through activation func.\n",
    "# Takes in output from previous layer\n",
    "activation1.forward(dense1.output)\n",
    "\n",
    "# Let's see output of the first few samples:\n",
    "print(activation1.output[:5])"
   ]
  },
  {
   "cell_type": "code",
   "execution_count": 40,
   "metadata": {},
   "outputs": [
    {
     "data": {
      "text/plain": [
       "array([[ 0.00000000e+00,  0.00000000e+00,  0.00000000e+00],\n",
       "       [ 4.62902108e-06, -1.03105177e-04,  1.06740473e-04],\n",
       "       [ 7.21092346e-06, -3.58435283e-04,  3.18007245e-05],\n",
       "       [ 1.38986764e-05, -3.42241349e-04,  2.98282645e-04],\n",
       "       [ 7.62489926e-06,  3.60148268e-04,  5.36095277e-04]])"
      ]
     },
     "execution_count": 40,
     "metadata": {},
     "output_type": "execute_result"
    }
   ],
   "source": [
    "dense1.output[:5]"
   ]
  },
  {
   "cell_type": "code",
   "execution_count": 41,
   "metadata": {},
   "outputs": [
    {
     "data": {
      "text/plain": [
       "array([[False, False, False],\n",
       "       [ True, False,  True],\n",
       "       [ True, False,  True],\n",
       "       [ True, False,  True],\n",
       "       [ True,  True,  True]])"
      ]
     },
     "execution_count": 41,
     "metadata": {},
     "output_type": "execute_result"
    }
   ],
   "source": [
    "dense1.output[:5] > 0"
   ]
  },
  {
   "cell_type": "markdown",
   "metadata": {},
   "source": [
    "### The Softmax Activation Function"
   ]
  },
  {
   "cell_type": "code",
   "execution_count": 42,
   "metadata": {},
   "outputs": [
    {
     "name": "stdout",
     "output_type": "stream",
     "text": [
      "exponentiated values:\n",
      "[121.51041751893969, 3.3534846525504487, 10.85906266492961]\n"
     ]
    }
   ],
   "source": [
    "# Values from the previous output when we described\n",
    "# what a neural network is\n",
    "layer_outputs = [4.8, 1.21, 2.385]\n",
    "\n",
    "# e - mathematical constant, we use E here to match a common coding\n",
    "# style where constants are uppercased\n",
    "E = 2.71828182846 # you can also use math.e\n",
    "\n",
    "# For each value in a vector, calculate the exponential value\n",
    "exp_values = []\n",
    "for output in layer_outputs:\n",
    "    exp_values.append(E ** output) # ** - power operator in Python\n",
    "\n",
    "print('exponentiated values:')\n",
    "print(exp_values)"
   ]
  },
  {
   "cell_type": "code",
   "execution_count": 43,
   "metadata": {},
   "outputs": [
    {
     "name": "stdout",
     "output_type": "stream",
     "text": [
      "[0.8952826639573506, 0.024708306782070668, 0.08000902926057876]\n"
     ]
    }
   ],
   "source": [
    "output = []\n",
    "exp_sum = sum(exp_values) \n",
    "for i in exp_values:\n",
    "    output.append(i/exp_sum)\n",
    "\n",
    "print(output)"
   ]
  },
  {
   "cell_type": "code",
   "execution_count": 44,
   "metadata": {},
   "outputs": [
    {
     "data": {
      "text/plain": [
       "1.0"
      ]
     },
     "execution_count": 44,
     "metadata": {},
     "output_type": "execute_result"
    }
   ],
   "source": [
    "sum(output)"
   ]
  },
  {
   "cell_type": "code",
   "execution_count": 45,
   "metadata": {},
   "outputs": [],
   "source": [
    "layer_outputs = [4.8, 1.21, 2.385]\n",
    "\n",
    "def mySoftMax(inputs):\n",
    "    return np.exp(inputs)/np.sum(np.exp(inputs))"
   ]
  },
  {
   "cell_type": "code",
   "execution_count": 46,
   "metadata": {},
   "outputs": [
    {
     "name": "stdout",
     "output_type": "stream",
     "text": [
      "[0.89528266 0.02470831 0.08000903]\n"
     ]
    }
   ],
   "source": [
    "output = mySoftMax(layer_outputs)\n",
    "print(output)"
   ]
  },
  {
   "cell_type": "code",
   "execution_count": 47,
   "metadata": {},
   "outputs": [
    {
     "data": {
      "text/plain": [
       "0.9999999999999999"
      ]
     },
     "execution_count": 47,
     "metadata": {},
     "output_type": "execute_result"
    }
   ],
   "source": [
    "np.sum(output)"
   ]
  },
  {
   "cell_type": "code",
   "execution_count": 48,
   "metadata": {},
   "outputs": [
    {
     "name": "stdout",
     "output_type": "stream",
     "text": [
      "[[1.62510862e-02 4.48502847e-04 1.45231633e-03]\n",
      " [9.80595215e-01 2.18874853e-05 1.63353249e-04]\n",
      " [5.47802614e-04 3.82571295e-04 1.37265228e-04]]\n"
     ]
    }
   ],
   "source": [
    "layer_outputs = np.array([[4.8, 1.21, 2.385],\n",
    "                            [8.9, -1.81, 0.2],\n",
    "                            [1.41, 1.051, 0.026]])\n",
    "\n",
    "output = mySoftMax(layer_outputs)\n",
    "print(output)"
   ]
  },
  {
   "cell_type": "code",
   "execution_count": 49,
   "metadata": {},
   "outputs": [
    {
     "data": {
      "text/plain": [
       "18.172"
      ]
     },
     "execution_count": 49,
     "metadata": {},
     "output_type": "execute_result"
    }
   ],
   "source": [
    "np.sum(layer_outputs, axis=None)"
   ]
  },
  {
   "cell_type": "code",
   "execution_count": 50,
   "metadata": {},
   "outputs": [
    {
     "data": {
      "text/plain": [
       "18.172"
      ]
     },
     "execution_count": 50,
     "metadata": {},
     "output_type": "execute_result"
    }
   ],
   "source": [
    "np.sum(layer_outputs)"
   ]
  },
  {
   "cell_type": "code",
   "execution_count": 51,
   "metadata": {},
   "outputs": [
    {
     "data": {
      "text/plain": [
       "array([8.395, 7.29 , 2.487])"
      ]
     },
     "execution_count": 51,
     "metadata": {},
     "output_type": "execute_result"
    }
   ],
   "source": [
    "np.sum(layer_outputs, axis=1)"
   ]
  },
  {
   "cell_type": "code",
   "execution_count": 52,
   "metadata": {},
   "outputs": [
    {
     "name": "stdout",
     "output_type": "stream",
     "text": [
      "[[8.395]\n",
      " [7.29 ]\n",
      " [2.487]]\n"
     ]
    }
   ],
   "source": [
    "print(np.sum(layer_outputs, axis=1, keepdims=True))"
   ]
  },
  {
   "cell_type": "code",
   "execution_count": 53,
   "metadata": {},
   "outputs": [],
   "source": [
    "class Activation_Softmax:\n",
    "    def forward(self, inputs):\n",
    "        # Get unnormalized probabilities\n",
    "        exp_values = np.exp(inputs - np.max(inputs, \n",
    "                                            axis=1, \n",
    "                                            keepdims=True)) \n",
    "        # Normalize them for each sample\n",
    "        exp_sum = np.sum(exp_values, \n",
    "                         axis=1, \n",
    "                         keepdims=True)\n",
    "        \n",
    "        self.output = exp_values / exp_sum"
   ]
  },
  {
   "cell_type": "code",
   "execution_count": 54,
   "metadata": {},
   "outputs": [
    {
     "name": "stdout",
     "output_type": "stream",
     "text": [
      "[[0.33333333 0.33333333 0.33333333]\n",
      " [0.33333389 0.33333281 0.3333333 ]\n",
      " [0.33333446 0.33333227 0.33333327]\n",
      " [0.33333468 0.33333206 0.33333326]\n",
      " [0.33333508 0.33333169 0.33333323]]\n"
     ]
    }
   ],
   "source": [
    "# Create dataset\n",
    "X, y = spiral.create_data(samples=100, classes=3)\n",
    "\n",
    "# Create Dense layer with 2 input features and 3 output values\n",
    "dense1 = Layer_Dense(2, 3)\n",
    "# Create ReLU activation (to be used with Dense layer):\n",
    "activation1 = Activation_ReLU()\n",
    "\n",
    "# Create second Dense layer with 3 input features (as we take output\n",
    "# of previous layer here) and 3 output values\n",
    "dense2 = Layer_Dense(3, 3)\n",
    "# Create Softmax activation (to be used with Dense layer):\n",
    "activation2 = Activation_Softmax()\n",
    "\n",
    "# Make a forward pass of our training data through this layer\n",
    "dense1.forward(X)\n",
    "\n",
    "# Make a forward pass through activation function\n",
    "# it takes the output of first dense layer here\n",
    "activation1.forward(dense1.output)\n",
    "\n",
    "# Make a forward pass through second Dense layer\n",
    "# it takes outputs of activation function of first layer as inputs\n",
    "dense2.forward(activation1.output)\n",
    "\n",
    "# Make a forward pass through activation function\n",
    "# it takes the output of second dense layer here\n",
    "activation2.forward(dense2.output)\n",
    "\n",
    "# Let's see output of the first few samples:\n",
    "print(activation2.output[:5])"
   ]
  },
  {
   "cell_type": "markdown",
   "metadata": {},
   "source": [
    "### Full code up to this point"
   ]
  },
  {
   "cell_type": "code",
   "execution_count": 55,
   "metadata": {},
   "outputs": [],
   "source": [
    "# Dense layer\n",
    "class Layer_Dense:\n",
    "    # Layer initialization\n",
    "    def __init__(self, n_inputs, n_neurons):\n",
    "        # Initialize weights and biases\n",
    "        self.weights = 0.01 * np.random.randn(n_inputs, n_neurons)\n",
    "        self.biases = np.zeros((1, n_neurons))\n",
    "    \n",
    "    # Forward pass\n",
    "    def forward(self, inputs):\n",
    "        # Calculate output values from inputs, weights and biases\n",
    "        self.output = np.dot(inputs, self.weights) + self.biases\n",
    "\n",
    "# ReLU activation\n",
    "class Activation_ReLU:\n",
    "    # Forward pass\n",
    "    def forward(self, inputs):\n",
    "        # Calculate output values from inputs\n",
    "        self.output = np.maximum(0, inputs)\n",
    "\n",
    "# Softmax activation\n",
    "class Activation_Softmax:\n",
    "    # Forward pass\n",
    "    def forward(self, inputs):\n",
    "        # Get unnormalized probabilities\n",
    "        exp_values = np.exp(inputs - np.max(inputs, axis=1,keepdims=True))\n",
    "        \n",
    "        # Normalize them for each sample\n",
    "        probabilities = exp_values / np.sum(exp_values, axis=1,\n",
    "        keepdims=True)\n",
    "        self.output = probabilities"
   ]
  },
  {
   "cell_type": "code",
   "execution_count": 56,
   "metadata": {},
   "outputs": [
    {
     "name": "stdout",
     "output_type": "stream",
     "text": [
      "[[0.33333333 0.33333333 0.33333333]\n",
      " [0.33333336 0.33333331 0.33333332]\n",
      " [0.33333336 0.33333332 0.33333332]\n",
      " [0.33333343 0.33333328 0.3333333 ]\n",
      " [0.33333347 0.33333325 0.33333328]]\n"
     ]
    }
   ],
   "source": [
    "# Create dataset\n",
    "X, y = spiral.create_data(samples=100, classes=3)\n",
    "\n",
    "# Create Dense layer with 2 input features and 3 output values\n",
    "dense1 = Layer_Dense(2, 3)\n",
    "\n",
    "# Create ReLU activation (to be used with Dense layer):\n",
    "activation1 = Activation_ReLU()\n",
    "\n",
    "# Create second Dense layer with 3 input features (as we take output\n",
    "# of previous layer here) and 3 output values\n",
    "dense2 = Layer_Dense(3, 3)\n",
    "\n",
    "# Create Softmax activation (to be used with Dense layer):\n",
    "activation2 = Activation_Softmax()\n",
    "\n",
    "# Make a forward pass of our training data through this layer\n",
    "dense1.forward(X)\n",
    "\n",
    "# Make a forward pass through activation function\n",
    "# it takes the output of first dense layer here\n",
    "activation1.forward(dense1.output)\n",
    "\n",
    "# Make a forward pass through second Dense layer\n",
    "# it takes outputs of activation function of first layer as inputs\n",
    "dense2.forward(activation1.output)\n",
    "\n",
    "# Make a forward pass through activation function\n",
    "# it takes the output of second dense layer here\n",
    "activation2.forward(dense2.output)\n",
    "\n",
    "# Let's see output of the first few samples:\n",
    "print(activation2.output[:5])"
   ]
  },
  {
   "cell_type": "markdown",
   "metadata": {},
   "source": [
    "# Chapter 5"
   ]
  },
  {
   "cell_type": "markdown",
   "metadata": {},
   "source": [
    "## Calculating Network Error with Loss"
   ]
  },
  {
   "cell_type": "code",
   "execution_count": 57,
   "metadata": {},
   "outputs": [],
   "source": [
    "import math "
   ]
  },
  {
   "cell_type": "code",
   "execution_count": 58,
   "metadata": {},
   "outputs": [
    {
     "name": "stdout",
     "output_type": "stream",
     "text": [
      "0.35667494393873245\n"
     ]
    }
   ],
   "source": [
    "softmax_output = [0.7, 0.1, 0.3]\n",
    "target_output = [1, 0, 0]\n",
    "\n",
    "loss = - (math.log(softmax_output[0]) * target_output[0] +\n",
    "          math.log(softmax_output[1]) * target_output[1] +\n",
    "          math.log(softmax_output[2]) * target_output[2])\n",
    "\n",
    "print(loss)\n",
    "                   "
   ]
  },
  {
   "cell_type": "code",
   "execution_count": 59,
   "metadata": {},
   "outputs": [
    {
     "data": {
      "text/plain": [
       "0.0"
      ]
     },
     "execution_count": 59,
     "metadata": {},
     "output_type": "execute_result"
    }
   ],
   "source": [
    "np.log(1)"
   ]
  },
  {
   "cell_type": "code",
   "execution_count": 60,
   "metadata": {},
   "outputs": [],
   "source": [
    "# Probabilities for 3 samples\n",
    "softmax_outputs = np.array([[0.7, 0.1, 0.2],\n",
    "                            [0.1, 0.5, 0.4],\n",
    "                            [0.02, 0.9, 0.08]])"
   ]
  },
  {
   "cell_type": "code",
   "execution_count": 61,
   "metadata": {},
   "outputs": [],
   "source": [
    "class_targets = [0, 1, 1] # dog, cat, cat"
   ]
  },
  {
   "cell_type": "code",
   "execution_count": 62,
   "metadata": {},
   "outputs": [
    {
     "data": {
      "text/plain": [
       "array([0.7, 0.5, 0.9])"
      ]
     },
     "execution_count": 62,
     "metadata": {},
     "output_type": "execute_result"
    }
   ],
   "source": [
    "softmax_outputs[np.arange(len(class_targets)), class_targets]"
   ]
  },
  {
   "cell_type": "code",
   "execution_count": 63,
   "metadata": {},
   "outputs": [
    {
     "name": "stdout",
     "output_type": "stream",
     "text": [
      "[0.7 0.5 0.9]\n",
      "[0.35667494 0.69314718 0.10536052]\n"
     ]
    }
   ],
   "source": [
    "# Find the loss \n",
    "softmax_output_for_all_data = softmax_outputs[np.arange(3), class_targets]\n",
    "print(softmax_output_for_all_data)\n",
    "\n",
    "loss = - np.log(softmax_output_for_all_data) \n",
    "print(loss) "
   ]
  },
  {
   "cell_type": "code",
   "execution_count": 64,
   "metadata": {},
   "outputs": [
    {
     "data": {
      "text/plain": [
       "0.38506088005216804"
      ]
     },
     "execution_count": 64,
     "metadata": {},
     "output_type": "execute_result"
    }
   ],
   "source": [
    "np.average(loss)"
   ]
  },
  {
   "cell_type": "code",
   "execution_count": 65,
   "metadata": {},
   "outputs": [],
   "source": [
    "import numpy as np\n",
    "softmax_outputs = np.array([[0.7, 0.1, 0.2],\n",
    "                            [0.1, 0.5, 0.4],\n",
    "                            [0.02, 0.9, 0.08]])\n",
    "class_targets = np.array([[1, 0, 0],\n",
    "                          [0, 1, 0],\n",
    "                          [0, 1, 0]])"
   ]
  },
  {
   "cell_type": "code",
   "execution_count": 66,
   "metadata": {},
   "outputs": [
    {
     "name": "stdout",
     "output_type": "stream",
     "text": [
      "[0 1 1]\n"
     ]
    }
   ],
   "source": [
    "class_targets_labels = np.argmax(class_targets, axis=1)\n",
    "print(class_targets_labels)"
   ]
  },
  {
   "cell_type": "code",
   "execution_count": 67,
   "metadata": {},
   "outputs": [
    {
     "data": {
      "text/plain": [
       "array([0.7, 0.5, 0.9])"
      ]
     },
     "execution_count": 67,
     "metadata": {},
     "output_type": "execute_result"
    }
   ],
   "source": [
    "correct_confidences = softmax_outputs[np.arange(len(class_targets)), class_targets_labels]\n",
    "correct_confidences"
   ]
  },
  {
   "cell_type": "code",
   "execution_count": 68,
   "metadata": {},
   "outputs": [
    {
     "name": "stdout",
     "output_type": "stream",
     "text": [
      "[0.7 0.5 0.9]\n"
     ]
    }
   ],
   "source": [
    "# All together \n",
    "\n",
    "import numpy as np\n",
    "softmax_outputs = np.array([[0.7, 0.1, 0.2],\n",
    "                            [0.1, 0.5, 0.4],\n",
    "                            [0.02, 0.9, 0.08]])\n",
    "class_targets = np.array([[1, 0, 0],\n",
    "                          [0, 1, 0],\n",
    "                          [0, 1, 0]])\n",
    "\n",
    "# Probabilities for target values -\n",
    "# only if categorical labels\n",
    "\n",
    "# for 1 hot encoding \n",
    "if len(class_targets.shape) == 2: \n",
    "    class_targets_labels = np.argmax(class_targets, axis=1)\n",
    "    correct_confidences = softmax_outputs[np.arange(len(class_targets)), class_targets_labels]\n",
    "\n",
    "print(correct_confidences) "
   ]
  },
  {
   "cell_type": "code",
   "execution_count": 69,
   "metadata": {},
   "outputs": [
    {
     "name": "stdout",
     "output_type": "stream",
     "text": [
      "0.38506088005216804\n"
     ]
    }
   ],
   "source": [
    "# Losses\n",
    "neg_log = -np.log(correct_confidences)\n",
    "average_loss = np.mean(neg_log)\n",
    "\n",
    "print(average_loss)"
   ]
  },
  {
   "cell_type": "code",
   "execution_count": 70,
   "metadata": {},
   "outputs": [
    {
     "data": {
      "text/plain": [
       "-16.11809565095832"
      ]
     },
     "execution_count": 70,
     "metadata": {},
     "output_type": "execute_result"
    }
   ],
   "source": [
    "np.log(0.0000001)"
   ]
  },
  {
   "cell_type": "code",
   "execution_count": 71,
   "metadata": {},
   "outputs": [
    {
     "name": "stdout",
     "output_type": "stream",
     "text": [
      "0.0\n"
     ]
    }
   ],
   "source": [
    "print(np.e**(-np.inf))"
   ]
  },
  {
   "cell_type": "code",
   "execution_count": 72,
   "metadata": {},
   "outputs": [
    {
     "name": "stdout",
     "output_type": "stream",
     "text": [
      "inf\n"
     ]
    },
    {
     "name": "stderr",
     "output_type": "stream",
     "text": [
      "/var/folders/sg/qf1dw3cs4q5007gb2_9zd8600000gr/T/ipykernel_40852/1371846216.py:1: RuntimeWarning: divide by zero encountered in log\n",
      "  print(np.mean([1, 2, 3, -np.log(0)]))\n"
     ]
    }
   ],
   "source": [
    "print(np.mean([1, 2, 3, -np.log(0)]))"
   ]
  },
  {
   "cell_type": "code",
   "execution_count": 73,
   "metadata": {},
   "outputs": [
    {
     "name": "stdout",
     "output_type": "stream",
     "text": [
      "1.500000000025\n"
     ]
    }
   ],
   "source": [
    "print(np.mean([1, 2, 3, -np.log(1-1e-10)]))"
   ]
  },
  {
   "cell_type": "markdown",
   "metadata": {},
   "source": [
    "## The Categorical Cross-Entropy Loss Class"
   ]
  },
  {
   "cell_type": "code",
   "execution_count": 74,
   "metadata": {},
   "outputs": [],
   "source": [
    "class Loss:\n",
    "\n",
    "    def calculate(self, output, y):\n",
    "        sample_losses = self.forward(output, y) \n",
    "\n",
    "        data_loss = np.mean(sample_losses)\n",
    "\n",
    "        return data_loss"
   ]
  },
  {
   "cell_type": "code",
   "execution_count": 75,
   "metadata": {},
   "outputs": [],
   "source": [
    "# Cross-entropy loss\n",
    "class Loss_CategoricalCrossentropy(Loss):\n",
    "    # Forward pass\n",
    "    def forward(self, y_pred, y_true):\n",
    "        # Number of samples in a batch\n",
    "        samples = len(y_pred)\n",
    "        \n",
    "        # Clip data to prevent division by 0\n",
    "        # Clip both sides to not drag mean towards any value\n",
    "        y_pred_clipped = np.clip(y_pred, 1e-7, 1 - 1e-7)\n",
    "        \n",
    "        # Probabilities for target values -\n",
    "        # only if categorical labels\n",
    "        if len(y_true.shape) == 1:\n",
    "            correct_confidences = y_pred_clipped[\n",
    "                                                    range(samples),\n",
    "                                                    y_true\n",
    "                                                ]\n",
    "        # Mask values - only for one-hot encoded labels\n",
    "        elif len(y_true.shape) == 2:\n",
    "            correct_confidences = np.sum(\n",
    "                                            y_pred_clipped*y_true,\n",
    "                                            axis=1\n",
    "                                        )\n",
    "            \n",
    "        # Losses\n",
    "        negative_log_likelihoods = -np.log(correct_confidences)\n",
    "        return negative_log_likelihoods"
   ]
  },
  {
   "cell_type": "code",
   "execution_count": 76,
   "metadata": {},
   "outputs": [
    {
     "name": "stdout",
     "output_type": "stream",
     "text": [
      "0.38506088005216804\n"
     ]
    }
   ],
   "source": [
    "loss_function = Loss_CategoricalCrossentropy()\n",
    "loss = loss_function.calculate(softmax_outputs, class_targets)\n",
    "print(loss)"
   ]
  },
  {
   "cell_type": "markdown",
   "metadata": {},
   "source": [
    "## Combining everything up to this point"
   ]
  },
  {
   "cell_type": "code",
   "execution_count": 77,
   "metadata": {},
   "outputs": [],
   "source": [
    "# Dense layer\n",
    "class Layer_Dense:\n",
    "    # Layer initialization\n",
    "    def __init__(self, n_inputs, n_neurons):\n",
    "        # Initialize weights and biases\n",
    "        self.weights = 0.01 * np.random.randn(n_inputs, n_neurons)\n",
    "        self.biases = np.zeros((1, n_neurons))\n",
    "    \n",
    "    # Forward pass\n",
    "    def forward(self, inputs):\n",
    "        # Calculate output values from inputs, weights and biases\n",
    "        self.output = np.dot(inputs, self.weights) + self.biases\n",
    "\n",
    "# ReLU activation\n",
    "class Activation_ReLU:\n",
    "    # Forward pass\n",
    "    def forward(self, inputs):\n",
    "        # Calculate output values from inputs\n",
    "        self.output = np.maximum(0, inputs)\n",
    "\n",
    "# Softmax activation\n",
    "class Activation_Softmax:\n",
    "    # Forward pass\n",
    "    def forward(self, inputs):\n",
    "        # Get unnormalized probabilities\n",
    "        exp_values = np.exp(inputs - np.max(inputs, axis=1,\n",
    "        keepdims=True))\n",
    "        \n",
    "        # Normalize them for each sample\n",
    "        probabilities = exp_values / np.sum(exp_values, axis=1,\n",
    "        keepdims=True)\n",
    "        self.output = probabilities\n",
    "\n",
    "# Common loss class\n",
    "class Loss:\n",
    "    # Calculates the data and regularization losses\n",
    "    # given model output and ground truth values\n",
    "    def calculate(self, output, y):\n",
    "        # Calculate sample losses\n",
    "        sample_losses = self.forward(output, y)\n",
    "        # Calculate mean loss\n",
    "        data_loss = np.mean(sample_losses)\n",
    "        # Return loss\n",
    "        return data_loss\n",
    "\n",
    "# Cross-entropy loss\n",
    "class Loss_CategoricalCrossentropy(Loss):\n",
    "    # Forward pass\n",
    "    def forward(self, y_pred, y_true):\n",
    "        # Number of samples in a batch\n",
    "        samples = len(y_pred)\n",
    "        \n",
    "        # Clip data to prevent division by 0\n",
    "        # Clip both sides to not drag mean towards any value\n",
    "        y_pred_clipped = np.clip(y_pred, 1e-7, 1 - 1e-7)\n",
    "        \n",
    "        # Probabilities for target values -\n",
    "        # only if categorical labels\n",
    "        if len(y_true.shape) == 1:\n",
    "            correct_confidences = y_pred_clipped[\n",
    "                                                    range(samples),\n",
    "                                                    y_true\n",
    "                                                ]\n",
    "        # Mask values - only for one-hot encoded labels\n",
    "        elif len(y_true.shape) == 2:\n",
    "            correct_confidences = np.sum(\n",
    "                                            y_pred_clipped*y_true,\n",
    "                                            axis=1\n",
    "                                        )\n",
    "            \n",
    "        # Losses\n",
    "        negative_log_likelihoods = -np.log(correct_confidences)\n",
    "        return negative_log_likelihoods"
   ]
  },
  {
   "cell_type": "code",
   "execution_count": 78,
   "metadata": {},
   "outputs": [
    {
     "name": "stdout",
     "output_type": "stream",
     "text": [
      "[[0.33333333 0.33333333 0.33333333]\n",
      " [0.33333333 0.33333333 0.33333333]\n",
      " [0.33333375 0.3333335  0.33333275]\n",
      " [0.33333356 0.3333334  0.33333304]\n",
      " [0.33333392 0.33333338 0.3333327 ]]\n",
      "loss: 1.0986060773086688\n"
     ]
    }
   ],
   "source": [
    "# Create dataset\n",
    "X, y = spiral.create_data(samples=100, classes=3)\n",
    "\n",
    "# Create Dense layer with 2 input features and 3 output values\n",
    "dense1 = Layer_Dense(2, 3)\n",
    "\n",
    "# Create ReLU activation (to be used with Dense layer):\n",
    "activation1 = Activation_ReLU()\n",
    "\n",
    "# Create second Dense layer with 3 input features (as we take output\n",
    "# of previous layer here) and 3 output values\n",
    "dense2 = Layer_Dense(3, 3)\n",
    "\n",
    "# Create Softmax activation (to be used with Dense layer):\n",
    "activation2 = Activation_Softmax()\n",
    "\n",
    "# Make a forward pass of our training data through this layer\n",
    "dense1.forward(X)\n",
    "\n",
    "# Make a forward pass through activation function\n",
    "# it takes the output of first dense layer here\n",
    "activation1.forward(dense1.output)\n",
    "\n",
    "# Make a forward pass through second Dense layer\n",
    "# it takes outputs of activation function of first layer as inputs\n",
    "dense2.forward(activation1.output)\n",
    "\n",
    "# Make a forward pass through activation function\n",
    "# it takes the output of second dense layer here\n",
    "activation2.forward(dense2.output)\n",
    "\n",
    "# Let's see output of the first few samples:\n",
    "print(activation2.output[:5])\n",
    "\n",
    "# Perform a forward pass through activation function\n",
    "# it takes the output of second dense layer here and returns loss\n",
    "loss = loss_function.calculate(activation2.output, y)\n",
    "\n",
    "# Print loss value\n",
    "print('loss:', loss)"
   ]
  },
  {
   "cell_type": "markdown",
   "metadata": {},
   "source": [
    "## Accuracy Calculation"
   ]
  },
  {
   "cell_type": "code",
   "execution_count": 79,
   "metadata": {},
   "outputs": [
    {
     "name": "stdout",
     "output_type": "stream",
     "text": [
      "acc: 0.6666666666666666\n"
     ]
    }
   ],
   "source": [
    "import numpy as np\n",
    "# Probabilities of 3 samples\n",
    "softmax_outputs = np.array([[0.7, 0.2, 0.1],\n",
    "                            [0.5, 0.1, 0.4],\n",
    "                            [0.02, 0.9, 0.08]])\n",
    "\n",
    "# Target (ground-truth) labels for 3 samples\n",
    "class_targets = np.array([0, 1, 1])\n",
    "\n",
    "# Calculate values along second axis (axis of index 1)\n",
    "predictions = np.argmax(softmax_outputs, axis=1)\n",
    "\n",
    "# If targets are one-hot encoded - convert them\n",
    "if len(class_targets.shape) == 2:\n",
    "    class_targets = np.argmax(class_targets, axis=1)\n",
    "\n",
    "# True evaluates to 1; False to 0\n",
    "accuracy = np.mean(predictions == class_targets)\n",
    "print('acc:', accuracy)"
   ]
  },
  {
   "cell_type": "code",
   "execution_count": 80,
   "metadata": {},
   "outputs": [
    {
     "name": "stdout",
     "output_type": "stream",
     "text": [
      "[[0.33333333 0.33333333 0.33333333]\n",
      " [0.33333318 0.33333316 0.33333366]\n",
      " [0.33333414 0.33333327 0.3333326 ]\n",
      " [0.33333475 0.33333322 0.33333202]\n",
      " [0.33333525 0.33333319 0.33333156]]\n",
      "loss: 1.098617084444868\n",
      "acc: 0.31333333333333335\n"
     ]
    }
   ],
   "source": [
    "# Create dataset\n",
    "X, y = spiral.create_data(samples=100, classes=3)\n",
    "\n",
    "# Create Dense layer with 2 input features and 3 output values\n",
    "dense1 = Layer_Dense(2, 3)\n",
    "\n",
    "# Create ReLU activation (to be used with Dense layer):\n",
    "activation1 = Activation_ReLU()\n",
    "\n",
    "# Create second Dense layer with 3 input features (as we take output\n",
    "# of previous layer here) and 3 output values\n",
    "dense2 = Layer_Dense(3, 3)\n",
    "\n",
    "# Create Softmax activation (to be used with Dense layer):\n",
    "activation2 = Activation_Softmax()\n",
    "\n",
    "# Make a forward pass of our training data through this layer\n",
    "dense1.forward(X)\n",
    "\n",
    "# Make a forward pass through activation function\n",
    "# it takes the output of first dense layer here\n",
    "activation1.forward(dense1.output)\n",
    "\n",
    "# Make a forward pass through second Dense layer\n",
    "# it takes outputs of activation function of first layer as inputs\n",
    "dense2.forward(activation1.output)\n",
    "\n",
    "# Make a forward pass through activation function\n",
    "# it takes the output of second dense layer here\n",
    "activation2.forward(dense2.output)\n",
    "\n",
    "# Let's see output of the first few samples:\n",
    "print(activation2.output[:5])\n",
    "\n",
    "# Perform a forward pass through activation function\n",
    "# it takes the output of second dense layer here and returns loss\n",
    "loss = loss_function.calculate(activation2.output, y)\n",
    "\n",
    "# Print loss value\n",
    "print('loss:', loss)\n",
    "\n",
    "# Calculate accuracy from output of activation2 and targets\n",
    "# calculate values along first axis\n",
    "predictions = np.argmax(activation2.output, axis=1)\n",
    "if len(y.shape) == 2:\n",
    "    y = np.argmax(y, axis=1)\n",
    "\n",
    "accuracy = np.mean(predictions == y)\n",
    "# Print accuracy\n",
    "print('acc:', accuracy)"
   ]
  },
  {
   "cell_type": "code",
   "execution_count": 81,
   "metadata": {},
   "outputs": [
    {
     "data": {
      "text/plain": [
       "(300,)"
      ]
     },
     "execution_count": 81,
     "metadata": {},
     "output_type": "execute_result"
    }
   ],
   "source": [
    "y.shape"
   ]
  },
  {
   "cell_type": "markdown",
   "metadata": {},
   "source": [
    "# Chapter 6 "
   ]
  },
  {
   "cell_type": "markdown",
   "metadata": {},
   "source": [
    "## Introducing Optimization"
   ]
  },
  {
   "cell_type": "code",
   "execution_count": 82,
   "metadata": {},
   "outputs": [],
   "source": [
    "import matplotlib.pyplot as plt\n",
    "import vertical"
   ]
  },
  {
   "cell_type": "code",
   "execution_count": 83,
   "metadata": {},
   "outputs": [
    {
     "data": {
      "image/png": "[encoded data removed]",
      "text/plain": [
       "<Figure size 640x480 with 1 Axes>"
      ]
     },
     "metadata": {},
     "output_type": "display_data"
    }
   ],
   "source": [
    "X, y = vertical.create_data(samples=100, classes=3)\n",
    "plt.scatter(X[:, 0], \n",
    "            X[:, 1], \n",
    "            c=y, s=40, cmap='brg')\n",
    "plt.show()"
   ]
  },
  {
   "cell_type": "code",
   "execution_count": 84,
   "metadata": {},
   "outputs": [
    {
     "data": {
      "text/plain": [
       "array([[-0.00209273,  0.48701819],\n",
       "       [ 0.03255209,  0.53479433],\n",
       "       [ 0.07186043,  0.57021056],\n",
       "       [-0.15235514,  0.36532716],\n",
       "       [-0.13926006,  0.40749931],\n",
       "       [ 0.05980839,  0.43715303],\n",
       "       [-0.04030135,  0.42770757],\n",
       "       [-0.10595954,  0.55839295],\n",
       "       [ 0.02328151,  0.33541125],\n",
       "       [ 0.11266699,  0.4595749 ]])"
      ]
     },
     "execution_count": 84,
     "metadata": {},
     "output_type": "execute_result"
    }
   ],
   "source": [
    "X[:10, :]"
   ]
  },
  {
   "cell_type": "code",
   "execution_count": 85,
   "metadata": {},
   "outputs": [
    {
     "data": {
      "text/plain": [
       "array([0, 0, 0, 0, 0, 0, 0, 0, 0, 0], dtype=uint8)"
      ]
     },
     "execution_count": 85,
     "metadata": {},
     "output_type": "execute_result"
    }
   ],
   "source": [
    "y[:10]"
   ]
  },
  {
   "cell_type": "markdown",
   "metadata": {},
   "source": [
    "Using the previously created code up to this point, we can use this new dataset with a simple\n",
    "neural network:"
   ]
  },
  {
   "cell_type": "code",
   "execution_count": 86,
   "metadata": {},
   "outputs": [],
   "source": [
    "# Create dataset\n",
    "X, y = vertical.create_data(samples=100, classes=3)\n",
    "\n",
    "# Create model\n",
    "dense1 = Layer_Dense(2, 3)                         # first dense layer, 2 inputs\n",
    "activation1 = Activation_ReLU()\n",
    "\n",
    "dense2 = Layer_Dense(3, 3)                         # second dense layer, 3 inputs, 3 outputs\n",
    "activation2 = Activation_Softmax()\n",
    "\n",
    "# Create loss function\n",
    "loss_function = Loss_CategoricalCrossentropy()\n"
   ]
  },
  {
   "cell_type": "markdown",
   "metadata": {},
   "source": [
    "Then create some variables to track the best loss and the associated weights and biases:"
   ]
  },
  {
   "cell_type": "code",
   "execution_count": 87,
   "metadata": {},
   "outputs": [],
   "source": [
    "# Helper variables\n",
    "lowest_loss = 9999999 # some initial value\n",
    "\n",
    "best_dense1_weights = dense1.weights.copy()\n",
    "best_dense1_biases = dense1.biases.copy()\n",
    "\n",
    "best_dense2_weights = dense2.weights.copy()\n",
    "best_dense2_biases = dense2.biases.copy()"
   ]
  },
  {
   "cell_type": "code",
   "execution_count": 88,
   "metadata": {},
   "outputs": [
    {
     "data": {
      "text/plain": [
       "array([[-0.01472441,  0.00719926, -0.00633298],\n",
       "       [ 0.00469828, -0.02182751,  0.00940174]])"
      ]
     },
     "execution_count": 88,
     "metadata": {},
     "output_type": "execute_result"
    }
   ],
   "source": [
    "best_dense1_weights"
   ]
  },
  {
   "cell_type": "markdown",
   "metadata": {},
   "source": [
    "Now we iterate as many times as desired, pick random values for weights and biases, and\n",
    "save the weights and biases if they generate the lowest-seen loss:"
   ]
  },
  {
   "cell_type": "code",
   "execution_count": 89,
   "metadata": {},
   "outputs": [
    {
     "name": "stdout",
     "output_type": "stream",
     "text": [
      "New set of weights found, iteration: 0 loss: 1.0981104130231043 acc: 0.3333333333333333\n",
      "New set of weights found, iteration: 20 loss: 1.0980386651265273 acc: 0.6066666666666667\n",
      "New set of weights found, iteration: 27 loss: 1.0978835503351723 acc: 0.3333333333333333\n",
      "New set of weights found, iteration: 147 loss: 1.097839491003412 acc: 0.3333333333333333\n",
      "New set of weights found, iteration: 260 loss: 1.0976403195354676 acc: 0.3333333333333333\n",
      "New set of weights found, iteration: 291 loss: 1.0975643260944687 acc: 0.3333333333333333\n",
      "New set of weights found, iteration: 500 loss: 1.0964360169386325 acc: 0.3333333333333333\n",
      "New set of weights found, iteration: 2475 loss: 1.0962161109459463 acc: 0.34\n",
      "New set of weights found, iteration: 4830 loss: 1.0960734730395465 acc: 0.3333333333333333\n",
      "New set of weights found, iteration: 7760 loss: 1.095820853824018 acc: 0.3333333333333333\n"
     ]
    }
   ],
   "source": [
    "for iteration in range(10000):\n",
    "    # Generate a new set of weights for iteration\n",
    "    dense1.weights = 0.05 * np.random.randn(2, 3)\n",
    "    dense1.biases = 0.05 * np.random.randn(1, 3)\n",
    "    dense2.weights = 0.05 * np.random.randn(3, 3)\n",
    "    dense2.biases = 0.05 * np.random.randn(1, 3)\n",
    "\n",
    "    # Perform a forward pass of the training data through this layer\n",
    "    dense1.forward(X)\n",
    "    activation1.forward(dense1.output)\n",
    "    dense2.forward(activation1.output)\n",
    "    activation2.forward(dense2.output)\n",
    "    \n",
    "    # Perform a forward pass through activation function\n",
    "    # it takes the output of second dense layer here and returns loss\n",
    "    loss = loss_function.calculate(activation2.output, y)\n",
    "    \n",
    "    # Calculate accuracy from output of activation2 and targets\n",
    "    # calculate values along first axis\n",
    "    predictions = np.argmax(activation2.output, axis=1)\n",
    "    accuracy = np.mean(predictions == y)\n",
    "    \n",
    "    # If loss is smaller - print and save weights and biases aside\n",
    "    if loss < lowest_loss:\n",
    "        print('New set of weights found, iteration:', iteration,\n",
    "        'loss:', loss, 'acc:', accuracy)\n",
    "        best_dense1_weights = dense1.weights.copy()\n",
    "        best_dense1_biases = dense1.biases.copy()\n",
    "        best_dense2_weights = dense2.weights.copy()\n",
    "        best_dense2_biases = dense2.biases.copy()\n",
    "        lowest_loss = loss"
   ]
  },
  {
   "cell_type": "markdown",
   "metadata": {},
   "source": [
    "Loss continued to drop, but accuracy did not change. This doesn’t appear to be a reliable method\n",
    "for minimizing loss."
   ]
  },
  {
   "cell_type": "markdown",
   "metadata": {},
   "source": [
    "Even with this basic dataset, we see that randomly searching for weight and bias combinations\n",
    "will take far too long to be an acceptable method. Another idea might be, instead of setting\n",
    "parameters with randomly-chosen values each iteration, apply a fraction of these values to\n",
    "parameters. With this, weights will be updated from what currently yields us the lowest loss\n",
    "instead of aimlessly randomly"
   ]
  },
  {
   "cell_type": "markdown",
   "metadata": {},
   "source": [
    "## Full code up to this point"
   ]
  },
  {
   "cell_type": "code",
   "execution_count": 90,
   "metadata": {
    "scrolled": true
   },
   "outputs": [
    {
     "name": "stdout",
     "output_type": "stream",
     "text": [
      "New set of weights found, iteration: 0 loss: 1.0994977481906196 acc: 0.3333333333333333\n",
      "New set of weights found, iteration: 5 loss: 1.0987384015567827 acc: 0.3333333333333333\n",
      "New set of weights found, iteration: 9 loss: 1.0970967249082935 acc: 0.3333333333333333\n",
      "New set of weights found, iteration: 18 loss: 1.0949247406215359 acc: 0.35333333333333333\n",
      "New set of weights found, iteration: 21 loss: 1.0918559596985808 acc: 0.6333333333333333\n",
      "New set of weights found, iteration: 23 loss: 1.088513262777597 acc: 0.3333333333333333\n",
      "New set of weights found, iteration: 24 loss: 1.084550911709247 acc: 0.42333333333333334\n",
      "New set of weights found, iteration: 25 loss: 1.0829067732135145 acc: 0.64\n",
      "New set of weights found, iteration: 28 loss: 1.0799066047540538 acc: 0.3333333333333333\n",
      "New set of weights found, iteration: 32 loss: 1.0772459699289778 acc: 0.37666666666666665\n",
      "New set of weights found, iteration: 34 loss: 1.0751208327155237 acc: 0.6633333333333333\n",
      "New set of weights found, iteration: 39 loss: 1.0731825012341574 acc: 0.6533333333333333\n",
      "New set of weights found, iteration: 40 loss: 1.0671537850741413 acc: 0.6633333333333333\n",
      "New set of weights found, iteration: 44 loss: 1.062505211551304 acc: 0.6533333333333333\n",
      "New set of weights found, iteration: 45 loss: 1.056862364676541 acc: 0.6633333333333333\n",
      "New set of weights found, iteration: 46 loss: 1.0502039724709042 acc: 0.6666666666666666\n",
      "New set of weights found, iteration: 52 loss: 1.0364718105156543 acc: 0.6533333333333333\n",
      "New set of weights found, iteration: 54 loss: 1.0278375549291838 acc: 0.6533333333333333\n",
      "New set of weights found, iteration: 59 loss: 1.02116119333854 acc: 0.56\n",
      "New set of weights found, iteration: 64 loss: 1.0210358510004922 acc: 0.55\n",
      "New set of weights found, iteration: 68 loss: 1.0160401302490767 acc: 0.49\n",
      "New set of weights found, iteration: 69 loss: 1.0104270747624002 acc: 0.44333333333333336\n",
      "New set of weights found, iteration: 70 loss: 1.0082365901430297 acc: 0.37333333333333335\n",
      "New set of weights found, iteration: 71 loss: 1.002821130357683 acc: 0.37\n",
      "New set of weights found, iteration: 75 loss: 1.0009347505392474 acc: 0.38\n",
      "New set of weights found, iteration: 76 loss: 0.9954597505629614 acc: 0.3933333333333333\n",
      "New set of weights found, iteration: 78 loss: 0.9837818976303732 acc: 0.5366666666666666\n",
      "New set of weights found, iteration: 81 loss: 0.9820864287527532 acc: 0.48333333333333334\n",
      "New set of weights found, iteration: 84 loss: 0.9656465560911558 acc: 0.71\n",
      "New set of weights found, iteration: 88 loss: 0.9561117923383642 acc: 0.6266666666666667\n",
      "New set of weights found, iteration: 89 loss: 0.946688907337249 acc: 0.6366666666666667\n",
      "New set of weights found, iteration: 91 loss: 0.944562304236623 acc: 0.6433333333333333\n",
      "New set of weights found, iteration: 95 loss: 0.9409860779653249 acc: 0.72\n",
      "New set of weights found, iteration: 96 loss: 0.9254860828482215 acc: 0.6566666666666666\n",
      "New set of weights found, iteration: 98 loss: 0.9242964417356268 acc: 0.7566666666666667\n",
      "New set of weights found, iteration: 101 loss: 0.9220193512724567 acc: 0.8066666666666666\n",
      "New set of weights found, iteration: 103 loss: 0.9144096835557532 acc: 0.6633333333333333\n",
      "New set of weights found, iteration: 105 loss: 0.9119260472108293 acc: 0.67\n",
      "New set of weights found, iteration: 106 loss: 0.8914590117338992 acc: 0.6633333333333333\n",
      "New set of weights found, iteration: 107 loss: 0.8910253954924531 acc: 0.65\n",
      "New set of weights found, iteration: 108 loss: 0.8883442637627286 acc: 0.66\n",
      "New set of weights found, iteration: 112 loss: 0.8849054830851985 acc: 0.6633333333333333\n",
      "New set of weights found, iteration: 114 loss: 0.881844369122961 acc: 0.66\n",
      "New set of weights found, iteration: 115 loss: 0.8772771343034822 acc: 0.6533333333333333\n",
      "New set of weights found, iteration: 118 loss: 0.8740714331876654 acc: 0.64\n",
      "New set of weights found, iteration: 122 loss: 0.8738513389912754 acc: 0.6366666666666667\n",
      "New set of weights found, iteration: 123 loss: 0.8673381799854909 acc: 0.64\n",
      "New set of weights found, iteration: 125 loss: 0.8519700024381749 acc: 0.65\n",
      "New set of weights found, iteration: 126 loss: 0.8435298145299788 acc: 0.64\n",
      "New set of weights found, iteration: 127 loss: 0.832475918772481 acc: 0.6933333333333334\n",
      "New set of weights found, iteration: 129 loss: 0.8322645221475047 acc: 0.6433333333333333\n",
      "New set of weights found, iteration: 131 loss: 0.8256468424885058 acc: 0.64\n",
      "New set of weights found, iteration: 133 loss: 0.8047301937885084 acc: 0.6466666666666666\n",
      "New set of weights found, iteration: 134 loss: 0.8029980824420406 acc: 0.6466666666666666\n",
      "New set of weights found, iteration: 135 loss: 0.8005469538347079 acc: 0.71\n",
      "New set of weights found, iteration: 139 loss: 0.793169907009948 acc: 0.74\n",
      "New set of weights found, iteration: 141 loss: 0.7908437128079939 acc: 0.71\n",
      "New set of weights found, iteration: 145 loss: 0.7834550765662411 acc: 0.6533333333333333\n",
      "New set of weights found, iteration: 151 loss: 0.7829968100483273 acc: 0.6466666666666666\n",
      "New set of weights found, iteration: 153 loss: 0.7818332641007327 acc: 0.6466666666666666\n",
      "New set of weights found, iteration: 154 loss: 0.7769730980809771 acc: 0.65\n",
      "New set of weights found, iteration: 155 loss: 0.776887399446 acc: 0.6466666666666666\n",
      "New set of weights found, iteration: 158 loss: 0.7583709315775199 acc: 0.6466666666666666\n",
      "New set of weights found, iteration: 163 loss: 0.756610751105878 acc: 0.6433333333333333\n",
      "New set of weights found, iteration: 164 loss: 0.7498767355762094 acc: 0.6566666666666666\n",
      "New set of weights found, iteration: 171 loss: 0.743108571983894 acc: 0.7566666666666667\n",
      "New set of weights found, iteration: 172 loss: 0.7337181319580097 acc: 0.71\n",
      "New set of weights found, iteration: 177 loss: 0.7325689072767912 acc: 0.6566666666666666\n",
      "New set of weights found, iteration: 178 loss: 0.7266845221437641 acc: 0.6633333333333333\n",
      "New set of weights found, iteration: 179 loss: 0.7195827472687568 acc: 0.6533333333333333\n",
      "New set of weights found, iteration: 182 loss: 0.7171463619857384 acc: 0.68\n",
      "New set of weights found, iteration: 186 loss: 0.716289259091843 acc: 0.7233333333333334\n",
      "New set of weights found, iteration: 188 loss: 0.7124401606874456 acc: 0.6566666666666666\n",
      "New set of weights found, iteration: 189 loss: 0.6991141209141724 acc: 0.66\n",
      "New set of weights found, iteration: 190 loss: 0.6979466077578148 acc: 0.6833333333333333\n",
      "New set of weights found, iteration: 196 loss: 0.6970596001591939 acc: 0.6733333333333333\n",
      "New set of weights found, iteration: 201 loss: 0.6961219278749169 acc: 0.67\n",
      "New set of weights found, iteration: 205 loss: 0.6873278445385692 acc: 0.6933333333333334\n",
      "New set of weights found, iteration: 208 loss: 0.6788648130237614 acc: 0.66\n",
      "New set of weights found, iteration: 209 loss: 0.6684288824210152 acc: 0.71\n",
      "New set of weights found, iteration: 212 loss: 0.6541959512650093 acc: 0.7366666666666667\n",
      "New set of weights found, iteration: 216 loss: 0.6522927454810896 acc: 0.75\n",
      "New set of weights found, iteration: 222 loss: 0.6485476880359448 acc: 0.7966666666666666\n",
      "New set of weights found, iteration: 225 loss: 0.6412291479822028 acc: 0.83\n",
      "New set of weights found, iteration: 227 loss: 0.6395440115449598 acc: 0.8366666666666667\n",
      "New set of weights found, iteration: 230 loss: 0.6392513461300768 acc: 0.8433333333333334\n",
      "New set of weights found, iteration: 238 loss: 0.6384128656774591 acc: 0.87\n",
      "New set of weights found, iteration: 244 loss: 0.6378181268391938 acc: 0.7233333333333334\n",
      "New set of weights found, iteration: 245 loss: 0.6268826600777915 acc: 0.79\n",
      "New set of weights found, iteration: 248 loss: 0.6265079044762966 acc: 0.7833333333333333\n",
      "New set of weights found, iteration: 252 loss: 0.6217795353894661 acc: 0.8366666666666667\n",
      "New set of weights found, iteration: 257 loss: 0.6160391094087164 acc: 0.86\n",
      "New set of weights found, iteration: 259 loss: 0.6084664450680526 acc: 0.7933333333333333\n",
      "New set of weights found, iteration: 267 loss: 0.6031987041001516 acc: 0.77\n",
      "New set of weights found, iteration: 269 loss: 0.593342762409434 acc: 0.8\n",
      "New set of weights found, iteration: 271 loss: 0.5927334159754474 acc: 0.7666666666666667\n",
      "New set of weights found, iteration: 272 loss: 0.5868828402031782 acc: 0.7866666666666666\n",
      "New set of weights found, iteration: 275 loss: 0.5853031718104429 acc: 0.8733333333333333\n",
      "New set of weights found, iteration: 277 loss: 0.5753508777338202 acc: 0.8666666666666667\n",
      "New set of weights found, iteration: 280 loss: 0.5745800181777142 acc: 0.8933333333333333\n",
      "New set of weights found, iteration: 284 loss: 0.5717477344125249 acc: 0.85\n",
      "New set of weights found, iteration: 287 loss: 0.5669737073912606 acc: 0.8333333333333334\n",
      "New set of weights found, iteration: 288 loss: 0.5636447429117114 acc: 0.8733333333333333\n",
      "New set of weights found, iteration: 291 loss: 0.5617226950707466 acc: 0.8166666666666667\n",
      "New set of weights found, iteration: 295 loss: 0.5562700764988255 acc: 0.92\n",
      "New set of weights found, iteration: 296 loss: 0.549081080488855 acc: 0.8966666666666666\n",
      "New set of weights found, iteration: 297 loss: 0.5430513912565618 acc: 0.8766666666666667\n",
      "New set of weights found, iteration: 301 loss: 0.5364383366004245 acc: 0.89\n",
      "New set of weights found, iteration: 304 loss: 0.5290449470838703 acc: 0.9066666666666666\n",
      "New set of weights found, iteration: 305 loss: 0.5225219692179914 acc: 0.9066666666666666\n",
      "New set of weights found, iteration: 306 loss: 0.5120462700408228 acc: 0.8833333333333333\n",
      "New set of weights found, iteration: 312 loss: 0.5117752885470958 acc: 0.8666666666666667\n",
      "New set of weights found, iteration: 314 loss: 0.5062080781113156 acc: 0.87\n",
      "New set of weights found, iteration: 316 loss: 0.5051743528593643 acc: 0.8866666666666667\n",
      "New set of weights found, iteration: 318 loss: 0.5039949523570857 acc: 0.8933333333333333\n",
      "New set of weights found, iteration: 322 loss: 0.5027568691281477 acc: 0.92\n",
      "New set of weights found, iteration: 323 loss: 0.4986337401187792 acc: 0.9233333333333333\n",
      "New set of weights found, iteration: 330 loss: 0.4925640592110291 acc: 0.92\n",
      "New set of weights found, iteration: 337 loss: 0.4892960441331962 acc: 0.8933333333333333\n",
      "New set of weights found, iteration: 339 loss: 0.48886088087083956 acc: 0.9033333333333333\n",
      "New set of weights found, iteration: 340 loss: 0.48813966018041166 acc: 0.9033333333333333\n",
      "New set of weights found, iteration: 345 loss: 0.4836241151486274 acc: 0.92\n",
      "New set of weights found, iteration: 346 loss: 0.4786472007679616 acc: 0.8933333333333333\n",
      "New set of weights found, iteration: 349 loss: 0.47425374836860396 acc: 0.8866666666666667\n",
      "New set of weights found, iteration: 350 loss: 0.4649596711877601 acc: 0.9\n",
      "New set of weights found, iteration: 351 loss: 0.4634033245841124 acc: 0.9066666666666666\n",
      "New set of weights found, iteration: 352 loss: 0.45985548729568904 acc: 0.92\n",
      "New set of weights found, iteration: 360 loss: 0.4593782688505642 acc: 0.8966666666666666\n",
      "New set of weights found, iteration: 361 loss: 0.4557197194890911 acc: 0.8966666666666666\n",
      "New set of weights found, iteration: 362 loss: 0.45234815648722654 acc: 0.8966666666666666\n",
      "New set of weights found, iteration: 365 loss: 0.44564228942570794 acc: 0.9066666666666666\n",
      "New set of weights found, iteration: 374 loss: 0.44473662663262625 acc: 0.92\n",
      "New set of weights found, iteration: 375 loss: 0.4417703849095098 acc: 0.9066666666666666\n",
      "New set of weights found, iteration: 382 loss: 0.44081712892704444 acc: 0.9033333333333333\n",
      "New set of weights found, iteration: 389 loss: 0.44031162584679123 acc: 0.8966666666666666\n",
      "New set of weights found, iteration: 400 loss: 0.43613507942004504 acc: 0.9066666666666666\n",
      "New set of weights found, iteration: 403 loss: 0.43253956702553237 acc: 0.92\n",
      "New set of weights found, iteration: 407 loss: 0.4267088821741671 acc: 0.9166666666666666\n",
      "New set of weights found, iteration: 410 loss: 0.4266051012738842 acc: 0.92\n",
      "New set of weights found, iteration: 411 loss: 0.42147105497992965 acc: 0.91\n",
      "New set of weights found, iteration: 412 loss: 0.42090740336648574 acc: 0.9233333333333333\n",
      "New set of weights found, iteration: 416 loss: 0.41850390139349936 acc: 0.9233333333333333\n",
      "New set of weights found, iteration: 418 loss: 0.418403118496319 acc: 0.9133333333333333\n",
      "New set of weights found, iteration: 423 loss: 0.4183672317669826 acc: 0.9233333333333333\n",
      "New set of weights found, iteration: 425 loss: 0.41762619905356096 acc: 0.92\n",
      "New set of weights found, iteration: 432 loss: 0.4146185221122502 acc: 0.9233333333333333\n",
      "New set of weights found, iteration: 433 loss: 0.41300990186841346 acc: 0.9066666666666666\n",
      "New set of weights found, iteration: 434 loss: 0.41257126664276844 acc: 0.92\n",
      "New set of weights found, iteration: 438 loss: 0.41216576292109425 acc: 0.9166666666666666\n",
      "New set of weights found, iteration: 440 loss: 0.4051415798820578 acc: 0.92\n",
      "New set of weights found, iteration: 441 loss: 0.4027143112274186 acc: 0.9233333333333333\n",
      "New set of weights found, iteration: 454 loss: 0.4017031700489136 acc: 0.8966666666666666\n",
      "New set of weights found, iteration: 455 loss: 0.40146614089334254 acc: 0.8866666666666667\n",
      "New set of weights found, iteration: 458 loss: 0.39892841354578584 acc: 0.89\n",
      "New set of weights found, iteration: 460 loss: 0.3983292510549088 acc: 0.9233333333333333\n",
      "New set of weights found, iteration: 462 loss: 0.39701786305160225 acc: 0.92\n",
      "New set of weights found, iteration: 465 loss: 0.3967445410228303 acc: 0.91\n",
      "New set of weights found, iteration: 467 loss: 0.3925521002984396 acc: 0.9166666666666666\n",
      "New set of weights found, iteration: 471 loss: 0.3909899837393401 acc: 0.9133333333333333\n",
      "New set of weights found, iteration: 473 loss: 0.38763118135148594 acc: 0.8966666666666666\n",
      "New set of weights found, iteration: 475 loss: 0.3837358272076664 acc: 0.9166666666666666\n",
      "New set of weights found, iteration: 478 loss: 0.3818746184025188 acc: 0.92\n",
      "New set of weights found, iteration: 482 loss: 0.37871053973261565 acc: 0.9266666666666666\n",
      "New set of weights found, iteration: 484 loss: 0.3777279968629175 acc: 0.92\n",
      "New set of weights found, iteration: 504 loss: 0.37426997875039403 acc: 0.9233333333333333\n",
      "New set of weights found, iteration: 505 loss: 0.3707530506874732 acc: 0.9266666666666666\n",
      "New set of weights found, iteration: 512 loss: 0.3694222585927785 acc: 0.9133333333333333\n",
      "New set of weights found, iteration: 514 loss: 0.36932301681330937 acc: 0.9233333333333333\n",
      "New set of weights found, iteration: 519 loss: 0.3663713083192135 acc: 0.92\n",
      "New set of weights found, iteration: 520 loss: 0.3649810960767283 acc: 0.92\n",
      "New set of weights found, iteration: 521 loss: 0.36467064738243893 acc: 0.9166666666666666\n",
      "New set of weights found, iteration: 522 loss: 0.36433765921342814 acc: 0.9133333333333333\n",
      "New set of weights found, iteration: 525 loss: 0.36186841553271837 acc: 0.92\n",
      "New set of weights found, iteration: 528 loss: 0.35358115962590786 acc: 0.9166666666666666\n",
      "New set of weights found, iteration: 533 loss: 0.3509154353221317 acc: 0.9266666666666666\n",
      "New set of weights found, iteration: 534 loss: 0.34839250729565036 acc: 0.9233333333333333\n",
      "New set of weights found, iteration: 541 loss: 0.34766057785876825 acc: 0.9166666666666666\n",
      "New set of weights found, iteration: 542 loss: 0.3457047425044424 acc: 0.9233333333333333\n",
      "New set of weights found, iteration: 556 loss: 0.33827023154758074 acc: 0.9166666666666666\n",
      "New set of weights found, iteration: 561 loss: 0.3381477552901854 acc: 0.9233333333333333\n",
      "New set of weights found, iteration: 579 loss: 0.33596739764247074 acc: 0.92\n",
      "New set of weights found, iteration: 581 loss: 0.33466271278230136 acc: 0.9233333333333333\n",
      "New set of weights found, iteration: 582 loss: 0.33449639671129494 acc: 0.9166666666666666\n",
      "New set of weights found, iteration: 584 loss: 0.33042299013804777 acc: 0.9233333333333333\n",
      "New set of weights found, iteration: 585 loss: 0.32757023964948495 acc: 0.9133333333333333\n",
      "New set of weights found, iteration: 587 loss: 0.3249982660870273 acc: 0.92\n",
      "New set of weights found, iteration: 590 loss: 0.3247791594101043 acc: 0.91\n",
      "New set of weights found, iteration: 592 loss: 0.32090352592096705 acc: 0.91\n",
      "New set of weights found, iteration: 595 loss: 0.31684343938063886 acc: 0.92\n",
      "New set of weights found, iteration: 602 loss: 0.3153768074875785 acc: 0.92\n",
      "New set of weights found, iteration: 610 loss: 0.3115585461667186 acc: 0.9166666666666666\n",
      "New set of weights found, iteration: 614 loss: 0.3053706223622319 acc: 0.9233333333333333\n",
      "New set of weights found, iteration: 615 loss: 0.3034153823214466 acc: 0.92\n",
      "New set of weights found, iteration: 621 loss: 0.30183960972122376 acc: 0.9233333333333333\n",
      "New set of weights found, iteration: 622 loss: 0.2997629618383073 acc: 0.9166666666666666\n",
      "New set of weights found, iteration: 623 loss: 0.2990135066065467 acc: 0.9166666666666666\n",
      "New set of weights found, iteration: 637 loss: 0.2948716813234161 acc: 0.92\n",
      "New set of weights found, iteration: 641 loss: 0.2901040675537388 acc: 0.92\n",
      "New set of weights found, iteration: 647 loss: 0.28971616029260455 acc: 0.9166666666666666\n",
      "New set of weights found, iteration: 649 loss: 0.2867235234767405 acc: 0.9166666666666666\n",
      "New set of weights found, iteration: 652 loss: 0.284538685096275 acc: 0.9166666666666666\n",
      "New set of weights found, iteration: 655 loss: 0.28109838524073133 acc: 0.9266666666666666\n",
      "New set of weights found, iteration: 656 loss: 0.2773858666484912 acc: 0.9266666666666666\n",
      "New set of weights found, iteration: 657 loss: 0.2768527317398752 acc: 0.9166666666666666\n",
      "New set of weights found, iteration: 660 loss: 0.27289462166642314 acc: 0.9266666666666666\n",
      "New set of weights found, iteration: 661 loss: 0.27207646263603946 acc: 0.91\n",
      "New set of weights found, iteration: 668 loss: 0.27198435825320977 acc: 0.9166666666666666\n",
      "New set of weights found, iteration: 671 loss: 0.270050369916606 acc: 0.92\n",
      "New set of weights found, iteration: 683 loss: 0.266728178792174 acc: 0.9166666666666666\n",
      "New set of weights found, iteration: 684 loss: 0.26656273122552077 acc: 0.9166666666666666\n",
      "New set of weights found, iteration: 685 loss: 0.26569873928594145 acc: 0.9266666666666666\n",
      "New set of weights found, iteration: 692 loss: 0.2599682444967637 acc: 0.92\n",
      "New set of weights found, iteration: 706 loss: 0.2585020175690153 acc: 0.9133333333333333\n",
      "New set of weights found, iteration: 713 loss: 0.2584694959873564 acc: 0.9166666666666666\n",
      "New set of weights found, iteration: 714 loss: 0.25769821151977945 acc: 0.9166666666666666\n",
      "New set of weights found, iteration: 716 loss: 0.2573269122122353 acc: 0.9166666666666666\n",
      "New set of weights found, iteration: 723 loss: 0.2566315770865172 acc: 0.92\n",
      "New set of weights found, iteration: 735 loss: 0.25634220640512795 acc: 0.92\n",
      "New set of weights found, iteration: 756 loss: 0.2557129024102107 acc: 0.9166666666666666\n",
      "New set of weights found, iteration: 764 loss: 0.25370153005908314 acc: 0.92\n",
      "New set of weights found, iteration: 776 loss: 0.2534134692149238 acc: 0.9133333333333333\n",
      "New set of weights found, iteration: 778 loss: 0.25211668009600346 acc: 0.92\n",
      "New set of weights found, iteration: 782 loss: 0.25046761964588343 acc: 0.92\n",
      "New set of weights found, iteration: 784 loss: 0.24882431097713598 acc: 0.92\n",
      "New set of weights found, iteration: 795 loss: 0.2472283493699059 acc: 0.92\n",
      "New set of weights found, iteration: 800 loss: 0.2449325910170639 acc: 0.92\n",
      "New set of weights found, iteration: 811 loss: 0.24398855842633613 acc: 0.92\n",
      "New set of weights found, iteration: 812 loss: 0.24340433218533378 acc: 0.92\n",
      "New set of weights found, iteration: 818 loss: 0.24247594995953023 acc: 0.92\n",
      "New set of weights found, iteration: 859 loss: 0.24148385489227583 acc: 0.9166666666666666\n",
      "New set of weights found, iteration: 865 loss: 0.24088472754152504 acc: 0.92\n",
      "New set of weights found, iteration: 873 loss: 0.24058242502486252 acc: 0.92\n",
      "New set of weights found, iteration: 888 loss: 0.24000589248313328 acc: 0.92\n",
      "New set of weights found, iteration: 895 loss: 0.23974746250461426 acc: 0.9133333333333333\n",
      "New set of weights found, iteration: 897 loss: 0.23951754289269156 acc: 0.9166666666666666\n",
      "New set of weights found, iteration: 902 loss: 0.2390764130677086 acc: 0.9166666666666666\n",
      "New set of weights found, iteration: 919 loss: 0.23803880513768425 acc: 0.9166666666666666\n",
      "New set of weights found, iteration: 920 loss: 0.2380111744713208 acc: 0.9166666666666666\n",
      "New set of weights found, iteration: 922 loss: 0.23723068095927421 acc: 0.91\n",
      "New set of weights found, iteration: 940 loss: 0.23444474621901928 acc: 0.92\n",
      "New set of weights found, iteration: 947 loss: 0.2344053873798007 acc: 0.92\n",
      "New set of weights found, iteration: 978 loss: 0.23384019535646686 acc: 0.92\n",
      "New set of weights found, iteration: 980 loss: 0.23338764559278488 acc: 0.91\n",
      "New set of weights found, iteration: 982 loss: 0.2320635994369 acc: 0.9133333333333333\n",
      "New set of weights found, iteration: 987 loss: 0.2314585469742218 acc: 0.9133333333333333\n",
      "New set of weights found, iteration: 989 loss: 0.2291048051781012 acc: 0.9166666666666666\n",
      "New set of weights found, iteration: 1035 loss: 0.2289679851093651 acc: 0.9166666666666666\n",
      "New set of weights found, iteration: 1057 loss: 0.22849515020816896 acc: 0.92\n",
      "New set of weights found, iteration: 1058 loss: 0.22802511341109144 acc: 0.92\n",
      "New set of weights found, iteration: 1061 loss: 0.22614218291498622 acc: 0.92\n",
      "New set of weights found, iteration: 1141 loss: 0.22562477859157043 acc: 0.9166666666666666\n",
      "New set of weights found, iteration: 1147 loss: 0.22500121574230453 acc: 0.92\n",
      "New set of weights found, iteration: 1164 loss: 0.22468423272505972 acc: 0.9166666666666666\n",
      "New set of weights found, iteration: 1176 loss: 0.2242997389496383 acc: 0.9166666666666666\n",
      "New set of weights found, iteration: 1178 loss: 0.22387023148395718 acc: 0.92\n",
      "New set of weights found, iteration: 1199 loss: 0.2236633007660608 acc: 0.9166666666666666\n",
      "New set of weights found, iteration: 1203 loss: 0.22357110741511696 acc: 0.9166666666666666\n",
      "New set of weights found, iteration: 1219 loss: 0.223028114699481 acc: 0.9166666666666666\n",
      "New set of weights found, iteration: 1258 loss: 0.22277727094564795 acc: 0.9166666666666666\n",
      "New set of weights found, iteration: 1273 loss: 0.22242895782037883 acc: 0.92\n",
      "New set of weights found, iteration: 1276 loss: 0.22225003028957643 acc: 0.9166666666666666\n",
      "New set of weights found, iteration: 1307 loss: 0.22198053601200457 acc: 0.9166666666666666\n",
      "New set of weights found, iteration: 1323 loss: 0.2218458487006257 acc: 0.9166666666666666\n",
      "New set of weights found, iteration: 1364 loss: 0.2213686558734419 acc: 0.92\n",
      "New set of weights found, iteration: 1387 loss: 0.22124774843382036 acc: 0.92\n",
      "New set of weights found, iteration: 1501 loss: 0.2209334148715457 acc: 0.92\n",
      "New set of weights found, iteration: 1602 loss: 0.2204219473991583 acc: 0.92\n",
      "New set of weights found, iteration: 1639 loss: 0.22031994747425923 acc: 0.9166666666666666\n",
      "New set of weights found, iteration: 1694 loss: 0.21989908811182635 acc: 0.9166666666666666\n",
      "New set of weights found, iteration: 1722 loss: 0.21942007771503105 acc: 0.92\n",
      "New set of weights found, iteration: 1736 loss: 0.21922654453789842 acc: 0.92\n",
      "New set of weights found, iteration: 1806 loss: 0.21907885381868492 acc: 0.92\n",
      "New set of weights found, iteration: 1830 loss: 0.2189533882019964 acc: 0.92\n",
      "New set of weights found, iteration: 1850 loss: 0.21814880590694594 acc: 0.9133333333333333\n",
      "New set of weights found, iteration: 2105 loss: 0.21801144247888232 acc: 0.92\n",
      "New set of weights found, iteration: 2225 loss: 0.2179408518442595 acc: 0.92\n",
      "New set of weights found, iteration: 2760 loss: 0.21785031154262233 acc: 0.9133333333333333\n",
      "New set of weights found, iteration: 2907 loss: 0.21768948663905804 acc: 0.9166666666666666\n",
      "New set of weights found, iteration: 2957 loss: 0.21756443706434045 acc: 0.9133333333333333\n",
      "New set of weights found, iteration: 3076 loss: 0.21739470549619283 acc: 0.9166666666666666\n",
      "New set of weights found, iteration: 3173 loss: 0.2172862700592933 acc: 0.91\n",
      "New set of weights found, iteration: 3336 loss: 0.21728092048578104 acc: 0.9133333333333333\n",
      "New set of weights found, iteration: 3359 loss: 0.21686090848588702 acc: 0.9133333333333333\n",
      "New set of weights found, iteration: 3368 loss: 0.21683692034381627 acc: 0.91\n",
      "New set of weights found, iteration: 3517 loss: 0.21661384488454463 acc: 0.9133333333333333\n",
      "New set of weights found, iteration: 3817 loss: 0.21661109296737582 acc: 0.9166666666666666\n",
      "New set of weights found, iteration: 3876 loss: 0.2165364179841461 acc: 0.9133333333333333\n",
      "New set of weights found, iteration: 3884 loss: 0.2164284218840144 acc: 0.9133333333333333\n",
      "New set of weights found, iteration: 3942 loss: 0.2163693157749396 acc: 0.91\n",
      "New set of weights found, iteration: 4115 loss: 0.21634204757032588 acc: 0.9133333333333333\n",
      "New set of weights found, iteration: 4435 loss: 0.21627711552560588 acc: 0.9166666666666666\n",
      "New set of weights found, iteration: 4589 loss: 0.21626501719025948 acc: 0.91\n",
      "New set of weights found, iteration: 4664 loss: 0.21618904331529257 acc: 0.9133333333333333\n",
      "New set of weights found, iteration: 4942 loss: 0.2160808896881256 acc: 0.9133333333333333\n",
      "New set of weights found, iteration: 5148 loss: 0.21603783925681805 acc: 0.9133333333333333\n",
      "New set of weights found, iteration: 5203 loss: 0.2160324261146256 acc: 0.9133333333333333\n",
      "New set of weights found, iteration: 5221 loss: 0.2159371582578261 acc: 0.9133333333333333\n",
      "New set of weights found, iteration: 5312 loss: 0.21579507249738655 acc: 0.9133333333333333\n",
      "New set of weights found, iteration: 5414 loss: 0.21575958678088342 acc: 0.91\n",
      "New set of weights found, iteration: 5423 loss: 0.21566037273524585 acc: 0.91\n",
      "New set of weights found, iteration: 5482 loss: 0.2156573370372041 acc: 0.9133333333333333\n",
      "New set of weights found, iteration: 5646 loss: 0.2156497684039842 acc: 0.9166666666666666\n",
      "New set of weights found, iteration: 5701 loss: 0.2155770768258257 acc: 0.9133333333333333\n",
      "New set of weights found, iteration: 5736 loss: 0.21536075132688637 acc: 0.91\n",
      "New set of weights found, iteration: 5894 loss: 0.21508672495609346 acc: 0.91\n",
      "New set of weights found, iteration: 5932 loss: 0.21505329749849636 acc: 0.91\n",
      "New set of weights found, iteration: 6181 loss: 0.21498901231020212 acc: 0.9133333333333333\n",
      "New set of weights found, iteration: 6218 loss: 0.21489004115976792 acc: 0.91\n",
      "New set of weights found, iteration: 6263 loss: 0.21488031881328282 acc: 0.9133333333333333\n",
      "New set of weights found, iteration: 6646 loss: 0.21472896213214904 acc: 0.91\n",
      "New set of weights found, iteration: 7055 loss: 0.21461677224778844 acc: 0.91\n",
      "New set of weights found, iteration: 7155 loss: 0.2146067423067356 acc: 0.9133333333333333\n",
      "New set of weights found, iteration: 7314 loss: 0.2145864656845878 acc: 0.91\n",
      "New set of weights found, iteration: 7443 loss: 0.2142313582216912 acc: 0.91\n",
      "New set of weights found, iteration: 7460 loss: 0.21411141419377563 acc: 0.9066666666666666\n",
      "New set of weights found, iteration: 8295 loss: 0.2140850541429242 acc: 0.91\n",
      "New set of weights found, iteration: 8361 loss: 0.2139463698406505 acc: 0.91\n",
      "New set of weights found, iteration: 8756 loss: 0.21385242362099058 acc: 0.91\n",
      "New set of weights found, iteration: 8850 loss: 0.2137257022298713 acc: 0.91\n",
      "New set of weights found, iteration: 9211 loss: 0.21369204916492193 acc: 0.91\n",
      "New set of weights found, iteration: 9231 loss: 0.21361590278493187 acc: 0.9133333333333333\n",
      "New set of weights found, iteration: 9409 loss: 0.21357877053295635 acc: 0.9066666666666666\n",
      "New set of weights found, iteration: 9440 loss: 0.21354298340363892 acc: 0.91\n",
      "New set of weights found, iteration: 9617 loss: 0.2134361994028966 acc: 0.91\n",
      "New set of weights found, iteration: 9674 loss: 0.2134235384652994 acc: 0.9066666666666666\n",
      "New set of weights found, iteration: 9757 loss: 0.21339565219360618 acc: 0.91\n",
      "New set of weights found, iteration: 9855 loss: 0.21337607877332482 acc: 0.9066666666666666\n"
     ]
    }
   ],
   "source": [
    "# Create dataset\n",
    "X, y = vertical.create_data(samples=100, classes=3)\n",
    "\n",
    "# Create model\n",
    "dense1 = Layer_Dense(2, 3)  # first dense layer, 2 inputs\n",
    "activation1 = Activation_ReLU()\n",
    "dense2 = Layer_Dense(3, 3)  # second dense layer, 3 inputs, 3 outputs\n",
    "activation2 = Activation_Softmax()\n",
    "\n",
    "# Create loss function\n",
    "loss_function = Loss_CategoricalCrossentropy()\n",
    "\n",
    "# Helper variables\n",
    "lowest_loss = 9999999  # some initial value\n",
    "best_dense1_weights = dense1.weights.copy()\n",
    "best_dense1_biases = dense1.biases.copy()\n",
    "best_dense2_weights = dense2.weights.copy()\n",
    "best_dense2_biases = dense2.biases.copy()\n",
    "\n",
    "for iteration in range(10000):\n",
    "\n",
    "    # Update weights with some small random values\n",
    "    dense1.weights += 0.05 * np.random.randn(2, 3)\n",
    "    dense1.biases += 0.05 * np.random.randn(1, 3)\n",
    "    dense2.weights += 0.05 * np.random.randn(3, 3)\n",
    "    dense2.biases += 0.05 * np.random.randn(1, 3)\n",
    "\n",
    "    # Perform a forward pass of our training data through this layer\n",
    "    dense1.forward(X)\n",
    "    activation1.forward(dense1.output)\n",
    "    dense2.forward(activation1.output)\n",
    "    activation2.forward(dense2.output)\n",
    "\n",
    "    # Perform a forward pass through activation function\n",
    "    # it takes the output of second dense layer here and returns loss\n",
    "    loss = loss_function.calculate(activation2.output, y)\n",
    "\n",
    "\n",
    "    # Calculate accuracy from output of activation2 and targets\n",
    "    # calculate values along first axis\n",
    "    predictions = np.argmax(activation2.output, axis=1)\n",
    "    accuracy = np.mean(predictions==y)\n",
    "\n",
    "    # If loss is smaller - print and save weights and biases aside\n",
    "    if loss < lowest_loss:\n",
    "        print('New set of weights found, iteration:', iteration,\n",
    "              'loss:', loss, 'acc:', accuracy)\n",
    "        best_dense1_weights = dense1.weights.copy()\n",
    "        best_dense1_biases = dense1.biases.copy()\n",
    "        best_dense2_weights = dense2.weights.copy()\n",
    "        best_dense2_biases = dense2.biases.copy()\n",
    "        lowest_loss = loss\n",
    "    # Revert weights and biases\n",
    "    else:\n",
    "        dense1.weights = best_dense1_weights.copy()\n",
    "        dense1.biases = best_dense1_biases.copy()\n",
    "        dense2.weights = best_dense2_weights.copy()\n",
    "        dense2.biases = best_dense2_biases.copy()"
   ]
  },
  {
   "cell_type": "markdown",
   "metadata": {},
   "source": [
    "Let’s try this with the previously-seen spiral dataset instead:"
   ]
  },
  {
   "cell_type": "code",
   "execution_count": 91,
   "metadata": {},
   "outputs": [
    {
     "name": "stdout",
     "output_type": "stream",
     "text": [
      "New set of weights found, iteration: 0 loss: 1.0988914008830621 acc: 0.3333333333333333\n",
      "New set of weights found, iteration: 1 loss: 1.0986729291944428 acc: 0.3333333333333333\n",
      "New set of weights found, iteration: 8 loss: 1.0984385873369893 acc: 0.3333333333333333\n",
      "New set of weights found, iteration: 13 loss: 1.0983941259081784 acc: 0.3333333333333333\n",
      "New set of weights found, iteration: 22 loss: 1.0982466324773967 acc: 0.38333333333333336\n",
      "New set of weights found, iteration: 26 loss: 1.097224319100873 acc: 0.3333333333333333\n",
      "New set of weights found, iteration: 27 loss: 1.097061185045666 acc: 0.35333333333333333\n",
      "New set of weights found, iteration: 33 loss: 1.0967627535784232 acc: 0.3333333333333333\n",
      "New set of weights found, iteration: 35 loss: 1.0959076611897207 acc: 0.42\n",
      "New set of weights found, iteration: 41 loss: 1.0947826942979624 acc: 0.38\n",
      "New set of weights found, iteration: 43 loss: 1.09367499799829 acc: 0.4266666666666667\n",
      "New set of weights found, iteration: 45 loss: 1.0915057111056217 acc: 0.42333333333333334\n",
      "New set of weights found, iteration: 48 loss: 1.090375350990069 acc: 0.35\n",
      "New set of weights found, iteration: 55 loss: 1.0901049474294768 acc: 0.36333333333333334\n",
      "New set of weights found, iteration: 58 loss: 1.0890861009995503 acc: 0.37666666666666665\n",
      "New set of weights found, iteration: 60 loss: 1.0885116726663 acc: 0.39666666666666667\n",
      "New set of weights found, iteration: 62 loss: 1.0880252941726065 acc: 0.38666666666666666\n",
      "New set of weights found, iteration: 66 loss: 1.0874920872632396 acc: 0.43666666666666665\n",
      "New set of weights found, iteration: 70 loss: 1.0858097901588992 acc: 0.39666666666666667\n",
      "New set of weights found, iteration: 73 loss: 1.0853296719824903 acc: 0.42\n",
      "New set of weights found, iteration: 74 loss: 1.0845949784211004 acc: 0.45\n",
      "New set of weights found, iteration: 82 loss: 1.0830461739072648 acc: 0.4166666666666667\n",
      "New set of weights found, iteration: 89 loss: 1.0824152192397165 acc: 0.4033333333333333\n",
      "New set of weights found, iteration: 91 loss: 1.0818826011549292 acc: 0.39666666666666667\n",
      "New set of weights found, iteration: 92 loss: 1.0814974356080058 acc: 0.43333333333333335\n",
      "New set of weights found, iteration: 93 loss: 1.0800581755569112 acc: 0.44333333333333336\n",
      "New set of weights found, iteration: 96 loss: 1.0791459033268613 acc: 0.43333333333333335\n",
      "New set of weights found, iteration: 105 loss: 1.0781321239038608 acc: 0.42333333333333334\n",
      "New set of weights found, iteration: 109 loss: 1.0774852943088011 acc: 0.45\n",
      "New set of weights found, iteration: 111 loss: 1.0767425481429092 acc: 0.44333333333333336\n",
      "New set of weights found, iteration: 115 loss: 1.0759329606885581 acc: 0.4533333333333333\n",
      "New set of weights found, iteration: 128 loss: 1.075814210224056 acc: 0.43333333333333335\n",
      "New set of weights found, iteration: 134 loss: 1.0743278093758595 acc: 0.43\n",
      "New set of weights found, iteration: 137 loss: 1.0734175020545653 acc: 0.45\n",
      "New set of weights found, iteration: 139 loss: 1.0733945770251783 acc: 0.4533333333333333\n",
      "New set of weights found, iteration: 140 loss: 1.0729879047670743 acc: 0.45\n",
      "New set of weights found, iteration: 153 loss: 1.0721224958487077 acc: 0.43\n",
      "New set of weights found, iteration: 156 loss: 1.0720295510730007 acc: 0.4533333333333333\n",
      "New set of weights found, iteration: 158 loss: 1.0717271174738459 acc: 0.43333333333333335\n",
      "New set of weights found, iteration: 165 loss: 1.0710629007323882 acc: 0.44\n",
      "New set of weights found, iteration: 170 loss: 1.070149002098406 acc: 0.44333333333333336\n",
      "New set of weights found, iteration: 182 loss: 1.0701456197510248 acc: 0.44666666666666666\n",
      "New set of weights found, iteration: 184 loss: 1.0675671003027476 acc: 0.44\n",
      "New set of weights found, iteration: 215 loss: 1.0667502311029606 acc: 0.46\n",
      "New set of weights found, iteration: 217 loss: 1.0665681795191615 acc: 0.4666666666666667\n",
      "New set of weights found, iteration: 223 loss: 1.0660729345991138 acc: 0.44666666666666666\n",
      "New set of weights found, iteration: 225 loss: 1.0642185484694062 acc: 0.45666666666666667\n",
      "New set of weights found, iteration: 231 loss: 1.0636100658002225 acc: 0.4533333333333333\n",
      "New set of weights found, iteration: 246 loss: 1.0635383239305107 acc: 0.43333333333333335\n",
      "New set of weights found, iteration: 258 loss: 1.0612318326806371 acc: 0.46\n",
      "New set of weights found, iteration: 269 loss: 1.060513212334299 acc: 0.46\n",
      "New set of weights found, iteration: 272 loss: 1.0592657234534735 acc: 0.47333333333333333\n",
      "New set of weights found, iteration: 280 loss: 1.0590480449149164 acc: 0.47333333333333333\n",
      "New set of weights found, iteration: 288 loss: 1.0575522478818993 acc: 0.4766666666666667\n",
      "New set of weights found, iteration: 296 loss: 1.0572412060841798 acc: 0.48\n",
      "New set of weights found, iteration: 313 loss: 1.0561799298862997 acc: 0.46\n",
      "New set of weights found, iteration: 316 loss: 1.05534274180653 acc: 0.4666666666666667\n",
      "New set of weights found, iteration: 325 loss: 1.0550036891953096 acc: 0.45666666666666667\n",
      "New set of weights found, iteration: 338 loss: 1.0549287870727762 acc: 0.45666666666666667\n",
      "New set of weights found, iteration: 340 loss: 1.052778638773984 acc: 0.46\n",
      "New set of weights found, iteration: 357 loss: 1.0525521707739005 acc: 0.45666666666666667\n",
      "New set of weights found, iteration: 366 loss: 1.0523275770612839 acc: 0.45666666666666667\n",
      "New set of weights found, iteration: 393 loss: 1.0522878221074954 acc: 0.46\n",
      "New set of weights found, iteration: 410 loss: 1.0515180870459042 acc: 0.4633333333333333\n",
      "New set of weights found, iteration: 483 loss: 1.0510805381731927 acc: 0.4633333333333333\n",
      "New set of weights found, iteration: 593 loss: 1.0509360011851336 acc: 0.46\n",
      "New set of weights found, iteration: 656 loss: 1.0506731930056845 acc: 0.46\n",
      "New set of weights found, iteration: 711 loss: 1.0506535794206433 acc: 0.44666666666666666\n",
      "New set of weights found, iteration: 755 loss: 1.0505918323421413 acc: 0.4633333333333333\n",
      "New set of weights found, iteration: 759 loss: 1.050480364690411 acc: 0.44333333333333336\n",
      "New set of weights found, iteration: 851 loss: 1.05047900519805 acc: 0.45\n",
      "New set of weights found, iteration: 860 loss: 1.0503514500080287 acc: 0.46\n",
      "New set of weights found, iteration: 885 loss: 1.0499248176781233 acc: 0.44333333333333336\n",
      "New set of weights found, iteration: 1048 loss: 1.0499177943703342 acc: 0.4533333333333333\n",
      "New set of weights found, iteration: 1193 loss: 1.0494670104496364 acc: 0.46\n",
      "New set of weights found, iteration: 1218 loss: 1.0489491384094352 acc: 0.4633333333333333\n",
      "New set of weights found, iteration: 1238 loss: 1.0489420903569888 acc: 0.4633333333333333\n",
      "New set of weights found, iteration: 1339 loss: 1.048774615654906 acc: 0.44\n",
      "New set of weights found, iteration: 1377 loss: 1.048552012073147 acc: 0.4533333333333333\n",
      "New set of weights found, iteration: 1498 loss: 1.0484400802231846 acc: 0.44666666666666666\n",
      "New set of weights found, iteration: 1553 loss: 1.0481338599608652 acc: 0.47\n",
      "New set of weights found, iteration: 1631 loss: 1.0480312802413088 acc: 0.4533333333333333\n",
      "New set of weights found, iteration: 1953 loss: 1.047985876407696 acc: 0.45\n",
      "New set of weights found, iteration: 1961 loss: 1.0478319609444888 acc: 0.4666666666666667\n",
      "New set of weights found, iteration: 2403 loss: 1.047727229721201 acc: 0.4666666666666667\n",
      "New set of weights found, iteration: 2419 loss: 1.0476293876795637 acc: 0.4766666666666667\n",
      "New set of weights found, iteration: 2424 loss: 1.0468547791712193 acc: 0.4666666666666667\n",
      "New set of weights found, iteration: 2473 loss: 1.0460189181510704 acc: 0.4766666666666667\n",
      "New set of weights found, iteration: 4095 loss: 1.0458760478435591 acc: 0.4666666666666667\n",
      "New set of weights found, iteration: 4158 loss: 1.0458022538896246 acc: 0.4666666666666667\n",
      "New set of weights found, iteration: 4271 loss: 1.0457815113595288 acc: 0.4666666666666667\n",
      "New set of weights found, iteration: 4776 loss: 1.045669709502003 acc: 0.4633333333333333\n",
      "New set of weights found, iteration: 5161 loss: 1.045618115051329 acc: 0.47\n",
      "New set of weights found, iteration: 5544 loss: 1.045500252774558 acc: 0.47\n",
      "New set of weights found, iteration: 6076 loss: 1.0453575552990109 acc: 0.4666666666666667\n",
      "New set of weights found, iteration: 6168 loss: 1.0453279962099573 acc: 0.47\n",
      "New set of weights found, iteration: 6215 loss: 1.0451660016184197 acc: 0.48333333333333334\n",
      "New set of weights found, iteration: 6298 loss: 1.04509736223226 acc: 0.47333333333333333\n",
      "New set of weights found, iteration: 6337 loss: 1.0450237038092567 acc: 0.48\n",
      "New set of weights found, iteration: 6379 loss: 1.0447805540543806 acc: 0.47333333333333333\n",
      "New set of weights found, iteration: 6550 loss: 1.0444648070823945 acc: 0.4766666666666667\n",
      "New set of weights found, iteration: 6636 loss: 1.0442067263013912 acc: 0.47333333333333333\n",
      "New set of weights found, iteration: 6759 loss: 1.0436977092611561 acc: 0.47333333333333333\n",
      "New set of weights found, iteration: 7405 loss: 1.0435419819216818 acc: 0.47333333333333333\n",
      "New set of weights found, iteration: 7519 loss: 1.043366556279035 acc: 0.47333333333333333\n",
      "New set of weights found, iteration: 7524 loss: 1.0428601623453413 acc: 0.48\n",
      "New set of weights found, iteration: 7531 loss: 1.0427249869158886 acc: 0.48333333333333334\n",
      "New set of weights found, iteration: 7587 loss: 1.042317063913714 acc: 0.48\n",
      "New set of weights found, iteration: 7733 loss: 1.0421690119122564 acc: 0.49333333333333335\n",
      "New set of weights found, iteration: 7900 loss: 1.0420656649795679 acc: 0.48333333333333334\n",
      "New set of weights found, iteration: 8198 loss: 1.041959706065716 acc: 0.47333333333333333\n",
      "New set of weights found, iteration: 8700 loss: 1.0414496239260282 acc: 0.47333333333333333\n"
     ]
    }
   ],
   "source": [
    "# Create dataset\n",
    "X, y = spiral.create_data(samples=100, classes=3)\n",
    "\n",
    "# Create model\n",
    "dense1 = Layer_Dense(2, 3)  # first dense layer, 2 inputs\n",
    "activation1 = Activation_ReLU()\n",
    "dense2 = Layer_Dense(3, 3)  # second dense layer, 3 inputs, 3 outputs\n",
    "activation2 = Activation_Softmax()\n",
    "\n",
    "# Create loss function\n",
    "loss_function = Loss_CategoricalCrossentropy()\n",
    "\n",
    "# Helper variables\n",
    "lowest_loss = 9999999  # some initial value\n",
    "best_dense1_weights = dense1.weights.copy()\n",
    "best_dense1_biases = dense1.biases.copy()\n",
    "best_dense2_weights = dense2.weights.copy()\n",
    "best_dense2_biases = dense2.biases.copy()\n",
    "\n",
    "for iteration in range(10000):\n",
    "\n",
    "    # Update weights with some small random values\n",
    "    dense1.weights += 0.05 * np.random.randn(2, 3)\n",
    "    dense1.biases += 0.05 * np.random.randn(1, 3)\n",
    "    dense2.weights += 0.05 * np.random.randn(3, 3)\n",
    "    dense2.biases += 0.05 * np.random.randn(1, 3)\n",
    "\n",
    "    # Perform a forward pass of our training data through this layer\n",
    "    dense1.forward(X)\n",
    "    activation1.forward(dense1.output)\n",
    "    dense2.forward(activation1.output)\n",
    "    activation2.forward(dense2.output)\n",
    "\n",
    "    # Perform a forward pass through activation function\n",
    "    # it takes the output of second dense layer here and returns loss\n",
    "    loss = loss_function.calculate(activation2.output, y)\n",
    "\n",
    "\n",
    "    # Calculate accuracy from output of activation2 and targets\n",
    "    # calculate values along first axis\n",
    "    predictions = np.argmax(activation2.output, axis=1)\n",
    "    accuracy = np.mean(predictions==y)\n",
    "\n",
    "    # If loss is smaller - print and save weights and biases aside\n",
    "    if loss < lowest_loss:\n",
    "        print('New set of weights found, iteration:', iteration,\n",
    "              'loss:', loss, 'acc:', accuracy)\n",
    "        best_dense1_weights = dense1.weights.copy()\n",
    "        best_dense1_biases = dense1.biases.copy()\n",
    "        best_dense2_weights = dense2.weights.copy()\n",
    "        best_dense2_biases = dense2.biases.copy()\n",
    "        lowest_loss = loss\n",
    "    # Revert weights and biases\n",
    "    else:\n",
    "        dense1.weights = best_dense1_weights.copy()\n",
    "        dense1.biases = best_dense1_biases.copy()\n",
    "        dense2.weights = best_dense2_weights.copy()\n",
    "        dense2.biases = best_dense2_biases.copy()"
   ]
  },
  {
   "cell_type": "markdown",
   "metadata": {},
   "source": [
    "This training session ended with almost no progress. Loss decreased slightly and accuracy is\n",
    "barely above the initial value"
   ]
  },
  {
   "cell_type": "markdown",
   "metadata": {},
   "source": [
    "# Chapter 7"
   ]
  },
  {
   "cell_type": "markdown",
   "metadata": {},
   "source": [
    "## Derivatives"
   ]
  },
  {
   "cell_type": "markdown",
   "metadata": {},
   "source": [
    "### The Impact of a Parameter on the Output"
   ]
  },
  {
   "cell_type": "code",
   "execution_count": 92,
   "metadata": {},
   "outputs": [],
   "source": [
    "def f(x):\n",
    "    return 2*x"
   ]
  },
  {
   "cell_type": "code",
   "execution_count": 96,
   "metadata": {},
   "outputs": [
    {
     "data": {
      "text/plain": [
       "(array([0, 1, 2, 3, 4]), array([0, 2, 4, 6, 8]))"
      ]
     },
     "execution_count": 96,
     "metadata": {},
     "output_type": "execute_result"
    }
   ],
   "source": [
    "x = np.arange(5)\n",
    "y = f(x)\n",
    "x, y"
   ]
  },
  {
   "cell_type": "code",
   "execution_count": 98,
   "metadata": {},
   "outputs": [
    {
     "data": {
      "image/png": "[encoded data removed]",
      "text/plain": [
       "<Figure size 640x480 with 1 Axes>"
      ]
     },
     "metadata": {},
     "output_type": "display_data"
    }
   ],
   "source": [
    "plt.plot(x, y);"
   ]
  },
  {
   "cell_type": "markdown",
   "metadata": {},
   "source": [
    "### Slop"
   ]
  },
  {
   "cell_type": "code",
   "execution_count": 99,
   "metadata": {},
   "outputs": [
    {
     "name": "stdout",
     "output_type": "stream",
     "text": [
      "2.0\n"
     ]
    }
   ],
   "source": [
    "print((y[1]-y[0]) / (x[1]-x[0]))"
   ]
  },
  {
   "cell_type": "code",
   "execution_count": 100,
   "metadata": {},
   "outputs": [],
   "source": [
    "def f(x):\n",
    "    return 2*x**2"
   ]
  },
  {
   "cell_type": "code",
   "execution_count": 101,
   "metadata": {},
   "outputs": [
    {
     "data": {
      "text/plain": [
       "[<matplotlib.lines.Line2D at 0x126de0890>]"
      ]
     },
     "execution_count": 101,
     "metadata": {},
     "output_type": "execute_result"
    },
    {
     "data": {
      "image/png": "[encoded data removed]",
      "text/plain": [
       "<Figure size 640x480 with 1 Axes>"
      ]
     },
     "metadata": {},
     "output_type": "display_data"
    }
   ],
   "source": [
    "x = np.arange(5)\n",
    "y = f(x)\n",
    "\n",
    "plt.plot(x, y)"
   ]
  },
  {
   "cell_type": "code",
   "execution_count": 104,
   "metadata": {},
   "outputs": [
    {
     "name": "stdout",
     "output_type": "stream",
     "text": [
      "2.0\n"
     ]
    }
   ],
   "source": [
    "print((y[1]-y[0]) / (x[1]-x[0]))"
   ]
  },
  {
   "cell_type": "code",
   "execution_count": 105,
   "metadata": {},
   "outputs": [
    {
     "name": "stdout",
     "output_type": "stream",
     "text": [
      "10.0\n"
     ]
    }
   ],
   "source": [
    "print((y[3]-y[2]) / (x[3]-x[2]))"
   ]
  },
  {
   "cell_type": "code",
   "execution_count": 108,
   "metadata": {},
   "outputs": [
    {
     "name": "stdout",
     "output_type": "stream",
     "text": [
      "4.0001999999987845\n"
     ]
    }
   ],
   "source": [
    "p2_delta = 0.0001\n",
    "\n",
    "x1 = 1\n",
    "x2 = x1 + p2_delta # add delta\n",
    "\n",
    "y1 = f(x1) # result at the derivation point\n",
    "y2 = f(x2) # result at the other, close point\n",
    "approximate_derivative = (y2-y1)/(x2-x1)\n",
    "\n",
    "print(approximate_derivative)"
   ]
  },
  {
   "cell_type": "markdown",
   "metadata": {},
   "source": [
    "### The Numerical Derivative"
   ]
  },
  {
   "cell_type": "code",
   "execution_count": 111,
   "metadata": {},
   "outputs": [
    {
     "name": "stdout",
     "output_type": "stream",
     "text": [
      "(2, 8) (2.0001, 8.000800020000002)\n",
      "Approximate derivative for f(x) where x = 2 is 8.000199999998785\n"
     ]
    },
    {
     "data": {
      "image/png": "[encoded data removed]",
      "text/plain": [
       "<Figure size 640x480 with 1 Axes>"
      ]
     },
     "metadata": {},
     "output_type": "display_data"
    }
   ],
   "source": [
    "p2_delta = 0.0001\n",
    "x1 = 2\n",
    "x2 = x1+p2_delta\n",
    "\n",
    "y1 = f(x1)\n",
    "y2 = f(x2)\n",
    "print((x1, y1), (x2, y2))\n",
    "\n",
    "# Derivative approximation and y-intercept for the tangent line\n",
    "approximate_derivative = (y2-y1)/(x2-x1)\n",
    "b = y2 - approximate_derivative*x2\n",
    "\n",
    "def tangent_line(x):\n",
    "    return approximate_derivative*x + b\n",
    "\n",
    "# plotting the tangent line\n",
    "# +/- 0.9 to draw the tangent line on our graph\n",
    "# then we calculate the y for given x using the tangent line function\n",
    "# Matplotlib will draw a line for us through these points\n",
    "to_plot = [x1-0.9, x1, x1+0.9]\n",
    "plt.plot(to_plot, [tangent_line(i) for i in to_plot])\n",
    "\n",
    "print('Approximate derivative for f(x)', f'where x = {x1} is {approximate_derivative}')\n",
    "plt.show()\n"
   ]
  },
  {
   "cell_type": "markdown",
   "metadata": {},
   "source": [
    "### The Analytical Derivative"
   ]
  },
  {
   "cell_type": "code",
   "execution_count": null,
   "metadata": {},
   "outputs": [],
   "source": []
  }
 ],
 "metadata": {
  "kernelspec": {
   "display_name": "Python 3 (ipykernel)",
   "language": "python",
   "name": "python3"
  },
  "language_info": {
   "codemirror_mode": {
    "name": "ipython",
    "version": 3
   },
   "file_extension": ".py",
   "mimetype": "text/x-python",
   "name": "python",
   "nbconvert_exporter": "python",
   "pygments_lexer": "ipython3",
   "version": "3.11.9"
  }
 },
 "nbformat": 4,
 "nbformat_minor": 4
}
